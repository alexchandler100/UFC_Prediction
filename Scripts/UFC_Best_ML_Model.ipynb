{
 "cells": [
  {
   "cell_type": "code",
   "execution_count": 258,
   "metadata": {},
   "outputs": [],
   "source": [
    "import pandas as pd\n",
    "import numpy as npy\n",
    "from datetime import datetime\n",
    "from datetime import date\n",
    "import matplotlib.pyplot as plt\n",
    "import random\n",
    "import sklearn\n",
    "import scipy\n",
    "from sklearn.linear_model import LogisticRegression\n",
    "from sklearn.ensemble import RandomForestClassifier\n",
    "from sklearn.neural_network import MLPClassifier\n",
    "from sklearn.model_selection import train_test_split, KFold, cross_val_score\n",
    "model=LogisticRegression()\n",
    "import itertools"
   ]
  },
  {
   "cell_type": "code",
   "execution_count": 366,
   "metadata": {},
   "outputs": [],
   "source": [
    "#this cell contains all functions defined for building columns in ufcfightscrap\n",
    "#converts from '%B %d, %Y' (i.e. August 22, 2020) to date (i.e. 2020-08-22)\n",
    "def convert_to_datetime(day1):\n",
    "    return datetime.strptime(day1, '%B %d, %Y').date()\n",
    "convert_to_datetime_vect= npy.vectorize(convert_to_datetime)\n",
    "\n",
    "#this age function is written in such a stupid way\n",
    "def age(birthDate,day=date.today(),form1='%B %d, %Y',form2='%B %d, %Y'):\n",
    "    if birthDate=='--':\n",
    "        aa='unknown'\n",
    "    elif type(birthDate)==str and not type(day)==str:\n",
    "        bd=datetime.strptime(birthDate, form1)\n",
    "        today = day\n",
    "        aa = today.year - bd.year - ((today.month, today.day) < (bd.month, bd.day)) \n",
    "    elif type(birthDate)==str and type(day)==str:\n",
    "        bd=datetime.strptime(birthDate, form1)\n",
    "        today = datetime.strptime(day, form2)\n",
    "        aa = today.year - bd.year - ((today.month, today.day) < (bd.month, bd.day)) \n",
    "    elif not type(birthDate)==str and type(day)==str:\n",
    "        bd=birthDate\n",
    "        today = datetime.strptime(day, form2)\n",
    "        aa = today.year - bd.year - ((today.month, today.day) < (bd.month, bd.day)) \n",
    "    else:\n",
    "        bd=birthDate\n",
    "        today = day\n",
    "        aa = today.year - bd.year - ((today.month, today.day) < (bd.month, bd.day)) \n",
    "    return aa\n",
    "\n",
    "age_vect= npy.vectorize(age)\n",
    "\n",
    "def fighter_age(fighter,day=date.today(),form1='%B %d, %Y',form2='%B %d, %Y'):\n",
    "    a=0\n",
    "    for i in range(len(ufcfighterscrap['name'])):\n",
    "        if ufcfighterscrap['name'][i]==fighter:\n",
    "            dob=datetime.strptime(ufcfighterscrap['dob'][i], '%b %d, %Y').strftime('%B %d, %Y')\n",
    "            a=age(dob,day,form1,form2)\n",
    "            break\n",
    "    return a\n",
    "\n",
    "def wins_before(guy,day1=date.today()):\n",
    "    if day1==date.today():\n",
    "        day1=date.today().strftime('%B %d, %Y')\n",
    "    summ=0\n",
    "    good_indices=[i for i in ufcfightscrap.index.values if ufcfightscrap['fighter'][i]==guy]\n",
    "    for i in good_indices:\n",
    "        if time_diff(ufcfightscrap['date'][i],day1)>0 and ufcfightscrap['result'][i]=='W':\n",
    "            summ+=1\n",
    "        else:\n",
    "            summ+=0\n",
    "    return summ\n",
    "\n",
    "def losses_before(guy,day1=date.today()):\n",
    "    if day1==date.today():\n",
    "        day1=date.today().strftime('%B %d, %Y')\n",
    "    summ=0\n",
    "    good_indices=[i for i in ufcfightscrap.index.values if ufcfightscrap['fighter'][i]==guy]\n",
    "    for i in good_indices:\n",
    "        if time_diff(ufcfightscrap['date'][i],day1)>0 and ufcfightscrap['result'][i]=='L':\n",
    "            summ+=1\n",
    "        else:\n",
    "            summ+=0\n",
    "    return summ\n",
    "\n",
    "#functions for height and reach\n",
    "def fighter_height(fighter):\n",
    "    a=0\n",
    "    for i in range(len(ufcfighterscrap['name'])):\n",
    "        if ufcfighterscrap['name'][i]==fighter:\n",
    "            a=ufcfighterscrap['height'][i]\n",
    "            break\n",
    "    if a=='--':\n",
    "        b='unknown'\n",
    "    elif a[4]=='\"':\n",
    "        b=int(a[0])*30.48+int(a[3])*2.54\n",
    "    else:\n",
    "        b=int(a[0])*30.48+int(a[3]+a[4])*2.54\n",
    "    return b\n",
    "\n",
    "def fighter_reach(fighter):\n",
    "    a=0\n",
    "    for i in range(len(ufcfighterscrap['name'])):\n",
    "        if ufcfighterscrap['name'][i]==fighter:\n",
    "            a=ufcfighterscrap['reach'][i]\n",
    "            break\n",
    "    if a=='--':\n",
    "        b='unknown'\n",
    "    else:\n",
    "        b=int(a[0]+a[1])*2.54\n",
    "    return b\n",
    "\n",
    "wins_before_vect= npy.vectorize(wins_before)\n",
    "losses_before_vect= npy.vectorize(losses_before)\n",
    "fighter_height_vect= npy.vectorize(fighter_height)\n",
    "fighter_reach_vect= npy.vectorize(fighter_reach)\n",
    "\n",
    "#day1 should be input in the form '%B %d, %Y' i.e. 'August 20, 1962'\n",
    "#conversions can be made via day=datetime.strptime(ufcfightsML_known_df['date'][i], '%B %d, %Y').strftime('%b %d, %Y')\n",
    "def time_diff(day1,day2=date.today()):\n",
    "    if day2==date.today():\n",
    "        answer=(day2-datetime.strptime(day, '%B %d, %Y')).days\n",
    "    else:\n",
    "        answer=(datetime.strptime(day2, '%B %d, %Y')-datetime.strptime(day1, '%B %d, %Y')).days\n",
    "    return answer\n",
    "\n",
    "#we now vectorize this to use in pandas/numpy\n",
    "time_diff_vect= npy.vectorize(time_diff)\n",
    "\n",
    "#can make a single function to do all of these... actually maybe the count function would even work as is\n",
    "\n",
    "def L5Y_wins(guy,day1=date.today()):\n",
    "    if day1==date.today():\n",
    "        day1=date.today().strftime('%B %d, %Y')\n",
    "    summ=0\n",
    "    good_indices=[i for i in ufcfightscrap.index.values if ufcfightscrap['fighter'][i]==guy]\n",
    "    for i in good_indices:\n",
    "        if 0<time_diff(ufcfightscrap['date'][i],day1)<1825 and ufcfightscrap['result'][i]=='W':\n",
    "            summ+=1\n",
    "        else:\n",
    "            summ+=0\n",
    "        if time_diff(ufcfightscrap['date'][i],day1)>1825:\n",
    "            break\n",
    "    return summ\n",
    "\n",
    "def L5Y_losses(guy,day1=date.today()):\n",
    "    if day1==date.today():\n",
    "        day1=date.today().strftime('%B %d, %Y')\n",
    "    summ=0\n",
    "    good_indices=[i for i in ufcfightscrap.index.values if ufcfightscrap['fighter'][i]==guy]\n",
    "    for i in good_indices:\n",
    "        if 0<time_diff(ufcfightscrap['date'][i],day1)<1825 and ufcfightscrap['result'][i]=='L':\n",
    "            summ+=1\n",
    "        else:\n",
    "            summ+=0\n",
    "        if time_diff(ufcfightscrap['date'][i],day1)>1825:\n",
    "            break\n",
    "    return summ\n",
    "\n",
    "def L2Y_wins(guy,day1=date.today()):\n",
    "    if day1==date.today():\n",
    "        day1=date.today().strftime('%B %d, %Y')\n",
    "    summ=0\n",
    "    good_indices=[i for i in ufcfightscrap.index.values if ufcfightscrap['fighter'][i]==guy]\n",
    "    for i in good_indices:\n",
    "        if 0<time_diff(ufcfightscrap['date'][i],day1)<730 and ufcfightscrap['result'][i]=='W':\n",
    "            summ+=1\n",
    "        else:\n",
    "            summ+=0\n",
    "        if time_diff(ufcfightscrap['date'][i],day1)>730:\n",
    "            break\n",
    "    return summ\n",
    "\n",
    "def L2Y_losses(guy,day1=date.today()):\n",
    "    if day1==date.today():\n",
    "        day1=date.today().strftime('%B %d, %Y')\n",
    "    summ=0\n",
    "    good_indices=[i for i in ufcfightscrap.index.values if ufcfightscrap['fighter'][i]==guy]\n",
    "    for i in good_indices:\n",
    "        if 0<time_diff(ufcfightscrap['date'][i],day1)<730 and ufcfightscrap['result'][i]=='L':\n",
    "            summ+=1\n",
    "        else:\n",
    "            summ+=0\n",
    "        if time_diff(ufcfightscrap['date'][i],day1)>730:\n",
    "            break\n",
    "    return summ\n",
    "\n",
    "def ko_wins(guy,day1=date.today()):\n",
    "    if day1==date.today():\n",
    "        day1=date.today().strftime('%B %d, %Y')\n",
    "    summ=0\n",
    "    good_indices=[i for i in ufcfightscrap.index.values if ufcfightscrap['fighter'][i]==guy]\n",
    "    for i in good_indices:\n",
    "        if ufcfightscrap['result'][i]=='W' and ufcfightscrap['method'][i]=='KO/TKO':\n",
    "            summ+=1\n",
    "        else:\n",
    "            summ+=0\n",
    "    return summ\n",
    "\n",
    "def ko_losses(guy,day1=date.today()):\n",
    "    if day1==date.today():\n",
    "        day1=date.today().strftime('%B %d, %Y')\n",
    "    summ=0\n",
    "    good_indices=[i for i in ufcfightscrap.index.values if ufcfightscrap['fighter'][i]==guy]\n",
    "    for i in good_indices:\n",
    "        if ufcfightscrap['result'][i]=='L' and ufcfightscrap['method'][i]=='KO/TKO':\n",
    "            summ+=1\n",
    "        else:\n",
    "            summ+=0\n",
    "    return summ\n",
    "\n",
    "def L5Y_ko_wins(guy,day1=date.today()):\n",
    "    if day1==date.today():\n",
    "        day1=date.today().strftime('%B %d, %Y')\n",
    "    summ=0\n",
    "    good_indices=[i for i in ufcfightscrap.index.values if ufcfightscrap['fighter'][i]==guy]\n",
    "    for i in good_indices:\n",
    "        if 0<time_diff(ufcfightscrap['date'][i],day1)<1825 and ufcfightscrap['result'][i]=='W' and ufcfightscrap['method'][i]=='KO/TKO':\n",
    "            summ+=1\n",
    "        else:\n",
    "            summ+=0\n",
    "        if time_diff(ufcfightscrap['date'][i],day1)>1825:\n",
    "            break\n",
    "    return summ\n",
    "\n",
    "def L5Y_ko_losses(guy,day1=date.today()):\n",
    "    if day1==date.today():\n",
    "        day1=date.today().strftime('%B %d, %Y')\n",
    "    summ=0\n",
    "    good_indices=[i for i in ufcfightscrap.index.values if ufcfightscrap['fighter'][i]==guy]\n",
    "    for i in good_indices:\n",
    "        if 0<time_diff(ufcfightscrap['date'][i],day1)<1825 and ufcfightscrap['result'][i]=='L' and ufcfightscrap['method'][i]=='KO/TKO':\n",
    "            summ+=1\n",
    "        else:\n",
    "            summ+=0\n",
    "        if time_diff(ufcfightscrap['date'][i],day1)>1825:\n",
    "            break\n",
    "    return summ\n",
    "\n",
    "def L2Y_ko_wins(guy,day1=date.today()):\n",
    "    if day1==date.today():\n",
    "        day1=date.today().strftime('%B %d, %Y')\n",
    "    summ=0\n",
    "    good_indices=[i for i in ufcfightscrap.index.values if ufcfightscrap['fighter'][i]==guy]\n",
    "    for i in good_indices:\n",
    "        if 0<time_diff(ufcfightscrap['date'][i],day1)<730 and ufcfightscrap['result'][i]=='W' and ufcfightscrap['method'][i]=='KO/TKO':\n",
    "            summ+=1\n",
    "        else:\n",
    "            summ+=0\n",
    "        if time_diff(ufcfightscrap['date'][i],day1)>730:\n",
    "            break\n",
    "    return summ\n",
    "\n",
    "def L2Y_ko_losses(guy,day1=date.today()):\n",
    "    if day1==date.today():\n",
    "        day1=date.today().strftime('%B %d, %Y')\n",
    "    summ=0\n",
    "    good_indices=[i for i in ufcfightscrap.index.values if ufcfightscrap['fighter'][i]==guy]\n",
    "    for i in good_indices:\n",
    "        if 0<time_diff(ufcfightscrap['date'][i],day1)<730 and ufcfightscrap['result'][i]=='L' and ufcfightscrap['method'][i]=='KO/TKO':\n",
    "            summ+=1\n",
    "        else:\n",
    "            summ+=0\n",
    "        if time_diff(ufcfightscrap['date'][i],day1)>730:\n",
    "            break\n",
    "    return summ\n",
    "\n",
    "def sub_wins(guy,day1=date.today()):\n",
    "    if day1==date.today():\n",
    "        day1=date.today().strftime('%B %d, %Y')\n",
    "    summ=0\n",
    "    good_indices=[i for i in ufcfightscrap.index.values if ufcfightscrap['fighter'][i]==guy]\n",
    "    for i in good_indices:\n",
    "        if ufcfightscrap['result'][i]=='W' and ufcfightscrap['method'][i]=='SUB':\n",
    "            summ+=1\n",
    "        else:\n",
    "            summ+=0\n",
    "    return summ\n",
    "\n",
    "def sub_losses(guy,day1=date.today()):\n",
    "    if day1==date.today():\n",
    "        day1=date.today().strftime('%B %d, %Y')\n",
    "    summ=0\n",
    "    good_indices=[i for i in ufcfightscrap.index.values if ufcfightscrap['fighter'][i]==guy]\n",
    "    for i in good_indices:\n",
    "        if ufcfightscrap['result'][i]=='L' and ufcfightscrap['method'][i]=='SUB':\n",
    "            summ+=1\n",
    "        else:\n",
    "            summ+=0\n",
    "    return summ\n",
    "\n",
    "def L5Y_sub_wins(guy,day1=date.today()):\n",
    "    if day1==date.today():\n",
    "        day1=date.today().strftime('%B %d, %Y')\n",
    "    summ=0\n",
    "    good_indices=[i for i in ufcfightscrap.index.values if ufcfightscrap['fighter'][i]==guy]\n",
    "    for i in good_indices:\n",
    "        if 0<time_diff(ufcfightscrap['date'][i],day1)<1825 and ufcfightscrap['result'][i]=='W' and ufcfightscrap['method'][i]=='SUB':\n",
    "            summ+=1\n",
    "        else:\n",
    "            summ+=0\n",
    "        if time_diff(ufcfightscrap['date'][i],day1)>1825:\n",
    "            break\n",
    "    return summ\n",
    "\n",
    "def L5Y_sub_losses(guy,day1=date.today()):\n",
    "    if day1==date.today():\n",
    "        day1=date.today().strftime('%B %d, %Y')\n",
    "    summ=0\n",
    "    good_indices=[i for i in ufcfightscrap.index.values if ufcfightscrap['fighter'][i]==guy]\n",
    "    for i in good_indices:\n",
    "        if 0<time_diff(ufcfightscrap['date'][i],day1)<1825 and ufcfightscrap['result'][i]=='L' and ufcfightscrap['method'][i]=='SUB':\n",
    "            summ+=1\n",
    "        else:\n",
    "            summ+=0\n",
    "        if time_diff(ufcfightscrap['date'][i],day1)>1825:\n",
    "            break\n",
    "    return summ\n",
    "\n",
    "def L2Y_sub_wins(guy,day1=date.today()):\n",
    "    if day1==date.today():\n",
    "        day1=date.today().strftime('%B %d, %Y')\n",
    "    summ=0\n",
    "    good_indices=[i for i in ufcfightscrap.index.values if ufcfightscrap['fighter'][i]==guy]\n",
    "    for i in good_indices:\n",
    "        if 0<time_diff(ufcfightscrap['date'][i],day1)<730 and ufcfightscrap['result'][i]=='W' and ufcfightscrap['method'][i]=='SUB':\n",
    "            summ+=1\n",
    "        else:\n",
    "            summ+=0\n",
    "        if time_diff(ufcfightscrap['date'][i],day1)>730:\n",
    "            break\n",
    "    return summ\n",
    "\n",
    "def L2Y_sub_losses(guy,day1=date.today()):\n",
    "    if day1==date.today():\n",
    "        day1=date.today().strftime('%B %d, %Y')\n",
    "    summ=0\n",
    "    good_indices=[i for i in ufcfightscrap.index.values if ufcfightscrap['fighter'][i]==guy]\n",
    "    for i in good_indices:\n",
    "        if 0<time_diff(ufcfightscrap['date'][i],day1)<730 and ufcfightscrap['result'][i]=='L' and ufcfightscrap['method'][i]=='SUB':\n",
    "            summ+=1\n",
    "        else:\n",
    "            summ+=0\n",
    "        if time_diff(ufcfightscrap['date'][i],day1)>730:\n",
    "            break\n",
    "    return summ\n",
    "\n",
    "#vectorize all of these functions\n",
    "L5Y_wins_vect= npy.vectorize(L5Y_wins)\n",
    "L5Y_losses_vect= npy.vectorize(L5Y_losses)\n",
    "L2Y_wins_vect= npy.vectorize(L2Y_wins)\n",
    "L2Y_losses_vect= npy.vectorize(L2Y_losses)\n",
    "ko_wins_vect= npy.vectorize(ko_wins)\n",
    "ko_losses_vect= npy.vectorize(ko_losses)\n",
    "L5Y_ko_wins_vect= npy.vectorize(L5Y_ko_wins)\n",
    "L5Y_ko_losses_vect= npy.vectorize(L5Y_ko_losses)\n",
    "L2Y_ko_wins_vect= npy.vectorize(L2Y_ko_wins)\n",
    "L2Y_ko_losses_vect= npy.vectorize(L2Y_ko_losses)\n",
    "sub_wins_vect= npy.vectorize(sub_wins)\n",
    "sub_losses_vect= npy.vectorize(sub_losses)\n",
    "L5Y_sub_wins_vect= npy.vectorize(L5Y_sub_wins)\n",
    "L5Y_sub_losses_vect= npy.vectorize(L5Y_sub_losses)\n",
    "L2Y_sub_wins_vect= npy.vectorize(L2Y_sub_wins)\n",
    "L2Y_sub_losses_vect= npy.vectorize(L2Y_sub_losses)\n",
    "\n",
    "#for columns like fighter_rec which contains the information for the opponent as well, we use the following\n",
    "def opponent_column(stat):\n",
    "    col=dict()\n",
    "    for i in range(len(ufcfightscrap['fighter'])):\n",
    "        if i%2==0:\n",
    "            col[i]=ufcfightscrap[stat][i+1]\n",
    "        else:\n",
    "            col[i]=ufcfightscrap[stat][i-1]\n",
    "    statdict={'stat':col}\n",
    "    return pd.DataFrame (statdict, columns = ['stat'])\n",
    "\n",
    "#enter date unabbreviated 'July 4, 2019'\n",
    "#here the average gives avg per fight. Later in avg_count we change to average per time spent in octagon\n",
    "def count(stat, guy,inf_abs, total_L5Y_L2Y_avg, day1=date.today().strftime('%B %d, %Y')):\n",
    "    summ=0\n",
    "    if total_L5Y_L2Y_avg=='total' or total_L5Y_L2Y_avg=='avg':\n",
    "        good_indices_1=[i for i in ufcfightscrap.index.values if time_diff(ufcfightscrap['date'][i],day1)>0]\n",
    "    elif total_L5Y_L2Y_avg=='L2Y':\n",
    "        good_indices_1=[i for i in ufcfightscrap.index.values if 0<time_diff(ufcfightscrap['date'][i],day1)<730]\n",
    "    else:\n",
    "        good_indices_1=[i for i in ufcfightscrap.index.values if 0<time_diff(ufcfightscrap['date'][i],day1)<1825]\n",
    "    if inf_abs=='inf':\n",
    "        good_indices_2=[i for i in ufcfightscrap.index.values if ufcfightscrap['fighter'][i]==guy]\n",
    "    else:\n",
    "        good_indices_2=[i for i in ufcfightscrap.index.values if ufcfightscrap['opponent'][i]==guy]\n",
    "    good_indices=[i for i in good_indices_1 if i in good_indices_2]\n",
    "    if total_L5Y_L2Y_avg!='avg':\n",
    "        for i in good_indices:\n",
    "            summ+=ufcfightscrap[stat][i]\n",
    "    else:\n",
    "        for i in good_indices:\n",
    "            summ+=ufcfightscrap[stat][i]\n",
    "        day1=convert_date_to_abbrev(day1)\n",
    "        number_fights=wins_before(guy,day1)+losses_before(guy,day1)\n",
    "        summ=summ/float(number_fights)\n",
    "    return summ\n",
    "        \n",
    "#note a better average is per time not per fight. We will do each stat as an average per one minutes\n",
    "\n",
    "#enter time in the form 'August 24, 2018'\n",
    "def time_in_octagon(guy,day1=date.today().strftime('%B %d, %Y')):\n",
    "    summ=0\n",
    "    good_indices=[i for i in ufcfightscrap.index.values if time_diff(ufcfightscrap['date'][i],day1)>0 and ufcfightscrap['fighter'][i]==guy] \n",
    "    for i in good_indices:\n",
    "        if ufcfightscrap['time'][i][2]==':':\n",
    "            summ=int(ufcfightscrap['time'][i][0:2])+int(ufcfightscrap['time'][i][3:])/60.0\n",
    "        else:\n",
    "            summ+=5*(ufcfightscrap['round'][i]-1)+int(ufcfightscrap['time'][i][0])+int(ufcfightscrap['time'][i][2:])/60.0\n",
    "    return summ\n",
    "\n",
    "#enter date unabbreviated 'July 4, 2019'\n",
    "#gives takedowns per minute\n",
    "def avg_count(stat, guy,inf_abs, day1=date.today().strftime('%B %d, %Y')):\n",
    "    summ=0\n",
    "    if inf_abs=='inf':\n",
    "        good_indices=[i for i in ufcfightscrap.index.values if ufcfightscrap['fighter'][i]==guy and time_diff(ufcfightscrap['date'][i],day1)>0]\n",
    "    else:\n",
    "        good_indices=[i for i in ufcfightscrap.index.values if ufcfightscrap['opponent'][i]==guy and time_diff(ufcfightscrap['date'][i],day1)>0]\n",
    "    for i in good_indices:\n",
    "        summ+=ufcfightscrap[stat][i]\n",
    "    t= time_in_octagon(guy,day1)\n",
    "    if t==0:\n",
    "        summ=0\n",
    "    else:\n",
    "        summ=summ/t\n",
    "    return summ\n",
    "\n",
    "#vectorize these functions\n",
    "count_vect= npy.vectorize(count)\n",
    "avg_count_vect= npy.vectorize(avg_count)\n",
    "\n",
    "#need to define a model first before calling the following functions\n",
    "#REDEFINE THIS AFTER GETTING ALL STATS COMPILED. WE CURRENTLY CANNOT PREDICT\n",
    "#I've redefined this in such a way to predict what happens when fighter1 in their day1 version fights fighter2\n",
    "#in their day2 version. Meaning we could compare for example 2014 Tyron Woodley to 2019 Colby Covington\n",
    "def ufc_prediction_tuple(fighter1,fighter2,day1=date.today(),day2=date.today()):\n",
    "    return [wins_before(fighter1,day1)-wins_before(fighter2,day2),\n",
    "            losses_before(fighter1,day1)-losses_before(fighter2,day2),\n",
    "            L5Y_wins(fighter1,day1)-L5Y_wins(fighter2,day2),\n",
    "            L5Y_losses(fighter1,day1)-L5Y_losses(fighter2,day2),\n",
    "            L2Y_wins(fighter1,day1)-L2Y_wins(fighter2,day2),\n",
    "            L2Y_losses(fighter1,day1)-L2Y_losses(fighter2,day2),\n",
    "            ko_wins(fighter1,day1)-ko_wins(fighter2,day2),\n",
    "            ko_losses(fighter1,day1)-ko_losses(fighter2,day2),\n",
    "            L5Y_ko_wins(fighter1,day1)-L5Y_ko_wins(fighter2,day2),\n",
    "            L5Y_ko_losses(fighter1,day1)-L5Y_ko_losses(fighter2,day2),\n",
    "            L2Y_ko_wins(fighter1,day1)-L2Y_ko_wins(fighter2,day2),\n",
    "            L2Y_ko_losses(fighter1,day1)-L2Y_ko_losses(fighter2,day2),\n",
    "            sub_wins(fighter1,day1)-sub_wins(fighter2,day2),\n",
    "            sub_losses(fighter1,day1)-sub_losses(fighter2,day2),\n",
    "            L5Y_sub_wins(fighter1,day1)-L5Y_sub_wins(fighter2,day2),\n",
    "            L5Y_sub_losses(fighter1,day1)-L5Y_sub_losses(fighter2,day2),\n",
    "            L2Y_sub_wins(fighter1,day1)-L2Y_sub_wins(fighter2,day2),\n",
    "            L2Y_sub_losses(fighter1,day1)-L2Y_sub_losses(fighter2,day2),\n",
    "            fighter_age(fighter1,day1),fighter_age(fighter2,day2),\n",
    "            fighter_height(fighter1)-fighter_height(fighter2),\n",
    "            fighter_reach(fighter1)-fighter_reach(fighter2),\n",
    "            avg_count('knockdowns',fighter1,'inf',day1), avg_count('pass',fighter1,'inf',day1),\n",
    "            avg_count('reversals',fighter1,'inf',day1),avg_count('sub_attempts',fighter1,'inf',day1),\n",
    "            avg_count('takedowns_landed',fighter1,'inf',day1),avg_count('takedowns_attempts',fighter1,'inf',day1),\n",
    "            avg_count('sig_strikes_landed',fighter1,'inf',day1),avg_count('sig_strikes_attempts',fighter1,'inf',day1),\n",
    "            avg_count('total_strikes_landed',fighter1,'inf',day1),avg_count('total_strikes_attempts',fighter1,'inf',day1),\n",
    "            avg_count('head_strikes_landed',fighter1,'inf',day1),avg_count('head_strikes_attempts',fighter1,'inf',day1),\n",
    "            avg_count('body_strikes_landed',fighter1,'inf',day1),avg_count('body_strikes_attempts',fighter1,'inf',day1),\n",
    "            avg_count('leg_strikes_landed',fighter1,'inf',day1),avg_count('leg_strikes_attempts',fighter1,'inf',day1),\n",
    "            avg_count('distance_strikes_landed',fighter1,'inf',day1),avg_count('distance_strikes_attempts',fighter1,'inf',day1),\n",
    "            avg_count('clinch_strikes_landed',fighter1,'inf',day1),avg_count('clinch_strikes_attempts',fighter1,'inf',day1),\n",
    "            avg_count('ground_strikes_landed',fighter1,'inf',day1),avg_count('ground_strikes_attempts',fighter1,'inf',day1),\n",
    "            avg_count('knockdowns',fighter1,'abs',day1), avg_count('pass',fighter1,'abs',day1),\n",
    "            avg_count('reversals',fighter1,'abs',day1),avg_count('sub_attempts',fighter1,'abs',day1),\n",
    "            avg_count('takedowns_landed',fighter1,'abs',day1),avg_count('takedowns_attempts',fighter1,'abs',day1),\n",
    "            avg_count('sig_strikes_landed',fighter1,'abs',day1),avg_count('sig_strikes_attempts',fighter1,'abs',day1),\n",
    "            avg_count('total_strikes_landed',fighter1,'abs',day1),avg_count('total_strikes_attempts',fighter1,'abs',day1),\n",
    "            avg_count('head_strikes_landed',fighter1,'abs',day1),avg_count('head_strikes_attempts',fighter1,'abs',day1),\n",
    "            avg_count('body_strikes_landed',fighter1,'abs',day1),avg_count('body_strikes_attempts',fighter1,'abs',day1),\n",
    "            avg_count('leg_strikes_landed',fighter1,'abs',day1),avg_count('leg_strikes_attempts',fighter1,'abs',day1),\n",
    "            avg_count('distance_strikes_landed',fighter1,'abs',day1),avg_count('distance_strikes_attempts',fighter1,'abs',day1),\n",
    "            avg_count('clinch_strikes_landed',fighter1,'abs',day1),avg_count('clinch_strikes_attempts',fighter1,'abs',day1),\n",
    "            avg_count('ground_strikes_landed',fighter1,'abs',day1),avg_count('ground_strikes_attempts',fighter1,'abs',day1),\n",
    "            avg_count('knockdowns',fighter2,'inf',day2), avg_count('pass',fighter2,'inf',day2),\n",
    "            avg_count('reversals',fighter2,'inf',day2),avg_count('sub_attempts',fighter2,'inf',day2),\n",
    "            avg_count('takedowns_landed',fighter2,'inf',day2),avg_count('takedowns_attempts',fighter2,'inf',day2),\n",
    "            avg_count('sig_strikes_landed',fighter2,'inf',day2),avg_count('sig_strikes_attempts',fighter2,'inf',day2),\n",
    "            avg_count('total_strikes_landed',fighter2,'inf',day2),avg_count('total_strikes_attempts',fighter2,'inf',day2),\n",
    "            avg_count('head_strikes_landed',fighter2,'inf',day2),avg_count('head_strikes_attempts',fighter2,'inf',day2),\n",
    "            avg_count('body_strikes_landed',fighter2,'inf',day2),avg_count('body_strikes_attempts',fighter2,'inf',day2),\n",
    "            avg_count('leg_strikes_landed',fighter2,'inf',day2),avg_count('leg_strikes_attempts',fighter2,'inf',day2),\n",
    "            avg_count('distance_strikes_landed',fighter2,'inf',day2),avg_count('distance_strikes_attempts',fighter2,'inf',day2),\n",
    "            avg_count('clinch_strikes_landed',fighter2,'inf',day2),avg_count('clinch_strikes_attempts',fighter2,'inf',day2),\n",
    "            avg_count('ground_strikes_landed',fighter2,'inf',day2),avg_count('ground_strikes_attempts',fighter2,'inf',day2),\n",
    "            avg_count('knockdowns',fighter2,'abs',day2), avg_count('pass',fighter2,'abs',day2),\n",
    "            avg_count('reversals',fighter2,'abs',day2),avg_count('sub_attempts',fighter2,'abs',day2),\n",
    "            avg_count('takedowns_landed',fighter2,'abs',day2),avg_count('takedowns_attempts',fighter2,'abs',day2),\n",
    "            avg_count('sig_strikes_landed',fighter2,'abs',day2),avg_count('sig_strikes_attempts',fighter2,'abs',day2),\n",
    "            avg_count('total_strikes_landed',fighter2,'abs',day2),avg_count('total_strikes_attempts',fighter2,'abs',day2),\n",
    "            avg_count('head_strikes_landed',fighter2,'abs',day2),avg_count('head_strikes_attempts',fighter2,'abs',day2),\n",
    "            avg_count('body_strikes_landed',fighter2,'abs',day2),avg_count('body_strikes_attempts',fighter2,'abs',day2),\n",
    "            avg_count('leg_strikes_landed',fighter2,'abs',day2),avg_count('leg_strikes_attempts',fighter2,'abs',day2),\n",
    "            avg_count('distance_strikes_landed',fighter2,'abs',day2),avg_count('distance_strikes_attempts',fighter2,'abs',day2),\n",
    "            avg_count('clinch_strikes_landed',fighter2,'abs',day2),avg_count('clinch_strikes_attempts',fighter2,'abs',day2),\n",
    "            avg_count('ground_strikes_landed',fighter2,'abs',day2),avg_count('ground_strikes_attempts',fighter2,'abs',day2),\n",
    "            stance(fighter1),stance(fighter2)]\n",
    "\n",
    "mlp=MLPClassifier(hidden_layer_sizes=(110,110),alpha=.00001,solver='sgd',random_state=3)\n",
    "Xp=ufc_best_df.iloc[0:2101]\n",
    "yp=ufc_fights_clean_stance.iloc[0:2101]['method']\n",
    "mlp.fit(Xp,yp)\n",
    "\n",
    "model=LogisticRegression()\n",
    "X=ufc_best_df.iloc[0:2101]\n",
    "y=ufc_fights_clean_stance.iloc[0:2101]['result']\n",
    "model.fit(X,y)\n",
    "\n",
    "\n",
    "#date entered in the form 'Aug 20, 2013'\n",
    "#predicts what happens if the day1 version of fighter1 fights fighter2 at their day2 version\n",
    "#by default day1 and day2 are set to today if left unspecified\n",
    "def ufc_predict(fighter1,fighter2,day1=date.today(), day2=date.today()):\n",
    "    fighters=[fighter1,fighter2]\n",
    "    random_guy=fighters[random.choice([0,1])]\n",
    "    fighter1_fights=(ufcfightscrap['fighter']==fighter1).sum()\n",
    "    fighter2_fights=(ufcfightscrap['fighter']==fighter2).sum()\n",
    "    if fighter1_fights==0 and not fighter2_fights==0:\n",
    "        print('This is '+fighter1+\"'s UFC debut... so obviously I do not have enough data to make an educated pick. But since you are DEMANDING an outcome, hmmm... I guess I'll go with \"+random_guy+'.')\n",
    "    elif fighter2_fights==0 and not fighter1_fights==0:\n",
    "        print('This is '+fighter2+\"'s UFC debut... so obviously I do not have enough data to make an educated pick. But since you are DEMANDING an outcome, hmmm... I guess I'll go with \"+random_guy+'.') \n",
    "    elif fighter1_fights==0 and fighter2_fights==0:\n",
    "        print('This is both '+fighter1+\"'s \"+'and '+fighter2+\"'s \"+\"UFC debuts... so obviously I do not have enough data to make an educated pick. But since you are DEMANDING an outcome, hmmm... I guess I'll go with \"+random_guy+'.')\n",
    "    else:\n",
    "        ufc_tuple=ufc_prediction_tuple(fighter1,fighter2,day1,day2)\n",
    "        if 'unknown' in ufc_tuple or 'NaN' in ufc_tuple:\n",
    "            print('Fighters have incomplete data on record, I honestly do not know what to do with this.')\n",
    "        else:\n",
    "            value=model.predict([ufc_tuple])[0]\n",
    "            result=mlp.predict([ufc_tuple])[0]\n",
    "            if value=='W':\n",
    "                print(fighter1+' by '+result)\n",
    "            else:\n",
    "                print(fighter2+' by '+result)\n",
    "\n",
    "def stance(fighter):\n",
    "    a=0\n",
    "    for i in range(len(ufcfighterscrap['name'])):\n",
    "        if ufcfighterscrap['name'][i]==fighter:\n",
    "            a=ufcfighterscrap['stance'][i]\n",
    "            break\n",
    "    if a=='Orthodox':\n",
    "        return 0\n",
    "    elif a=='Switch':\n",
    "        return 1\n",
    "    elif a=='Southpaw':\n",
    "        return 2\n",
    "    elif a=='Open Stance':\n",
    "        return 3\n",
    "    elif a=='Sideways':\n",
    "        return 4\n",
    "    else:\n",
    "        return 5\n",
    "    \n",
    "stance_vect= npy.vectorize(stance)"
   ]
  },
  {
   "cell_type": "code",
   "execution_count": 204,
   "metadata": {},
   "outputs": [],
   "source": [
    "ufc_fights= pd.read_csv('ufc_fights.csv')\n",
    "ufc_fights_crap= pd.read_csv('ufc_fights_crap.csv')\n",
    "ufcfightscrap= pd.read_csv('ufc_fights_crap.csv')\n",
    "ufcfighterscrap=pd.read_csv('fighter_stats.csv',sep=',')"
   ]
  },
  {
   "cell_type": "code",
   "execution_count": 205,
   "metadata": {},
   "outputs": [],
   "source": [
    "#adding stance\n",
    "#Not sure I did this in the best way, for instance i could change the column to 'categorical values'\n",
    "#however this may be equivalent to what I did... not sure\n",
    "ufc_fights['fighter_stance']=stance_vect(ufc_fights['fighter'])\n",
    "ufc_fights['opponent_stance']=stance_vect(ufc_fights['opponent'])\n",
    "stance_mask_a=ufc_fights['fighter_stance']!=5\n",
    "stance_mask_b=ufc_fights['opponent_stance']!=5\n",
    "ufc_fights_stance=ufc_fights[stance_mask_a&stance_mask_b]"
   ]
  },
  {
   "cell_type": "code",
   "execution_count": 206,
   "metadata": {},
   "outputs": [],
   "source": [
    "#THERE MAY BE A PROBLEM IN AGE HEIGHT REACH TO DO WITH STRING VS FLOAT. MAKE SURE THESE ARE ALL THE CORRECT TYPE\n",
    "#MAYBE WE ARE LOSING PREDICTABILITY HERE"
   ]
  },
  {
   "cell_type": "code",
   "execution_count": 207,
   "metadata": {},
   "outputs": [],
   "source": [
    "#gets rid of all unknown, NaN, and any columns with UFC debut in ufc_fights_ML_dirty and outputs ufc_fights_ML\n",
    "mask=ufc_fights_stance['fighter_wins'] != 'unknown'\n",
    "\n",
    "for col in ufc_fights_stance.columns:\n",
    "    mask1=ufc_fights_stance[col] != 'unknown'\n",
    "    mask2=ufc_fights_stance[col] != 'NaN'\n",
    "    mask3=ufc_fights_stance[col] != '--'\n",
    "    mask=mask&mask1&mask2&mask3\n",
    "    \n",
    "maska=ufc_fights_stance['fighter_inf_sig_strikes_attempts_avg'] != 0\n",
    "maskb=ufc_fights_stance['opponent_inf_sig_strikes_attempts_avg'] != 0\n",
    "mask=mask&maska&maskb\n",
    "ufc_fights_clean_stance=ufc_fights_stance[mask]\n",
    "results=ufc_fights_clean_stance['result']\n",
    "ufc_fights_ML=ufc_fights_clean_stance.drop(['result','fighter','opponent','method','date','division'], axis=1)"
   ]
  },
  {
   "cell_type": "code",
   "execution_count": 208,
   "metadata": {},
   "outputs": [],
   "source": [
    "record_statistics=[u'fighter_wins', \n",
    "                   u'fighter_losses',\n",
    "                   u'fighter_L5Y_wins',\n",
    "                   u'fighter_L5Y_losses', \n",
    "                   u'fighter_L2Y_wins', \n",
    "                   u'fighter_L2Y_losses',\n",
    "                    u'fighter_ko_wins',\n",
    "                   u'fighter_ko_losses',\n",
    "                   u'fighter_L5Y_ko_wins',\n",
    "                   u'fighter_L5Y_ko_losses',\n",
    "                   u'fighter_L2Y_ko_wins',\n",
    "                    u'fighter_L2Y_ko_losses',\n",
    "                   u'fighter_sub_wins',\n",
    "                   u'fighter_sub_losses',\n",
    "                   u'fighter_L5Y_sub_wins',\n",
    "                    u'fighter_L5Y_sub_losses', \n",
    "                   u'fighter_L2Y_sub_wins', \n",
    "                   u'fighter_L2Y_sub_losses',\n",
    "                   u'opponent_wins', \n",
    "                   u'opponent_losses',\n",
    "                   u'opponent_L5Y_wins', \n",
    "                   u'opponent_L5Y_losses', \n",
    "                   u'opponent_L2Y_wins', \n",
    "                   u'opponent_L2Y_losses', \n",
    "                    u'opponent_ko_wins', \n",
    "                   u'opponent_ko_losses', \n",
    "                   u'opponent_L5Y_ko_wins', \n",
    "                   u'opponent_L5Y_ko_losses', \n",
    "                   u'opponent_L2Y_ko_wins',\n",
    "                    u'opponent_L2Y_ko_losses', \n",
    "                   u'opponent_sub_wins', \n",
    "                   u'opponent_sub_losses',\n",
    "                   u'opponent_L5Y_sub_wins', \n",
    "                    u'opponent_L5Y_sub_losses', \n",
    "                   u'opponent_L2Y_sub_wins', \n",
    "                   u'opponent_L2Y_sub_losses']"
   ]
  },
  {
   "cell_type": "code",
   "execution_count": 209,
   "metadata": {},
   "outputs": [],
   "source": [
    "physical_stats=[ u'fighter_age',\n",
    "                u'fighter_height',\n",
    "                    u'fighter_reach',  \n",
    "                u'opponent_age',  \n",
    "                u'opponent_height',\n",
    "                    u'opponent_reach']"
   ]
  },
  {
   "cell_type": "code",
   "execution_count": 210,
   "metadata": {},
   "outputs": [],
   "source": [
    "#here is the list of all stats available (besides stance), does not include names or result\n",
    "punch_statistics=[    u'fighter_inf_knockdowns_avg',\n",
    "                    u'fighter_inf_pass_avg',\n",
    "                    u'fighter_inf_reversals_avg',\n",
    "                    u'fighter_inf_sub_attempts_avg',\n",
    "                    u'fighter_inf_takedowns_landed_avg',\n",
    "                    u'fighter_inf_takedowns_attempts_avg',\n",
    "                    u'fighter_inf_sig_strikes_landed_avg',\n",
    "                    u'fighter_inf_sig_strikes_attempts_avg',\n",
    "                    u'fighter_inf_total_strikes_landed_avg',\n",
    "                    u'fighter_inf_total_strikes_attempts_avg',\n",
    "                    u'fighter_inf_head_strikes_landed_avg',\n",
    "                    u'fighter_inf_head_strikes_attempts_avg',\n",
    "                    u'fighter_inf_body_strikes_landed_avg',\n",
    "                    u'fighter_inf_body_strikes_attempts_avg',\n",
    "                    u'fighter_inf_leg_strikes_landed_avg',\n",
    "                    u'fighter_inf_leg_strikes_attempts_avg',\n",
    "                    u'fighter_inf_distance_strikes_landed_avg',\n",
    "                    u'fighter_inf_distance_strikes_attempts_avg',\n",
    "                    u'fighter_inf_clinch_strikes_landed_avg',\n",
    "                    u'fighter_inf_clinch_strikes_attempts_avg',\n",
    "                    u'fighter_inf_ground_strikes_landed_avg',\n",
    "                    u'fighter_inf_ground_strikes_attempts_avg',\n",
    "                \n",
    "                    u'fighter_abs_knockdowns_avg',\n",
    "                    u'fighter_abs_pass_avg',\n",
    "                    u'fighter_abs_reversals_avg',\n",
    "                    u'fighter_abs_sub_attempts_avg',\n",
    "                    u'fighter_abs_takedowns_landed_avg',\n",
    "                    u'fighter_abs_takedowns_attempts_avg',\n",
    "                    u'fighter_abs_sig_strikes_landed_avg',\n",
    "                    u'fighter_abs_sig_strikes_attempts_avg',\n",
    "                    u'fighter_abs_total_strikes_landed_avg',\n",
    "                    u'fighter_abs_total_strikes_attempts_avg',\n",
    "                    u'fighter_abs_head_strikes_landed_avg',\n",
    "                    u'fighter_abs_head_strikes_attempts_avg',\n",
    "                    u'fighter_abs_body_strikes_landed_avg',\n",
    "                    u'fighter_abs_body_strikes_attempts_avg',\n",
    "                    u'fighter_abs_leg_strikes_landed_avg',\n",
    "                    u'fighter_abs_leg_strikes_attempts_avg',\n",
    "                    u'fighter_abs_distance_strikes_landed_avg',\n",
    "                    u'fighter_abs_distance_strikes_attempts_avg',\n",
    "                    u'fighter_abs_clinch_strikes_landed_avg',\n",
    "                    u'fighter_abs_clinch_strikes_attempts_avg',\n",
    "                    u'fighter_abs_ground_strikes_landed_avg',\n",
    "                    u'fighter_abs_ground_strikes_attempts_avg',\n",
    "                    \n",
    "                    u'opponent_inf_knockdowns_avg',\n",
    "                    u'opponent_inf_pass_avg',\n",
    "                    u'opponent_inf_reversals_avg',\n",
    "                    u'opponent_inf_sub_attempts_avg',\n",
    "                    u'opponent_inf_takedowns_landed_avg',\n",
    "                    u'opponent_inf_takedowns_attempts_avg',\n",
    "                    u'opponent_inf_sig_strikes_landed_avg',\n",
    "                    u'opponent_inf_sig_strikes_attempts_avg',\n",
    "                    u'opponent_inf_total_strikes_landed_avg',\n",
    "                    u'opponent_inf_total_strikes_attempts_avg',\n",
    "                    u'opponent_inf_head_strikes_landed_avg',\n",
    "                    u'opponent_inf_head_strikes_attempts_avg',\n",
    "                    u'opponent_inf_body_strikes_landed_avg',\n",
    "                    u'opponent_inf_body_strikes_attempts_avg',\n",
    "                    u'opponent_inf_leg_strikes_landed_avg',\n",
    "                    u'opponent_inf_leg_strikes_attempts_avg',\n",
    "                    u'opponent_inf_distance_strikes_landed_avg',\n",
    "                    u'opponent_inf_distance_strikes_attempts_avg',\n",
    "                    u'opponent_inf_clinch_strikes_landed_avg',\n",
    "                    u'opponent_inf_clinch_strikes_attempts_avg',\n",
    "                    u'opponent_inf_ground_strikes_landed_avg',\n",
    "                    u'opponent_inf_ground_strikes_attempts_avg',\n",
    "                \n",
    "                    u'opponent_abs_knockdowns_avg',\n",
    "                    u'opponent_abs_pass_avg',\n",
    "                    u'opponent_abs_reversals_avg',\n",
    "                    u'opponent_abs_sub_attempts_avg',\n",
    "                    u'opponent_abs_takedowns_landed_avg',\n",
    "                    u'opponent_abs_takedowns_attempts_avg',\n",
    "                    u'opponent_abs_sig_strikes_landed_avg',\n",
    "                    u'opponent_abs_sig_strikes_attempts_avg',\n",
    "                    u'opponent_abs_total_strikes_landed_avg',\n",
    "                    u'opponent_abs_total_strikes_attempts_avg',\n",
    "                    u'opponent_abs_head_strikes_landed_avg',\n",
    "                    u'opponent_abs_head_strikes_attempts_avg',\n",
    "                    u'opponent_abs_body_strikes_landed_avg',\n",
    "                    u'opponent_abs_body_strikes_attempts_avg',\n",
    "                    u'opponent_abs_leg_strikes_landed_avg',\n",
    "                    u'opponent_abs_leg_strikes_attempts_avg',\n",
    "                    u'opponent_abs_distance_strikes_landed_avg',\n",
    "                    u'opponent_abs_distance_strikes_attempts_avg',\n",
    "                    u'opponent_abs_clinch_strikes_landed_avg',\n",
    "                    u'opponent_abs_clinch_strikes_attempts_avg',\n",
    "                    u'opponent_abs_ground_strikes_landed_avg',\n",
    "                    u'opponent_abs_ground_strikes_attempts_avg']\n"
   ]
  },
  {
   "cell_type": "code",
   "execution_count": 211,
   "metadata": {},
   "outputs": [],
   "source": [
    "#forming a dataframe where columns are differences between fighter and opponent fight statistics\n",
    "mrs=len(record_statistics)/2\n",
    "record_diff_2_df=pd.DataFrame()\n",
    "for i in range(mrs):\n",
    "    record_diff_2_df[record_statistics[i]+'_diff_2']=ufc_fights_clean_stance[record_statistics[i]]-ufc_fights_clean_stance[record_statistics[i+mrs]]"
   ]
  },
  {
   "cell_type": "code",
   "execution_count": 212,
   "metadata": {},
   "outputs": [],
   "source": [
    "#IN PRETTY MUCH EVERY CASE, DIFF_2 SCORES HIGHER THAN ANYTHING. THUS FOR RECORD STATS WE WILL USE DIFF_2"
   ]
  },
  {
   "cell_type": "code",
   "execution_count": 213,
   "metadata": {},
   "outputs": [
    {
     "name": "stdout",
     "output_type": "stream",
     "text": [
      "(0.700306049894763, 0.7005726410345009)\n"
     ]
    }
   ],
   "source": [
    "#lets compare\n",
    "y=ufc_fights_clean_stance['result']\n",
    "X=ufc_fights_clean_stance[record_statistics]\n",
    "Xdiff2=record_diff_2_df\n",
    "print(cross_val_score(model,X,y,cv=23).mean(),cross_val_score(model,Xdiff2,y,cv=23).mean())\n",
    "#Ok great, they really are identical... but do they perform better separately when combined with other stats?\n",
    "#Really adding the punch stats doesn't really even increase..."
   ]
  },
  {
   "cell_type": "code",
   "execution_count": 214,
   "metadata": {
    "scrolled": true
   },
   "outputs": [],
   "source": [
    "#Lets start building a dataframe of all the stats which we know perform best\n",
    "ufc_best_df=record_diff_2_df"
   ]
  },
  {
   "cell_type": "code",
   "execution_count": 215,
   "metadata": {},
   "outputs": [],
   "source": [
    "#moving on to physical_stats:\n",
    "physical_stats_diff_df=pd.DataFrame()\n",
    "physical=[ [u'fighter_age',u'opponent_age'],[u'fighter_height',u'opponent_height'],[u'fighter_reach',u'opponent_reach']]\n",
    "physical_stats_diff_df['age_diff']=ufc_fights_clean_stance['fighter_age'].apply(float)-ufc_fights_clean_stance['opponent_age'].apply(float)\n",
    "physical_stats_diff_df['height_diff']=ufc_fights_clean_stance['fighter_height'].apply(float)-ufc_fights_clean_stance['opponent_height'].apply(float)\n",
    "physical_stats_diff_df['reach_diff']=ufc_fights_clean_stance['fighter_reach'].apply(float)-ufc_fights_clean_stance['opponent_reach'].apply(float)\n",
    "#ok so we keep ages absolute, but make differences for height and reach\n",
    "ufc_best_df['fighter_age']=ufc_fights_clean_stance['fighter_age']\n",
    "ufc_best_df['opponent_age']=ufc_fights_clean_stance['opponent_age']\n",
    "ufc_best_df['height_diff']=physical_stats_diff_df['height_diff']\n",
    "ufc_best_df['reach_diff']=physical_stats_diff_df['reach_diff']\n",
    "#This includes all the best choices in terms of taking differences\n",
    "for col in punch_statistics:\n",
    "    ufc_best_df[col]=ufc_fights_clean_stance[col]"
   ]
  },
  {
   "cell_type": "code",
   "execution_count": 216,
   "metadata": {},
   "outputs": [
    {
     "data": {
      "text/plain": [
       "0.7100524906183787"
      ]
     },
     "execution_count": 216,
     "metadata": {},
     "output_type": "execute_result"
    }
   ],
   "source": [
    "#Heres the score for our \"best choices\" (without stance included)\n",
    "#THIS IS THE HIGHEST AVERAGE WE HAVE EVER GOTTEN, ITS A CROSS_VAL_SCORE of .71, \n",
    "#increases with cv (testing optimal value)\n",
    "X=ufc_best_df.iloc[0:2101]\n",
    "y=ufc_fights_clean_stance.iloc[0:2101]['result']\n",
    "cross_val_score(model,X,y,cv=23).mean()"
   ]
  },
  {
   "cell_type": "code",
   "execution_count": 217,
   "metadata": {},
   "outputs": [],
   "source": [
    "#adding stance to ufc_best_df\n",
    "ufc_best_df['fighter_stance']=ufc_fights_clean_stance['fighter_stance']\n",
    "ufc_best_df['opponent_stance']=ufc_fights_clean_stance['opponent_stance']"
   ]
  },
  {
   "cell_type": "code",
   "execution_count": 235,
   "metadata": {},
   "outputs": [
    {
     "data": {
      "text/plain": [
       "0.7152822497813045"
      ]
     },
     "execution_count": 235,
     "metadata": {},
     "output_type": "execute_result"
    }
   ],
   "source": [
    "#Heres the score for our \"best choices\" (WITH stance included, increased by .005)\n",
    "#THIS IS THE HIGHEST AVERAGE WE HAVE EVER GOTTEN, ITS A CROSS_VAL_SCORE of .71, \n",
    "#increases with cv (testing optimal value)\n",
    "X=ufc_best_df.iloc[0:2101]\n",
    "y=ufc_fights_clean_stance.iloc[0:2101]['result']\n",
    "cross_val_score(model,X,y,cv=23).mean()"
   ]
  },
  {
   "cell_type": "code",
   "execution_count": 248,
   "metadata": {},
   "outputs": [
    {
     "data": {
      "text/plain": [
       "LogisticRegression(C=1.0, class_weight=None, dual=False, fit_intercept=True,\n",
       "          intercept_scaling=1, max_iter=100, multi_class='warn',\n",
       "          n_jobs=None, penalty='l2', random_state=None, solver='warn',\n",
       "          tol=0.0001, verbose=0, warm_start=False)"
      ]
     },
     "execution_count": 248,
     "metadata": {},
     "output_type": "execute_result"
    }
   ],
   "source": [
    "#Can also predict the method, e.g.\n",
    "X=ufc_best_df.iloc[0:2101]\n",
    "y=ufc_fights_clean_stance.iloc[0:2101]['method']\n",
    "model.fit(X,y)"
   ]
  },
  {
   "cell_type": "code",
   "execution_count": 249,
   "metadata": {},
   "outputs": [
    {
     "data": {
      "text/plain": [
       "'KO/TKO'"
      ]
     },
     "execution_count": 249,
     "metadata": {},
     "output_type": "execute_result"
    }
   ],
   "source": [
    "X=ufc_best_df.iloc[0:2101]\n",
    "y=ufc_fights_clean_stance.iloc[0:2101]['method']\n",
    "model.fit(X,y)\n",
    "model.predict([ufc_prediction_tuple('Israel Adesanya','Paulo Costa','September 27, 2020', 'September 27, 2020')])[0]"
   ]
  },
  {
   "cell_type": "code",
   "execution_count": 236,
   "metadata": {},
   "outputs": [
    {
     "data": {
      "text/plain": [
       "0.7448833888624464"
      ]
     },
     "execution_count": 236,
     "metadata": {},
     "output_type": "execute_result"
    }
   ],
   "source": [
    "model.fit(X,y)\n",
    "model.score(X,y)"
   ]
  },
  {
   "cell_type": "code",
   "execution_count": 367,
   "metadata": {},
   "outputs": [
    {
     "name": "stdout",
     "output_type": "stream",
     "text": [
      "Israel Adesanya by KO/TKO\n",
      "CPU times: user 2min 8s, sys: 872 ms, total: 2min 8s\n",
      "Wall time: 2min 12s\n"
     ]
    }
   ],
   "source": [
    "time ufc_predict('Israel Adesanya','Paulo Costa','September 27, 2020', 'September 27, 2020')"
   ]
  },
  {
   "cell_type": "code",
   "execution_count": 368,
   "metadata": {},
   "outputs": [
    {
     "name": "stdout",
     "output_type": "stream",
     "text": [
      "Dominick Reyes by KO/TKO\n",
      "CPU times: user 2min 10s, sys: 879 ms, total: 2min 11s\n",
      "Wall time: 2min 13s\n"
     ]
    }
   ],
   "source": [
    "time ufc_predict('Dominick Reyes','Jan Blachowicz','September 27, 2020', 'September 27, 2020')"
   ]
  },
  {
   "cell_type": "code",
   "execution_count": 369,
   "metadata": {},
   "outputs": [
    {
     "name": "stdout",
     "output_type": "stream",
     "text": [
      "Xiaonan Yan by U-DEC\n",
      "CPU times: user 2min 7s, sys: 820 ms, total: 2min 8s\n",
      "Wall time: 2min 10s\n"
     ]
    }
   ],
   "source": [
    "time ufc_predict('Claudia Gadelha','Xiaonan Yan','September 27, 2020', 'September 27, 2020')"
   ]
  },
  {
   "cell_type": "code",
   "execution_count": 370,
   "metadata": {},
   "outputs": [
    {
     "name": "stdout",
     "output_type": "stream",
     "text": [
      "Hakeem Dawodu by U-DEC\n",
      "CPU times: user 2min 8s, sys: 868 ms, total: 2min 9s\n",
      "Wall time: 2min 11s\n"
     ]
    }
   ],
   "source": [
    "time ufc_predict('Hakeem Dawodu','Zubaira Tukhugov','September 27, 2020', 'September 27, 2020')"
   ]
  },
  {
   "cell_type": "code",
   "execution_count": 371,
   "metadata": {},
   "outputs": [
    {
     "name": "stdout",
     "output_type": "stream",
     "text": [
      "Jake Matthews by KO/TKO\n",
      "CPU times: user 2min 8s, sys: 852 ms, total: 2min 9s\n",
      "Wall time: 2min 11s\n"
     ]
    }
   ],
   "source": [
    "time ufc_predict('Diego Sanchez','Jake Matthews','September 27, 2020', 'September 27, 2020')"
   ]
  },
  {
   "cell_type": "code",
   "execution_count": 372,
   "metadata": {},
   "outputs": [
    {
     "name": "stdout",
     "output_type": "stream",
     "text": [
      "This is Alexda Silva Coelho's UFC debut... so obviously I do not have enough data to make an educated pick. But since you are DEMANDING an outcome, hmmm... I guess I'll go with Brad Riddell.\n",
      "CPU times: user 3.79 ms, sys: 62 µs, total: 3.85 ms\n",
      "Wall time: 4.42 ms\n"
     ]
    }
   ],
   "source": [
    "time ufc_predict('Brad Riddell','Alexda Silva Coelho','September 27, 2020', 'September 27, 2020')"
   ]
  },
  {
   "cell_type": "code",
   "execution_count": 373,
   "metadata": {},
   "outputs": [
    {
     "name": "stdout",
     "output_type": "stream",
     "text": [
      "Kai Kara-France by KO/TKO\n",
      "CPU times: user 2min 7s, sys: 832 ms, total: 2min 8s\n",
      "Wall time: 2min 10s\n"
     ]
    }
   ],
   "source": [
    "time ufc_predict('Kai Kara-France','Brandon Royval','September 27, 2020', 'September 27, 2020')"
   ]
  },
  {
   "cell_type": "code",
   "execution_count": 374,
   "metadata": {},
   "outputs": [
    {
     "name": "stdout",
     "output_type": "stream",
     "text": [
      "Shane Young by U-DEC\n",
      "CPU times: user 2min 23s, sys: 1.19 s, total: 2min 24s\n",
      "Wall time: 2min 29s\n"
     ]
    }
   ],
   "source": [
    "time ufc_predict('Shane Young','Nate Landwehr','September 27, 2020', 'September 27, 2020')"
   ]
  },
  {
   "cell_type": "code",
   "execution_count": 375,
   "metadata": {},
   "outputs": [],
   "source": [
    "#WRITE ANOTHER UFC_PREDICT FUNCTION USING CURRENT VALUES FOR CURRENT PREDICTIONS. THIS WILL RUN IMMEDIATELY\n",
    "#THE FUNCTION WE HAVE NOW IS NICE FOR PAST PREDICTIONS BUT IS UNNECESSARILY SLOW FOR CURRENT ONES."
   ]
  },
  {
   "cell_type": "code",
   "execution_count": 376,
   "metadata": {},
   "outputs": [
    {
     "name": "stdout",
     "output_type": "stream",
     "text": [
      "Amanda Ribas by SUB\n",
      "CPU times: user 2min 22s, sys: 1.04 s, total: 2min 23s\n",
      "Wall time: 2min 26s\n"
     ]
    }
   ],
   "source": [
    "time ufc_predict('Amanda Ribas','Paige VanZant','July 12, 2020', 'July 12, 2020')"
   ]
  },
  {
   "cell_type": "code",
   "execution_count": 377,
   "metadata": {},
   "outputs": [
    {
     "name": "stdout",
     "output_type": "stream",
     "text": [
      "Rose Namajunas by KO/TKO\n",
      "CPU times: user 2min 22s, sys: 1.07 s, total: 2min 23s\n",
      "Wall time: 2min 27s\n"
     ]
    }
   ],
   "source": [
    "time ufc_predict('Jessica Andrade','Rose Namajunas','July 12, 2020', 'July 12, 2020')"
   ]
  },
  {
   "cell_type": "code",
   "execution_count": 378,
   "metadata": {},
   "outputs": [
    {
     "name": "stdout",
     "output_type": "stream",
     "text": [
      "Petr Yan by KO/TKO\n",
      "CPU times: user 2min 12s, sys: 940 ms, total: 2min 13s\n",
      "Wall time: 2min 15s\n"
     ]
    }
   ],
   "source": [
    "time ufc_predict('Petr Yan','Jose Aldo','July 12, 2020', 'July 12, 2020')"
   ]
  },
  {
   "cell_type": "code",
   "execution_count": 379,
   "metadata": {},
   "outputs": [
    {
     "name": "stdout",
     "output_type": "stream",
     "text": [
      "Alexander Volkanovski by U-DEC\n",
      "CPU times: user 2min, sys: 758 ms, total: 2min\n",
      "Wall time: 2min 2s\n"
     ]
    }
   ],
   "source": [
    "time ufc_predict('Alexander Volkanovski','Max Holloway','July 12, 2020', 'July 12, 2020')"
   ]
  },
  {
   "cell_type": "code",
   "execution_count": 380,
   "metadata": {},
   "outputs": [
    {
     "name": "stdout",
     "output_type": "stream",
     "text": [
      "Kamaru Usman by U-DEC\n",
      "CPU times: user 1min 59s, sys: 738 ms, total: 2min\n",
      "Wall time: 2min 2s\n"
     ]
    }
   ],
   "source": [
    "time ufc_predict('Kamaru Usman','Jorge Masvidal','July 12, 2020', 'July 12, 2020')"
   ]
  },
  {
   "cell_type": "code",
   "execution_count": 381,
   "metadata": {},
   "outputs": [
    {
     "name": "stdout",
     "output_type": "stream",
     "text": [
      "Kamaru Usman by U-DEC\n",
      "CPU times: user 1min 59s, sys: 744 ms, total: 2min\n",
      "Wall time: 2min 2s\n"
     ]
    }
   ],
   "source": [
    "time ufc_predict('Jorge Masvidal','Kamaru Usman','July 12, 2020', 'July 12, 2020')"
   ]
  },
  {
   "cell_type": "code",
   "execution_count": 382,
   "metadata": {},
   "outputs": [
    {
     "name": "stdout",
     "output_type": "stream",
     "text": [
      "Augusto Sakai by KO/TKO\n",
      "CPU times: user 2min, sys: 763 ms, total: 2min\n",
      "Wall time: 2min 2s\n"
     ]
    }
   ],
   "source": [
    "time ufc_predict('Alistair Overeem','Augusto Sakai','September 6, 2020', 'September 6, 2020')"
   ]
  },
  {
   "cell_type": "code",
   "execution_count": 383,
   "metadata": {},
   "outputs": [
    {
     "name": "stdout",
     "output_type": "stream",
     "text": [
      "Ovince Saint Preux by U-DEC\n",
      "CPU times: user 2min, sys: 769 ms, total: 2min 1s\n",
      "Wall time: 2min 3s\n"
     ]
    }
   ],
   "source": [
    "time ufc_predict('Ovince Saint Preux','Alonzo Menifield','September 6, 2020', 'September 6, 2020')"
   ]
  },
  {
   "cell_type": "code",
   "execution_count": 384,
   "metadata": {},
   "outputs": [
    {
     "name": "stdout",
     "output_type": "stream",
     "text": [
      "Karol Rosa by KO/TKO\n",
      "CPU times: user 2min, sys: 761 ms, total: 2min\n",
      "Wall time: 2min 2s\n"
     ]
    }
   ],
   "source": [
    "time ufc_predict('Sijara Eubanks','Karol Rosa','September 6, 2020', 'September 6, 2020')"
   ]
  },
  {
   "cell_type": "code",
   "execution_count": 385,
   "metadata": {},
   "outputs": [
    {
     "name": "stdout",
     "output_type": "stream",
     "text": [
      "Thiago Santos by KO/TKO\n",
      "CPU times: user 1min 59s, sys: 769 ms, total: 2min\n",
      "Wall time: 2min 2s\n"
     ]
    }
   ],
   "source": [
    "time ufc_predict('Thiago Santos','Glover Teixeira','September 13, 2020', 'September 13, 2020')"
   ]
  },
  {
   "cell_type": "code",
   "execution_count": 386,
   "metadata": {},
   "outputs": [
    {
     "name": "stdout",
     "output_type": "stream",
     "text": [
      "Michelle Waterson by U-DEC\n",
      "CPU times: user 2min, sys: 771 ms, total: 2min 1s\n",
      "Wall time: 2min 3s\n"
     ]
    }
   ],
   "source": [
    "time ufc_predict('Michelle Waterson','Angela Hill','September 13, 2020', 'September 13, 2020')"
   ]
  },
  {
   "cell_type": "code",
   "execution_count": 387,
   "metadata": {},
   "outputs": [
    {
     "name": "stdout",
     "output_type": "stream",
     "text": [
      "Kyle Nelson by U-DEC\n",
      "CPU times: user 1min 59s, sys: 759 ms, total: 2min\n",
      "Wall time: 2min 1s\n"
     ]
    }
   ],
   "source": [
    "time ufc_predict('Billy Quarantillo','Kyle Nelson','September 13, 2020', 'September 13, 2020')"
   ]
  },
  {
   "cell_type": "code",
   "execution_count": 388,
   "metadata": {},
   "outputs": [
    {
     "name": "stdout",
     "output_type": "stream",
     "text": [
      "Colby Covington by U-DEC\n",
      "CPU times: user 2min, sys: 787 ms, total: 2min 1s\n",
      "Wall time: 2min 2s\n"
     ]
    }
   ],
   "source": [
    "time ufc_predict('Colby Covington','Tyron Woodley','September 19, 2020', 'September 19, 2020')"
   ]
  },
  {
   "cell_type": "code",
   "execution_count": 389,
   "metadata": {},
   "outputs": [
    {
     "name": "stdout",
     "output_type": "stream",
     "text": [
      "Ciryl Gane by KO/TKO\n",
      "CPU times: user 2min, sys: 756 ms, total: 2min\n",
      "Wall time: 2min 2s\n"
     ]
    }
   ],
   "source": [
    "time ufc_predict('Shamil Abdurakhimov','Ciryl Gane','September 19, 2020', 'September 19, 2020')"
   ]
  },
  {
   "cell_type": "code",
   "execution_count": 390,
   "metadata": {},
   "outputs": [
    {
     "name": "stdout",
     "output_type": "stream",
     "text": [
      "Mackenzie Dern by U-DEC\n",
      "CPU times: user 1min 59s, sys: 733 ms, total: 2min\n",
      "Wall time: 2min 1s\n"
     ]
    }
   ],
   "source": [
    "time ufc_predict('Mackenzie Dern','Randa Markos','September 19, 2020', 'September 19, 2020')"
   ]
  },
  {
   "cell_type": "code",
   "execution_count": 391,
   "metadata": {},
   "outputs": [
    {
     "name": "stdout",
     "output_type": "stream",
     "text": [
      "Khabib Nurmagomedov by U-DEC\n",
      "CPU times: user 2min, sys: 736 ms, total: 2min\n",
      "Wall time: 2min 2s\n"
     ]
    }
   ],
   "source": [
    "time ufc_predict('Khabib Nurmagomedov','Justin Gaethje','October 24, 2020', 'October 24, 2020')"
   ]
  },
  {
   "cell_type": "code",
   "execution_count": 392,
   "metadata": {},
   "outputs": [
    {
     "name": "stdout",
     "output_type": "stream",
     "text": [
      "Robert Whittaker by U-DEC\n",
      "CPU times: user 1min 59s, sys: 747 ms, total: 2min\n",
      "Wall time: 2min 2s\n"
     ]
    }
   ],
   "source": [
    "time ufc_predict('Robert Whittaker','Jared Cannonier','October 24, 2020', 'October 24, 2020')"
   ]
  },
  {
   "cell_type": "code",
   "execution_count": 393,
   "metadata": {},
   "outputs": [
    {
     "name": "stdout",
     "output_type": "stream",
     "text": [
      "Zabit Magomedsharipov by U-DEC\n",
      "CPU times: user 2min, sys: 758 ms, total: 2min 1s\n",
      "Wall time: 2min 3s\n"
     ]
    }
   ],
   "source": [
    "time ufc_predict('Zabit Magomedsharipov','Yair Rodriguez','October 24, 2020', 'October 24, 2020')"
   ]
  },
  {
   "cell_type": "code",
   "execution_count": 394,
   "metadata": {},
   "outputs": [
    {
     "name": "stdout",
     "output_type": "stream",
     "text": [
      "Islam Makhachev by KO/TKO\n",
      "CPU times: user 2min 2s, sys: 794 ms, total: 2min 3s\n",
      "Wall time: 2min 6s\n"
     ]
    }
   ],
   "source": [
    "time ufc_predict('Rafael Dos Anjos','Islam Makhachev','October 24, 2020', 'October 24, 2020')"
   ]
  },
  {
   "cell_type": "code",
   "execution_count": 395,
   "metadata": {},
   "outputs": [
    {
     "name": "stdout",
     "output_type": "stream",
     "text": [
      "Dustin Poirier by KO/TKO\n",
      "CPU times: user 2min, sys: 770 ms, total: 2min 1s\n",
      "Wall time: 2min 3s\n"
     ]
    }
   ],
   "source": [
    "time ufc_predict('Tony Ferguson','Dustin Poirier','October 24, 2020', 'October 24, 2020')"
   ]
  },
  {
   "cell_type": "code",
   "execution_count": 396,
   "metadata": {},
   "outputs": [
    {
     "name": "stdout",
     "output_type": "stream",
     "text": [
      "Alexander Volkov by KO/TKO\n",
      "CPU times: user 2min, sys: 787 ms, total: 2min 1s\n",
      "Wall time: 2min 3s\n"
     ]
    }
   ],
   "source": [
    "time ufc_predict('Alexander Volkov','Walt Harris','October 24, 2020', 'October 24, 2020')"
   ]
  },
  {
   "cell_type": "code",
   "execution_count": 314,
   "metadata": {},
   "outputs": [
    {
     "data": {
      "text/plain": [
       "0.3887522961472796"
      ]
     },
     "execution_count": 314,
     "metadata": {},
     "output_type": "execute_result"
    }
   ],
   "source": [
    "mlp=MLPClassifier()\n",
    "Xp=ufc_best_df.iloc[0:2101]\n",
    "yp=ufc_fights_clean_stance.iloc[0:2101]['method']\n",
    "mlp.fit(Xp,yp)\n",
    "cross_val_score(mlp,Xp,yp,cv=23).mean()"
   ]
  },
  {
   "cell_type": "code",
   "execution_count": 313,
   "metadata": {},
   "outputs": [
    {
     "data": {
      "text/plain": [
       "0.37975476730170493"
      ]
     },
     "execution_count": 313,
     "metadata": {},
     "output_type": "execute_result"
    }
   ],
   "source": [
    "mlp=MLPClassifier(hidden_layer_sizes=(100,100),alpha=.0001,solver='adam',random_state=3)\n",
    "Xp=ufc_best_df.iloc[0:2101]\n",
    "yp=ufc_fights_clean_stance.iloc[0:2101]['method']\n",
    "mlp.fit(Xp,yp)\n",
    "cross_val_score(mlp,Xp,yp,cv=23).mean()"
   ]
  },
  {
   "cell_type": "code",
   "execution_count": 315,
   "metadata": {},
   "outputs": [
    {
     "data": {
      "text/plain": [
       "0.3831053430146741"
      ]
     },
     "execution_count": 315,
     "metadata": {},
     "output_type": "execute_result"
    }
   ],
   "source": [
    "mlp=MLPClassifier(hidden_layer_sizes=(100,50),alpha=.0001,solver='adam',random_state=3)\n",
    "Xp=ufc_best_df.iloc[0:2101]\n",
    "yp=ufc_fights_clean_stance.iloc[0:2101]['method']\n",
    "mlp.fit(Xp,yp)\n",
    "cross_val_score(mlp,Xp,yp,cv=23).mean()"
   ]
  },
  {
   "cell_type": "code",
   "execution_count": 316,
   "metadata": {},
   "outputs": [
    {
     "data": {
      "text/plain": [
       "0.37616426203160364"
      ]
     },
     "execution_count": 316,
     "metadata": {},
     "output_type": "execute_result"
    }
   ],
   "source": [
    "mlp=MLPClassifier(hidden_layer_sizes=(100,100),alpha=.0001,solver='lbfgs',random_state=3)\n",
    "Xp=ufc_best_df.iloc[0:2101]\n",
    "yp=ufc_fights_clean_stance.iloc[0:2101]['method']\n",
    "mlp.fit(Xp,yp)\n",
    "cross_val_score(mlp,Xp,yp,cv=23).mean()"
   ]
  },
  {
   "cell_type": "code",
   "execution_count": 317,
   "metadata": {},
   "outputs": [
    {
     "data": {
      "text/plain": [
       "0.39457757806399796"
      ]
     },
     "execution_count": 317,
     "metadata": {},
     "output_type": "execute_result"
    }
   ],
   "source": [
    "mlp=MLPClassifier(hidden_layer_sizes=(100,100),alpha=.0001,solver='sgd',random_state=3)\n",
    "Xp=ufc_best_df.iloc[0:2101]\n",
    "yp=ufc_fights_clean_stance.iloc[0:2101]['method']\n",
    "mlp.fit(Xp,yp)\n",
    "cross_val_score(mlp,Xp,yp,cv=23).mean()"
   ]
  },
  {
   "cell_type": "code",
   "execution_count": 324,
   "metadata": {},
   "outputs": [],
   "source": [
    "mlp=MLPClassifier(hidden_layer_sizes=(100,50),alpha=.0001,solver='sgd',random_state=3)\n",
    "Xp=ufc_best_df.iloc[0:2101]\n",
    "yp=ufc_fights_clean_stance.iloc[0:2101]['method']"
   ]
  },
  {
   "cell_type": "code",
   "execution_count": 327,
   "metadata": {},
   "outputs": [
    {
     "name": "stdout",
     "output_type": "stream",
     "text": [
      "CPU times: user 16.2 s, sys: 254 ms, total: 16.4 s\n",
      "Wall time: 8.92 s\n"
     ]
    },
    {
     "data": {
      "text/plain": [
       "0.39982004107225694"
      ]
     },
     "execution_count": 327,
     "metadata": {},
     "output_type": "execute_result"
    }
   ],
   "source": [
    "time cross_val_score(mlp,Xp,yp,cv=4).mean()"
   ]
  },
  {
   "cell_type": "code",
   "execution_count": 330,
   "metadata": {},
   "outputs": [],
   "source": [
    "mlp=MLPClassifier(hidden_layer_sizes=(100,50),alpha=.0001,solver='lbfgs',random_state=3)\n",
    "Xp=ufc_best_df.iloc[0:2101]\n",
    "yp=ufc_fights_clean_stance.iloc[0:2101]['method']"
   ]
  },
  {
   "cell_type": "code",
   "execution_count": 331,
   "metadata": {},
   "outputs": [
    {
     "name": "stdout",
     "output_type": "stream",
     "text": [
      "CPU times: user 10.3 s, sys: 81 ms, total: 10.4 s\n",
      "Wall time: 5.3 s\n"
     ]
    },
    {
     "data": {
      "text/plain": [
       "0.3739563721253466"
      ]
     },
     "execution_count": 331,
     "metadata": {},
     "output_type": "execute_result"
    }
   ],
   "source": [
    "time cross_val_score(mlp,Xp,yp,cv=4).mean()"
   ]
  },
  {
   "cell_type": "code",
   "execution_count": 332,
   "metadata": {},
   "outputs": [],
   "source": [
    "mlp=MLPClassifier(hidden_layer_sizes=(100,50),alpha=.0001,solver='adam',random_state=3)\n",
    "Xp=ufc_best_df.iloc[0:2101]\n",
    "yp=ufc_fights_clean_stance.iloc[0:2101]['method']"
   ]
  },
  {
   "cell_type": "code",
   "execution_count": 333,
   "metadata": {},
   "outputs": [
    {
     "name": "stdout",
     "output_type": "stream",
     "text": [
      "CPU times: user 17.6 s, sys: 211 ms, total: 17.8 s\n",
      "Wall time: 9.26 s\n"
     ]
    },
    {
     "data": {
      "text/plain": [
       "0.35750653274550986"
      ]
     },
     "execution_count": 333,
     "metadata": {},
     "output_type": "execute_result"
    }
   ],
   "source": [
    "time cross_val_score(mlp,Xp,yp,cv=4).mean()"
   ]
  },
  {
   "cell_type": "code",
   "execution_count": null,
   "metadata": {},
   "outputs": [],
   "source": [
    "#seems sgd is the best solver. Lets figure out the hidden layers thing"
   ]
  },
  {
   "cell_type": "code",
   "execution_count": 334,
   "metadata": {},
   "outputs": [],
   "source": [
    "mlp=MLPClassifier(hidden_layer_sizes=(100,50),alpha=.0001,solver='sgd',random_state=3)\n",
    "Xp=ufc_best_df.iloc[0:2101]\n",
    "yp=ufc_fights_clean_stance.iloc[0:2101]['method']"
   ]
  },
  {
   "cell_type": "code",
   "execution_count": 335,
   "metadata": {},
   "outputs": [
    {
     "name": "stdout",
     "output_type": "stream",
     "text": [
      "CPU times: user 11.5 s, sys: 133 ms, total: 11.6 s\n",
      "Wall time: 6.32 s\n"
     ]
    },
    {
     "data": {
      "text/plain": [
       "0.374077020655341"
      ]
     },
     "execution_count": 335,
     "metadata": {},
     "output_type": "execute_result"
    }
   ],
   "source": [
    "time cross_val_score(mlp,Xp,yp,cv=4).mean()"
   ]
  },
  {
   "cell_type": "code",
   "execution_count": 338,
   "metadata": {},
   "outputs": [
    {
     "data": {
      "text/plain": [
       "0.39982004107225694"
      ]
     },
     "execution_count": 338,
     "metadata": {},
     "output_type": "execute_result"
    }
   ],
   "source": [
    "mlp=MLPClassifier(hidden_layer_sizes=(100,50),alpha=.0001,solver='sgd',random_state=3)\n",
    "Xp=ufc_best_df.iloc[0:2101]\n",
    "yp=ufc_fights_clean_stance.iloc[0:2101]['method']\n",
    "cross_val_score(mlp,Xp,yp,cv=4).mean()"
   ]
  },
  {
   "cell_type": "code",
   "execution_count": 347,
   "metadata": {},
   "outputs": [
    {
     "data": {
      "text/plain": [
       "0.40366295888083614"
      ]
     },
     "execution_count": 347,
     "metadata": {},
     "output_type": "execute_result"
    }
   ],
   "source": [
    "#new highest score\n",
    "mlp=MLPClassifier(hidden_layer_sizes=(110,110),alpha=.0001,solver='sgd',random_state=3)\n",
    "Xp=ufc_best_df.iloc[0:2101]\n",
    "yp=ufc_fights_clean_stance.iloc[0:2101]['method']\n",
    "cross_val_score(mlp,Xp,yp,cv=4).mean()"
   ]
  },
  {
   "cell_type": "code",
   "execution_count": 350,
   "metadata": {},
   "outputs": [
    {
     "data": {
      "text/plain": [
       "0.4065048211433184"
      ]
     },
     "execution_count": 350,
     "metadata": {},
     "output_type": "execute_result"
    }
   ],
   "source": [
    "#adjusting alpha (increases by a little)\n",
    "mlp=MLPClassifier(hidden_layer_sizes=(110,110),alpha=.00001,solver='sgd',random_state=3)\n",
    "Xp=ufc_best_df.iloc[0:2101]\n",
    "yp=ufc_fights_clean_stance.iloc[0:2101]['method']\n",
    "cross_val_score(mlp,Xp,yp,cv=4).mean()"
   ]
  },
  {
   "cell_type": "code",
   "execution_count": 353,
   "metadata": {},
   "outputs": [
    {
     "data": {
      "text/plain": [
       "0.40360679375942266"
      ]
     },
     "execution_count": 353,
     "metadata": {},
     "output_type": "execute_result"
    }
   ],
   "source": [
    "#adjusting alpha (increases by a little)\n",
    "mlp=MLPClassifier(hidden_layer_sizes=(111,109),alpha=.0001,solver='sgd',random_state=3)\n",
    "Xp=ufc_best_df.iloc[0:2101]\n",
    "yp=ufc_fights_clean_stance.iloc[0:2101]['method']\n",
    "cross_val_score(mlp,Xp,yp,cv=4).mean()"
   ]
  },
  {
   "cell_type": "code",
   "execution_count": 365,
   "metadata": {},
   "outputs": [
    {
     "data": {
      "text/plain": [
       "0.38479182074833995"
      ]
     },
     "execution_count": 365,
     "metadata": {},
     "output_type": "execute_result"
    }
   ],
   "source": [
    "#adjusting alpha (increases by a little)\n",
    "mlp=MLPClassifier(hidden_layer_sizes=(110,110),alpha=.0001,solver='sgd',random_state=3)\n",
    "Xp=ufc_best_df.iloc[0:2001]\n",
    "yp=ufc_fights_clean_stance.iloc[0:2001]['method']\n",
    "cross_val_score(mlp,Xp,yp,cv=4).mean()"
   ]
  },
  {
   "cell_type": "code",
   "execution_count": 311,
   "metadata": {},
   "outputs": [
    {
     "data": {
      "text/plain": [
       "0.35063358027171215"
      ]
     },
     "execution_count": 311,
     "metadata": {},
     "output_type": "execute_result"
    }
   ],
   "source": [
    "rfc=RandomForestClassifier()\n",
    "Xr=ufc_best_df.iloc[0:2101]\n",
    "yr=ufc_fights_clean_stance.iloc[0:2101]['method']\n",
    "rfc.fit(Xr,yr)\n",
    "cross_val_score(rfc,Xr,yr,cv=23).mean()"
   ]
  },
  {
   "cell_type": "code",
   "execution_count": 296,
   "metadata": {},
   "outputs": [],
   "source": [
    "#so 71.5% of the time we pick the right winner, 40% of the time we pick the right method, meaning .715*.4=\n",
    "#28.6% of the time we guess both correctly"
   ]
  }
 ],
 "metadata": {
  "kernelspec": {
   "display_name": "Python 2",
   "language": "python",
   "name": "python2"
  },
  "language_info": {
   "codemirror_mode": {
    "name": "ipython",
    "version": 2
   },
   "file_extension": ".py",
   "mimetype": "text/x-python",
   "name": "python",
   "nbconvert_exporter": "python",
   "pygments_lexer": "ipython2",
   "version": "2.7.16"
  }
 },
 "nbformat": 4,
 "nbformat_minor": 2
}
