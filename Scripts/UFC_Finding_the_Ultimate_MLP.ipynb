{
 "cells": [
  {
   "cell_type": "code",
   "execution_count": null,
   "metadata": {},
   "outputs": [],
   "source": [
    "#Run every cell, in order, until instructed otherwise"
   ]
  },
  {
   "cell_type": "code",
   "execution_count": 63,
   "metadata": {},
   "outputs": [],
   "source": [
    "import pandas as pd\n",
    "import numpy as npy\n",
    "from datetime import datetime\n",
    "from datetime import date\n",
    "import matplotlib.pyplot as plt\n",
    "import random\n",
    "import sklearn\n",
    "import scipy\n",
    "from sklearn.linear_model import LogisticRegression\n",
    "from sklearn.ensemble import RandomForestClassifier\n",
    "from sklearn.neural_network import MLPClassifier\n",
    "from sklearn.model_selection import train_test_split, KFold, cross_val_score\n",
    "model=LogisticRegression()\n",
    "import itertools"
   ]
  },
  {
   "cell_type": "code",
   "execution_count": 65,
   "metadata": {},
   "outputs": [],
   "source": [
    "ufc_fights= pd.read_csv('ufc_fights.csv')\n",
    "ufc_fights_crap= pd.read_csv('ufc_fights_crap.csv')\n",
    "ufcfightscrap= pd.read_csv('ufc_fights_crap.csv')\n",
    "ufcfighterscrap=pd.read_csv('fighter_stats.csv',sep=',')"
   ]
  },
  {
   "cell_type": "code",
   "execution_count": null,
   "metadata": {},
   "outputs": [],
   "source": [
    "def subsets(n):\n",
    "    lists=[]\n",
    "    for i in range(1,n+1):\n",
    "        lists.append(i)\n",
    "    subsets=[[]]\n",
    "    n=len(lists)\n",
    "    for i in range(1,n+1):\n",
    "        data = itertools.combinations(lists,i)\n",
    "        subsets.extend(list(data))\n",
    "    return subsets"
   ]
  },
  {
   "cell_type": "code",
   "execution_count": 66,
   "metadata": {},
   "outputs": [],
   "source": [
    "#adding mask to get rid of unknown stance\n",
    "stance_mask_a=ufc_fights['fighter_stance']!=5\n",
    "stance_mask_b=ufc_fights['opponent_stance']!=5\n",
    "ufc_fights_stance=ufc_fights[stance_mask_a&stance_mask_b]\n",
    "\n",
    "#gets rid of all unknown, NaN in ufc_fights_stance\n",
    "mask=ufc_fights_stance['fighter_wins'] != 'unknown'\n",
    "\n",
    "for col in ufc_fights_stance.columns:\n",
    "    mask1=ufc_fights_stance[col] != 'unknown'\n",
    "    mask2=ufc_fights_stance[col] != 'NaN'\n",
    "    mask3=ufc_fights_stance[col] != '--'\n",
    "    mask=mask&mask1&mask2&mask3\n",
    "\n",
    "#gets rid of ufc debut in ufc_fights_stance\n",
    "maska=ufc_fights_stance['fighter_inf_sig_strikes_attempts_avg'] != 0\n",
    "maskb=ufc_fights_stance['opponent_inf_sig_strikes_attempts_avg'] != 0\n",
    "mask=mask&maska&maskb\n",
    "\n",
    "#applies all masks resulting in ufc_fights_clean\n",
    "ufc_fights_clean=ufc_fights_stance[mask]"
   ]
  },
  {
   "cell_type": "code",
   "execution_count": 53,
   "metadata": {},
   "outputs": [],
   "source": [
    "#here we list all of the possible statistics. Next lets identify based on intuition which could help predict method\n",
    "record_statistics=[u'fighter_wins', \n",
    "                   u'fighter_losses',\n",
    "                   u'fighter_L5Y_wins',\n",
    "                   u'fighter_L5Y_losses', \n",
    "                   u'fighter_L2Y_wins', \n",
    "                   u'fighter_L2Y_losses',\n",
    "                    u'fighter_ko_wins',\n",
    "                   u'fighter_ko_losses',\n",
    "                   u'fighter_L5Y_ko_wins',\n",
    "                   u'fighter_L5Y_ko_losses',\n",
    "                   u'fighter_L2Y_ko_wins',\n",
    "                    u'fighter_L2Y_ko_losses',\n",
    "                   u'fighter_sub_wins',\n",
    "                   u'fighter_sub_losses',\n",
    "                   u'fighter_L5Y_sub_wins',\n",
    "                    u'fighter_L5Y_sub_losses', \n",
    "                   u'fighter_L2Y_sub_wins', \n",
    "                   u'fighter_L2Y_sub_losses',\n",
    "                   u'opponent_wins', \n",
    "                   u'opponent_losses',\n",
    "                   u'opponent_L5Y_wins', \n",
    "                   u'opponent_L5Y_losses', \n",
    "                   u'opponent_L2Y_wins', \n",
    "                   u'opponent_L2Y_losses', \n",
    "                    u'opponent_ko_wins', \n",
    "                   u'opponent_ko_losses', \n",
    "                   u'opponent_L5Y_ko_wins', \n",
    "                   u'opponent_L5Y_ko_losses', \n",
    "                   u'opponent_L2Y_ko_wins',\n",
    "                    u'opponent_L2Y_ko_losses', \n",
    "                   u'opponent_sub_wins', \n",
    "                   u'opponent_sub_losses',\n",
    "                   u'opponent_L5Y_sub_wins', \n",
    "                    u'opponent_L5Y_sub_losses', \n",
    "                   u'opponent_L2Y_sub_wins', \n",
    "                   u'opponent_L2Y_sub_losses']\n",
    "\n",
    "physical_stats=[ u'fighter_age',\n",
    "                u'fighter_height',\n",
    "                    u'fighter_reach',  \n",
    "                u'opponent_age',  \n",
    "                u'opponent_height',\n",
    "                    u'opponent_reach']\n",
    "\n",
    "#here is the list of all stats available (besides stance), does not include names or result\n",
    "punch_statistics=[    u'fighter_inf_knockdowns_avg',\n",
    "                    u'fighter_inf_pass_avg',\n",
    "                    u'fighter_inf_reversals_avg',\n",
    "                    u'fighter_inf_sub_attempts_avg',\n",
    "                    u'fighter_inf_takedowns_landed_avg',\n",
    "                    u'fighter_inf_takedowns_attempts_avg',\n",
    "                    u'fighter_inf_sig_strikes_landed_avg',\n",
    "                    u'fighter_inf_sig_strikes_attempts_avg',\n",
    "                    u'fighter_inf_total_strikes_landed_avg',\n",
    "                    u'fighter_inf_total_strikes_attempts_avg',\n",
    "                    u'fighter_inf_head_strikes_landed_avg',\n",
    "                    u'fighter_inf_head_strikes_attempts_avg',\n",
    "                    u'fighter_inf_body_strikes_landed_avg',\n",
    "                    u'fighter_inf_body_strikes_attempts_avg',\n",
    "                    u'fighter_inf_leg_strikes_landed_avg',\n",
    "                    u'fighter_inf_leg_strikes_attempts_avg',\n",
    "                    u'fighter_inf_distance_strikes_landed_avg',\n",
    "                    u'fighter_inf_distance_strikes_attempts_avg',\n",
    "                    u'fighter_inf_clinch_strikes_landed_avg',\n",
    "                    u'fighter_inf_clinch_strikes_attempts_avg',\n",
    "                    u'fighter_inf_ground_strikes_landed_avg',\n",
    "                    u'fighter_inf_ground_strikes_attempts_avg',\n",
    "                \n",
    "                    u'fighter_abs_knockdowns_avg',\n",
    "                    u'fighter_abs_pass_avg',\n",
    "                    u'fighter_abs_reversals_avg',\n",
    "                    u'fighter_abs_sub_attempts_avg',\n",
    "                    u'fighter_abs_takedowns_landed_avg',\n",
    "                    u'fighter_abs_takedowns_attempts_avg',\n",
    "                    u'fighter_abs_sig_strikes_landed_avg',\n",
    "                    u'fighter_abs_sig_strikes_attempts_avg',\n",
    "                    u'fighter_abs_total_strikes_landed_avg',\n",
    "                    u'fighter_abs_total_strikes_attempts_avg',\n",
    "                    u'fighter_abs_head_strikes_landed_avg',\n",
    "                    u'fighter_abs_head_strikes_attempts_avg',\n",
    "                    u'fighter_abs_body_strikes_landed_avg',\n",
    "                    u'fighter_abs_body_strikes_attempts_avg',\n",
    "                    u'fighter_abs_leg_strikes_landed_avg',\n",
    "                    u'fighter_abs_leg_strikes_attempts_avg',\n",
    "                    u'fighter_abs_distance_strikes_landed_avg',\n",
    "                    u'fighter_abs_distance_strikes_attempts_avg',\n",
    "                    u'fighter_abs_clinch_strikes_landed_avg',\n",
    "                    u'fighter_abs_clinch_strikes_attempts_avg',\n",
    "                    u'fighter_abs_ground_strikes_landed_avg',\n",
    "                    u'fighter_abs_ground_strikes_attempts_avg',\n",
    "                    \n",
    "                    u'opponent_inf_knockdowns_avg',\n",
    "                    u'opponent_inf_pass_avg',\n",
    "                    u'opponent_inf_reversals_avg',\n",
    "                    u'opponent_inf_sub_attempts_avg',\n",
    "                    u'opponent_inf_takedowns_landed_avg',\n",
    "                    u'opponent_inf_takedowns_attempts_avg',\n",
    "                    u'opponent_inf_sig_strikes_landed_avg',\n",
    "                    u'opponent_inf_sig_strikes_attempts_avg',\n",
    "                    u'opponent_inf_total_strikes_landed_avg',\n",
    "                    u'opponent_inf_total_strikes_attempts_avg',\n",
    "                    u'opponent_inf_head_strikes_landed_avg',\n",
    "                    u'opponent_inf_head_strikes_attempts_avg',\n",
    "                    u'opponent_inf_body_strikes_landed_avg',\n",
    "                    u'opponent_inf_body_strikes_attempts_avg',\n",
    "                    u'opponent_inf_leg_strikes_landed_avg',\n",
    "                    u'opponent_inf_leg_strikes_attempts_avg',\n",
    "                    u'opponent_inf_distance_strikes_landed_avg',\n",
    "                    u'opponent_inf_distance_strikes_attempts_avg',\n",
    "                    u'opponent_inf_clinch_strikes_landed_avg',\n",
    "                    u'opponent_inf_clinch_strikes_attempts_avg',\n",
    "                    u'opponent_inf_ground_strikes_landed_avg',\n",
    "                    u'opponent_inf_ground_strikes_attempts_avg',\n",
    "                \n",
    "                    u'opponent_abs_knockdowns_avg',\n",
    "                    u'opponent_abs_pass_avg',\n",
    "                    u'opponent_abs_reversals_avg',\n",
    "                    u'opponent_abs_sub_attempts_avg',\n",
    "                    u'opponent_abs_takedowns_landed_avg',\n",
    "                    u'opponent_abs_takedowns_attempts_avg',\n",
    "                    u'opponent_abs_sig_strikes_landed_avg',\n",
    "                    u'opponent_abs_sig_strikes_attempts_avg',\n",
    "                    u'opponent_abs_total_strikes_landed_avg',\n",
    "                    u'opponent_abs_total_strikes_attempts_avg',\n",
    "                    u'opponent_abs_head_strikes_landed_avg',\n",
    "                    u'opponent_abs_head_strikes_attempts_avg',\n",
    "                    u'opponent_abs_body_strikes_landed_avg',\n",
    "                    u'opponent_abs_body_strikes_attempts_avg',\n",
    "                    u'opponent_abs_leg_strikes_landed_avg',\n",
    "                    u'opponent_abs_leg_strikes_attempts_avg',\n",
    "                    u'opponent_abs_distance_strikes_landed_avg',\n",
    "                    u'opponent_abs_distance_strikes_attempts_avg',\n",
    "                    u'opponent_abs_clinch_strikes_landed_avg',\n",
    "                    u'opponent_abs_clinch_strikes_attempts_avg',\n",
    "                    u'opponent_abs_ground_strikes_landed_avg',\n",
    "                    u'opponent_abs_ground_strikes_attempts_avg']"
   ]
  },
  {
   "cell_type": "code",
   "execution_count": 67,
   "metadata": {},
   "outputs": [
    {
     "data": {
      "text/plain": [
       "3620"
      ]
     },
     "execution_count": 67,
     "metadata": {},
     "output_type": "execute_result"
    }
   ],
   "source": [
    "#Getting rid of all fights whose method is DQ, Overturned, or CNC or any draws\n",
    "method_mask1=ufc_fights_clean['method']!='DQ'\n",
    "method_mask2=ufc_fights_clean['method']!='Overturned'\n",
    "method_mask3=ufc_fights_clean['method']!='CNC'\n",
    "method_mask4=ufc_fights_clean['result']!='D'\n",
    "method_mask=method_mask1&method_mask2&method_mask3&method_mask4\n",
    "ufc_fights_clean=ufc_fights_clean[method_mask]\n",
    "method_mask.sum()"
   ]
  },
  {
   "cell_type": "code",
   "execution_count": 55,
   "metadata": {},
   "outputs": [],
   "source": [
    "#Now lets get rid of the different types of decisions (all become DEC)\n",
    "ufc_fights_clean['method'] = ufc_fights_clean['method'].replace(['U-DEC'],'DEC')\n",
    "ufc_fights_clean['method'] = ufc_fights_clean['method'].replace(['S-DEC'],'DEC')\n",
    "ufc_fights_clean['method'] = ufc_fights_clean['method'].replace(['M-DEC'],'DEC')"
   ]
  },
  {
   "cell_type": "code",
   "execution_count": 68,
   "metadata": {},
   "outputs": [
    {
     "data": {
      "text/plain": [
       "20"
      ]
     },
     "execution_count": 68,
     "metadata": {},
     "output_type": "execute_result"
    }
   ],
   "source": [
    "#here we list all of the possible statistics. Next lets identify based on intuition which could help predict method\n",
    "mlp_stats_grouped=[[u'fighter_L5Y_wins',\n",
    "                   u'fighter_L5Y_losses', \n",
    "                   u'fighter_L2Y_wins', \n",
    "                   u'fighter_L2Y_losses',\n",
    "                   u'opponent_L5Y_wins', \n",
    "                   u'opponent_L5Y_losses', \n",
    "                   u'opponent_L2Y_wins', \n",
    "                   u'opponent_L2Y_losses'], \n",
    "                   [u'fighter_ko_wins',\n",
    "                   u'fighter_ko_losses',\n",
    "                   u'opponent_ko_wins', \n",
    "                   u'opponent_ko_losses'],\n",
    "                   [u'fighter_L5Y_ko_wins',\n",
    "                   u'fighter_L5Y_ko_losses',\n",
    "                   u'fighter_L2Y_ko_wins',\n",
    "                    u'fighter_L2Y_ko_losses',\n",
    "                   u'opponent_L5Y_ko_wins', \n",
    "                   u'opponent_L5Y_ko_losses', \n",
    "                   u'opponent_L2Y_ko_wins',\n",
    "                    u'opponent_L2Y_ko_losses'],\n",
    "                   [u'fighter_sub_wins',\n",
    "                   u'fighter_sub_losses',\n",
    "                   u'opponent_sub_wins', \n",
    "                   u'opponent_sub_losses'],\n",
    "                   [u'fighter_L5Y_sub_wins',\n",
    "                    u'fighter_L5Y_sub_losses', \n",
    "                   u'fighter_L2Y_sub_wins', \n",
    "                   u'fighter_L2Y_sub_losses',\n",
    "                   u'opponent_L5Y_sub_wins', \n",
    "                    u'opponent_L5Y_sub_losses', \n",
    "                   u'opponent_L2Y_sub_wins', \n",
    "                   u'opponent_L2Y_sub_losses'],\n",
    "                    [u'fighter_age', \n",
    "                     u'opponent_age'],\n",
    "                    [u'fighter_height',\n",
    "                     u'fighter_reach', \n",
    "                    u'opponent_height',\n",
    "                     u'opponent_reach'],\n",
    "                    [u'fighter_inf_knockdowns_avg',\n",
    "                    u'fighter_abs_knockdowns_avg',\n",
    "                    u'opponent_inf_knockdowns_avg',\n",
    "                    u'opponent_abs_knockdowns_avg'],\n",
    "                    [u'fighter_inf_pass_avg',\n",
    "                    u'fighter_abs_pass_avg',\n",
    "                    u'opponent_inf_pass_avg',\n",
    "                    u'opponent_abs_pass_avg'],\n",
    "                    [u'fighter_inf_reversals_avg',\n",
    "                    u'fighter_abs_reversals_avg',\n",
    "                    u'opponent_inf_reversals_avg',\n",
    "                    u'opponent_abs_reversals_avg'],\n",
    "                    [u'fighter_inf_sub_attempts_avg',\n",
    "                    u'fighter_abs_sub_attempts_avg',\n",
    "                    u'opponent_inf_sub_attempts_avg',\n",
    "                    u'opponent_abs_sub_attempts_avg'],\n",
    "                    [u'fighter_inf_takedowns_landed_avg',\n",
    "                    u'fighter_inf_takedowns_attempts_avg',\n",
    "                    u'fighter_abs_takedowns_landed_avg',\n",
    "                    u'fighter_abs_takedowns_attempts_avg',\n",
    "                    u'opponent_inf_takedowns_landed_avg',\n",
    "                    u'opponent_inf_takedowns_attempts_avg',\n",
    "                    u'opponent_abs_takedowns_landed_avg',\n",
    "                    u'opponent_abs_takedowns_attempts_avg'],\n",
    "                    [u'fighter_inf_sig_strikes_landed_avg',\n",
    "                    u'fighter_inf_sig_strikes_attempts_avg',\n",
    "                    u'fighter_abs_sig_strikes_landed_avg',\n",
    "                    u'fighter_abs_sig_strikes_attempts_avg',\n",
    "                    u'opponent_inf_sig_strikes_landed_avg',\n",
    "                    u'opponent_inf_sig_strikes_attempts_avg',\n",
    "                    u'opponent_abs_sig_strikes_landed_avg',\n",
    "                    u'opponent_abs_sig_strikes_attempts_avg'],\n",
    "                    [u'fighter_inf_total_strikes_landed_avg',\n",
    "                    u'fighter_inf_total_strikes_attempts_avg',\n",
    "                    u'fighter_abs_total_strikes_landed_avg',\n",
    "                    u'fighter_abs_total_strikes_attempts_avg',\n",
    "                    u'opponent_inf_total_strikes_landed_avg',\n",
    "                    u'opponent_inf_total_strikes_attempts_avg',\n",
    "                    u'opponent_abs_total_strikes_landed_avg',\n",
    "                    u'opponent_abs_total_strikes_attempts_avg'],\n",
    "                    [u'fighter_inf_head_strikes_landed_avg',\n",
    "                    u'fighter_inf_head_strikes_attempts_avg',\n",
    "                    u'fighter_abs_head_strikes_landed_avg',\n",
    "                    u'fighter_abs_head_strikes_attempts_avg',\n",
    "                    u'opponent_inf_head_strikes_landed_avg',\n",
    "                    u'opponent_inf_head_strikes_attempts_avg',\n",
    "                    u'opponent_abs_head_strikes_landed_avg',\n",
    "                    u'opponent_abs_head_strikes_attempts_avg'],\n",
    "                    [u'fighter_inf_body_strikes_landed_avg',\n",
    "                    u'fighter_inf_body_strikes_attempts_avg',\n",
    "                    u'fighter_abs_body_strikes_landed_avg',\n",
    "                    u'fighter_abs_body_strikes_attempts_avg',\n",
    "                    u'opponent_inf_body_strikes_landed_avg',\n",
    "                    u'opponent_inf_body_strikes_attempts_avg',\n",
    "                    u'opponent_abs_body_strikes_landed_avg',\n",
    "                    u'opponent_abs_body_strikes_attempts_avg'],\n",
    "                    [u'fighter_inf_leg_strikes_landed_avg',\n",
    "                    u'fighter_inf_leg_strikes_attempts_avg',\n",
    "                    u'fighter_abs_leg_strikes_landed_avg',\n",
    "                    u'fighter_abs_leg_strikes_attempts_avg',\n",
    "                    u'opponent_inf_leg_strikes_landed_avg',\n",
    "                    u'opponent_inf_leg_strikes_attempts_avg',\n",
    "                    u'opponent_abs_leg_strikes_landed_avg',\n",
    "                    u'opponent_abs_leg_strikes_attempts_avg'],\n",
    "                    [u'fighter_inf_distance_strikes_landed_avg',\n",
    "                    u'fighter_inf_distance_strikes_attempts_avg',\n",
    "                    u'fighter_abs_distance_strikes_landed_avg',\n",
    "                    u'fighter_abs_distance_strikes_attempts_avg',\n",
    "                    u'opponent_inf_distance_strikes_landed_avg',\n",
    "                    u'opponent_inf_distance_strikes_attempts_avg',\n",
    "                    u'opponent_abs_distance_strikes_landed_avg',\n",
    "                    u'opponent_abs_distance_strikes_attempts_avg'],\n",
    "                    [u'fighter_inf_clinch_strikes_landed_avg',\n",
    "                    u'fighter_inf_clinch_strikes_attempts_avg',\n",
    "                    u'fighter_abs_clinch_strikes_landed_avg',\n",
    "                    u'fighter_abs_clinch_strikes_attempts_avg',\n",
    "                    u'opponent_inf_clinch_strikes_landed_avg',\n",
    "                    u'opponent_inf_clinch_strikes_attempts_avg',\n",
    "                    u'opponent_abs_clinch_strikes_landed_avg',\n",
    "                    u'opponent_abs_clinch_strikes_attempts_avg'],\n",
    "                    [u'fighter_inf_ground_strikes_landed_avg',\n",
    "                    u'fighter_inf_ground_strikes_attempts_avg',\n",
    "                    u'fighter_abs_ground_strikes_landed_avg',\n",
    "                    u'fighter_abs_ground_strikes_attempts_avg',\n",
    "                    u'opponent_inf_ground_strikes_landed_avg',\n",
    "                    u'opponent_inf_ground_strikes_attempts_avg',\n",
    "                    u'opponent_abs_ground_strikes_landed_avg',\n",
    "                    u'opponent_abs_ground_strikes_attempts_avg']\n",
    "                    ]\n",
    "len(mlp_stats_grouped)"
   ]
  },
  {
   "cell_type": "code",
   "execution_count": 69,
   "metadata": {},
   "outputs": [],
   "source": [
    "mlp_stats=[]\n",
    "for stat in mlp_stats_grouped:\n",
    "    mlp_stats.extend(stat)"
   ]
  },
  {
   "cell_type": "code",
   "execution_count": 45,
   "metadata": {},
   "outputs": [
    {
     "data": {
      "text/plain": [
       "0.5059780338020753"
      ]
     },
     "execution_count": 45,
     "metadata": {},
     "output_type": "execute_result"
    }
   ],
   "source": [
    "#taking all stats gives us under .505 (this is bad...)\n",
    "mlp=MLPClassifier(max_iter=1000,alpha=.00001,solver='sgd',random_state=3)\n",
    "Xo=ufc_fights_clean[mlp_stats].iloc[0:2091]\n",
    "yo=ufc_fights_clean.iloc[0:2091]['method']\n",
    "cross_val_score(mlp,Xo,yo,cv=5).mean()"
   ]
  },
  {
   "cell_type": "code",
   "execution_count": 40,
   "metadata": {},
   "outputs": [
    {
     "name": "stdout",
     "output_type": "stream",
     "text": [
      "[[u'fighter_L5Y_wins', u'fighter_L5Y_losses', u'fighter_L2Y_wins', u'fighter_L2Y_losses', u'opponent_L5Y_wins', u'opponent_L5Y_losses', u'opponent_L2Y_wins', u'opponent_L2Y_losses'], 0.49449700382891776]\n",
      "[[u'fighter_ko_wins', u'fighter_ko_losses', u'opponent_ko_wins', u'opponent_ko_losses'], 0.5829696147616513]\n",
      "[[u'fighter_L5Y_ko_wins', u'fighter_L5Y_ko_losses', u'fighter_L2Y_ko_wins', u'fighter_L2Y_ko_losses', u'opponent_L5Y_ko_wins', u'opponent_L5Y_ko_losses', u'opponent_L2Y_ko_wins', u'opponent_L2Y_ko_losses'], 0.5179432587581487]\n",
      "[[u'fighter_sub_wins', u'fighter_sub_losses', u'opponent_sub_wins', u'opponent_sub_losses'], 0.5293876593236151]\n",
      "[[u'fighter_L5Y_sub_wins', u'fighter_L5Y_sub_losses', u'fighter_L2Y_sub_wins', u'fighter_L2Y_sub_losses', u'opponent_L5Y_sub_wins', u'opponent_L5Y_sub_losses', u'opponent_L2Y_sub_wins', u'opponent_L2Y_sub_losses'], 0.49593814208776177]\n",
      "[[u'fighter_age', u'opponent_age'], 0.5007182797914413]\n",
      "[[u'fighter_height', u'fighter_reach', u'opponent_height', u'opponent_reach'], 0.5011956067604151]\n",
      "[[u'fighter_inf_knockdowns_avg', u'fighter_abs_knockdowns_avg', u'opponent_inf_knockdowns_avg', u'opponent_abs_knockdowns_avg'], 0.5011956067604151]\n",
      "[[u'fighter_inf_pass_avg', u'fighter_abs_pass_avg', u'opponent_inf_pass_avg', u'opponent_abs_pass_avg'], 0.5011956067604151]\n",
      "[[u'fighter_inf_reversals_avg', u'fighter_abs_reversals_avg', u'opponent_inf_reversals_avg', u'opponent_abs_reversals_avg'], 0.5011956067604151]\n",
      "[[u'fighter_inf_sub_attempts_avg', u'fighter_abs_sub_attempts_avg', u'opponent_inf_sub_attempts_avg', u'opponent_abs_sub_attempts_avg'], 0.5011956067604151]\n",
      "[[u'fighter_inf_takedowns_landed_avg', u'fighter_inf_takedowns_attempts_avg', u'fighter_abs_takedowns_landed_avg', u'fighter_abs_takedowns_attempts_avg', u'opponent_inf_takedowns_landed_avg', u'opponent_inf_takedowns_attempts_avg', u'opponent_abs_takedowns_landed_avg', u'opponent_abs_takedowns_attempts_avg'], 0.5011956067604151]\n",
      "[[u'fighter_inf_sig_strikes_landed_avg', u'fighter_inf_sig_strikes_attempts_avg', u'fighter_abs_sig_strikes_landed_avg', u'fighter_abs_sig_strikes_attempts_avg', u'opponent_inf_sig_strikes_landed_avg', u'opponent_inf_sig_strikes_attempts_avg', u'opponent_abs_sig_strikes_landed_avg', u'opponent_abs_sig_strikes_attempts_avg'], 0.49448555713901426]\n",
      "[[u'fighter_inf_total_strikes_landed_avg', u'fighter_inf_total_strikes_attempts_avg', u'fighter_abs_total_strikes_landed_avg', u'fighter_abs_total_strikes_attempts_avg', u'opponent_inf_total_strikes_landed_avg', u'opponent_inf_total_strikes_attempts_avg', u'opponent_abs_total_strikes_landed_avg', u'opponent_abs_total_strikes_attempts_avg'], 0.5002317954705447]\n",
      "[[u'fighter_inf_head_strikes_landed_avg', u'fighter_inf_head_strikes_attempts_avg', u'fighter_abs_head_strikes_landed_avg', u'fighter_abs_head_strikes_attempts_avg', u'opponent_inf_head_strikes_landed_avg', u'opponent_inf_head_strikes_attempts_avg', u'opponent_abs_head_strikes_landed_avg', u'opponent_abs_head_strikes_attempts_avg'], 0.5045574995850575]\n",
      "[[u'fighter_inf_body_strikes_landed_avg', u'fighter_inf_body_strikes_attempts_avg', u'fighter_abs_body_strikes_landed_avg', u'fighter_abs_body_strikes_attempts_avg', u'opponent_inf_body_strikes_landed_avg', u'opponent_inf_body_strikes_attempts_avg', u'opponent_abs_body_strikes_landed_avg', u'opponent_abs_body_strikes_attempts_avg'], 0.5016729337293888]\n",
      "[[u'fighter_inf_leg_strikes_landed_avg', u'fighter_inf_leg_strikes_attempts_avg', u'fighter_abs_leg_strikes_landed_avg', u'fighter_abs_leg_strikes_attempts_avg', u'opponent_inf_leg_strikes_landed_avg', u'opponent_inf_leg_strikes_attempts_avg', u'opponent_abs_leg_strikes_landed_avg', u'opponent_abs_leg_strikes_attempts_avg'], 0.5011956067604151]\n",
      "[[u'fighter_inf_distance_strikes_landed_avg', u'fighter_inf_distance_strikes_attempts_avg', u'fighter_abs_distance_strikes_landed_avg', u'fighter_abs_distance_strikes_attempts_avg', u'opponent_inf_distance_strikes_landed_avg', u'opponent_inf_distance_strikes_attempts_avg', u'opponent_abs_distance_strikes_landed_avg', u'opponent_abs_distance_strikes_attempts_avg'], 0.498811261253527]\n",
      "[[u'fighter_inf_clinch_strikes_landed_avg', u'fighter_inf_clinch_strikes_attempts_avg', u'fighter_abs_clinch_strikes_landed_avg', u'fighter_abs_clinch_strikes_attempts_avg', u'opponent_inf_clinch_strikes_landed_avg', u'opponent_inf_clinch_strikes_attempts_avg', u'opponent_abs_clinch_strikes_landed_avg', u'opponent_abs_clinch_strikes_attempts_avg'], 0.5026344556812783]\n",
      "[[u'fighter_inf_ground_strikes_landed_avg', u'fighter_inf_ground_strikes_attempts_avg', u'fighter_abs_ground_strikes_landed_avg', u'fighter_abs_ground_strikes_attempts_avg', u'opponent_inf_ground_strikes_landed_avg', u'opponent_inf_ground_strikes_attempts_avg', u'opponent_abs_ground_strikes_landed_avg', u'opponent_abs_ground_strikes_attempts_avg'], 0.5016798017433308]\n"
     ]
    }
   ],
   "source": [
    "mlp_single_scores=[]\n",
    "mlp=MLPClassifier(max_iter=1000,alpha=.0001,solver='sgd',random_state=3)\n",
    "for stat in mlp_stats_grouped:\n",
    "    Xo=ufc_fights_clean[stat].iloc[0:2091]\n",
    "    yo=ufc_fights_clean.iloc[0:2091]['method']\n",
    "    mlp_single_scores.append([stat,cross_val_score(mlp,Xo,yo,cv=5).mean()])\n",
    "    print([stat,cross_val_score(mlp,Xo,yo,cv=5).mean()])"
   ]
  },
  {
   "cell_type": "code",
   "execution_count": 43,
   "metadata": {},
   "outputs": [
    {
     "data": {
      "text/plain": [
       "[0.5829696147616513,\n",
       " 0.5179432587581487,\n",
       " 0.5293876593236151,\n",
       " 0.5045574995850575,\n",
       " 0.5026344556812783]"
      ]
     },
     "execution_count": 43,
     "metadata": {},
     "output_type": "execute_result"
    }
   ],
   "source": [
    "[score[1] for score in mlp_single_scores if score[1]>.502]"
   ]
  },
  {
   "cell_type": "code",
   "execution_count": 58,
   "metadata": {},
   "outputs": [],
   "source": [
    "mlp_base_set=[]\n",
    "for i in (1,2,3,14,18):\n",
    "    mlp_base_set.extend(mlp_stats_grouped[i])"
   ]
  },
  {
   "cell_type": "code",
   "execution_count": 59,
   "metadata": {},
   "outputs": [],
   "source": [
    "mlp_base_set_grouped=[]\n",
    "for i in (1,2,3,14,18):\n",
    "    mlp_base_set_grouped.append(mlp_stats_grouped[i])"
   ]
  },
  {
   "cell_type": "code",
   "execution_count": 60,
   "metadata": {},
   "outputs": [],
   "source": [
    "mlp_add_backs=[]\n",
    "for i in (0,4,5,6,7,8,9,10,11,12,13,15,16,17,19):\n",
    "    mlp_add_backs.append(mlp_stats_grouped[i]) "
   ]
  },
  {
   "cell_type": "code",
   "execution_count": 61,
   "metadata": {},
   "outputs": [],
   "source": [
    "mlp=MLPClassifier(max_iter=2000,alpha=.001,solver='sgd',random_state=3)"
   ]
  },
  {
   "cell_type": "code",
   "execution_count": 62,
   "metadata": {},
   "outputs": [
    {
     "data": {
      "text/plain": [
       "0.6427453741064428"
      ]
     },
     "execution_count": 62,
     "metadata": {},
     "output_type": "execute_result"
    }
   ],
   "source": [
    "#COOL... WE ALMOST IMMEDIATELY GOT A HUGE IMPROVEMENT\n",
    "Xo=ufc_fights_clean[mlp_base_set].iloc[0:2091]\n",
    "yo=ufc_fights_clean.iloc[0:2091]['method']\n",
    "cross_val_score(mlp,Xo,yo,cv=5).mean()"
   ]
  },
  {
   "cell_type": "code",
   "execution_count": 56,
   "metadata": {},
   "outputs": [
    {
     "name": "stdout",
     "output_type": "stream",
     "text": [
      "CPU times: user 1min 3s, sys: 367 ms, total: 1min 3s\n",
      "Wall time: 32.6 s\n"
     ]
    },
    {
     "data": {
      "text/plain": [
       "0.6307901657839021"
      ]
     },
     "execution_count": 56,
     "metadata": {},
     "output_type": "execute_result"
    }
   ],
   "source": [
    "time cross_val_score(mlp,Xo,yo,cv=4).mean()"
   ]
  },
  {
   "cell_type": "code",
   "execution_count": 49,
   "metadata": {},
   "outputs": [],
   "source": [
    "#now lets do some add backs"
   ]
  },
  {
   "cell_type": "code",
   "execution_count": 50,
   "metadata": {},
   "outputs": [
    {
     "data": {
      "text/plain": [
       "15"
      ]
     },
     "execution_count": 50,
     "metadata": {},
     "output_type": "execute_result"
    }
   ],
   "source": [
    "len(mlp_add_backs)"
   ]
  },
  {
   "cell_type": "code",
   "execution_count": null,
   "metadata": {},
   "outputs": [],
   "source": [
    "#clearly cant do all 2^15 (would take years) so lets see whats reasonable. It takes 33 seconds to do the simplest\n",
    "#computation with cv=4. If we go up to subsets of size 2, it will take 120*33/60/60=1.1 hours"
   ]
  },
  {
   "cell_type": "code",
   "execution_count": null,
   "metadata": {},
   "outputs": [],
   "source": [
    "Xo=ufc_fights_clean[mlp_base_set].iloc[0:2091]\n",
    "cross_val_score(mlp,Xo,yo,cv=5).mean()"
   ]
  },
  {
   "cell_type": "code",
   "execution_count": null,
   "metadata": {},
   "outputs": [
    {
     "name": "stdout",
     "output_type": "stream",
     "text": [
      "[[], 0.6307901657839021]\n",
      "[(1,), 0.6135725954740922]\n",
      "[(2,), 0.650402372109038]\n",
      "[(3,), 0.6001745382885357]\n",
      "[(4,), 0.5011959444114782]\n",
      "[(5,), 0.632225115931518]\n",
      "[(6,), 0.6346170047544742]\n",
      "[(7,), 0.6331902961839666]\n",
      "[(8,), 0.6355730276990249]\n",
      "[(9,), 0.6250540281165982]\n",
      "[(10,), 0.610225599437375]\n",
      "[(11,), 0.603050848699296]\n",
      "[(12,), 0.6303185644271554]\n",
      "[(13,), 0.6240980051720475]\n",
      "[(14,), 0.6121468026343744]\n"
     ]
    }
   ],
   "source": [
    "#this adds subsets of size 1 from mlp_add_backs to mlp_base_set\n",
    "mlp=MLPClassifier(max_iter=2000,alpha=.001,solver='sgd',random_state=3)\n",
    "yo=ufc_fights_clean.iloc[0:2091]['method']\n",
    "mlp_data_points=[]\n",
    "SUB=[S for S in subsets(15) if len(S)<2]\n",
    "for S in SUB:\n",
    "    candidate=[]\n",
    "    candidate.extend(mlp_base_set)\n",
    "    for i in S:\n",
    "        candidate.extend(mlp_add_backs[i-1])\n",
    "    Xo=ufc_fights_clean[candidate].iloc[0:2091]\n",
    "    point=[S,cross_val_score(mlp,Xo,yo,cv=4).mean()]\n",
    "    mlp_data_points.append(point)\n",
    "    print(point)"
   ]
  },
  {
   "cell_type": "code",
   "execution_count": 18,
   "metadata": {},
   "outputs": [],
   "source": [
    "its=[8,4,3,9,2]"
   ]
  },
  {
   "cell_type": "code",
   "execution_count": 19,
   "metadata": {},
   "outputs": [],
   "source": [
    "its.remove(4)"
   ]
  },
  {
   "cell_type": "code",
   "execution_count": 20,
   "metadata": {},
   "outputs": [
    {
     "data": {
      "text/plain": [
       "[8, 3, 9, 2]"
      ]
     },
     "execution_count": 20,
     "metadata": {},
     "output_type": "execute_result"
    }
   ],
   "source": [
    "its"
   ]
  },
  {
   "cell_type": "code",
   "execution_count": 21,
   "metadata": {},
   "outputs": [
    {
     "data": {
      "text/plain": [
       "[u'fighter_L5Y_sub_wins',\n",
       " u'fighter_L5Y_sub_losses',\n",
       " u'fighter_L2Y_sub_wins',\n",
       " u'fighter_L2Y_sub_losses',\n",
       " u'opponent_L5Y_sub_wins',\n",
       " u'opponent_L5Y_sub_losses',\n",
       " u'opponent_L2Y_sub_wins',\n",
       " u'opponent_L2Y_sub_losses']"
      ]
     },
     "execution_count": 21,
     "metadata": {},
     "output_type": "execute_result"
    }
   ],
   "source": [
    "mlp_add_backs[1]"
   ]
  },
  {
   "cell_type": "code",
   "execution_count": 14,
   "metadata": {},
   "outputs": [],
   "source": [
    "#the highest is 2 (actually the index 1 because of the stupid way I wrote it) with .65 so we add that\n",
    "#removing from mlp_add_backs and adding to mlp_base_set\n",
    "mlp_base_set.extend(mlp_add_backs[1])\n",
    "mlp_add_backs.remove(mlp_add_backs[1])"
   ]
  },
  {
   "cell_type": "code",
   "execution_count": 15,
   "metadata": {},
   "outputs": [
    {
     "data": {
      "text/plain": [
       "0.6695352071564705"
      ]
     },
     "execution_count": 15,
     "metadata": {},
     "output_type": "execute_result"
    }
   ],
   "source": [
    "#COOL... WOWWW THIS IS GETTING GOOD. ALMOST AT OUR GOAL\n",
    "Xo=ufc_fights_clean[mlp_base_set].iloc[0:2091]\n",
    "yo=ufc_fights_clean.iloc[0:2091]['method']\n",
    "cross_val_score(mlp,Xo,yo,cv=5).mean()"
   ]
  },
  {
   "cell_type": "code",
   "execution_count": 53,
   "metadata": {},
   "outputs": [
    {
     "data": {
      "text/plain": [
       "0.6532651492802782"
      ]
     },
     "execution_count": 53,
     "metadata": {},
     "output_type": "execute_result"
    }
   ],
   "source": [
    "#COOL... WOWWW THIS IS GETTING GOOD. ALMOST AT OUR GOAL\n",
    "Xo=ufc_fights_clean[mlp_base_set].iloc[0:2091]\n",
    "yo=ufc_fights_clean.iloc[0:2091]['method']\n",
    "cross_val_score(mlp,Xo,yo,cv=6).mean()"
   ]
  },
  {
   "cell_type": "code",
   "execution_count": 54,
   "metadata": {},
   "outputs": [
    {
     "data": {
      "text/plain": [
       "0.6585091967117063"
      ]
     },
     "execution_count": 54,
     "metadata": {},
     "output_type": "execute_result"
    }
   ],
   "source": [
    "#COOL... WOWWW THIS IS GETTING GOOD. ALMOST AT OUR GOAL\n",
    "Xo=ufc_fights_clean[mlp_base_set].iloc[0:2091]\n",
    "yo=ufc_fights_clean.iloc[0:2091]['method']\n",
    "cross_val_score(mlp,Xo,yo,cv=7).mean()"
   ]
  },
  {
   "cell_type": "code",
   "execution_count": 55,
   "metadata": {},
   "outputs": [
    {
     "data": {
      "text/plain": [
       "0.648520443976485"
      ]
     },
     "execution_count": 55,
     "metadata": {},
     "output_type": "execute_result"
    }
   ],
   "source": [
    "#COOL... WOWWW THIS IS GETTING GOOD. ALMOST AT OUR GOAL\n",
    "Xo=ufc_fights_clean[mlp_base_set].iloc[0:2091]\n",
    "yo=ufc_fights_clean.iloc[0:2091]['method']\n",
    "cross_val_score(mlp,Xo,yo,cv=8).mean()"
   ]
  },
  {
   "cell_type": "code",
   "execution_count": 56,
   "metadata": {},
   "outputs": [
    {
     "data": {
      "text/plain": [
       "0.6656619366031827"
      ]
     },
     "execution_count": 56,
     "metadata": {},
     "output_type": "execute_result"
    }
   ],
   "source": [
    "#COOL... WOWWW THIS IS GETTING GOOD. ALMOST AT OUR GOAL\n",
    "Xo=ufc_fights_clean[mlp_base_set].iloc[0:2091]\n",
    "yo=ufc_fights_clean.iloc[0:2091]['method']\n",
    "cross_val_score(mlp,Xo,yo,cv=9).mean()"
   ]
  },
  {
   "cell_type": "code",
   "execution_count": 57,
   "metadata": {},
   "outputs": [
    {
     "data": {
      "text/plain": [
       "0.6632227802708353"
      ]
     },
     "execution_count": 57,
     "metadata": {},
     "output_type": "execute_result"
    }
   ],
   "source": [
    "#COOL... WOWWW THIS IS GETTING GOOD. ALMOST AT OUR GOAL\n",
    "Xo=ufc_fights_clean[mlp_base_set].iloc[0:2091]\n",
    "yo=ufc_fights_clean.iloc[0:2091]['method']\n",
    "cross_val_score(mlp,Xo,yo,cv=10).mean()"
   ]
  },
  {
   "cell_type": "code",
   "execution_count": 58,
   "metadata": {},
   "outputs": [
    {
     "data": {
      "text/plain": [
       "0.6647780207300736"
      ]
     },
     "execution_count": 58,
     "metadata": {},
     "output_type": "execute_result"
    }
   ],
   "source": [
    "#COOL... WOWWW THIS IS GETTING GOOD. ALMOST AT OUR GOAL\n",
    "Xo=ufc_fights_clean[mlp_base_set].iloc[0:2091]\n",
    "yo=ufc_fights_clean.iloc[0:2091]['method']\n",
    "cross_val_score(mlp,Xo,yo,cv=11).mean()"
   ]
  },
  {
   "cell_type": "code",
   "execution_count": null,
   "metadata": {},
   "outputs": [],
   "source": [
    "#we tried another round of adding one or two element sets to mlp_base_set to no avail. Now lets try refining\n",
    "#mlp_base_set"
   ]
  },
  {
   "cell_type": "code",
   "execution_count": 17,
   "metadata": {},
   "outputs": [],
   "source": [
    "mlp_base_set_grouped_refined=[\n",
    "    [u'fighter_ko_wins',\n",
    "    u'opponent_ko_wins'],\n",
    "  [u'fighter_ko_losses',\n",
    "  u'opponent_ko_losses'],\n",
    " [u'fighter_L5Y_ko_wins',\n",
    "  u'opponent_L5Y_ko_wins'],\n",
    "  [u'fighter_L5Y_ko_losses',\n",
    "  u'opponent_L5Y_ko_losses'],\n",
    "  [u'fighter_L2Y_ko_wins',\n",
    "   u'opponent_L2Y_ko_wins'],\n",
    "  [u'fighter_L2Y_ko_losses',\n",
    "    u'opponent_L2Y_ko_losses'],\n",
    " [u'fighter_sub_wins',\n",
    "  u'opponent_sub_wins'],\n",
    "  [u'fighter_sub_losses',\n",
    "  u'opponent_sub_losses'],\n",
    " [u'fighter_inf_head_strikes_landed_avg',\n",
    "  u'opponent_inf_head_strikes_landed_avg'],\n",
    "  [u'fighter_abs_head_strikes_landed_avg',\n",
    "  u'opponent_abs_head_strikes_landed_avg'],\n",
    "  [u'fighter_inf_head_strikes_attempts_avg',\n",
    "   u'opponent_inf_head_strikes_attempts_avg'],\n",
    "  [u'fighter_abs_head_strikes_attempts_avg',\n",
    "  u'opponent_abs_head_strikes_attempts_avg'],\n",
    " [u'fighter_inf_clinch_strikes_landed_avg',\n",
    "  u'opponent_inf_clinch_strikes_landed_avg'],\n",
    "  [u'fighter_abs_clinch_strikes_landed_avg',\n",
    "  u'opponent_abs_clinch_strikes_landed_avg'],\n",
    "  [u'fighter_inf_clinch_strikes_attempts_avg',\n",
    "   u'opponent_inf_clinch_strikes_attempts_avg'],\n",
    "  [u'fighter_abs_clinch_strikes_attempts_avg',\n",
    "  u'opponent_abs_clinch_strikes_attempts_avg'],\n",
    "  [u'fighter_L5Y_sub_wins',\n",
    "   u'opponent_L5Y_sub_wins'],\n",
    "  [u'fighter_L5Y_sub_losses',\n",
    "   u'opponent_L5Y_sub_losses'],\n",
    "  [u'fighter_L2Y_sub_wins',\n",
    "     u'opponent_L2Y_sub_wins'],\n",
    "  [u'fighter_L2Y_sub_losses',\n",
    "  u'opponent_L2Y_sub_losses']]"
   ]
  },
  {
   "cell_type": "code",
   "execution_count": 18,
   "metadata": {},
   "outputs": [
    {
     "data": {
      "text/plain": [
       "20"
      ]
     },
     "execution_count": 18,
     "metadata": {},
     "output_type": "execute_result"
    }
   ],
   "source": [
    "len(mlp_base_set_grouped_refined)"
   ]
  },
  {
   "cell_type": "code",
   "execution_count": 19,
   "metadata": {},
   "outputs": [
    {
     "name": "stdout",
     "output_type": "stream",
     "text": [
      "[0, 0.5973031598587478]\n"
     ]
    },
    {
     "name": "stderr",
     "output_type": "stream",
     "text": [
      "/opt/anaconda2/lib/python2.7/site-packages/sklearn/neural_network/multilayer_perceptron.py:562: ConvergenceWarning: Stochastic Optimizer: Maximum iterations (2000) reached and the optimization hasn't converged yet.\n",
      "  % self.max_iter, ConvergenceWarning)\n"
     ]
    },
    {
     "name": "stdout",
     "output_type": "stream",
     "text": [
      "[1, 0.5925390475209331]\n",
      "[2, 0.6446294992645502]\n",
      "[3, 0.6355305254603]\n",
      "[4, 0.6522827561339949]\n",
      "[5, 0.6570583151617131]\n",
      "[6, 0.612100295896934]\n",
      "[7, 0.5911070666140119]\n",
      "[8, 0.6599451703553625]\n",
      "[9, 0.6412904998197148]\n",
      "[10, 0.6508439072131317]\n",
      "[11, 0.6451251409373695]\n",
      "[12, 0.6408108835127602]\n",
      "[13, 0.6431929396816675]\n",
      "[14, 0.6513212341821053]\n",
      "[15, 0.6484824550860504]\n",
      "[16, 0.6360192991191772]\n",
      "[17, 0.6494233729961139]\n",
      "[18, 0.6494119263062104]\n",
      "[19, 0.641301946509618]\n"
     ]
    }
   ],
   "source": [
    "test_scores=[]\n",
    "test=[]\n",
    "for j in range(len(mlp_base_set_grouped_refined)):\n",
    "    test.extend(mlp_base_set_grouped_refined[j])\n",
    "Xo=ufc_fights_clean[test].iloc[0:2091]\n",
    "yo=ufc_fights_clean.iloc[0:2091]['method']\n",
    "test_scores.append(['empty',cross_val_score(mlp,Xo,yo,cv=5).mean()])\n",
    "for i in range(len(mlp_base_set_grouped_refined)):\n",
    "    test=[]\n",
    "    for j in range(len(mlp_base_set_grouped_refined)):\n",
    "        if j!=i:\n",
    "            test.extend(mlp_base_set_grouped_refined[j])\n",
    "    Xo=ufc_fights_clean[test].iloc[0:2091]\n",
    "    yo=ufc_fights_clean.iloc[0:2091]['method']\n",
    "    test_scores.append([i,cross_val_score(mlp,Xo,yo,cv=5).mean()])\n",
    "    print([i,cross_val_score(mlp,Xo,yo,cv=5).mean()])"
   ]
  },
  {
   "cell_type": "code",
   "execution_count": 20,
   "metadata": {},
   "outputs": [
    {
     "data": {
      "text/plain": [
       "['empty', 0.658529214814306]"
      ]
     },
     "execution_count": 20,
     "metadata": {},
     "output_type": "execute_result"
    }
   ],
   "source": [
    "#Why is this smaller than our .669?\n",
    "test_scores[0]"
   ]
  },
  {
   "cell_type": "code",
   "execution_count": 21,
   "metadata": {},
   "outputs": [],
   "source": [
    "test=[]\n",
    "for j in range(len(mlp_base_set_grouped_refined)):\n",
    "    test.extend(mlp_base_set_grouped_refined[j])"
   ]
  },
  {
   "cell_type": "code",
   "execution_count": 23,
   "metadata": {},
   "outputs": [
    {
     "data": {
      "text/plain": [
       "True"
      ]
     },
     "execution_count": 23,
     "metadata": {},
     "output_type": "execute_result"
    }
   ],
   "source": [
    "set(test)==set(mlp_base_set)"
   ]
  },
  {
   "cell_type": "code",
   "execution_count": 24,
   "metadata": {},
   "outputs": [
    {
     "data": {
      "text/plain": [
       "False"
      ]
     },
     "execution_count": 24,
     "metadata": {},
     "output_type": "execute_result"
    }
   ],
   "source": [
    "#it seems that the order matters quite a lot...\n",
    "test==mlp_base_set"
   ]
  },
  {
   "cell_type": "code",
   "execution_count": 26,
   "metadata": {},
   "outputs": [
    {
     "data": {
      "text/plain": [
       "[u'fighter_inf_head_strikes_landed_avg',\n",
       " u'opponent_inf_head_strikes_landed_avg']"
      ]
     },
     "execution_count": 26,
     "metadata": {},
     "output_type": "execute_result"
    }
   ],
   "source": [
    "mlp_base_set_grouped_refined[8]"
   ]
  },
  {
   "cell_type": "code",
   "execution_count": 27,
   "metadata": {},
   "outputs": [
    {
     "data": {
      "text/plain": [
       "0.6465285184214511"
      ]
     },
     "execution_count": 27,
     "metadata": {},
     "output_type": "execute_result"
    }
   ],
   "source": [
    "#removing 8 seems to be higher by a little bit. Maybe we'll reach 67? \n",
    "test=[]\n",
    "for j in range(len(mlp_base_set_grouped_refined)):\n",
    "    if j!=8:\n",
    "        test.extend(mlp_base_set_grouped_refined[j])\n",
    "Xo=ufc_fights_clean[test].iloc[0:2091]\n",
    "yo=ufc_fights_clean.iloc[0:2091]['method']\n",
    "cross_val_score(mlp,Xo,yo,cv=6).mean()"
   ]
  },
  {
   "cell_type": "code",
   "execution_count": 29,
   "metadata": {},
   "outputs": [],
   "source": [
    "#here I am preserving the original order which seems better... and getting rid of inf_head_strikes_landed\n",
    "test_prime=[u'fighter_ko_wins',\n",
    " u'fighter_ko_losses',\n",
    " u'opponent_ko_wins',\n",
    " u'opponent_ko_losses',\n",
    " u'fighter_L5Y_ko_wins',\n",
    " u'fighter_L5Y_ko_losses',\n",
    " u'fighter_L2Y_ko_wins',\n",
    " u'fighter_L2Y_ko_losses',\n",
    " u'opponent_L5Y_ko_wins',\n",
    " u'opponent_L5Y_ko_losses',\n",
    " u'opponent_L2Y_ko_wins',\n",
    " u'opponent_L2Y_ko_losses',\n",
    " u'fighter_sub_wins',\n",
    " u'fighter_sub_losses',\n",
    " u'opponent_sub_wins',\n",
    " u'opponent_sub_losses',\n",
    " u'fighter_inf_head_strikes_attempts_avg',\n",
    " u'fighter_abs_head_strikes_landed_avg',\n",
    " u'fighter_abs_head_strikes_attempts_avg',\n",
    " u'opponent_inf_head_strikes_attempts_avg',\n",
    " u'opponent_abs_head_strikes_landed_avg',\n",
    " u'opponent_abs_head_strikes_attempts_avg',\n",
    " u'fighter_inf_clinch_strikes_landed_avg',\n",
    " u'fighter_inf_clinch_strikes_attempts_avg',\n",
    " u'fighter_abs_clinch_strikes_landed_avg',\n",
    " u'fighter_abs_clinch_strikes_attempts_avg',\n",
    " u'opponent_inf_clinch_strikes_landed_avg',\n",
    " u'opponent_inf_clinch_strikes_attempts_avg',\n",
    " u'opponent_abs_clinch_strikes_landed_avg',\n",
    " u'opponent_abs_clinch_strikes_attempts_avg',\n",
    " u'fighter_L5Y_sub_wins',\n",
    " u'fighter_L5Y_sub_losses',\n",
    " u'fighter_L2Y_sub_wins',\n",
    " u'fighter_L2Y_sub_losses',\n",
    " u'opponent_L5Y_sub_wins',\n",
    " u'opponent_L5Y_sub_losses',\n",
    " u'opponent_L2Y_sub_wins',\n",
    " u'opponent_L2Y_sub_losses']"
   ]
  },
  {
   "cell_type": "code",
   "execution_count": 30,
   "metadata": {},
   "outputs": [
    {
     "data": {
      "text/plain": [
       "0.6465433858164065"
      ]
     },
     "execution_count": 30,
     "metadata": {},
     "output_type": "execute_result"
    }
   ],
   "source": [
    "Xo=ufc_fights_clean[test_prime].iloc[0:2091]\n",
    "yo=ufc_fights_clean.iloc[0:2091]['method']\n",
    "cross_val_score(mlp,Xo,yo,cv=5).mean()"
   ]
  },
  {
   "cell_type": "code",
   "execution_count": null,
   "metadata": {},
   "outputs": [],
   "source": [
    "#ok so mlp_base_set seems pretty solid."
   ]
  },
  {
   "cell_type": "code",
   "execution_count": null,
   "metadata": {},
   "outputs": [],
   "source": [
    "#Now that we tried to delete some things, lets try picking single things by hand from add_backs"
   ]
  },
  {
   "cell_type": "code",
   "execution_count": 35,
   "metadata": {},
   "outputs": [],
   "source": [
    "mlp_add_backs_refined=[\n",
    " [u'fighter_age', u'opponent_age'],\n",
    " [u'fighter_inf_knockdowns_avg',\n",
    "  u'opponent_inf_knockdowns_avg'],\n",
    "  [u'fighter_abs_knockdowns_avg',\n",
    "  u'opponent_abs_knockdowns_avg'],\n",
    " [u'fighter_inf_pass_avg',\n",
    "  u'fighter_abs_pass_avg'],\n",
    "  [u'opponent_inf_pass_avg',\n",
    "  u'opponent_abs_pass_avg'],\n",
    " [u'fighter_inf_reversals_avg',\n",
    "  u'opponent_inf_reversals_avg'],\n",
    "  [u'fighter_abs_reversals_avg',\n",
    "  u'opponent_abs_reversals_avg'],\n",
    " [u'fighter_inf_sub_attempts_avg',\n",
    "  u'opponent_inf_sub_attempts_avg'],\n",
    "  [u'fighter_abs_sub_attempts_avg',\n",
    "  u'opponent_abs_sub_attempts_avg'],\n",
    " [u'fighter_inf_takedowns_landed_avg',\n",
    "  u'opponent_inf_takedowns_landed_avg'],\n",
    "  [u'fighter_abs_takedowns_landed_avg',\n",
    "  u'opponent_abs_takedowns_landed_avg'],\n",
    "  [u'fighter_inf_takedowns_attempts_avg',\n",
    "   u'opponent_inf_takedowns_attempts_avg'],\n",
    "  [u'fighter_abs_takedowns_attempts_avg',\n",
    "  u'opponent_abs_takedowns_attempts_avg'],\n",
    " [u'fighter_inf_sig_strikes_landed_avg',\n",
    "  u'opponent_inf_sig_strikes_landed_avg'],\n",
    "  [u'fighter_abs_sig_strikes_landed_avg',\n",
    "  u'opponent_abs_sig_strikes_landed_avg'],\n",
    "  [u'fighter_inf_sig_strikes_attempts_avg',\n",
    "   u'opponent_inf_sig_strikes_attempts_avg'],\n",
    "  [u'fighter_abs_sig_strikes_attempts_avg',\n",
    "  u'opponent_abs_sig_strikes_attempts_avg'],\n",
    " [u'fighter_inf_total_strikes_landed_avg',\n",
    "  u'opponent_inf_total_strikes_landed_avg'],\n",
    "  [u'fighter_abs_total_strikes_landed_avg',\n",
    "  u'opponent_abs_total_strikes_landed_avg'],\n",
    "  [u'fighter_inf_total_strikes_attempts_avg',\n",
    "   u'opponent_inf_total_strikes_attempts_avg'],\n",
    "  [u'fighter_abs_total_strikes_attempts_avg',\n",
    "  u'opponent_abs_total_strikes_attempts_avg'],\n",
    " [u'fighter_inf_body_strikes_landed_avg',\n",
    "  u'opponent_inf_body_strikes_landed_avg'],\n",
    "  [u'fighter_abs_body_strikes_landed_avg',\n",
    "  u'opponent_abs_body_strikes_landed_avg'],\n",
    "  [u'fighter_inf_body_strikes_attempts_avg',\n",
    "   u'opponent_inf_body_strikes_attempts_avg'],\n",
    "  [u'fighter_abs_body_strikes_attempts_avg',\n",
    "  u'opponent_abs_body_strikes_attempts_avg'],\n",
    " [u'fighter_inf_leg_strikes_landed_avg',\n",
    "  u'opponent_inf_leg_strikes_landed_avg'],\n",
    "  [u'fighter_abs_leg_strikes_landed_avg',\n",
    "  u'opponent_abs_leg_strikes_landed_avg'],\n",
    "  [u'fighter_inf_leg_strikes_attempts_avg',\n",
    "   u'opponent_inf_leg_strikes_attempts_avg'],\n",
    "  [u'fighter_abs_leg_strikes_attempts_avg',\n",
    "  u'opponent_abs_leg_strikes_attempts_avg'],\n",
    " [u'fighter_inf_distance_strikes_landed_avg',\n",
    "  u'opponent_inf_distance_strikes_landed_avg'],\n",
    "  [u'fighter_abs_distance_strikes_landed_avg',\n",
    "  u'opponent_abs_distance_strikes_landed_avg'],\n",
    "  [u'fighter_inf_distance_strikes_attempts_avg',\n",
    "   u'opponent_inf_distance_strikes_attempts_avg'],\n",
    "  [u'fighter_abs_distance_strikes_attempts_avg',\n",
    "  u'opponent_abs_distance_strikes_attempts_avg'],\n",
    " [u'fighter_inf_ground_strikes_landed_avg',\n",
    "  u'opponent_inf_ground_strikes_landed_avg'],\n",
    "  [u'fighter_abs_ground_strikes_landed_avg',\n",
    "  u'opponent_abs_ground_strikes_landed_avg'],\n",
    "  [u'fighter_inf_ground_strikes_attempts_avg',\n",
    "   u'opponent_inf_ground_strikes_attempts_avg'],\n",
    "  [u'fighter_abs_ground_strikes_attempts_avg',\n",
    "  u'opponent_abs_ground_strikes_attempts_avg']]"
   ]
  },
  {
   "cell_type": "code",
   "execution_count": 36,
   "metadata": {},
   "outputs": [
    {
     "data": {
      "text/plain": [
       "37"
      ]
     },
     "execution_count": 36,
     "metadata": {},
     "output_type": "execute_result"
    }
   ],
   "source": [
    "len(mlp_add_backs_refined)"
   ]
  },
  {
   "cell_type": "code",
   "execution_count": 37,
   "metadata": {},
   "outputs": [
    {
     "name": "stdout",
     "output_type": "stream",
     "text": [
      "[0, 0.6073659449528682]\n",
      "[1, 0.6389107329887881]\n",
      "[2, 0.6403358458817672]\n",
      "[3, 0.6475209331341609]\n",
      "[4, 0.646547964492368]\n",
      "[5, 0.6403335565437864]\n",
      "[6, 0.6446432352924343]\n",
      "[7, 0.6408085941747795]\n",
      "[8, 0.6355465508261648]\n",
      "[9, 0.6369693743811633]\n",
      "[10, 0.6456207826101886]\n",
      "[11, 0.651791693137137]\n",
      "[12, 0.6417792734785919]\n",
      "[13, 0.6532488567618459]\n",
      "[14, 0.6307778598123888]\n",
      "[15, 0.6245680305397686]\n",
      "[16, 0.6193174338810575]\n",
      "[17, 0.634587318212256]\n",
      "[18, 0.6312300040635749]\n",
      "[19, 0.6283797782776166]\n",
      "[20, 0.6111639566628321]\n",
      "[21, 0.6580381518174482]\n",
      "[22, 0.6475209331341609]\n",
      "[23, 0.6518168758549246]\n",
      "[24, 0.6465433858164066]\n",
      "[25, 0.6475209331341609]\n",
      "[26, 0.6369922677609703]\n",
      "[27, 0.6456093359202852]\n",
      "[28, 0.6446569713203185]\n",
      "[29, 0.6398699656026968]\n",
      "[30, 0.6283660422497325]\n",
      "[31, 0.6369693743811633]\n",
      "[32, 0.6408108835127602]\n",
      "[33, 0.6484778764100891]\n",
      "[34, 0.6446363672784923]\n",
      "[35, 0.6470275807993224]\n",
      "[36, 0.635516789432416]\n"
     ]
    }
   ],
   "source": [
    "#this adds subsets of size 1 from mlp_add_backs to mlp_base_set\n",
    "mlp=MLPClassifier(max_iter=3000,alpha=.001,solver='sgd',random_state=3)\n",
    "yo=ufc_fights_clean.iloc[0:2091]['method']\n",
    "mlp_data_points=[]\n",
    "for i in range(len(mlp_add_backs_refined)):\n",
    "    candidate=[]\n",
    "    candidate.extend(mlp_base_set)\n",
    "    candidate.extend(mlp_add_backs_refined[i])\n",
    "    Xo=ufc_fights_clean[candidate].iloc[0:2091]\n",
    "    point=[i,cross_val_score(mlp,Xo,yo,cv=5).mean()]\n",
    "    mlp_data_points.append(point)\n",
    "    print(point)"
   ]
  },
  {
   "cell_type": "code",
   "execution_count": 38,
   "metadata": {},
   "outputs": [
    {
     "data": {
      "text/plain": [
       "0.6580381518174482"
      ]
     },
     "execution_count": 38,
     "metadata": {},
     "output_type": "execute_result"
    }
   ],
   "source": [
    "max([tup[1] for tup in  mlp_data_points])"
   ]
  },
  {
   "cell_type": "code",
   "execution_count": 44,
   "metadata": {},
   "outputs": [
    {
     "data": {
      "text/plain": [
       "0.6460757279622754"
      ]
     },
     "execution_count": 44,
     "metadata": {},
     "output_type": "execute_result"
    }
   ],
   "source": [
    "candidate=[]\n",
    "candidate.extend(mlp_base_set)\n",
    "candidate.extend(mlp_add_backs_refined[21])\n",
    "Xo=ufc_fights_clean[candidate].iloc[0:2091]\n",
    "cross_val_score(mlp,Xo,yo,cv=6).mean()"
   ]
  },
  {
   "cell_type": "code",
   "execution_count": 45,
   "metadata": {},
   "outputs": [
    {
     "data": {
      "text/plain": [
       "0.6460642291923296"
      ]
     },
     "execution_count": 45,
     "metadata": {},
     "output_type": "execute_result"
    }
   ],
   "source": [
    "cross_val_score(mlp,Xo,yo,cv=7).mean()"
   ]
  },
  {
   "cell_type": "code",
   "execution_count": 46,
   "metadata": {},
   "outputs": [
    {
     "data": {
      "text/plain": [
       "0.6499078704922348"
      ]
     },
     "execution_count": 46,
     "metadata": {},
     "output_type": "execute_result"
    }
   ],
   "source": [
    "cross_val_score(mlp,Xo,yo,cv=8).mean()"
   ]
  },
  {
   "cell_type": "code",
   "execution_count": 47,
   "metadata": {},
   "outputs": [
    {
     "data": {
      "text/plain": [
       "0.6632528588278181"
      ]
     },
     "execution_count": 47,
     "metadata": {},
     "output_type": "execute_result"
    }
   ],
   "source": [
    "cross_val_score(mlp,Xo,yo,cv=9).mean()"
   ]
  },
  {
   "cell_type": "code",
   "execution_count": 48,
   "metadata": {},
   "outputs": [
    {
     "data": {
      "text/plain": [
       "0.6732274031587533"
      ]
     },
     "execution_count": 48,
     "metadata": {},
     "output_type": "execute_result"
    }
   ],
   "source": [
    "cross_val_score(mlp,Xo,yo,cv=10).mean()"
   ]
  },
  {
   "cell_type": "code",
   "execution_count": null,
   "metadata": {},
   "outputs": [],
   "source": [
    "#it could make sense to just do one at a time... this would take the least amount of time,\n",
    "#less than 15 minutes each time. Then if we reach a point where it doesn't increase, we can try 2\n",
    "#by this I mean, after the first round of adding 1, find the optimal choice, add this to the base set, \n",
    "#remove from add backs, and perform again. Actually one could write a program to do this automatically\n",
    "#honestly its probably been done but who cares. I'm learning\n",
    "#MY GOAL IS TO REACH 68 SINCE THEN THE OVERALL PROBABILITY OF PICKING BOTH THE FIGHTER AND METHOD CORRECTLY\n",
    "#IS OVER 50%. THAT IS HONESLTLY IMPRESSIVE.\n",
    "#another idea. after we find we cannot improve in this way, then start removing until we increase.\n",
    "#then after removing, it may be possible to increase by adding"
   ]
  }
 ],
 "metadata": {
  "kernelspec": {
   "display_name": "Python 2",
   "language": "python",
   "name": "python2"
  },
  "language_info": {
   "codemirror_mode": {
    "name": "ipython",
    "version": 2
   },
   "file_extension": ".py",
   "mimetype": "text/x-python",
   "name": "python",
   "nbconvert_exporter": "python",
   "pygments_lexer": "ipython2",
   "version": "2.7.16"
  }
 },
 "nbformat": 4,
 "nbformat_minor": 2
}
