{
 "cells": [
  {
   "cell_type": "code",
   "execution_count": null,
   "metadata": {},
   "outputs": [],
   "source": [
    "#Run every cell, in order, until instructed otherwise"
   ]
  },
  {
   "cell_type": "code",
   "execution_count": 1,
   "metadata": {},
   "outputs": [],
   "source": [
    "import pandas as pd\n",
    "import numpy as npy\n",
    "from datetime import datetime\n",
    "from datetime import date\n",
    "import matplotlib.pyplot as plt\n",
    "import random\n",
    "import sklearn\n",
    "import scipy\n",
    "from sklearn.linear_model import LogisticRegression\n",
    "from sklearn.ensemble import RandomForestClassifier\n",
    "from sklearn.neural_network import MLPClassifier\n",
    "from sklearn.model_selection import train_test_split, KFold, cross_val_score\n",
    "model=LogisticRegression()\n",
    "import itertools"
   ]
  },
  {
   "cell_type": "code",
   "execution_count": 2,
   "metadata": {},
   "outputs": [],
   "source": [
    "#this cell contains all functions defined for building columns in ufcfightscrap\n",
    "#converts from '%B %d, %Y' (i.e. August 22, 2020) to date (i.e. 2020-08-22)\n",
    "def convert_to_datetime(day1):\n",
    "    return datetime.strptime(day1, '%B %d, %Y').date()\n",
    "convert_to_datetime_vect= npy.vectorize(convert_to_datetime)\n",
    "\n",
    "#this age function is written in such a stupid way\n",
    "def age(birthDate,day=date.today(),form1='%B %d, %Y',form2='%B %d, %Y'):\n",
    "    if birthDate=='--':\n",
    "        aa='unknown'\n",
    "    elif type(birthDate)==str and not type(day)==str:\n",
    "        bd=datetime.strptime(birthDate, form1)\n",
    "        today = day\n",
    "        aa = today.year - bd.year - ((today.month, today.day) < (bd.month, bd.day)) \n",
    "    elif type(birthDate)==str and type(day)==str:\n",
    "        bd=datetime.strptime(birthDate, form1)\n",
    "        today = datetime.strptime(day, form2)\n",
    "        aa = today.year - bd.year - ((today.month, today.day) < (bd.month, bd.day)) \n",
    "    elif not type(birthDate)==str and type(day)==str:\n",
    "        bd=birthDate\n",
    "        today = datetime.strptime(day, form2)\n",
    "        aa = today.year - bd.year - ((today.month, today.day) < (bd.month, bd.day)) \n",
    "    else:\n",
    "        bd=birthDate\n",
    "        today = day\n",
    "        aa = today.year - bd.year - ((today.month, today.day) < (bd.month, bd.day)) \n",
    "    return aa\n",
    "\n",
    "age_vect= npy.vectorize(age)\n",
    "\n",
    "def fighter_age(fighter,day=date.today(),form1='%B %d, %Y',form2='%B %d, %Y'):\n",
    "    a=0\n",
    "    for i in range(len(ufcfighterscrap['name'])):\n",
    "        if ufcfighterscrap['name'][i]==fighter:\n",
    "            dob=datetime.strptime(ufcfighterscrap['dob'][i], '%b %d, %Y').strftime('%B %d, %Y')\n",
    "            a=age(dob,day,form1,form2)\n",
    "            break\n",
    "    return a\n",
    "\n",
    "def wins_before(guy,day1=date.today()):\n",
    "    if day1==date.today():\n",
    "        day1=date.today().strftime('%B %d, %Y')\n",
    "    summ=0\n",
    "    good_indices=[i for i in ufcfightscrap.index.values if ufcfightscrap['fighter'][i]==guy]\n",
    "    for i in good_indices:\n",
    "        if time_diff(ufcfightscrap['date'][i],day1)>0 and ufcfightscrap['result'][i]=='W':\n",
    "            summ+=1\n",
    "        else:\n",
    "            summ+=0\n",
    "    return summ\n",
    "\n",
    "def losses_before(guy,day1=date.today()):\n",
    "    if day1==date.today():\n",
    "        day1=date.today().strftime('%B %d, %Y')\n",
    "    summ=0\n",
    "    good_indices=[i for i in ufcfightscrap.index.values if ufcfightscrap['fighter'][i]==guy]\n",
    "    for i in good_indices:\n",
    "        if time_diff(ufcfightscrap['date'][i],day1)>0 and ufcfightscrap['result'][i]=='L':\n",
    "            summ+=1\n",
    "        else:\n",
    "            summ+=0\n",
    "    return summ\n",
    "\n",
    "#functions for height and reach\n",
    "def fighter_height(fighter):\n",
    "    a=0\n",
    "    for i in range(len(ufcfighterscrap['name'])):\n",
    "        if ufcfighterscrap['name'][i]==fighter:\n",
    "            a=ufcfighterscrap['height'][i]\n",
    "            break\n",
    "    if a=='--':\n",
    "        b='unknown'\n",
    "    elif a[4]=='\"':\n",
    "        b=int(a[0])*30.48+int(a[3])*2.54\n",
    "    else:\n",
    "        b=int(a[0])*30.48+int(a[3]+a[4])*2.54\n",
    "    return b\n",
    "\n",
    "def fighter_reach(fighter):\n",
    "    a=0\n",
    "    for i in range(len(ufcfighterscrap['name'])):\n",
    "        if ufcfighterscrap['name'][i]==fighter:\n",
    "            a=ufcfighterscrap['reach'][i]\n",
    "            break\n",
    "    if a=='--':\n",
    "        b='unknown'\n",
    "    else:\n",
    "        b=int(a[0]+a[1])*2.54\n",
    "    return b\n",
    "\n",
    "wins_before_vect= npy.vectorize(wins_before)\n",
    "losses_before_vect= npy.vectorize(losses_before)\n",
    "fighter_height_vect= npy.vectorize(fighter_height)\n",
    "fighter_reach_vect= npy.vectorize(fighter_reach)\n",
    "\n",
    "#day1 should be input in the form '%B %d, %Y' i.e. 'August 20, 1962'\n",
    "#conversions can be made via day=datetime.strptime(ufcfightsML_known_df['date'][i], '%B %d, %Y').strftime('%b %d, %Y')\n",
    "def time_diff(day1,day2=date.today()):\n",
    "    if day2==date.today():\n",
    "        answer=(day2-datetime.strptime(day, '%B %d, %Y')).days\n",
    "    else:\n",
    "        answer=(datetime.strptime(day2, '%B %d, %Y')-datetime.strptime(day1, '%B %d, %Y')).days\n",
    "    return answer\n",
    "\n",
    "#we now vectorize this to use in pandas/numpy\n",
    "time_diff_vect= npy.vectorize(time_diff)\n",
    "\n",
    "#can make a single function to do all of these... actually maybe the count function would even work as is\n",
    "\n",
    "def L5Y_wins(guy,day1=date.today()):\n",
    "    if day1==date.today():\n",
    "        day1=date.today().strftime('%B %d, %Y')\n",
    "    summ=0\n",
    "    good_indices=[i for i in ufcfightscrap.index.values if ufcfightscrap['fighter'][i]==guy]\n",
    "    for i in good_indices:\n",
    "        if 0<time_diff(ufcfightscrap['date'][i],day1)<1825 and ufcfightscrap['result'][i]=='W':\n",
    "            summ+=1\n",
    "        else:\n",
    "            summ+=0\n",
    "        if time_diff(ufcfightscrap['date'][i],day1)>1825:\n",
    "            break\n",
    "    return summ\n",
    "\n",
    "def L5Y_losses(guy,day1=date.today()):\n",
    "    if day1==date.today():\n",
    "        day1=date.today().strftime('%B %d, %Y')\n",
    "    summ=0\n",
    "    good_indices=[i for i in ufcfightscrap.index.values if ufcfightscrap['fighter'][i]==guy]\n",
    "    for i in good_indices:\n",
    "        if 0<time_diff(ufcfightscrap['date'][i],day1)<1825 and ufcfightscrap['result'][i]=='L':\n",
    "            summ+=1\n",
    "        else:\n",
    "            summ+=0\n",
    "        if time_diff(ufcfightscrap['date'][i],day1)>1825:\n",
    "            break\n",
    "    return summ\n",
    "\n",
    "def L2Y_wins(guy,day1=date.today()):\n",
    "    if day1==date.today():\n",
    "        day1=date.today().strftime('%B %d, %Y')\n",
    "    summ=0\n",
    "    good_indices=[i for i in ufcfightscrap.index.values if ufcfightscrap['fighter'][i]==guy]\n",
    "    for i in good_indices:\n",
    "        if 0<time_diff(ufcfightscrap['date'][i],day1)<730 and ufcfightscrap['result'][i]=='W':\n",
    "            summ+=1\n",
    "        else:\n",
    "            summ+=0\n",
    "        if time_diff(ufcfightscrap['date'][i],day1)>730:\n",
    "            break\n",
    "    return summ\n",
    "\n",
    "def L2Y_losses(guy,day1=date.today()):\n",
    "    if day1==date.today():\n",
    "        day1=date.today().strftime('%B %d, %Y')\n",
    "    summ=0\n",
    "    good_indices=[i for i in ufcfightscrap.index.values if ufcfightscrap['fighter'][i]==guy]\n",
    "    for i in good_indices:\n",
    "        if 0<time_diff(ufcfightscrap['date'][i],day1)<730 and ufcfightscrap['result'][i]=='L':\n",
    "            summ+=1\n",
    "        else:\n",
    "            summ+=0\n",
    "        if time_diff(ufcfightscrap['date'][i],day1)>730:\n",
    "            break\n",
    "    return summ\n",
    "\n",
    "def ko_wins(guy,day1=date.today()):\n",
    "    if day1==date.today():\n",
    "        day1=date.today().strftime('%B %d, %Y')\n",
    "    summ=0\n",
    "    good_indices=[i for i in ufcfightscrap.index.values if ufcfightscrap['fighter'][i]==guy]\n",
    "    for i in good_indices:\n",
    "        if ufcfightscrap['result'][i]=='W' and ufcfightscrap['method'][i]=='KO/TKO':\n",
    "            summ+=1\n",
    "        else:\n",
    "            summ+=0\n",
    "    return summ\n",
    "\n",
    "def ko_losses(guy,day1=date.today()):\n",
    "    if day1==date.today():\n",
    "        day1=date.today().strftime('%B %d, %Y')\n",
    "    summ=0\n",
    "    good_indices=[i for i in ufcfightscrap.index.values if ufcfightscrap['fighter'][i]==guy]\n",
    "    for i in good_indices:\n",
    "        if ufcfightscrap['result'][i]=='L' and ufcfightscrap['method'][i]=='KO/TKO':\n",
    "            summ+=1\n",
    "        else:\n",
    "            summ+=0\n",
    "    return summ\n",
    "\n",
    "def L5Y_ko_wins(guy,day1=date.today()):\n",
    "    if day1==date.today():\n",
    "        day1=date.today().strftime('%B %d, %Y')\n",
    "    summ=0\n",
    "    good_indices=[i for i in ufcfightscrap.index.values if ufcfightscrap['fighter'][i]==guy]\n",
    "    for i in good_indices:\n",
    "        if 0<time_diff(ufcfightscrap['date'][i],day1)<1825 and ufcfightscrap['result'][i]=='W' and ufcfightscrap['method'][i]=='KO/TKO':\n",
    "            summ+=1\n",
    "        else:\n",
    "            summ+=0\n",
    "        if time_diff(ufcfightscrap['date'][i],day1)>1825:\n",
    "            break\n",
    "    return summ\n",
    "\n",
    "def L5Y_ko_losses(guy,day1=date.today()):\n",
    "    if day1==date.today():\n",
    "        day1=date.today().strftime('%B %d, %Y')\n",
    "    summ=0\n",
    "    good_indices=[i for i in ufcfightscrap.index.values if ufcfightscrap['fighter'][i]==guy]\n",
    "    for i in good_indices:\n",
    "        if 0<time_diff(ufcfightscrap['date'][i],day1)<1825 and ufcfightscrap['result'][i]=='L' and ufcfightscrap['method'][i]=='KO/TKO':\n",
    "            summ+=1\n",
    "        else:\n",
    "            summ+=0\n",
    "        if time_diff(ufcfightscrap['date'][i],day1)>1825:\n",
    "            break\n",
    "    return summ\n",
    "\n",
    "def L2Y_ko_wins(guy,day1=date.today()):\n",
    "    if day1==date.today():\n",
    "        day1=date.today().strftime('%B %d, %Y')\n",
    "    summ=0\n",
    "    good_indices=[i for i in ufcfightscrap.index.values if ufcfightscrap['fighter'][i]==guy]\n",
    "    for i in good_indices:\n",
    "        if 0<time_diff(ufcfightscrap['date'][i],day1)<730 and ufcfightscrap['result'][i]=='W' and ufcfightscrap['method'][i]=='KO/TKO':\n",
    "            summ+=1\n",
    "        else:\n",
    "            summ+=0\n",
    "        if time_diff(ufcfightscrap['date'][i],day1)>730:\n",
    "            break\n",
    "    return summ\n",
    "\n",
    "def L2Y_ko_losses(guy,day1=date.today()):\n",
    "    if day1==date.today():\n",
    "        day1=date.today().strftime('%B %d, %Y')\n",
    "    summ=0\n",
    "    good_indices=[i for i in ufcfightscrap.index.values if ufcfightscrap['fighter'][i]==guy]\n",
    "    for i in good_indices:\n",
    "        if 0<time_diff(ufcfightscrap['date'][i],day1)<730 and ufcfightscrap['result'][i]=='L' and ufcfightscrap['method'][i]=='KO/TKO':\n",
    "            summ+=1\n",
    "        else:\n",
    "            summ+=0\n",
    "        if time_diff(ufcfightscrap['date'][i],day1)>730:\n",
    "            break\n",
    "    return summ\n",
    "\n",
    "def sub_wins(guy,day1=date.today()):\n",
    "    if day1==date.today():\n",
    "        day1=date.today().strftime('%B %d, %Y')\n",
    "    summ=0\n",
    "    good_indices=[i for i in ufcfightscrap.index.values if ufcfightscrap['fighter'][i]==guy]\n",
    "    for i in good_indices:\n",
    "        if ufcfightscrap['result'][i]=='W' and ufcfightscrap['method'][i]=='SUB':\n",
    "            summ+=1\n",
    "        else:\n",
    "            summ+=0\n",
    "    return summ\n",
    "\n",
    "def sub_losses(guy,day1=date.today()):\n",
    "    if day1==date.today():\n",
    "        day1=date.today().strftime('%B %d, %Y')\n",
    "    summ=0\n",
    "    good_indices=[i for i in ufcfightscrap.index.values if ufcfightscrap['fighter'][i]==guy]\n",
    "    for i in good_indices:\n",
    "        if ufcfightscrap['result'][i]=='L' and ufcfightscrap['method'][i]=='SUB':\n",
    "            summ+=1\n",
    "        else:\n",
    "            summ+=0\n",
    "    return summ\n",
    "\n",
    "def L5Y_sub_wins(guy,day1=date.today()):\n",
    "    if day1==date.today():\n",
    "        day1=date.today().strftime('%B %d, %Y')\n",
    "    summ=0\n",
    "    good_indices=[i for i in ufcfightscrap.index.values if ufcfightscrap['fighter'][i]==guy]\n",
    "    for i in good_indices:\n",
    "        if 0<time_diff(ufcfightscrap['date'][i],day1)<1825 and ufcfightscrap['result'][i]=='W' and ufcfightscrap['method'][i]=='SUB':\n",
    "            summ+=1\n",
    "        else:\n",
    "            summ+=0\n",
    "        if time_diff(ufcfightscrap['date'][i],day1)>1825:\n",
    "            break\n",
    "    return summ\n",
    "\n",
    "def L5Y_sub_losses(guy,day1=date.today()):\n",
    "    if day1==date.today():\n",
    "        day1=date.today().strftime('%B %d, %Y')\n",
    "    summ=0\n",
    "    good_indices=[i for i in ufcfightscrap.index.values if ufcfightscrap['fighter'][i]==guy]\n",
    "    for i in good_indices:\n",
    "        if 0<time_diff(ufcfightscrap['date'][i],day1)<1825 and ufcfightscrap['result'][i]=='L' and ufcfightscrap['method'][i]=='SUB':\n",
    "            summ+=1\n",
    "        else:\n",
    "            summ+=0\n",
    "        if time_diff(ufcfightscrap['date'][i],day1)>1825:\n",
    "            break\n",
    "    return summ\n",
    "\n",
    "def L2Y_sub_wins(guy,day1=date.today()):\n",
    "    if day1==date.today():\n",
    "        day1=date.today().strftime('%B %d, %Y')\n",
    "    summ=0\n",
    "    good_indices=[i for i in ufcfightscrap.index.values if ufcfightscrap['fighter'][i]==guy]\n",
    "    for i in good_indices:\n",
    "        if 0<time_diff(ufcfightscrap['date'][i],day1)<730 and ufcfightscrap['result'][i]=='W' and ufcfightscrap['method'][i]=='SUB':\n",
    "            summ+=1\n",
    "        else:\n",
    "            summ+=0\n",
    "        if time_diff(ufcfightscrap['date'][i],day1)>730:\n",
    "            break\n",
    "    return summ\n",
    "\n",
    "def L2Y_sub_losses(guy,day1=date.today()):\n",
    "    if day1==date.today():\n",
    "        day1=date.today().strftime('%B %d, %Y')\n",
    "    summ=0\n",
    "    good_indices=[i for i in ufcfightscrap.index.values if ufcfightscrap['fighter'][i]==guy]\n",
    "    for i in good_indices:\n",
    "        if 0<time_diff(ufcfightscrap['date'][i],day1)<730 and ufcfightscrap['result'][i]=='L' and ufcfightscrap['method'][i]=='SUB':\n",
    "            summ+=1\n",
    "        else:\n",
    "            summ+=0\n",
    "        if time_diff(ufcfightscrap['date'][i],day1)>730:\n",
    "            break\n",
    "    return summ\n",
    "\n",
    "#vectorize all of these functions\n",
    "L5Y_wins_vect= npy.vectorize(L5Y_wins)\n",
    "L5Y_losses_vect= npy.vectorize(L5Y_losses)\n",
    "L2Y_wins_vect= npy.vectorize(L2Y_wins)\n",
    "L2Y_losses_vect= npy.vectorize(L2Y_losses)\n",
    "ko_wins_vect= npy.vectorize(ko_wins)\n",
    "ko_losses_vect= npy.vectorize(ko_losses)\n",
    "L5Y_ko_wins_vect= npy.vectorize(L5Y_ko_wins)\n",
    "L5Y_ko_losses_vect= npy.vectorize(L5Y_ko_losses)\n",
    "L2Y_ko_wins_vect= npy.vectorize(L2Y_ko_wins)\n",
    "L2Y_ko_losses_vect= npy.vectorize(L2Y_ko_losses)\n",
    "sub_wins_vect= npy.vectorize(sub_wins)\n",
    "sub_losses_vect= npy.vectorize(sub_losses)\n",
    "L5Y_sub_wins_vect= npy.vectorize(L5Y_sub_wins)\n",
    "L5Y_sub_losses_vect= npy.vectorize(L5Y_sub_losses)\n",
    "L2Y_sub_wins_vect= npy.vectorize(L2Y_sub_wins)\n",
    "L2Y_sub_losses_vect= npy.vectorize(L2Y_sub_losses)\n",
    "\n",
    "#for columns like fighter_rec which contains the information for the opponent as well, we use the following\n",
    "def opponent_column(stat):\n",
    "    col=dict()\n",
    "    for i in range(len(ufcfightscrap['fighter'])):\n",
    "        if i%2==0:\n",
    "            col[i]=ufcfightscrap[stat][i+1]\n",
    "        else:\n",
    "            col[i]=ufcfightscrap[stat][i-1]\n",
    "    statdict={'stat':col}\n",
    "    return pd.DataFrame (statdict, columns = ['stat'])\n",
    "\n",
    "#enter date unabbreviated 'July 4, 2019'\n",
    "#here the average gives avg per fight. Later in avg_count we change to average per time spent in octagon\n",
    "def count(stat, guy,inf_abs, total_L5Y_L2Y_avg, day1=date.today().strftime('%B %d, %Y')):\n",
    "    summ=0\n",
    "    if total_L5Y_L2Y_avg=='total' or total_L5Y_L2Y_avg=='avg':\n",
    "        good_indices_1=[i for i in ufcfightscrap.index.values if time_diff(ufcfightscrap['date'][i],day1)>0]\n",
    "    elif total_L5Y_L2Y_avg=='L2Y':\n",
    "        good_indices_1=[i for i in ufcfightscrap.index.values if 0<time_diff(ufcfightscrap['date'][i],day1)<730]\n",
    "    else:\n",
    "        good_indices_1=[i for i in ufcfightscrap.index.values if 0<time_diff(ufcfightscrap['date'][i],day1)<1825]\n",
    "    if inf_abs=='inf':\n",
    "        good_indices_2=[i for i in ufcfightscrap.index.values if ufcfightscrap['fighter'][i]==guy]\n",
    "    else:\n",
    "        good_indices_2=[i for i in ufcfightscrap.index.values if ufcfightscrap['opponent'][i]==guy]\n",
    "    good_indices=[i for i in good_indices_1 if i in good_indices_2]\n",
    "    if total_L5Y_L2Y_avg!='avg':\n",
    "        for i in good_indices:\n",
    "            summ+=ufcfightscrap[stat][i]\n",
    "    else:\n",
    "        for i in good_indices:\n",
    "            summ+=ufcfightscrap[stat][i]\n",
    "        day1=convert_date_to_abbrev(day1)\n",
    "        number_fights=wins_before(guy,day1)+losses_before(guy,day1)\n",
    "        summ=summ/float(number_fights)\n",
    "    return summ\n",
    "        \n",
    "#note a better average is per time not per fight. We will do each stat as an average per one minutes\n",
    "\n",
    "#enter time in the form 'August 24, 2018'\n",
    "def time_in_octagon(guy,day1=date.today().strftime('%B %d, %Y')):\n",
    "    summ=0\n",
    "    good_indices=[i for i in ufcfightscrap.index.values if time_diff(ufcfightscrap['date'][i],day1)>0 and ufcfightscrap['fighter'][i]==guy] \n",
    "    for i in good_indices:\n",
    "        if ufcfightscrap['time'][i][2]==':':\n",
    "            summ=int(ufcfightscrap['time'][i][0:2])+int(ufcfightscrap['time'][i][3:])/60.0\n",
    "        else:\n",
    "            summ+=5*(ufcfightscrap['round'][i]-1)+int(ufcfightscrap['time'][i][0])+int(ufcfightscrap['time'][i][2:])/60.0\n",
    "    return summ\n",
    "\n",
    "#enter date unabbreviated 'July 4, 2019'\n",
    "#gives takedowns per minute\n",
    "def avg_count(stat, guy,inf_abs, day1=date.today().strftime('%B %d, %Y')):\n",
    "    summ=0\n",
    "    if inf_abs=='inf':\n",
    "        good_indices=[i for i in ufcfightscrap.index.values if ufcfightscrap['fighter'][i]==guy and time_diff(ufcfightscrap['date'][i],day1)>0]\n",
    "    else:\n",
    "        good_indices=[i for i in ufcfightscrap.index.values if ufcfightscrap['opponent'][i]==guy and time_diff(ufcfightscrap['date'][i],day1)>0]\n",
    "    for i in good_indices:\n",
    "        summ+=ufcfightscrap[stat][i]\n",
    "    t= time_in_octagon(guy,day1)\n",
    "    if t==0:\n",
    "        summ=0\n",
    "    else:\n",
    "        summ=summ/t\n",
    "    return summ\n",
    "\n",
    "#vectorize these functions\n",
    "count_vect= npy.vectorize(count)\n",
    "avg_count_vect= npy.vectorize(avg_count)\n",
    "\n",
    "#need to define a model first before calling the following functions\n",
    "#REDEFINE THIS AFTER GETTING ALL STATS COMPILED. WE CURRENTLY CANNOT PREDICT\n",
    "#I've redefined this in such a way to predict what happens when fighter1 in their day1 version fights fighter2\n",
    "#in their day2 version. Meaning we could compare for example 2014 Tyron Woodley to 2019 Colby Covington\n",
    "def ufc_prediction_tuple(fighter1,fighter2,day1=date.today(),day2=date.today()):\n",
    "    return [wins_before(fighter1,day1)-wins_before(fighter2,day2),\n",
    "            losses_before(fighter1,day1)-losses_before(fighter2,day2),\n",
    "            L5Y_wins(fighter1,day1)-L5Y_wins(fighter2,day2),\n",
    "            L5Y_losses(fighter1,day1)-L5Y_losses(fighter2,day2),\n",
    "            L2Y_wins(fighter1,day1)-L2Y_wins(fighter2,day2),\n",
    "            L2Y_losses(fighter1,day1)-L2Y_losses(fighter2,day2),\n",
    "            ko_wins(fighter1,day1)-ko_wins(fighter2,day2),\n",
    "            ko_losses(fighter1,day1)-ko_losses(fighter2,day2),\n",
    "            L5Y_ko_wins(fighter1,day1)-L5Y_ko_wins(fighter2,day2),\n",
    "            L5Y_ko_losses(fighter1,day1)-L5Y_ko_losses(fighter2,day2),\n",
    "            L2Y_ko_wins(fighter1,day1)-L2Y_ko_wins(fighter2,day2),\n",
    "            L2Y_ko_losses(fighter1,day1)-L2Y_ko_losses(fighter2,day2),\n",
    "            sub_wins(fighter1,day1)-sub_wins(fighter2,day2),\n",
    "            sub_losses(fighter1,day1)-sub_losses(fighter2,day2),\n",
    "            L5Y_sub_wins(fighter1,day1)-L5Y_sub_wins(fighter2,day2),\n",
    "            L5Y_sub_losses(fighter1,day1)-L5Y_sub_losses(fighter2,day2),\n",
    "            L2Y_sub_wins(fighter1,day1)-L2Y_sub_wins(fighter2,day2),\n",
    "            L2Y_sub_losses(fighter1,day1)-L2Y_sub_losses(fighter2,day2),\n",
    "            fighter_age(fighter1,day1),fighter_age(fighter2,day2),\n",
    "            fighter_height(fighter1)-fighter_height(fighter2),\n",
    "            fighter_reach(fighter1)-fighter_reach(fighter2),\n",
    "            avg_count('knockdowns',fighter1,'inf',day1), avg_count('pass',fighter1,'inf',day1),\n",
    "            avg_count('reversals',fighter1,'inf',day1),avg_count('sub_attempts',fighter1,'inf',day1),\n",
    "            avg_count('takedowns_landed',fighter1,'inf',day1),avg_count('takedowns_attempts',fighter1,'inf',day1),\n",
    "            avg_count('sig_strikes_landed',fighter1,'inf',day1),avg_count('sig_strikes_attempts',fighter1,'inf',day1),\n",
    "            avg_count('total_strikes_landed',fighter1,'inf',day1),avg_count('total_strikes_attempts',fighter1,'inf',day1),\n",
    "            avg_count('head_strikes_landed',fighter1,'inf',day1),avg_count('head_strikes_attempts',fighter1,'inf',day1),\n",
    "            avg_count('body_strikes_landed',fighter1,'inf',day1),avg_count('body_strikes_attempts',fighter1,'inf',day1),\n",
    "            avg_count('leg_strikes_landed',fighter1,'inf',day1),avg_count('leg_strikes_attempts',fighter1,'inf',day1),\n",
    "            avg_count('distance_strikes_landed',fighter1,'inf',day1),avg_count('distance_strikes_attempts',fighter1,'inf',day1),\n",
    "            avg_count('clinch_strikes_landed',fighter1,'inf',day1),avg_count('clinch_strikes_attempts',fighter1,'inf',day1),\n",
    "            avg_count('ground_strikes_landed',fighter1,'inf',day1),avg_count('ground_strikes_attempts',fighter1,'inf',day1),\n",
    "            avg_count('knockdowns',fighter1,'abs',day1), avg_count('pass',fighter1,'abs',day1),\n",
    "            avg_count('reversals',fighter1,'abs',day1),avg_count('sub_attempts',fighter1,'abs',day1),\n",
    "            avg_count('takedowns_landed',fighter1,'abs',day1),avg_count('takedowns_attempts',fighter1,'abs',day1),\n",
    "            avg_count('sig_strikes_landed',fighter1,'abs',day1),avg_count('sig_strikes_attempts',fighter1,'abs',day1),\n",
    "            avg_count('total_strikes_landed',fighter1,'abs',day1),avg_count('total_strikes_attempts',fighter1,'abs',day1),\n",
    "            avg_count('head_strikes_landed',fighter1,'abs',day1),avg_count('head_strikes_attempts',fighter1,'abs',day1),\n",
    "            avg_count('body_strikes_landed',fighter1,'abs',day1),avg_count('body_strikes_attempts',fighter1,'abs',day1),\n",
    "            avg_count('leg_strikes_landed',fighter1,'abs',day1),avg_count('leg_strikes_attempts',fighter1,'abs',day1),\n",
    "            avg_count('distance_strikes_landed',fighter1,'abs',day1),avg_count('distance_strikes_attempts',fighter1,'abs',day1),\n",
    "            avg_count('clinch_strikes_landed',fighter1,'abs',day1),avg_count('clinch_strikes_attempts',fighter1,'abs',day1),\n",
    "            avg_count('ground_strikes_landed',fighter1,'abs',day1),avg_count('ground_strikes_attempts',fighter1,'abs',day1),\n",
    "            avg_count('knockdowns',fighter2,'inf',day2), avg_count('pass',fighter2,'inf',day2),\n",
    "            avg_count('reversals',fighter2,'inf',day2),avg_count('sub_attempts',fighter2,'inf',day2),\n",
    "            avg_count('takedowns_landed',fighter2,'inf',day2),avg_count('takedowns_attempts',fighter2,'inf',day2),\n",
    "            avg_count('sig_strikes_landed',fighter2,'inf',day2),avg_count('sig_strikes_attempts',fighter2,'inf',day2),\n",
    "            avg_count('total_strikes_landed',fighter2,'inf',day2),avg_count('total_strikes_attempts',fighter2,'inf',day2),\n",
    "            avg_count('head_strikes_landed',fighter2,'inf',day2),avg_count('head_strikes_attempts',fighter2,'inf',day2),\n",
    "            avg_count('body_strikes_landed',fighter2,'inf',day2),avg_count('body_strikes_attempts',fighter2,'inf',day2),\n",
    "            avg_count('leg_strikes_landed',fighter2,'inf',day2),avg_count('leg_strikes_attempts',fighter2,'inf',day2),\n",
    "            avg_count('distance_strikes_landed',fighter2,'inf',day2),avg_count('distance_strikes_attempts',fighter2,'inf',day2),\n",
    "            avg_count('clinch_strikes_landed',fighter2,'inf',day2),avg_count('clinch_strikes_attempts',fighter2,'inf',day2),\n",
    "            avg_count('ground_strikes_landed',fighter2,'inf',day2),avg_count('ground_strikes_attempts',fighter2,'inf',day2),\n",
    "            avg_count('knockdowns',fighter2,'abs',day2), avg_count('pass',fighter2,'abs',day2),\n",
    "            avg_count('reversals',fighter2,'abs',day2),avg_count('sub_attempts',fighter2,'abs',day2),\n",
    "            avg_count('takedowns_landed',fighter2,'abs',day2),avg_count('takedowns_attempts',fighter2,'abs',day2),\n",
    "            avg_count('sig_strikes_landed',fighter2,'abs',day2),avg_count('sig_strikes_attempts',fighter2,'abs',day2),\n",
    "            avg_count('total_strikes_landed',fighter2,'abs',day2),avg_count('total_strikes_attempts',fighter2,'abs',day2),\n",
    "            avg_count('head_strikes_landed',fighter2,'abs',day2),avg_count('head_strikes_attempts',fighter2,'abs',day2),\n",
    "            avg_count('body_strikes_landed',fighter2,'abs',day2),avg_count('body_strikes_attempts',fighter2,'abs',day2),\n",
    "            avg_count('leg_strikes_landed',fighter2,'abs',day2),avg_count('leg_strikes_attempts',fighter2,'abs',day2),\n",
    "            avg_count('distance_strikes_landed',fighter2,'abs',day2),avg_count('distance_strikes_attempts',fighter2,'abs',day2),\n",
    "            avg_count('clinch_strikes_landed',fighter2,'abs',day2),avg_count('clinch_strikes_attempts',fighter2,'abs',day2),\n",
    "            avg_count('ground_strikes_landed',fighter2,'abs',day2),avg_count('ground_strikes_attempts',fighter2,'abs',day2),\n",
    "            stance(fighter1),stance(fighter2)]\n",
    "\n",
    "\n",
    "#date entered in the form 'Aug 20, 2013'\n",
    "#predicts what happens if the day1 version of fighter1 fights fighter2 at their day2 version\n",
    "#by default day1 and day2 are set to today if left unspecified\n",
    "def ufc_predict(fighter1,fighter2,day1=date.today(), day2=date.today()):\n",
    "    fighters=[fighter1,fighter2]\n",
    "    random_guy=fighters[random.choice([0,1])]\n",
    "    fighter1_fights=(ufcfightscrap['fighter']==fighter1).sum()\n",
    "    fighter2_fights=(ufcfightscrap['fighter']==fighter2).sum()\n",
    "    if fighter1_fights==0 and not fighter2_fights==0:\n",
    "        print('Either you spelled something wrong, or this is '+fighter1+\"'s UFC debut... so obviously I do not have enough data to make an educated pick. But since you are DEMANDING an outcome, hmmm... I guess I'll go with \"+random_guy+'.')\n",
    "    elif fighter2_fights==0 and not fighter1_fights==0:\n",
    "        print('Either you spelled something wrong, or this is '+fighter2+\"'s UFC debut... so obviously I do not have enough data to make an educated pick. But since you are DEMANDING an outcome, hmmm... I guess I'll go with \"+random_guy+'.') \n",
    "    elif fighter1_fights==0 and fighter2_fights==0:\n",
    "        print('Either you spelled some things wrong, or this is both '+fighter1+\"'s \"+'and '+fighter2+\"'s \"+\"UFC debuts... so obviously I do not have enough data to make an educated pick. But since you are DEMANDING an outcome, hmmm... I guess I'll go with \"+random_guy+'.')\n",
    "    else:\n",
    "        ufc_tuple=ufc_prediction_tuple(fighter1,fighter2,day1,day2)\n",
    "        if 'unknown' in ufc_tuple or 'NaN' in ufc_tuple:\n",
    "            print('Fighters have incomplete data on record, I honestly do not know what to do with this.')\n",
    "        else:\n",
    "            value=model.predict([ufc_tuple])[0]\n",
    "            result=mlp.predict([ufc_tuple])[0]\n",
    "            if value=='W':\n",
    "                print(fighter1+' wins by '+result)\n",
    "            else:\n",
    "                print(fighter2+' wins by '+result)\n",
    "\n",
    "def stance(fighter):\n",
    "    a=0\n",
    "    for i in range(len(ufcfighterscrap['name'])):\n",
    "        if ufcfighterscrap['name'][i]==fighter:\n",
    "            a=ufcfighterscrap['stance'][i]\n",
    "            break\n",
    "    if a=='Orthodox':\n",
    "        return 0\n",
    "    elif a=='Switch':\n",
    "        return 1\n",
    "    elif a=='Southpaw':\n",
    "        return 2\n",
    "    elif a=='Open Stance':\n",
    "        return 3\n",
    "    elif a=='Sideways':\n",
    "        return 4\n",
    "    else:\n",
    "        return 5\n",
    "    \n",
    "stance_vect= npy.vectorize(stance)\n",
    "\n",
    "def subsets(n):\n",
    "    lists=[]\n",
    "    for i in range(1,n+1):\n",
    "        lists.append(i)\n",
    "    subsets=[[]]\n",
    "    n=len(lists)\n",
    "    for i in range(1,n+1):\n",
    "        data = itertools.combinations(lists,i)\n",
    "        subsets.extend(list(data))\n",
    "    return subsets"
   ]
  },
  {
   "cell_type": "code",
   "execution_count": 3,
   "metadata": {},
   "outputs": [
    {
     "name": "stderr",
     "output_type": "stream",
     "text": [
      "/opt/anaconda2/lib/python2.7/site-packages/IPython/core/interactiveshell.py:2714: DtypeWarning: Columns (9,73) have mixed types. Specify dtype option on import or set low_memory=False.\n",
      "  interactivity=interactivity, compiler=compiler, result=result)\n",
      "/opt/anaconda2/lib/python2.7/site-packages/IPython/core/interactiveshell.py:2714: DtypeWarning: Columns (36,37,101,102) have mixed types. Specify dtype option on import or set low_memory=False.\n",
      "  interactivity=interactivity, compiler=compiler, result=result)\n"
     ]
    }
   ],
   "source": [
    "ufc_fights= pd.read_csv('ufc_fights.csv')\n",
    "ufc_fights_crap= pd.read_csv('ufc_fights_crap.csv')\n",
    "ufcfightscrap= pd.read_csv('ufc_fights_crap.csv')\n",
    "ufcfighterscrap=pd.read_csv('fighter_stats.csv',sep=',')"
   ]
  },
  {
   "cell_type": "code",
   "execution_count": 4,
   "metadata": {},
   "outputs": [
    {
     "name": "stderr",
     "output_type": "stream",
     "text": [
      "/opt/anaconda2/lib/python2.7/site-packages/pandas/core/ops.py:1649: FutureWarning: elementwise comparison failed; returning scalar instead, but in the future will perform elementwise comparison\n",
      "  result = method(y)\n"
     ]
    }
   ],
   "source": [
    "#adding mask to get rid of unknown stance\n",
    "stance_mask_a=ufc_fights['fighter_stance']!=5\n",
    "stance_mask_b=ufc_fights['opponent_stance']!=5\n",
    "ufc_fights_stance=ufc_fights[stance_mask_a&stance_mask_b]\n",
    "\n",
    "#gets rid of all unknown, NaN in ufc_fights_stance\n",
    "mask=ufc_fights_stance['fighter_wins'] != 'unknown'\n",
    "\n",
    "for col in ufc_fights_stance.columns:\n",
    "    mask1=ufc_fights_stance[col] != 'unknown'\n",
    "    mask2=ufc_fights_stance[col] != 'NaN'\n",
    "    mask3=ufc_fights_stance[col] != '--'\n",
    "    mask=mask&mask1&mask2&mask3\n",
    "\n",
    "#gets rid of ufc debut in ufc_fights_stance\n",
    "maska=ufc_fights_stance['fighter_inf_sig_strikes_attempts_avg'] != 0\n",
    "maskb=ufc_fights_stance['opponent_inf_sig_strikes_attempts_avg'] != 0\n",
    "mask=mask&maska&maskb\n",
    "\n",
    "#applies all masks resulting in ufc_fights_clean\n",
    "ufc_fights_clean=ufc_fights_stance[mask]"
   ]
  },
  {
   "cell_type": "code",
   "execution_count": 5,
   "metadata": {},
   "outputs": [],
   "source": [
    "#here we list all of the possible statistics. Next lets identify based on intuition which could help predict method\n",
    "record_statistics=[u'fighter_wins', \n",
    "                   u'fighter_losses',\n",
    "                   u'fighter_L5Y_wins',\n",
    "                   u'fighter_L5Y_losses', \n",
    "                   u'fighter_L2Y_wins', \n",
    "                   u'fighter_L2Y_losses',\n",
    "                    u'fighter_ko_wins',\n",
    "                   u'fighter_ko_losses',\n",
    "                   u'fighter_L5Y_ko_wins',\n",
    "                   u'fighter_L5Y_ko_losses',\n",
    "                   u'fighter_L2Y_ko_wins',\n",
    "                    u'fighter_L2Y_ko_losses',\n",
    "                   u'fighter_sub_wins',\n",
    "                   u'fighter_sub_losses',\n",
    "                   u'fighter_L5Y_sub_wins',\n",
    "                    u'fighter_L5Y_sub_losses', \n",
    "                   u'fighter_L2Y_sub_wins', \n",
    "                   u'fighter_L2Y_sub_losses',\n",
    "                   u'opponent_wins', \n",
    "                   u'opponent_losses',\n",
    "                   u'opponent_L5Y_wins', \n",
    "                   u'opponent_L5Y_losses', \n",
    "                   u'opponent_L2Y_wins', \n",
    "                   u'opponent_L2Y_losses', \n",
    "                    u'opponent_ko_wins', \n",
    "                   u'opponent_ko_losses', \n",
    "                   u'opponent_L5Y_ko_wins', \n",
    "                   u'opponent_L5Y_ko_losses', \n",
    "                   u'opponent_L2Y_ko_wins',\n",
    "                    u'opponent_L2Y_ko_losses', \n",
    "                   u'opponent_sub_wins', \n",
    "                   u'opponent_sub_losses',\n",
    "                   u'opponent_L5Y_sub_wins', \n",
    "                    u'opponent_L5Y_sub_losses', \n",
    "                   u'opponent_L2Y_sub_wins', \n",
    "                   u'opponent_L2Y_sub_losses']\n",
    "\n",
    "physical_stats=[ u'fighter_age',\n",
    "                u'fighter_height',\n",
    "                    u'fighter_reach',  \n",
    "                u'opponent_age',  \n",
    "                u'opponent_height',\n",
    "                    u'opponent_reach']\n",
    "\n",
    "#here is the list of all stats available (besides stance), does not include names or result\n",
    "punch_statistics=[    u'fighter_inf_knockdowns_avg',\n",
    "                    u'fighter_inf_pass_avg',\n",
    "                    u'fighter_inf_reversals_avg',\n",
    "                    u'fighter_inf_sub_attempts_avg',\n",
    "                    u'fighter_inf_takedowns_landed_avg',\n",
    "                    u'fighter_inf_takedowns_attempts_avg',\n",
    "                    u'fighter_inf_sig_strikes_landed_avg',\n",
    "                    u'fighter_inf_sig_strikes_attempts_avg',\n",
    "                    u'fighter_inf_total_strikes_landed_avg',\n",
    "                    u'fighter_inf_total_strikes_attempts_avg',\n",
    "                    u'fighter_inf_head_strikes_landed_avg',\n",
    "                    u'fighter_inf_head_strikes_attempts_avg',\n",
    "                    u'fighter_inf_body_strikes_landed_avg',\n",
    "                    u'fighter_inf_body_strikes_attempts_avg',\n",
    "                    u'fighter_inf_leg_strikes_landed_avg',\n",
    "                    u'fighter_inf_leg_strikes_attempts_avg',\n",
    "                    u'fighter_inf_distance_strikes_landed_avg',\n",
    "                    u'fighter_inf_distance_strikes_attempts_avg',\n",
    "                    u'fighter_inf_clinch_strikes_landed_avg',\n",
    "                    u'fighter_inf_clinch_strikes_attempts_avg',\n",
    "                    u'fighter_inf_ground_strikes_landed_avg',\n",
    "                    u'fighter_inf_ground_strikes_attempts_avg',\n",
    "                \n",
    "                    u'fighter_abs_knockdowns_avg',\n",
    "                    u'fighter_abs_pass_avg',\n",
    "                    u'fighter_abs_reversals_avg',\n",
    "                    u'fighter_abs_sub_attempts_avg',\n",
    "                    u'fighter_abs_takedowns_landed_avg',\n",
    "                    u'fighter_abs_takedowns_attempts_avg',\n",
    "                    u'fighter_abs_sig_strikes_landed_avg',\n",
    "                    u'fighter_abs_sig_strikes_attempts_avg',\n",
    "                    u'fighter_abs_total_strikes_landed_avg',\n",
    "                    u'fighter_abs_total_strikes_attempts_avg',\n",
    "                    u'fighter_abs_head_strikes_landed_avg',\n",
    "                    u'fighter_abs_head_strikes_attempts_avg',\n",
    "                    u'fighter_abs_body_strikes_landed_avg',\n",
    "                    u'fighter_abs_body_strikes_attempts_avg',\n",
    "                    u'fighter_abs_leg_strikes_landed_avg',\n",
    "                    u'fighter_abs_leg_strikes_attempts_avg',\n",
    "                    u'fighter_abs_distance_strikes_landed_avg',\n",
    "                    u'fighter_abs_distance_strikes_attempts_avg',\n",
    "                    u'fighter_abs_clinch_strikes_landed_avg',\n",
    "                    u'fighter_abs_clinch_strikes_attempts_avg',\n",
    "                    u'fighter_abs_ground_strikes_landed_avg',\n",
    "                    u'fighter_abs_ground_strikes_attempts_avg',\n",
    "                    \n",
    "                    u'opponent_inf_knockdowns_avg',\n",
    "                    u'opponent_inf_pass_avg',\n",
    "                    u'opponent_inf_reversals_avg',\n",
    "                    u'opponent_inf_sub_attempts_avg',\n",
    "                    u'opponent_inf_takedowns_landed_avg',\n",
    "                    u'opponent_inf_takedowns_attempts_avg',\n",
    "                    u'opponent_inf_sig_strikes_landed_avg',\n",
    "                    u'opponent_inf_sig_strikes_attempts_avg',\n",
    "                    u'opponent_inf_total_strikes_landed_avg',\n",
    "                    u'opponent_inf_total_strikes_attempts_avg',\n",
    "                    u'opponent_inf_head_strikes_landed_avg',\n",
    "                    u'opponent_inf_head_strikes_attempts_avg',\n",
    "                    u'opponent_inf_body_strikes_landed_avg',\n",
    "                    u'opponent_inf_body_strikes_attempts_avg',\n",
    "                    u'opponent_inf_leg_strikes_landed_avg',\n",
    "                    u'opponent_inf_leg_strikes_attempts_avg',\n",
    "                    u'opponent_inf_distance_strikes_landed_avg',\n",
    "                    u'opponent_inf_distance_strikes_attempts_avg',\n",
    "                    u'opponent_inf_clinch_strikes_landed_avg',\n",
    "                    u'opponent_inf_clinch_strikes_attempts_avg',\n",
    "                    u'opponent_inf_ground_strikes_landed_avg',\n",
    "                    u'opponent_inf_ground_strikes_attempts_avg',\n",
    "                \n",
    "                    u'opponent_abs_knockdowns_avg',\n",
    "                    u'opponent_abs_pass_avg',\n",
    "                    u'opponent_abs_reversals_avg',\n",
    "                    u'opponent_abs_sub_attempts_avg',\n",
    "                    u'opponent_abs_takedowns_landed_avg',\n",
    "                    u'opponent_abs_takedowns_attempts_avg',\n",
    "                    u'opponent_abs_sig_strikes_landed_avg',\n",
    "                    u'opponent_abs_sig_strikes_attempts_avg',\n",
    "                    u'opponent_abs_total_strikes_landed_avg',\n",
    "                    u'opponent_abs_total_strikes_attempts_avg',\n",
    "                    u'opponent_abs_head_strikes_landed_avg',\n",
    "                    u'opponent_abs_head_strikes_attempts_avg',\n",
    "                    u'opponent_abs_body_strikes_landed_avg',\n",
    "                    u'opponent_abs_body_strikes_attempts_avg',\n",
    "                    u'opponent_abs_leg_strikes_landed_avg',\n",
    "                    u'opponent_abs_leg_strikes_attempts_avg',\n",
    "                    u'opponent_abs_distance_strikes_landed_avg',\n",
    "                    u'opponent_abs_distance_strikes_attempts_avg',\n",
    "                    u'opponent_abs_clinch_strikes_landed_avg',\n",
    "                    u'opponent_abs_clinch_strikes_attempts_avg',\n",
    "                    u'opponent_abs_ground_strikes_landed_avg',\n",
    "                    u'opponent_abs_ground_strikes_attempts_avg']"
   ]
  },
  {
   "cell_type": "code",
   "execution_count": 6,
   "metadata": {},
   "outputs": [
    {
     "data": {
      "text/plain": [
       "3620"
      ]
     },
     "execution_count": 6,
     "metadata": {},
     "output_type": "execute_result"
    }
   ],
   "source": [
    "#Getting rid of all fights whose method is DQ, Overturned, or CNC or any draws\n",
    "method_mask1=ufc_fights_clean['method']!='DQ'\n",
    "method_mask2=ufc_fights_clean['method']!='Overturned'\n",
    "method_mask3=ufc_fights_clean['method']!='CNC'\n",
    "method_mask4=ufc_fights_clean['result']!='D'\n",
    "method_mask=method_mask1&method_mask2&method_mask3&method_mask4\n",
    "ufc_fights_clean=ufc_fights_clean[method_mask]\n",
    "method_mask.sum()"
   ]
  },
  {
   "cell_type": "code",
   "execution_count": 7,
   "metadata": {},
   "outputs": [],
   "source": [
    "#Now lets get rid of the different types of decisions (all become DEC)\n",
    "ufc_fights_clean['method'] = ufc_fights_clean['method'].replace(['U-DEC'],'DEC')\n",
    "ufc_fights_clean['method'] = ufc_fights_clean['method'].replace(['S-DEC'],'DEC')\n",
    "ufc_fights_clean['method'] = ufc_fights_clean['method'].replace(['M-DEC'],'DEC')"
   ]
  },
  {
   "cell_type": "code",
   "execution_count": 8,
   "metadata": {},
   "outputs": [
    {
     "data": {
      "text/plain": [
       "20"
      ]
     },
     "execution_count": 8,
     "metadata": {},
     "output_type": "execute_result"
    }
   ],
   "source": [
    "#here we list all of the possible statistics. Next lets identify based on intuition which could help predict method\n",
    "mlp_stats_grouped=[[u'fighter_L5Y_wins',\n",
    "                   u'fighter_L5Y_losses', \n",
    "                   u'fighter_L2Y_wins', \n",
    "                   u'fighter_L2Y_losses',\n",
    "                   u'opponent_L5Y_wins', \n",
    "                   u'opponent_L5Y_losses', \n",
    "                   u'opponent_L2Y_wins', \n",
    "                   u'opponent_L2Y_losses'], \n",
    "                   [u'fighter_ko_wins',\n",
    "                   u'fighter_ko_losses',\n",
    "                   u'opponent_ko_wins', \n",
    "                   u'opponent_ko_losses'],\n",
    "                   [u'fighter_L5Y_ko_wins',\n",
    "                   u'fighter_L5Y_ko_losses',\n",
    "                   u'fighter_L2Y_ko_wins',\n",
    "                    u'fighter_L2Y_ko_losses',\n",
    "                   u'opponent_L5Y_ko_wins', \n",
    "                   u'opponent_L5Y_ko_losses', \n",
    "                   u'opponent_L2Y_ko_wins',\n",
    "                    u'opponent_L2Y_ko_losses'],\n",
    "                   [u'fighter_sub_wins',\n",
    "                   u'fighter_sub_losses',\n",
    "                   u'opponent_sub_wins', \n",
    "                   u'opponent_sub_losses'],\n",
    "                   [u'fighter_L5Y_sub_wins',\n",
    "                    u'fighter_L5Y_sub_losses', \n",
    "                   u'fighter_L2Y_sub_wins', \n",
    "                   u'fighter_L2Y_sub_losses',\n",
    "                   u'opponent_L5Y_sub_wins', \n",
    "                    u'opponent_L5Y_sub_losses', \n",
    "                   u'opponent_L2Y_sub_wins', \n",
    "                   u'opponent_L2Y_sub_losses'],\n",
    "                    [u'fighter_age', \n",
    "                     u'opponent_age'],\n",
    "                    [u'fighter_height',\n",
    "                     u'fighter_reach', \n",
    "                    u'opponent_height',\n",
    "                     u'opponent_reach'],\n",
    "                    [u'fighter_inf_knockdowns_avg',\n",
    "                    u'fighter_abs_knockdowns_avg',\n",
    "                    u'opponent_inf_knockdowns_avg',\n",
    "                    u'opponent_abs_knockdowns_avg'],\n",
    "                    [u'fighter_inf_pass_avg',\n",
    "                    u'fighter_abs_pass_avg',\n",
    "                    u'opponent_inf_pass_avg',\n",
    "                    u'opponent_abs_pass_avg'],\n",
    "                    [u'fighter_inf_reversals_avg',\n",
    "                    u'fighter_abs_reversals_avg',\n",
    "                    u'opponent_inf_reversals_avg',\n",
    "                    u'opponent_abs_reversals_avg'],\n",
    "                    [u'fighter_inf_sub_attempts_avg',\n",
    "                    u'fighter_abs_sub_attempts_avg',\n",
    "                    u'opponent_inf_sub_attempts_avg',\n",
    "                    u'opponent_abs_sub_attempts_avg'],\n",
    "                    [u'fighter_inf_takedowns_landed_avg',\n",
    "                    u'fighter_inf_takedowns_attempts_avg',\n",
    "                    u'fighter_abs_takedowns_landed_avg',\n",
    "                    u'fighter_abs_takedowns_attempts_avg',\n",
    "                    u'opponent_inf_takedowns_landed_avg',\n",
    "                    u'opponent_inf_takedowns_attempts_avg',\n",
    "                    u'opponent_abs_takedowns_landed_avg',\n",
    "                    u'opponent_abs_takedowns_attempts_avg'],\n",
    "                    [u'fighter_inf_sig_strikes_landed_avg',\n",
    "                    u'fighter_inf_sig_strikes_attempts_avg',\n",
    "                    u'fighter_abs_sig_strikes_landed_avg',\n",
    "                    u'fighter_abs_sig_strikes_attempts_avg',\n",
    "                    u'opponent_inf_sig_strikes_landed_avg',\n",
    "                    u'opponent_inf_sig_strikes_attempts_avg',\n",
    "                    u'opponent_abs_sig_strikes_landed_avg',\n",
    "                    u'opponent_abs_sig_strikes_attempts_avg'],\n",
    "                    [u'fighter_inf_total_strikes_landed_avg',\n",
    "                    u'fighter_inf_total_strikes_attempts_avg',\n",
    "                    u'fighter_abs_total_strikes_landed_avg',\n",
    "                    u'fighter_abs_total_strikes_attempts_avg',\n",
    "                    u'opponent_inf_total_strikes_landed_avg',\n",
    "                    u'opponent_inf_total_strikes_attempts_avg',\n",
    "                    u'opponent_abs_total_strikes_landed_avg',\n",
    "                    u'opponent_abs_total_strikes_attempts_avg'],\n",
    "                    [u'fighter_inf_head_strikes_landed_avg',\n",
    "                    u'fighter_inf_head_strikes_attempts_avg',\n",
    "                    u'fighter_abs_head_strikes_landed_avg',\n",
    "                    u'fighter_abs_head_strikes_attempts_avg',\n",
    "                    u'opponent_inf_head_strikes_landed_avg',\n",
    "                    u'opponent_inf_head_strikes_attempts_avg',\n",
    "                    u'opponent_abs_head_strikes_landed_avg',\n",
    "                    u'opponent_abs_head_strikes_attempts_avg'],\n",
    "                    [u'fighter_inf_body_strikes_landed_avg',\n",
    "                    u'fighter_inf_body_strikes_attempts_avg',\n",
    "                    u'fighter_abs_body_strikes_landed_avg',\n",
    "                    u'fighter_abs_body_strikes_attempts_avg',\n",
    "                    u'opponent_inf_body_strikes_landed_avg',\n",
    "                    u'opponent_inf_body_strikes_attempts_avg',\n",
    "                    u'opponent_abs_body_strikes_landed_avg',\n",
    "                    u'opponent_abs_body_strikes_attempts_avg'],\n",
    "                    [u'fighter_inf_leg_strikes_landed_avg',\n",
    "                    u'fighter_inf_leg_strikes_attempts_avg',\n",
    "                    u'fighter_abs_leg_strikes_landed_avg',\n",
    "                    u'fighter_abs_leg_strikes_attempts_avg',\n",
    "                    u'opponent_inf_leg_strikes_landed_avg',\n",
    "                    u'opponent_inf_leg_strikes_attempts_avg',\n",
    "                    u'opponent_abs_leg_strikes_landed_avg',\n",
    "                    u'opponent_abs_leg_strikes_attempts_avg'],\n",
    "                    [u'fighter_inf_distance_strikes_landed_avg',\n",
    "                    u'fighter_inf_distance_strikes_attempts_avg',\n",
    "                    u'fighter_abs_distance_strikes_landed_avg',\n",
    "                    u'fighter_abs_distance_strikes_attempts_avg',\n",
    "                    u'opponent_inf_distance_strikes_landed_avg',\n",
    "                    u'opponent_inf_distance_strikes_attempts_avg',\n",
    "                    u'opponent_abs_distance_strikes_landed_avg',\n",
    "                    u'opponent_abs_distance_strikes_attempts_avg'],\n",
    "                    [u'fighter_inf_clinch_strikes_landed_avg',\n",
    "                    u'fighter_inf_clinch_strikes_attempts_avg',\n",
    "                    u'fighter_abs_clinch_strikes_landed_avg',\n",
    "                    u'fighter_abs_clinch_strikes_attempts_avg',\n",
    "                    u'opponent_inf_clinch_strikes_landed_avg',\n",
    "                    u'opponent_inf_clinch_strikes_attempts_avg',\n",
    "                    u'opponent_abs_clinch_strikes_landed_avg',\n",
    "                    u'opponent_abs_clinch_strikes_attempts_avg'],\n",
    "                    [u'fighter_inf_ground_strikes_landed_avg',\n",
    "                    u'fighter_inf_ground_strikes_attempts_avg',\n",
    "                    u'fighter_abs_ground_strikes_landed_avg',\n",
    "                    u'fighter_abs_ground_strikes_attempts_avg',\n",
    "                    u'opponent_inf_ground_strikes_landed_avg',\n",
    "                    u'opponent_inf_ground_strikes_attempts_avg',\n",
    "                    u'opponent_abs_ground_strikes_landed_avg',\n",
    "                    u'opponent_abs_ground_strikes_attempts_avg']\n",
    "                    ]\n",
    "len(mlp_stats_grouped)"
   ]
  },
  {
   "cell_type": "code",
   "execution_count": 9,
   "metadata": {},
   "outputs": [],
   "source": [
    "mlp_stats=[]\n",
    "for stat in mlp_stats_grouped:\n",
    "    mlp_stats.extend(stat)"
   ]
  },
  {
   "cell_type": "code",
   "execution_count": 45,
   "metadata": {},
   "outputs": [
    {
     "data": {
      "text/plain": [
       "0.5059780338020753"
      ]
     },
     "execution_count": 45,
     "metadata": {},
     "output_type": "execute_result"
    }
   ],
   "source": [
    "#taking all stats gives us under .505 (this is bad...)\n",
    "mlp=MLPClassifier(max_iter=1000,alpha=.00001,solver='sgd',random_state=3)\n",
    "Xo=ufc_fights_clean[mlp_stats].iloc[0:2091]\n",
    "yo=ufc_fights_clean.iloc[0:2091]['method']\n",
    "cross_val_score(mlp,Xo,yo,cv=5).mean()"
   ]
  },
  {
   "cell_type": "code",
   "execution_count": 40,
   "metadata": {},
   "outputs": [
    {
     "name": "stdout",
     "output_type": "stream",
     "text": [
      "[[u'fighter_L5Y_wins', u'fighter_L5Y_losses', u'fighter_L2Y_wins', u'fighter_L2Y_losses', u'opponent_L5Y_wins', u'opponent_L5Y_losses', u'opponent_L2Y_wins', u'opponent_L2Y_losses'], 0.49449700382891776]\n",
      "[[u'fighter_ko_wins', u'fighter_ko_losses', u'opponent_ko_wins', u'opponent_ko_losses'], 0.5829696147616513]\n",
      "[[u'fighter_L5Y_ko_wins', u'fighter_L5Y_ko_losses', u'fighter_L2Y_ko_wins', u'fighter_L2Y_ko_losses', u'opponent_L5Y_ko_wins', u'opponent_L5Y_ko_losses', u'opponent_L2Y_ko_wins', u'opponent_L2Y_ko_losses'], 0.5179432587581487]\n",
      "[[u'fighter_sub_wins', u'fighter_sub_losses', u'opponent_sub_wins', u'opponent_sub_losses'], 0.5293876593236151]\n",
      "[[u'fighter_L5Y_sub_wins', u'fighter_L5Y_sub_losses', u'fighter_L2Y_sub_wins', u'fighter_L2Y_sub_losses', u'opponent_L5Y_sub_wins', u'opponent_L5Y_sub_losses', u'opponent_L2Y_sub_wins', u'opponent_L2Y_sub_losses'], 0.49593814208776177]\n",
      "[[u'fighter_age', u'opponent_age'], 0.5007182797914413]\n",
      "[[u'fighter_height', u'fighter_reach', u'opponent_height', u'opponent_reach'], 0.5011956067604151]\n",
      "[[u'fighter_inf_knockdowns_avg', u'fighter_abs_knockdowns_avg', u'opponent_inf_knockdowns_avg', u'opponent_abs_knockdowns_avg'], 0.5011956067604151]\n",
      "[[u'fighter_inf_pass_avg', u'fighter_abs_pass_avg', u'opponent_inf_pass_avg', u'opponent_abs_pass_avg'], 0.5011956067604151]\n",
      "[[u'fighter_inf_reversals_avg', u'fighter_abs_reversals_avg', u'opponent_inf_reversals_avg', u'opponent_abs_reversals_avg'], 0.5011956067604151]\n",
      "[[u'fighter_inf_sub_attempts_avg', u'fighter_abs_sub_attempts_avg', u'opponent_inf_sub_attempts_avg', u'opponent_abs_sub_attempts_avg'], 0.5011956067604151]\n",
      "[[u'fighter_inf_takedowns_landed_avg', u'fighter_inf_takedowns_attempts_avg', u'fighter_abs_takedowns_landed_avg', u'fighter_abs_takedowns_attempts_avg', u'opponent_inf_takedowns_landed_avg', u'opponent_inf_takedowns_attempts_avg', u'opponent_abs_takedowns_landed_avg', u'opponent_abs_takedowns_attempts_avg'], 0.5011956067604151]\n",
      "[[u'fighter_inf_sig_strikes_landed_avg', u'fighter_inf_sig_strikes_attempts_avg', u'fighter_abs_sig_strikes_landed_avg', u'fighter_abs_sig_strikes_attempts_avg', u'opponent_inf_sig_strikes_landed_avg', u'opponent_inf_sig_strikes_attempts_avg', u'opponent_abs_sig_strikes_landed_avg', u'opponent_abs_sig_strikes_attempts_avg'], 0.49448555713901426]\n",
      "[[u'fighter_inf_total_strikes_landed_avg', u'fighter_inf_total_strikes_attempts_avg', u'fighter_abs_total_strikes_landed_avg', u'fighter_abs_total_strikes_attempts_avg', u'opponent_inf_total_strikes_landed_avg', u'opponent_inf_total_strikes_attempts_avg', u'opponent_abs_total_strikes_landed_avg', u'opponent_abs_total_strikes_attempts_avg'], 0.5002317954705447]\n",
      "[[u'fighter_inf_head_strikes_landed_avg', u'fighter_inf_head_strikes_attempts_avg', u'fighter_abs_head_strikes_landed_avg', u'fighter_abs_head_strikes_attempts_avg', u'opponent_inf_head_strikes_landed_avg', u'opponent_inf_head_strikes_attempts_avg', u'opponent_abs_head_strikes_landed_avg', u'opponent_abs_head_strikes_attempts_avg'], 0.5045574995850575]\n",
      "[[u'fighter_inf_body_strikes_landed_avg', u'fighter_inf_body_strikes_attempts_avg', u'fighter_abs_body_strikes_landed_avg', u'fighter_abs_body_strikes_attempts_avg', u'opponent_inf_body_strikes_landed_avg', u'opponent_inf_body_strikes_attempts_avg', u'opponent_abs_body_strikes_landed_avg', u'opponent_abs_body_strikes_attempts_avg'], 0.5016729337293888]\n",
      "[[u'fighter_inf_leg_strikes_landed_avg', u'fighter_inf_leg_strikes_attempts_avg', u'fighter_abs_leg_strikes_landed_avg', u'fighter_abs_leg_strikes_attempts_avg', u'opponent_inf_leg_strikes_landed_avg', u'opponent_inf_leg_strikes_attempts_avg', u'opponent_abs_leg_strikes_landed_avg', u'opponent_abs_leg_strikes_attempts_avg'], 0.5011956067604151]\n",
      "[[u'fighter_inf_distance_strikes_landed_avg', u'fighter_inf_distance_strikes_attempts_avg', u'fighter_abs_distance_strikes_landed_avg', u'fighter_abs_distance_strikes_attempts_avg', u'opponent_inf_distance_strikes_landed_avg', u'opponent_inf_distance_strikes_attempts_avg', u'opponent_abs_distance_strikes_landed_avg', u'opponent_abs_distance_strikes_attempts_avg'], 0.498811261253527]\n",
      "[[u'fighter_inf_clinch_strikes_landed_avg', u'fighter_inf_clinch_strikes_attempts_avg', u'fighter_abs_clinch_strikes_landed_avg', u'fighter_abs_clinch_strikes_attempts_avg', u'opponent_inf_clinch_strikes_landed_avg', u'opponent_inf_clinch_strikes_attempts_avg', u'opponent_abs_clinch_strikes_landed_avg', u'opponent_abs_clinch_strikes_attempts_avg'], 0.5026344556812783]\n",
      "[[u'fighter_inf_ground_strikes_landed_avg', u'fighter_inf_ground_strikes_attempts_avg', u'fighter_abs_ground_strikes_landed_avg', u'fighter_abs_ground_strikes_attempts_avg', u'opponent_inf_ground_strikes_landed_avg', u'opponent_inf_ground_strikes_attempts_avg', u'opponent_abs_ground_strikes_landed_avg', u'opponent_abs_ground_strikes_attempts_avg'], 0.5016798017433308]\n"
     ]
    }
   ],
   "source": [
    "mlp_single_scores=[]\n",
    "mlp=MLPClassifier(max_iter=1000,alpha=.0001,solver='sgd',random_state=3)\n",
    "for stat in mlp_stats_grouped:\n",
    "    Xo=ufc_fights_clean[stat].iloc[0:2091]\n",
    "    yo=ufc_fights_clean.iloc[0:2091]['method']\n",
    "    mlp_single_scores.append([stat,cross_val_score(mlp,Xo,yo,cv=5).mean()])\n",
    "    print([stat,cross_val_score(mlp,Xo,yo,cv=5).mean()])"
   ]
  },
  {
   "cell_type": "code",
   "execution_count": 43,
   "metadata": {},
   "outputs": [
    {
     "data": {
      "text/plain": [
       "[0.5829696147616513,\n",
       " 0.5179432587581487,\n",
       " 0.5293876593236151,\n",
       " 0.5045574995850575,\n",
       " 0.5026344556812783]"
      ]
     },
     "execution_count": 43,
     "metadata": {},
     "output_type": "execute_result"
    }
   ],
   "source": [
    "[score[1] for score in mlp_single_scores if score[1]>.502]"
   ]
  },
  {
   "cell_type": "code",
   "execution_count": 10,
   "metadata": {},
   "outputs": [],
   "source": [
    "mlp_base_set=[]\n",
    "for i in (1,2,3,14,18):\n",
    "    mlp_base_set.extend(mlp_stats_grouped[i])"
   ]
  },
  {
   "cell_type": "code",
   "execution_count": 11,
   "metadata": {},
   "outputs": [],
   "source": [
    "mlp_base_set_grouped=[]\n",
    "for i in (1,2,3,14,18):\n",
    "    mlp_base_set_grouped.append(mlp_stats_grouped[i])"
   ]
  },
  {
   "cell_type": "code",
   "execution_count": 12,
   "metadata": {},
   "outputs": [],
   "source": [
    "mlp_add_backs=[]\n",
    "for i in (0,4,5,6,7,8,9,10,11,12,13,15,16,17,19):\n",
    "    mlp_add_backs.append(mlp_stats_grouped[i]) "
   ]
  },
  {
   "cell_type": "code",
   "execution_count": 13,
   "metadata": {},
   "outputs": [],
   "source": [
    "mlp=MLPClassifier(max_iter=2000,alpha=.001,solver='sgd',random_state=3)"
   ]
  },
  {
   "cell_type": "code",
   "execution_count": 49,
   "metadata": {},
   "outputs": [
    {
     "data": {
      "text/plain": [
       "0.6427453741064428"
      ]
     },
     "execution_count": 49,
     "metadata": {},
     "output_type": "execute_result"
    }
   ],
   "source": [
    "#COOL... WE ALMOST IMMEDIATELY GOT A HUGE IMPROVEMENT\n",
    "Xo=ufc_fights_clean[mlp_base_set].iloc[0:2091]\n",
    "yo=ufc_fights_clean.iloc[0:2091]['method']\n",
    "cross_val_score(mlp,Xo,yo,cv=5).mean()"
   ]
  },
  {
   "cell_type": "code",
   "execution_count": 56,
   "metadata": {},
   "outputs": [
    {
     "name": "stdout",
     "output_type": "stream",
     "text": [
      "CPU times: user 1min 3s, sys: 367 ms, total: 1min 3s\n",
      "Wall time: 32.6 s\n"
     ]
    },
    {
     "data": {
      "text/plain": [
       "0.6307901657839021"
      ]
     },
     "execution_count": 56,
     "metadata": {},
     "output_type": "execute_result"
    }
   ],
   "source": [
    "time cross_val_score(mlp,Xo,yo,cv=4).mean()"
   ]
  },
  {
   "cell_type": "code",
   "execution_count": 49,
   "metadata": {},
   "outputs": [],
   "source": [
    "#now lets do some add backs"
   ]
  },
  {
   "cell_type": "code",
   "execution_count": 50,
   "metadata": {},
   "outputs": [
    {
     "data": {
      "text/plain": [
       "15"
      ]
     },
     "execution_count": 50,
     "metadata": {},
     "output_type": "execute_result"
    }
   ],
   "source": [
    "len(mlp_add_backs)"
   ]
  },
  {
   "cell_type": "code",
   "execution_count": null,
   "metadata": {},
   "outputs": [],
   "source": [
    "#clearly cant do all 2^15 (would take years) so lets see whats reasonable. It takes 33 seconds to do the simplest\n",
    "#computation with cv=4. If we go up to subsets of size 2, it will take 120*33/60/60=1.1 hours"
   ]
  },
  {
   "cell_type": "code",
   "execution_count": null,
   "metadata": {},
   "outputs": [],
   "source": [
    "Xo=ufc_fights_clean[mlp_base_set].iloc[0:2091]\n",
    "cross_val_score(mlp,Xo,yo,cv=5).mean()"
   ]
  },
  {
   "cell_type": "code",
   "execution_count": null,
   "metadata": {},
   "outputs": [
    {
     "name": "stdout",
     "output_type": "stream",
     "text": [
      "[[], 0.6307901657839021]\n",
      "[(1,), 0.6135725954740922]\n",
      "[(2,), 0.650402372109038]\n",
      "[(3,), 0.6001745382885357]\n",
      "[(4,), 0.5011959444114782]\n",
      "[(5,), 0.632225115931518]\n",
      "[(6,), 0.6346170047544742]\n",
      "[(7,), 0.6331902961839666]\n",
      "[(8,), 0.6355730276990249]\n",
      "[(9,), 0.6250540281165982]\n",
      "[(10,), 0.610225599437375]\n",
      "[(11,), 0.603050848699296]\n",
      "[(12,), 0.6303185644271554]\n",
      "[(13,), 0.6240980051720475]\n",
      "[(14,), 0.6121468026343744]\n"
     ]
    }
   ],
   "source": [
    "#this adds subsets of size 1 from mlp_add_backs to mlp_base_set\n",
    "mlp=MLPClassifier(max_iter=2000,alpha=.001,solver='sgd',random_state=3)\n",
    "yo=ufc_fights_clean.iloc[0:2091]['method']\n",
    "mlp_data_points=[]\n",
    "SUB=[S for S in subsets(15) if len(S)<2]\n",
    "for S in SUB:\n",
    "    candidate=[]\n",
    "    candidate.extend(mlp_base_set)\n",
    "    for i in S:\n",
    "        candidate.extend(mlp_add_backs[i-1])\n",
    "    Xo=ufc_fights_clean[candidate].iloc[0:2091]\n",
    "    point=[S,cross_val_score(mlp,Xo,yo,cv=4).mean()]\n",
    "    mlp_data_points.append(point)\n",
    "    print(point)"
   ]
  },
  {
   "cell_type": "code",
   "execution_count": 18,
   "metadata": {},
   "outputs": [],
   "source": [
    "its=[8,4,3,9,2]"
   ]
  },
  {
   "cell_type": "code",
   "execution_count": 19,
   "metadata": {},
   "outputs": [],
   "source": [
    "its.remove(4)"
   ]
  },
  {
   "cell_type": "code",
   "execution_count": 20,
   "metadata": {},
   "outputs": [
    {
     "data": {
      "text/plain": [
       "[8, 3, 9, 2]"
      ]
     },
     "execution_count": 20,
     "metadata": {},
     "output_type": "execute_result"
    }
   ],
   "source": [
    "its"
   ]
  },
  {
   "cell_type": "code",
   "execution_count": 21,
   "metadata": {},
   "outputs": [
    {
     "data": {
      "text/plain": [
       "[u'fighter_L5Y_sub_wins',\n",
       " u'fighter_L5Y_sub_losses',\n",
       " u'fighter_L2Y_sub_wins',\n",
       " u'fighter_L2Y_sub_losses',\n",
       " u'opponent_L5Y_sub_wins',\n",
       " u'opponent_L5Y_sub_losses',\n",
       " u'opponent_L2Y_sub_wins',\n",
       " u'opponent_L2Y_sub_losses']"
      ]
     },
     "execution_count": 21,
     "metadata": {},
     "output_type": "execute_result"
    }
   ],
   "source": [
    "mlp_add_backs[1]"
   ]
  },
  {
   "cell_type": "code",
   "execution_count": 14,
   "metadata": {},
   "outputs": [],
   "source": [
    "#the highest is 2 (actually the index 1 because of the stupid way I wrote it) with .65 so we add that\n",
    "#removing from mlp_add_backs and adding to mlp_base_set\n",
    "mlp_base_set.extend(mlp_add_backs[1])\n",
    "mlp_add_backs.remove(mlp_add_backs[1])"
   ]
  },
  {
   "cell_type": "code",
   "execution_count": 15,
   "metadata": {},
   "outputs": [
    {
     "data": {
      "text/plain": [
       "0.6695352071564705"
      ]
     },
     "execution_count": 15,
     "metadata": {},
     "output_type": "execute_result"
    }
   ],
   "source": [
    "#COOL... WOWWW THIS IS GETTING GOOD. ALMOST AT OUR GOAL\n",
    "Xo=ufc_fights_clean[mlp_base_set].iloc[0:2091]\n",
    "yo=ufc_fights_clean.iloc[0:2091]['method']\n",
    "cross_val_score(mlp,Xo,yo,cv=5).mean()"
   ]
  },
  {
   "cell_type": "code",
   "execution_count": 53,
   "metadata": {},
   "outputs": [
    {
     "data": {
      "text/plain": [
       "0.6532651492802782"
      ]
     },
     "execution_count": 53,
     "metadata": {},
     "output_type": "execute_result"
    }
   ],
   "source": [
    "#COOL... WOWWW THIS IS GETTING GOOD. ALMOST AT OUR GOAL\n",
    "Xo=ufc_fights_clean[mlp_base_set].iloc[0:2091]\n",
    "yo=ufc_fights_clean.iloc[0:2091]['method']\n",
    "cross_val_score(mlp,Xo,yo,cv=6).mean()"
   ]
  },
  {
   "cell_type": "code",
   "execution_count": 54,
   "metadata": {},
   "outputs": [
    {
     "data": {
      "text/plain": [
       "0.6585091967117063"
      ]
     },
     "execution_count": 54,
     "metadata": {},
     "output_type": "execute_result"
    }
   ],
   "source": [
    "#COOL... WOWWW THIS IS GETTING GOOD. ALMOST AT OUR GOAL\n",
    "Xo=ufc_fights_clean[mlp_base_set].iloc[0:2091]\n",
    "yo=ufc_fights_clean.iloc[0:2091]['method']\n",
    "cross_val_score(mlp,Xo,yo,cv=7).mean()"
   ]
  },
  {
   "cell_type": "code",
   "execution_count": 55,
   "metadata": {},
   "outputs": [
    {
     "data": {
      "text/plain": [
       "0.648520443976485"
      ]
     },
     "execution_count": 55,
     "metadata": {},
     "output_type": "execute_result"
    }
   ],
   "source": [
    "#COOL... WOWWW THIS IS GETTING GOOD. ALMOST AT OUR GOAL\n",
    "Xo=ufc_fights_clean[mlp_base_set].iloc[0:2091]\n",
    "yo=ufc_fights_clean.iloc[0:2091]['method']\n",
    "cross_val_score(mlp,Xo,yo,cv=8).mean()"
   ]
  },
  {
   "cell_type": "code",
   "execution_count": 56,
   "metadata": {},
   "outputs": [
    {
     "data": {
      "text/plain": [
       "0.6656619366031827"
      ]
     },
     "execution_count": 56,
     "metadata": {},
     "output_type": "execute_result"
    }
   ],
   "source": [
    "#COOL... WOWWW THIS IS GETTING GOOD. ALMOST AT OUR GOAL\n",
    "Xo=ufc_fights_clean[mlp_base_set].iloc[0:2091]\n",
    "yo=ufc_fights_clean.iloc[0:2091]['method']\n",
    "cross_val_score(mlp,Xo,yo,cv=9).mean()"
   ]
  },
  {
   "cell_type": "code",
   "execution_count": 57,
   "metadata": {},
   "outputs": [
    {
     "data": {
      "text/plain": [
       "0.6632227802708353"
      ]
     },
     "execution_count": 57,
     "metadata": {},
     "output_type": "execute_result"
    }
   ],
   "source": [
    "#COOL... WOWWW THIS IS GETTING GOOD. ALMOST AT OUR GOAL\n",
    "Xo=ufc_fights_clean[mlp_base_set].iloc[0:2091]\n",
    "yo=ufc_fights_clean.iloc[0:2091]['method']\n",
    "cross_val_score(mlp,Xo,yo,cv=10).mean()"
   ]
  },
  {
   "cell_type": "code",
   "execution_count": 58,
   "metadata": {},
   "outputs": [
    {
     "data": {
      "text/plain": [
       "0.6647780207300736"
      ]
     },
     "execution_count": 58,
     "metadata": {},
     "output_type": "execute_result"
    }
   ],
   "source": [
    "#COOL... WOWWW THIS IS GETTING GOOD. ALMOST AT OUR GOAL\n",
    "Xo=ufc_fights_clean[mlp_base_set].iloc[0:2091]\n",
    "yo=ufc_fights_clean.iloc[0:2091]['method']\n",
    "cross_val_score(mlp,Xo,yo,cv=11).mean()"
   ]
  },
  {
   "cell_type": "code",
   "execution_count": null,
   "metadata": {},
   "outputs": [],
   "source": [
    "#we tried another round of adding one or two element sets to mlp_base_set to no avail. Now lets try refining\n",
    "#mlp_base_set"
   ]
  },
  {
   "cell_type": "code",
   "execution_count": 17,
   "metadata": {},
   "outputs": [],
   "source": [
    "mlp_base_set_grouped_refined=[\n",
    "    [u'fighter_ko_wins',\n",
    "    u'opponent_ko_wins'],\n",
    "  [u'fighter_ko_losses',\n",
    "  u'opponent_ko_losses'],\n",
    " [u'fighter_L5Y_ko_wins',\n",
    "  u'opponent_L5Y_ko_wins'],\n",
    "  [u'fighter_L5Y_ko_losses',\n",
    "  u'opponent_L5Y_ko_losses'],\n",
    "  [u'fighter_L2Y_ko_wins',\n",
    "   u'opponent_L2Y_ko_wins'],\n",
    "  [u'fighter_L2Y_ko_losses',\n",
    "    u'opponent_L2Y_ko_losses'],\n",
    " [u'fighter_sub_wins',\n",
    "  u'opponent_sub_wins'],\n",
    "  [u'fighter_sub_losses',\n",
    "  u'opponent_sub_losses'],\n",
    " [u'fighter_inf_head_strikes_landed_avg',\n",
    "  u'opponent_inf_head_strikes_landed_avg'],\n",
    "  [u'fighter_abs_head_strikes_landed_avg',\n",
    "  u'opponent_abs_head_strikes_landed_avg'],\n",
    "  [u'fighter_inf_head_strikes_attempts_avg',\n",
    "   u'opponent_inf_head_strikes_attempts_avg'],\n",
    "  [u'fighter_abs_head_strikes_attempts_avg',\n",
    "  u'opponent_abs_head_strikes_attempts_avg'],\n",
    " [u'fighter_inf_clinch_strikes_landed_avg',\n",
    "  u'opponent_inf_clinch_strikes_landed_avg'],\n",
    "  [u'fighter_abs_clinch_strikes_landed_avg',\n",
    "  u'opponent_abs_clinch_strikes_landed_avg'],\n",
    "  [u'fighter_inf_clinch_strikes_attempts_avg',\n",
    "   u'opponent_inf_clinch_strikes_attempts_avg'],\n",
    "  [u'fighter_abs_clinch_strikes_attempts_avg',\n",
    "  u'opponent_abs_clinch_strikes_attempts_avg'],\n",
    "  [u'fighter_L5Y_sub_wins',\n",
    "   u'opponent_L5Y_sub_wins'],\n",
    "  [u'fighter_L5Y_sub_losses',\n",
    "   u'opponent_L5Y_sub_losses'],\n",
    "  [u'fighter_L2Y_sub_wins',\n",
    "     u'opponent_L2Y_sub_wins'],\n",
    "  [u'fighter_L2Y_sub_losses',\n",
    "  u'opponent_L2Y_sub_losses']]"
   ]
  },
  {
   "cell_type": "code",
   "execution_count": 18,
   "metadata": {},
   "outputs": [
    {
     "data": {
      "text/plain": [
       "20"
      ]
     },
     "execution_count": 18,
     "metadata": {},
     "output_type": "execute_result"
    }
   ],
   "source": [
    "len(mlp_base_set_grouped_refined)"
   ]
  },
  {
   "cell_type": "code",
   "execution_count": 19,
   "metadata": {},
   "outputs": [
    {
     "name": "stdout",
     "output_type": "stream",
     "text": [
      "[0, 0.5973031598587478]\n"
     ]
    },
    {
     "name": "stderr",
     "output_type": "stream",
     "text": [
      "/opt/anaconda2/lib/python2.7/site-packages/sklearn/neural_network/multilayer_perceptron.py:562: ConvergenceWarning: Stochastic Optimizer: Maximum iterations (2000) reached and the optimization hasn't converged yet.\n",
      "  % self.max_iter, ConvergenceWarning)\n"
     ]
    },
    {
     "name": "stdout",
     "output_type": "stream",
     "text": [
      "[1, 0.5925390475209331]\n",
      "[2, 0.6446294992645502]\n",
      "[3, 0.6355305254603]\n",
      "[4, 0.6522827561339949]\n",
      "[5, 0.6570583151617131]\n",
      "[6, 0.612100295896934]\n",
      "[7, 0.5911070666140119]\n",
      "[8, 0.6599451703553625]\n",
      "[9, 0.6412904998197148]\n",
      "[10, 0.6508439072131317]\n",
      "[11, 0.6451251409373695]\n",
      "[12, 0.6408108835127602]\n",
      "[13, 0.6431929396816675]\n",
      "[14, 0.6513212341821053]\n",
      "[15, 0.6484824550860504]\n",
      "[16, 0.6360192991191772]\n",
      "[17, 0.6494233729961139]\n",
      "[18, 0.6494119263062104]\n",
      "[19, 0.641301946509618]\n"
     ]
    }
   ],
   "source": [
    "test_scores=[]\n",
    "test=[]\n",
    "for j in range(len(mlp_base_set_grouped_refined)):\n",
    "    test.extend(mlp_base_set_grouped_refined[j])\n",
    "Xo=ufc_fights_clean[test].iloc[0:2091]\n",
    "yo=ufc_fights_clean.iloc[0:2091]['method']\n",
    "test_scores.append(['empty',cross_val_score(mlp,Xo,yo,cv=5).mean()])\n",
    "for i in range(len(mlp_base_set_grouped_refined)):\n",
    "    test=[]\n",
    "    for j in range(len(mlp_base_set_grouped_refined)):\n",
    "        if j!=i:\n",
    "            test.extend(mlp_base_set_grouped_refined[j])\n",
    "    Xo=ufc_fights_clean[test].iloc[0:2091]\n",
    "    yo=ufc_fights_clean.iloc[0:2091]['method']\n",
    "    test_scores.append([i,cross_val_score(mlp,Xo,yo,cv=5).mean()])\n",
    "    print([i,cross_val_score(mlp,Xo,yo,cv=5).mean()])"
   ]
  },
  {
   "cell_type": "code",
   "execution_count": 20,
   "metadata": {},
   "outputs": [
    {
     "data": {
      "text/plain": [
       "['empty', 0.658529214814306]"
      ]
     },
     "execution_count": 20,
     "metadata": {},
     "output_type": "execute_result"
    }
   ],
   "source": [
    "#Why is this smaller than our .669?\n",
    "test_scores[0]"
   ]
  },
  {
   "cell_type": "code",
   "execution_count": 21,
   "metadata": {},
   "outputs": [],
   "source": [
    "test=[]\n",
    "for j in range(len(mlp_base_set_grouped_refined)):\n",
    "    test.extend(mlp_base_set_grouped_refined[j])"
   ]
  },
  {
   "cell_type": "code",
   "execution_count": 23,
   "metadata": {},
   "outputs": [
    {
     "data": {
      "text/plain": [
       "True"
      ]
     },
     "execution_count": 23,
     "metadata": {},
     "output_type": "execute_result"
    }
   ],
   "source": [
    "set(test)==set(mlp_base_set)"
   ]
  },
  {
   "cell_type": "code",
   "execution_count": 24,
   "metadata": {},
   "outputs": [
    {
     "data": {
      "text/plain": [
       "False"
      ]
     },
     "execution_count": 24,
     "metadata": {},
     "output_type": "execute_result"
    }
   ],
   "source": [
    "#it seems that the order matters quite a lot...\n",
    "test==mlp_base_set"
   ]
  },
  {
   "cell_type": "code",
   "execution_count": 26,
   "metadata": {},
   "outputs": [
    {
     "data": {
      "text/plain": [
       "[u'fighter_inf_head_strikes_landed_avg',\n",
       " u'opponent_inf_head_strikes_landed_avg']"
      ]
     },
     "execution_count": 26,
     "metadata": {},
     "output_type": "execute_result"
    }
   ],
   "source": [
    "mlp_base_set_grouped_refined[8]"
   ]
  },
  {
   "cell_type": "code",
   "execution_count": 27,
   "metadata": {},
   "outputs": [
    {
     "data": {
      "text/plain": [
       "0.6465285184214511"
      ]
     },
     "execution_count": 27,
     "metadata": {},
     "output_type": "execute_result"
    }
   ],
   "source": [
    "#removing 8 seems to be higher by a little bit. Maybe we'll reach 67? \n",
    "test=[]\n",
    "for j in range(len(mlp_base_set_grouped_refined)):\n",
    "    if j!=8:\n",
    "        test.extend(mlp_base_set_grouped_refined[j])\n",
    "Xo=ufc_fights_clean[test].iloc[0:2091]\n",
    "yo=ufc_fights_clean.iloc[0:2091]['method']\n",
    "cross_val_score(mlp,Xo,yo,cv=6).mean()"
   ]
  },
  {
   "cell_type": "code",
   "execution_count": 29,
   "metadata": {},
   "outputs": [],
   "source": [
    "#here I am preserving the original order which seems better... and getting rid of inf_head_strikes_landed\n",
    "test_prime=[u'fighter_ko_wins',\n",
    " u'fighter_ko_losses',\n",
    " u'opponent_ko_wins',\n",
    " u'opponent_ko_losses',\n",
    " u'fighter_L5Y_ko_wins',\n",
    " u'fighter_L5Y_ko_losses',\n",
    " u'fighter_L2Y_ko_wins',\n",
    " u'fighter_L2Y_ko_losses',\n",
    " u'opponent_L5Y_ko_wins',\n",
    " u'opponent_L5Y_ko_losses',\n",
    " u'opponent_L2Y_ko_wins',\n",
    " u'opponent_L2Y_ko_losses',\n",
    " u'fighter_sub_wins',\n",
    " u'fighter_sub_losses',\n",
    " u'opponent_sub_wins',\n",
    " u'opponent_sub_losses',\n",
    " u'fighter_inf_head_strikes_attempts_avg',\n",
    " u'fighter_abs_head_strikes_landed_avg',\n",
    " u'fighter_abs_head_strikes_attempts_avg',\n",
    " u'opponent_inf_head_strikes_attempts_avg',\n",
    " u'opponent_abs_head_strikes_landed_avg',\n",
    " u'opponent_abs_head_strikes_attempts_avg',\n",
    " u'fighter_inf_clinch_strikes_landed_avg',\n",
    " u'fighter_inf_clinch_strikes_attempts_avg',\n",
    " u'fighter_abs_clinch_strikes_landed_avg',\n",
    " u'fighter_abs_clinch_strikes_attempts_avg',\n",
    " u'opponent_inf_clinch_strikes_landed_avg',\n",
    " u'opponent_inf_clinch_strikes_attempts_avg',\n",
    " u'opponent_abs_clinch_strikes_landed_avg',\n",
    " u'opponent_abs_clinch_strikes_attempts_avg',\n",
    " u'fighter_L5Y_sub_wins',\n",
    " u'fighter_L5Y_sub_losses',\n",
    " u'fighter_L2Y_sub_wins',\n",
    " u'fighter_L2Y_sub_losses',\n",
    " u'opponent_L5Y_sub_wins',\n",
    " u'opponent_L5Y_sub_losses',\n",
    " u'opponent_L2Y_sub_wins',\n",
    " u'opponent_L2Y_sub_losses']"
   ]
  },
  {
   "cell_type": "code",
   "execution_count": 30,
   "metadata": {},
   "outputs": [
    {
     "data": {
      "text/plain": [
       "0.6465433858164065"
      ]
     },
     "execution_count": 30,
     "metadata": {},
     "output_type": "execute_result"
    }
   ],
   "source": [
    "Xo=ufc_fights_clean[test_prime].iloc[0:2091]\n",
    "yo=ufc_fights_clean.iloc[0:2091]['method']\n",
    "cross_val_score(mlp,Xo,yo,cv=5).mean()"
   ]
  },
  {
   "cell_type": "code",
   "execution_count": null,
   "metadata": {},
   "outputs": [],
   "source": [
    "#ok so mlp_base_set seems pretty solid."
   ]
  },
  {
   "cell_type": "code",
   "execution_count": null,
   "metadata": {},
   "outputs": [],
   "source": [
    "#Now that we tried to delete some things, lets try picking single things by hand from add_backs"
   ]
  },
  {
   "cell_type": "code",
   "execution_count": 35,
   "metadata": {},
   "outputs": [],
   "source": [
    "mlp_add_backs_refined=[\n",
    " [u'fighter_age', u'opponent_age'],\n",
    " [u'fighter_inf_knockdowns_avg',\n",
    "  u'opponent_inf_knockdowns_avg'],\n",
    "  [u'fighter_abs_knockdowns_avg',\n",
    "  u'opponent_abs_knockdowns_avg'],\n",
    " [u'fighter_inf_pass_avg',\n",
    "  u'fighter_abs_pass_avg'],\n",
    "  [u'opponent_inf_pass_avg',\n",
    "  u'opponent_abs_pass_avg'],\n",
    " [u'fighter_inf_reversals_avg',\n",
    "  u'opponent_inf_reversals_avg'],\n",
    "  [u'fighter_abs_reversals_avg',\n",
    "  u'opponent_abs_reversals_avg'],\n",
    " [u'fighter_inf_sub_attempts_avg',\n",
    "  u'opponent_inf_sub_attempts_avg'],\n",
    "  [u'fighter_abs_sub_attempts_avg',\n",
    "  u'opponent_abs_sub_attempts_avg'],\n",
    " [u'fighter_inf_takedowns_landed_avg',\n",
    "  u'opponent_inf_takedowns_landed_avg'],\n",
    "  [u'fighter_abs_takedowns_landed_avg',\n",
    "  u'opponent_abs_takedowns_landed_avg'],\n",
    "  [u'fighter_inf_takedowns_attempts_avg',\n",
    "   u'opponent_inf_takedowns_attempts_avg'],\n",
    "  [u'fighter_abs_takedowns_attempts_avg',\n",
    "  u'opponent_abs_takedowns_attempts_avg'],\n",
    " [u'fighter_inf_sig_strikes_landed_avg',\n",
    "  u'opponent_inf_sig_strikes_landed_avg'],\n",
    "  [u'fighter_abs_sig_strikes_landed_avg',\n",
    "  u'opponent_abs_sig_strikes_landed_avg'],\n",
    "  [u'fighter_inf_sig_strikes_attempts_avg',\n",
    "   u'opponent_inf_sig_strikes_attempts_avg'],\n",
    "  [u'fighter_abs_sig_strikes_attempts_avg',\n",
    "  u'opponent_abs_sig_strikes_attempts_avg'],\n",
    " [u'fighter_inf_total_strikes_landed_avg',\n",
    "  u'opponent_inf_total_strikes_landed_avg'],\n",
    "  [u'fighter_abs_total_strikes_landed_avg',\n",
    "  u'opponent_abs_total_strikes_landed_avg'],\n",
    "  [u'fighter_inf_total_strikes_attempts_avg',\n",
    "   u'opponent_inf_total_strikes_attempts_avg'],\n",
    "  [u'fighter_abs_total_strikes_attempts_avg',\n",
    "  u'opponent_abs_total_strikes_attempts_avg'],\n",
    " [u'fighter_inf_body_strikes_landed_avg',\n",
    "  u'opponent_inf_body_strikes_landed_avg'],\n",
    "  [u'fighter_abs_body_strikes_landed_avg',\n",
    "  u'opponent_abs_body_strikes_landed_avg'],\n",
    "  [u'fighter_inf_body_strikes_attempts_avg',\n",
    "   u'opponent_inf_body_strikes_attempts_avg'],\n",
    "  [u'fighter_abs_body_strikes_attempts_avg',\n",
    "  u'opponent_abs_body_strikes_attempts_avg'],\n",
    " [u'fighter_inf_leg_strikes_landed_avg',\n",
    "  u'opponent_inf_leg_strikes_landed_avg'],\n",
    "  [u'fighter_abs_leg_strikes_landed_avg',\n",
    "  u'opponent_abs_leg_strikes_landed_avg'],\n",
    "  [u'fighter_inf_leg_strikes_attempts_avg',\n",
    "   u'opponent_inf_leg_strikes_attempts_avg'],\n",
    "  [u'fighter_abs_leg_strikes_attempts_avg',\n",
    "  u'opponent_abs_leg_strikes_attempts_avg'],\n",
    " [u'fighter_inf_distance_strikes_landed_avg',\n",
    "  u'opponent_inf_distance_strikes_landed_avg'],\n",
    "  [u'fighter_abs_distance_strikes_landed_avg',\n",
    "  u'opponent_abs_distance_strikes_landed_avg'],\n",
    "  [u'fighter_inf_distance_strikes_attempts_avg',\n",
    "   u'opponent_inf_distance_strikes_attempts_avg'],\n",
    "  [u'fighter_abs_distance_strikes_attempts_avg',\n",
    "  u'opponent_abs_distance_strikes_attempts_avg'],\n",
    " [u'fighter_inf_ground_strikes_landed_avg',\n",
    "  u'opponent_inf_ground_strikes_landed_avg'],\n",
    "  [u'fighter_abs_ground_strikes_landed_avg',\n",
    "  u'opponent_abs_ground_strikes_landed_avg'],\n",
    "  [u'fighter_inf_ground_strikes_attempts_avg',\n",
    "   u'opponent_inf_ground_strikes_attempts_avg'],\n",
    "  [u'fighter_abs_ground_strikes_attempts_avg',\n",
    "  u'opponent_abs_ground_strikes_attempts_avg']]"
   ]
  },
  {
   "cell_type": "code",
   "execution_count": 36,
   "metadata": {},
   "outputs": [
    {
     "data": {
      "text/plain": [
       "37"
      ]
     },
     "execution_count": 36,
     "metadata": {},
     "output_type": "execute_result"
    }
   ],
   "source": [
    "len(mlp_add_backs_refined)"
   ]
  },
  {
   "cell_type": "code",
   "execution_count": 37,
   "metadata": {},
   "outputs": [
    {
     "name": "stdout",
     "output_type": "stream",
     "text": [
      "[0, 0.6073659449528682]\n",
      "[1, 0.6389107329887881]\n",
      "[2, 0.6403358458817672]\n",
      "[3, 0.6475209331341609]\n",
      "[4, 0.646547964492368]\n",
      "[5, 0.6403335565437864]\n",
      "[6, 0.6446432352924343]\n",
      "[7, 0.6408085941747795]\n",
      "[8, 0.6355465508261648]\n",
      "[9, 0.6369693743811633]\n",
      "[10, 0.6456207826101886]\n",
      "[11, 0.651791693137137]\n",
      "[12, 0.6417792734785919]\n",
      "[13, 0.6532488567618459]\n",
      "[14, 0.6307778598123888]\n",
      "[15, 0.6245680305397686]\n",
      "[16, 0.6193174338810575]\n",
      "[17, 0.634587318212256]\n",
      "[18, 0.6312300040635749]\n",
      "[19, 0.6283797782776166]\n",
      "[20, 0.6111639566628321]\n",
      "[21, 0.6580381518174482]\n",
      "[22, 0.6475209331341609]\n",
      "[23, 0.6518168758549246]\n",
      "[24, 0.6465433858164066]\n",
      "[25, 0.6475209331341609]\n",
      "[26, 0.6369922677609703]\n",
      "[27, 0.6456093359202852]\n",
      "[28, 0.6446569713203185]\n",
      "[29, 0.6398699656026968]\n",
      "[30, 0.6283660422497325]\n",
      "[31, 0.6369693743811633]\n",
      "[32, 0.6408108835127602]\n",
      "[33, 0.6484778764100891]\n",
      "[34, 0.6446363672784923]\n",
      "[35, 0.6470275807993224]\n",
      "[36, 0.635516789432416]\n"
     ]
    }
   ],
   "source": [
    "#this adds subsets of size 1 from mlp_add_backs to mlp_base_set\n",
    "mlp=MLPClassifier(max_iter=3000,alpha=.001,solver='sgd',random_state=3)\n",
    "yo=ufc_fights_clean.iloc[0:2091]['method']\n",
    "mlp_data_points=[]\n",
    "for i in range(len(mlp_add_backs_refined)):\n",
    "    candidate=[]\n",
    "    candidate.extend(mlp_base_set)\n",
    "    candidate.extend(mlp_add_backs_refined[i])\n",
    "    Xo=ufc_fights_clean[candidate].iloc[0:2091]\n",
    "    point=[i,cross_val_score(mlp,Xo,yo,cv=5).mean()]\n",
    "    mlp_data_points.append(point)\n",
    "    print(point)"
   ]
  },
  {
   "cell_type": "code",
   "execution_count": 38,
   "metadata": {},
   "outputs": [
    {
     "data": {
      "text/plain": [
       "0.6580381518174482"
      ]
     },
     "execution_count": 38,
     "metadata": {},
     "output_type": "execute_result"
    }
   ],
   "source": [
    "max([tup[1] for tup in  mlp_data_points])"
   ]
  },
  {
   "cell_type": "code",
   "execution_count": 44,
   "metadata": {},
   "outputs": [
    {
     "data": {
      "text/plain": [
       "0.6460757279622754"
      ]
     },
     "execution_count": 44,
     "metadata": {},
     "output_type": "execute_result"
    }
   ],
   "source": [
    "candidate=[]\n",
    "candidate.extend(mlp_base_set)\n",
    "candidate.extend(mlp_add_backs_refined[21])\n",
    "Xo=ufc_fights_clean[candidate].iloc[0:2091]\n",
    "cross_val_score(mlp,Xo,yo,cv=6).mean()"
   ]
  },
  {
   "cell_type": "code",
   "execution_count": 45,
   "metadata": {},
   "outputs": [
    {
     "data": {
      "text/plain": [
       "0.6460642291923296"
      ]
     },
     "execution_count": 45,
     "metadata": {},
     "output_type": "execute_result"
    }
   ],
   "source": [
    "cross_val_score(mlp,Xo,yo,cv=7).mean()"
   ]
  },
  {
   "cell_type": "code",
   "execution_count": 46,
   "metadata": {},
   "outputs": [
    {
     "data": {
      "text/plain": [
       "0.6499078704922348"
      ]
     },
     "execution_count": 46,
     "metadata": {},
     "output_type": "execute_result"
    }
   ],
   "source": [
    "cross_val_score(mlp,Xo,yo,cv=8).mean()"
   ]
  },
  {
   "cell_type": "code",
   "execution_count": 47,
   "metadata": {},
   "outputs": [
    {
     "data": {
      "text/plain": [
       "0.6632528588278181"
      ]
     },
     "execution_count": 47,
     "metadata": {},
     "output_type": "execute_result"
    }
   ],
   "source": [
    "cross_val_score(mlp,Xo,yo,cv=9).mean()"
   ]
  },
  {
   "cell_type": "code",
   "execution_count": 48,
   "metadata": {},
   "outputs": [
    {
     "data": {
      "text/plain": [
       "0.6732274031587533"
      ]
     },
     "execution_count": 48,
     "metadata": {},
     "output_type": "execute_result"
    }
   ],
   "source": [
    "cross_val_score(mlp,Xo,yo,cv=10).mean()"
   ]
  },
  {
   "cell_type": "code",
   "execution_count": null,
   "metadata": {},
   "outputs": [],
   "source": [
    "#let this run... but it could make sense to just do one at a time... this would take the least amount of time,\n",
    "#less than 15 minutes each time. Then if we reach a point where it doesn't increase, we can try 2\n",
    "#by this I mean, after the first round of adding 1, find the optimal choice, add this to the base set, \n",
    "#remove from add backs, and perform again. Actually one could write a program to do this automatically\n",
    "#honestly its probably been done but who cares. I'm learning\n",
    "#MY GOAL IS TO REACH 68 SINCE THEN THE OVERALL PROBABILITY OF PICKING BOTH THE FIGHTER AND METHOD CORRECTLY\n",
    "#IS OVER 50%. THAT IS HONESLTLY IMPRESSIVE.\n",
    "#another idea. after we find we cannot improve in this way, then start removing until we increase.\n",
    "#then after removing, it may be possible to increase by adding"
   ]
  },
  {
   "cell_type": "code",
   "execution_count": 26,
   "metadata": {},
   "outputs": [
    {
     "name": "stdout",
     "output_type": "stream",
     "text": [
      "[(1, 2), 0.6150084613524978]\n",
      "[(1, 3), 0.5016748716145433]\n"
     ]
    },
    {
     "name": "stderr",
     "output_type": "stream",
     "text": [
      "/opt/anaconda2/lib/python2.7/site-packages/sklearn/neural_network/multilayer_perceptron.py:562: ConvergenceWarning: Stochastic Optimizer: Maximum iterations (2500) reached and the optimization hasn't converged yet.\n",
      "  % self.max_iter, ConvergenceWarning)\n"
     ]
    },
    {
     "name": "stdout",
     "output_type": "stream",
     "text": [
      "[(1, 4), 0.6207473462121711]\n",
      "[(1, 5), 0.6159654000278382]\n",
      "[(1, 6), 0.6250558595781778]\n",
      "[(1, 7), 0.6217015376951422]\n",
      "[(1, 8), 0.6102136949371076]\n",
      "[(1, 9), 0.6068731090159191]\n",
      "[(1, 10), 0.5963541094334923]\n",
      "[(1, 11), 0.6135680168201432]\n",
      "[(1, 12), 0.6030380284682388]\n",
      "[(1, 13), 0.6059125074174194]\n",
      "[(1, 14), 0.6097375149264119]\n",
      "[(2, 3), 0.5011959444114782]\n",
      "[(2, 4), 0.5810293546661978]\n",
      "[(2, 5), 0.5853314579166758]\n",
      "[(2, 6), 0.5810311861277775]\n",
      "[(2, 7), 0.5815064504076833]\n",
      "[(2, 8), 0.5934805462151015]\n",
      "[(2, 9), 0.5829661252866237]\n",
      "[(2, 10), 0.590624381881717]\n",
      "[(2, 11), 0.59252818619371]\n",
      "[(2, 12), 0.6016113198977312]\n",
      "[(2, 13), 0.5781832633715009]\n",
      "[(2, 14), 0.5843974125110803]\n",
      "[(3, 4), 0.5011959444114782]\n",
      "[(3, 5), 0.5011959444114782]\n",
      "[(3, 6), 0.5011959444114782]\n",
      "[(3, 7), 0.5011959444114782]\n",
      "[(3, 8), 0.5021528830868186]\n",
      "[(3, 9), 0.5011959444114782]\n",
      "[(3, 10), 0.5007179329392029]\n",
      "[(3, 11), 0.5016739558837535]\n",
      "[(3, 12), 0.5021528830868186]\n",
      "[(3, 13), 0.5011959444114782]\n",
      "[(3, 14), 0.5011959444114782]\n",
      "[(4, 5), 0.635084027457272]\n",
      "[(4, 6), 0.6408274909708944]\n",
      "[(4, 7), 0.6374804949341772]\n",
      "[(4, 8), 0.6436900654198077]\n",
      "[(4, 9), 0.6360501234405105]\n",
      "[(4, 10), 0.6116568866618316]\n",
      "[(4, 11), 0.6522961033823432]\n",
      "[(4, 12), 0.6360400504018227]\n",
      "[(4, 13), 0.6245577020285269]\n",
      "[(4, 14), 0.6484775059888793]\n",
      "[(5, 6), 0.6403467323062497]\n",
      "[(5, 7), 0.6436891496890179]\n",
      "[(5, 8), 0.6494262030871116]\n",
      "[(5, 9), 0.6188362160538596]\n",
      "[(5, 10), 0.6154837256324036]\n",
      "[(5, 11), 0.6499097089441258]\n",
      "[(5, 12), 0.6389081192354746]\n",
      "[(5, 13), 0.621693296118034]\n",
      "[(5, 14), 0.6398549848721273]\n",
      "[(6, 7), 0.6417835139154451]\n",
      "[(6, 8), 0.6456048585012784]\n",
      "[(6, 9), 0.6326967172882647]\n",
      "[(6, 10), 0.6068721932851293]\n",
      "[(6, 11), 0.6499069617517563]\n",
      "[(6, 12), 0.6432230427170099]\n",
      "[(6, 13), 0.6303011655421493]\n",
      "[(6, 14), 0.6470425558412636]\n",
      "[(7, 8), 0.6460810385119741]\n",
      "[(7, 9), 0.6327012959422137]\n",
      "[(7, 10), 0.6202629246243673]\n",
      "[(7, 11), 0.6566027852867702]\n",
      "[(7, 12), 0.635559291737178]\n",
      "[(7, 13), 0.6245613649516861]\n",
      "[(7, 14), 0.6360354717478737]\n",
      "[(8, 9), 0.6279156868347215]\n",
      "[(8, 10), 0.6126055837600639]\n",
      "[(8, 11), 0.6470480502260023]\n",
      "[(8, 12), 0.6173875299443968]\n",
      "[(8, 13), 0.6192968286411288]\n",
      "[(8, 14), 0.6255247137425551]\n",
      "[(9, 10), 0.6207464304813815]\n",
      "[(9, 11), 0.625520135088606]\n",
      "[(9, 12), 0.6140515226771572]\n",
      "[(9, 13), 0.6269587481593811]\n",
      "[(9, 14), 0.6326985487498444]\n",
      "[(10, 11), 0.6178719515322008]\n",
      "[(10, 12), 0.6054354116759338]\n",
      "[(10, 13), 0.6202620088935774]\n",
      "[(10, 14), 0.6207445990198018]\n",
      "[(11, 12), 0.6240879321333598]\n",
      "[(11, 13), 0.6202601774319978]\n",
      "[(11, 14), 0.6250512809242288]\n",
      "[(12, 13), 0.6159544112583606]\n",
      "[(12, 14), 0.616912265664491]\n",
      "[(13, 14), 0.6217024534259321]\n"
     ]
    }
   ],
   "source": [
    "#this adds subsets of size 2 from mlp_add_backs to mlp_base_set\n",
    "mlp=MLPClassifier(max_iter=2500,alpha=.005,solver='sgd',random_state=3)\n",
    "yo=ufc_fights_clean.iloc[0:2091]['method']\n",
    "mlp_data_points=[]\n",
    "SUB=[S for S in subsets(len(mlp_add_backs)) if len(S)==2]\n",
    "for S in SUB:\n",
    "    candidate=[]\n",
    "    candidate.extend(mlp_base_set)\n",
    "    for i in S:\n",
    "        candidate.extend(mlp_add_backs[i-1])\n",
    "    Xo=ufc_fights_clean[candidate].iloc[0:2091]\n",
    "    point=[S,cross_val_score(mlp,Xo,yo,cv=4).mean()]\n",
    "    mlp_data_points.append(point)\n",
    "    print(point)"
   ]
  },
  {
   "cell_type": "code",
   "execution_count": 27,
   "metadata": {},
   "outputs": [],
   "source": [
    "m=max([tup[1] for tup in mlp_data_points])"
   ]
  },
  {
   "cell_type": "code",
   "execution_count": 28,
   "metadata": {},
   "outputs": [
    {
     "data": {
      "text/plain": [
       "0.6566027852867702"
      ]
     },
     "execution_count": 28,
     "metadata": {},
     "output_type": "execute_result"
    }
   ],
   "source": [
    "m"
   ]
  },
  {
   "cell_type": "code",
   "execution_count": 29,
   "metadata": {},
   "outputs": [
    {
     "data": {
      "text/plain": [
       "[(7, 11)]"
      ]
     },
     "execution_count": 29,
     "metadata": {},
     "output_type": "execute_result"
    }
   ],
   "source": [
    "[tup[0] for tup in mlp_data_points if tup[1]==m]"
   ]
  },
  {
   "cell_type": "code",
   "execution_count": 30,
   "metadata": {},
   "outputs": [],
   "source": [
    "#the highest is 2 (actually the index 1 because of the stupid way I wrote it) with .65 so we add that\n",
    "#removing from mlp_add_backs and adding to mlp_base_set\n",
    "mlp_base_set.extend(mlp_add_backs[6])\n",
    "mlp_base_set.extend(mlp_add_backs[10])\n",
    "mlp_add_backs.remove(mlp_add_backs[6])\n",
    "mlp_add_backs.remove(mlp_add_backs[10])"
   ]
  },
  {
   "cell_type": "code",
   "execution_count": 35,
   "metadata": {},
   "outputs": [
    {
     "data": {
      "text/plain": [
       "0.6503776578631804"
      ]
     },
     "execution_count": 35,
     "metadata": {},
     "output_type": "execute_result"
    }
   ],
   "source": [
    "#COOL... WOWWW THIS IS GETTING GOOD. ALMOST AT OUR GOAL\n",
    "mlp=MLPClassifier(max_iter=2500,alpha=.0001,solver='sgd',random_state=3)\n",
    "Xo=ufc_fights_clean[mlp_base_set].iloc[0:2091]\n",
    "yo=ufc_fights_clean.iloc[0:2091]['method']\n",
    "cross_val_score(mlp,Xo,yo,cv=8).mean()"
   ]
  },
  {
   "cell_type": "code",
   "execution_count": null,
   "metadata": {},
   "outputs": [],
   "source": [
    "#this is actually quite a lot lower than we were before. Lets go back"
   ]
  }
 ],
 "metadata": {
  "kernelspec": {
   "display_name": "Python 2",
   "language": "python",
   "name": "python2"
  },
  "language_info": {
   "codemirror_mode": {
    "name": "ipython",
    "version": 2
   },
   "file_extension": ".py",
   "mimetype": "text/x-python",
   "name": "python",
   "nbconvert_exporter": "python",
   "pygments_lexer": "ipython2",
   "version": "2.7.16"
  }
 },
 "nbformat": 4,
 "nbformat_minor": 2
}
