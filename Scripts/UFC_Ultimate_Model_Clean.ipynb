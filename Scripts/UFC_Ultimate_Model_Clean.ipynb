{
 "cells": [
  {
   "cell_type": "code",
   "execution_count": null,
   "metadata": {},
   "outputs": [],
   "source": [
    "#Run every cell, in order, until instructed otherwise"
   ]
  },
  {
   "cell_type": "code",
   "execution_count": 104,
   "metadata": {},
   "outputs": [],
   "source": [
    "import pandas as pd\n",
    "import numpy as npy\n",
    "from datetime import datetime, date\n",
    "import matplotlib.pyplot as plt\n",
    "import random, sklearn, scipy, itertools\n",
    "from sklearn.linear_model import LogisticRegression\n",
    "from sklearn.ensemble import RandomForestClassifier\n",
    "from sklearn.neural_network import MLPClassifier\n",
    "from sklearn.model_selection import train_test_split, KFold, cross_val_score"
   ]
  },
  {
   "cell_type": "code",
   "execution_count": 105,
   "metadata": {},
   "outputs": [],
   "source": [
    "#this cell contains all functions defined for building columns in ufcfightscrap\n",
    "#converts from '%B %d, %Y' (i.e. August 22, 2020) to date (i.e. 2020-08-22)\n",
    "def convert_to_datetime(day1):\n",
    "    return datetime.strptime(day1, '%B %d, %Y').date()\n",
    "convert_to_datetime_vect= npy.vectorize(convert_to_datetime)\n",
    "\n",
    "#this age function is written in such a stupid way\n",
    "def age(birthDate,day=date.today(),form1='%B %d, %Y',form2='%B %d, %Y'):\n",
    "    if birthDate=='--':\n",
    "        aa='unknown'\n",
    "    elif type(birthDate)==str and not type(day)==str:\n",
    "        bd=datetime.strptime(birthDate, form1)\n",
    "        today = day\n",
    "        aa = today.year - bd.year - ((today.month, today.day) < (bd.month, bd.day)) \n",
    "    elif type(birthDate)==str and type(day)==str:\n",
    "        bd=datetime.strptime(birthDate, form1)\n",
    "        today = datetime.strptime(day, form2)\n",
    "        aa = today.year - bd.year - ((today.month, today.day) < (bd.month, bd.day)) \n",
    "    elif not type(birthDate)==str and type(day)==str:\n",
    "        bd=birthDate\n",
    "        today = datetime.strptime(day, form2)\n",
    "        aa = today.year - bd.year - ((today.month, today.day) < (bd.month, bd.day)) \n",
    "    else:\n",
    "        bd=birthDate\n",
    "        today = day\n",
    "        aa = today.year - bd.year - ((today.month, today.day) < (bd.month, bd.day)) \n",
    "    return float(aa)\n",
    "\n",
    "age_vect= npy.vectorize(age)\n",
    "\n",
    "def fighter_age(fighter,day=date.today(),form1='%B %d, %Y',form2='%B %d, %Y'):\n",
    "    a=0\n",
    "    for i in range(len(ufcfighterscrap['name'])):\n",
    "        if ufcfighterscrap['name'][i]==fighter:\n",
    "            dob=datetime.strptime(ufcfighterscrap['dob'][i], '%b %d, %Y').strftime('%B %d, %Y')\n",
    "            a=age(dob,day,form1,form2)\n",
    "            break\n",
    "    return float(a)\n",
    "\n",
    "def wins_before(guy,day1=date.today()):\n",
    "    if day1==date.today():\n",
    "        day1=date.today().strftime('%B %d, %Y')\n",
    "    summ=0\n",
    "    good_indices=[i for i in ufcfightscrap.index.values if ufcfightscrap['fighter'][i]==guy]\n",
    "    for i in good_indices:\n",
    "        if time_diff(ufcfightscrap['date'][i],day1)>0 and ufcfightscrap['result'][i]=='W':\n",
    "            summ+=1\n",
    "        else:\n",
    "            summ+=0\n",
    "    return float(summ)\n",
    "\n",
    "def losses_before(guy,day1=date.today()):\n",
    "    if day1==date.today():\n",
    "        day1=date.today().strftime('%B %d, %Y')\n",
    "    summ=0\n",
    "    good_indices=[i for i in ufcfightscrap.index.values if ufcfightscrap['fighter'][i]==guy]\n",
    "    for i in good_indices:\n",
    "        if time_diff(ufcfightscrap['date'][i],day1)>0 and ufcfightscrap['result'][i]=='L':\n",
    "            summ+=1\n",
    "        else:\n",
    "            summ+=0\n",
    "    return float(summ)\n",
    "\n",
    "#functions for height and reach\n",
    "def fighter_height(fighter):\n",
    "    a=0\n",
    "    for i in range(len(ufcfighterscrap['name'])):\n",
    "        if ufcfighterscrap['name'][i]==fighter:\n",
    "            a=ufcfighterscrap['height'][i]\n",
    "            break\n",
    "    if a=='--':\n",
    "        b='unknown'\n",
    "    elif a[4]=='\"':\n",
    "        b=int(a[0])*30.48+int(a[3])*2.54\n",
    "    else:\n",
    "        b=int(a[0])*30.48+int(a[3]+a[4])*2.54\n",
    "    try:\n",
    "        return float(b)\n",
    "    except:\n",
    "        return b\n",
    "\n",
    "def fighter_reach(fighter):\n",
    "    a=0\n",
    "    for i in range(len(ufcfighterscrap['name'])):\n",
    "        if ufcfighterscrap['name'][i]==fighter:\n",
    "            a=ufcfighterscrap['reach'][i]\n",
    "            break\n",
    "    if a=='--':\n",
    "        b='unknown'\n",
    "    else:\n",
    "        b=int(a[0]+a[1])*2.54\n",
    "    try:\n",
    "        return float(b)\n",
    "    except:\n",
    "        return b\n",
    "\n",
    "wins_before_vect= npy.vectorize(wins_before)\n",
    "losses_before_vect= npy.vectorize(losses_before)\n",
    "fighter_height_vect= npy.vectorize(fighter_height)\n",
    "fighter_reach_vect= npy.vectorize(fighter_reach)\n",
    "\n",
    "#day1 should be input in the form '%B %d, %Y' i.e. 'August 20, 1962'\n",
    "#conversions can be made via day=datetime.strptime(ufcfightsML_known_df['date'][i], '%B %d, %Y').strftime('%b %d, %Y')\n",
    "def time_diff(day1,day2=date.today()):\n",
    "    if day2==date.today():\n",
    "        answer=(day2-datetime.strptime(day, '%B %d, %Y')).days\n",
    "    else:\n",
    "        answer=(datetime.strptime(day2, '%B %d, %Y')-datetime.strptime(day1, '%B %d, %Y')).days\n",
    "    return answer\n",
    "\n",
    "#we now vectorize this to use in pandas/numpy\n",
    "time_diff_vect= npy.vectorize(time_diff)\n",
    "\n",
    "#can make a single function to do all of these... actually maybe the count function would even work as is\n",
    "\n",
    "def L5Y_wins(guy,day1=date.today()):\n",
    "    if day1==date.today():\n",
    "        day1=date.today().strftime('%B %d, %Y')\n",
    "    summ=0\n",
    "    good_indices=[i for i in ufcfightscrap.index.values if ufcfightscrap['fighter'][i]==guy]\n",
    "    for i in good_indices:\n",
    "        if 0<time_diff(ufcfightscrap['date'][i],day1)<1825 and ufcfightscrap['result'][i]=='W':\n",
    "            summ+=1\n",
    "        else:\n",
    "            summ+=0\n",
    "        if time_diff(ufcfightscrap['date'][i],day1)>1825:\n",
    "            break\n",
    "    return float(summ)\n",
    "\n",
    "def L5Y_losses(guy,day1=date.today()):\n",
    "    if day1==date.today():\n",
    "        day1=date.today().strftime('%B %d, %Y')\n",
    "    summ=0\n",
    "    good_indices=[i for i in ufcfightscrap.index.values if ufcfightscrap['fighter'][i]==guy]\n",
    "    for i in good_indices:\n",
    "        if 0<time_diff(ufcfightscrap['date'][i],day1)<1825 and ufcfightscrap['result'][i]=='L':\n",
    "            summ+=1\n",
    "        else:\n",
    "            summ+=0\n",
    "        if time_diff(ufcfightscrap['date'][i],day1)>1825:\n",
    "            break\n",
    "    return float(summ)\n",
    "\n",
    "def L2Y_wins(guy,day1=date.today()):\n",
    "    if day1==date.today():\n",
    "        day1=date.today().strftime('%B %d, %Y')\n",
    "    summ=0\n",
    "    good_indices=[i for i in ufcfightscrap.index.values if ufcfightscrap['fighter'][i]==guy]\n",
    "    for i in good_indices:\n",
    "        if 0<time_diff(ufcfightscrap['date'][i],day1)<730 and ufcfightscrap['result'][i]=='W':\n",
    "            summ+=1\n",
    "        else:\n",
    "            summ+=0\n",
    "        if time_diff(ufcfightscrap['date'][i],day1)>730:\n",
    "            break\n",
    "    return float(summ)\n",
    "\n",
    "def L2Y_losses(guy,day1=date.today()):\n",
    "    if day1==date.today():\n",
    "        day1=date.today().strftime('%B %d, %Y')\n",
    "    summ=0\n",
    "    good_indices=[i for i in ufcfightscrap.index.values if ufcfightscrap['fighter'][i]==guy]\n",
    "    for i in good_indices:\n",
    "        if 0<time_diff(ufcfightscrap['date'][i],day1)<730 and ufcfightscrap['result'][i]=='L':\n",
    "            summ+=1\n",
    "        else:\n",
    "            summ+=0\n",
    "        if time_diff(ufcfightscrap['date'][i],day1)>730:\n",
    "            break\n",
    "    return float(summ)\n",
    "\n",
    "def ko_wins(guy,day1=date.today()):\n",
    "    if day1==date.today():\n",
    "        day1=date.today().strftime('%B %d, %Y')\n",
    "    summ=0\n",
    "    good_indices=[i for i in ufcfightscrap.index.values if ufcfightscrap['fighter'][i]==guy]\n",
    "    for i in good_indices:\n",
    "        if 0<time_diff(ufcfightscrap['date'][i],day1) and ufcfightscrap['result'][i]=='W' and ufcfightscrap['method'][i]=='KO/TKO':\n",
    "            summ+=1\n",
    "        else:\n",
    "            summ+=0\n",
    "    return float(summ)\n",
    "\n",
    "def ko_losses(guy,day1=date.today()):\n",
    "    if day1==date.today():\n",
    "        day1=date.today().strftime('%B %d, %Y')\n",
    "    summ=0\n",
    "    good_indices=[i for i in ufcfightscrap.index.values if ufcfightscrap['fighter'][i]==guy]\n",
    "    for i in good_indices:\n",
    "        if 0<time_diff(ufcfightscrap['date'][i],day1) and ufcfightscrap['result'][i]=='L' and ufcfightscrap['method'][i]=='KO/TKO':\n",
    "            summ+=1\n",
    "        else:\n",
    "            summ+=0\n",
    "    return float(summ)\n",
    "\n",
    "def L5Y_ko_wins(guy,day1=date.today()):\n",
    "    if day1==date.today():\n",
    "        day1=date.today().strftime('%B %d, %Y')\n",
    "    summ=0\n",
    "    good_indices=[i for i in ufcfightscrap.index.values if ufcfightscrap['fighter'][i]==guy]\n",
    "    for i in good_indices:\n",
    "        if 0<time_diff(ufcfightscrap['date'][i],day1)<1825 and ufcfightscrap['result'][i]=='W' and ufcfightscrap['method'][i]=='KO/TKO':\n",
    "            summ+=1\n",
    "        else:\n",
    "            summ+=0\n",
    "        if time_diff(ufcfightscrap['date'][i],day1)>1825:\n",
    "            break\n",
    "    return float(summ)\n",
    "\n",
    "def L5Y_ko_losses(guy,day1=date.today()):\n",
    "    if day1==date.today():\n",
    "        day1=date.today().strftime('%B %d, %Y')\n",
    "    summ=0\n",
    "    good_indices=[i for i in ufcfightscrap.index.values if ufcfightscrap['fighter'][i]==guy]\n",
    "    for i in good_indices:\n",
    "        if 0<time_diff(ufcfightscrap['date'][i],day1)<1825 and ufcfightscrap['result'][i]=='L' and ufcfightscrap['method'][i]=='KO/TKO':\n",
    "            summ+=1\n",
    "        else:\n",
    "            summ+=0\n",
    "        if time_diff(ufcfightscrap['date'][i],day1)>1825:\n",
    "            break\n",
    "    return float(summ)\n",
    "\n",
    "def L2Y_ko_wins(guy,day1=date.today()):\n",
    "    if day1==date.today():\n",
    "        day1=date.today().strftime('%B %d, %Y')\n",
    "    summ=0\n",
    "    good_indices=[i for i in ufcfightscrap.index.values if ufcfightscrap['fighter'][i]==guy]\n",
    "    for i in good_indices:\n",
    "        if 0<time_diff(ufcfightscrap['date'][i],day1)<730 and ufcfightscrap['result'][i]=='W' and ufcfightscrap['method'][i]=='KO/TKO':\n",
    "            summ+=1\n",
    "        else:\n",
    "            summ+=0\n",
    "        if time_diff(ufcfightscrap['date'][i],day1)>730:\n",
    "            break\n",
    "    return float(summ)\n",
    "\n",
    "def L2Y_ko_losses(guy,day1=date.today()):\n",
    "    if day1==date.today():\n",
    "        day1=date.today().strftime('%B %d, %Y')\n",
    "    summ=0\n",
    "    good_indices=[i for i in ufcfightscrap.index.values if ufcfightscrap['fighter'][i]==guy]\n",
    "    for i in good_indices:\n",
    "        if 0<time_diff(ufcfightscrap['date'][i],day1)<730 and ufcfightscrap['result'][i]=='L' and ufcfightscrap['method'][i]=='KO/TKO':\n",
    "            summ+=1\n",
    "        else:\n",
    "            summ+=0\n",
    "        if time_diff(ufcfightscrap['date'][i],day1)>730:\n",
    "            break\n",
    "    return float(summ)\n",
    "\n",
    "def sub_wins(guy,day1=date.today()):\n",
    "    if day1==date.today():\n",
    "        day1=date.today().strftime('%B %d, %Y')\n",
    "    summ=0\n",
    "    good_indices=[i for i in ufcfightscrap.index.values if ufcfightscrap['fighter'][i]==guy]\n",
    "    for i in good_indices:\n",
    "        if 0<time_diff(ufcfightscrap['date'][i],day1) and ufcfightscrap['result'][i]=='W' and ufcfightscrap['method'][i]=='SUB':\n",
    "            summ+=1\n",
    "        else:\n",
    "            summ+=0\n",
    "    return float(summ)\n",
    "\n",
    "def sub_losses(guy,day1=date.today()):\n",
    "    if day1==date.today():\n",
    "        day1=date.today().strftime('%B %d, %Y')\n",
    "    summ=0\n",
    "    good_indices=[i for i in ufcfightscrap.index.values if ufcfightscrap['fighter'][i]==guy]\n",
    "    for i in good_indices:\n",
    "        if 0<time_diff(ufcfightscrap['date'][i],day1) and ufcfightscrap['result'][i]=='L' and ufcfightscrap['method'][i]=='SUB':\n",
    "            summ+=1\n",
    "        else:\n",
    "            summ+=0\n",
    "    return float(summ)\n",
    "\n",
    "def L5Y_sub_wins(guy,day1=date.today()):\n",
    "    if day1==date.today():\n",
    "        day1=date.today().strftime('%B %d, %Y')\n",
    "    summ=0\n",
    "    good_indices=[i for i in ufcfightscrap.index.values if ufcfightscrap['fighter'][i]==guy]\n",
    "    for i in good_indices:\n",
    "        if 0<time_diff(ufcfightscrap['date'][i],day1)<1825 and ufcfightscrap['result'][i]=='W' and ufcfightscrap['method'][i]=='SUB':\n",
    "            summ+=1\n",
    "        else:\n",
    "            summ+=0\n",
    "        if time_diff(ufcfightscrap['date'][i],day1)>1825:\n",
    "            break\n",
    "    return float(summ)\n",
    "\n",
    "def L5Y_sub_losses(guy,day1=date.today()):\n",
    "    if day1==date.today():\n",
    "        day1=date.today().strftime('%B %d, %Y')\n",
    "    summ=0\n",
    "    good_indices=[i for i in ufcfightscrap.index.values if ufcfightscrap['fighter'][i]==guy]\n",
    "    for i in good_indices:\n",
    "        if 0<time_diff(ufcfightscrap['date'][i],day1)<1825 and ufcfightscrap['result'][i]=='L' and ufcfightscrap['method'][i]=='SUB':\n",
    "            summ+=1\n",
    "        else:\n",
    "            summ+=0\n",
    "        if time_diff(ufcfightscrap['date'][i],day1)>1825:\n",
    "            break\n",
    "    return float(summ)\n",
    "\n",
    "def L2Y_sub_wins(guy,day1=date.today()):\n",
    "    if day1==date.today():\n",
    "        day1=date.today().strftime('%B %d, %Y')\n",
    "    summ=0\n",
    "    good_indices=[i for i in ufcfightscrap.index.values if ufcfightscrap['fighter'][i]==guy]\n",
    "    for i in good_indices:\n",
    "        if 0<time_diff(ufcfightscrap['date'][i],day1)<730 and ufcfightscrap['result'][i]=='W' and ufcfightscrap['method'][i]=='SUB':\n",
    "            summ+=1\n",
    "        else:\n",
    "            summ+=0\n",
    "        if time_diff(ufcfightscrap['date'][i],day1)>730:\n",
    "            break\n",
    "    return float(summ)\n",
    "\n",
    "def L2Y_sub_losses(guy,day1=date.today()):\n",
    "    if day1==date.today():\n",
    "        day1=date.today().strftime('%B %d, %Y')\n",
    "    summ=0\n",
    "    good_indices=[i for i in ufcfightscrap.index.values if ufcfightscrap['fighter'][i]==guy]\n",
    "    for i in good_indices:\n",
    "        if 0<time_diff(ufcfightscrap['date'][i],day1)<730 and ufcfightscrap['result'][i]=='L' and ufcfightscrap['method'][i]=='SUB':\n",
    "            summ+=1\n",
    "        else:\n",
    "            summ+=0\n",
    "        if time_diff(ufcfightscrap['date'][i],day1)>730:\n",
    "            break\n",
    "    return float(summ)\n",
    "\n",
    "#vectorize all of these functions\n",
    "L5Y_wins_vect= npy.vectorize(L5Y_wins)\n",
    "L5Y_losses_vect= npy.vectorize(L5Y_losses)\n",
    "L2Y_wins_vect= npy.vectorize(L2Y_wins)\n",
    "L2Y_losses_vect= npy.vectorize(L2Y_losses)\n",
    "ko_wins_vect= npy.vectorize(ko_wins)\n",
    "ko_losses_vect= npy.vectorize(ko_losses)\n",
    "L5Y_ko_wins_vect= npy.vectorize(L5Y_ko_wins)\n",
    "L5Y_ko_losses_vect= npy.vectorize(L5Y_ko_losses)\n",
    "L2Y_ko_wins_vect= npy.vectorize(L2Y_ko_wins)\n",
    "L2Y_ko_losses_vect= npy.vectorize(L2Y_ko_losses)\n",
    "sub_wins_vect= npy.vectorize(sub_wins)\n",
    "sub_losses_vect= npy.vectorize(sub_losses)\n",
    "L5Y_sub_wins_vect= npy.vectorize(L5Y_sub_wins)\n",
    "L5Y_sub_losses_vect= npy.vectorize(L5Y_sub_losses)\n",
    "L2Y_sub_wins_vect= npy.vectorize(L2Y_sub_wins)\n",
    "L2Y_sub_losses_vect= npy.vectorize(L2Y_sub_losses)\n",
    "\n",
    "#for columns like fighter_rec which contains the information for the opponent as well, we use the following\n",
    "def opponent_column(stat):\n",
    "    col=dict()\n",
    "    for i in range(len(ufcfightscrap['fighter'])):\n",
    "        if i%2==0:\n",
    "            col[i]=ufcfightscrap[stat][i+1]\n",
    "        else:\n",
    "            col[i]=ufcfightscrap[stat][i-1]\n",
    "    statdict={'stat':col}\n",
    "    return pd.DataFrame (statdict, columns = ['stat'])\n",
    "\n",
    "#enter date unabbreviated 'July 4, 2019'\n",
    "#here the average gives avg per fight. Later in avg_count we change to average per time spent in octagon\n",
    "def count(stat, guy,inf_abs, total_L5Y_L2Y_avg, day1=date.today().strftime('%B %d, %Y')):\n",
    "    summ=0\n",
    "    if total_L5Y_L2Y_avg=='total' or total_L5Y_L2Y_avg=='avg':\n",
    "        good_indices_1=[i for i in ufcfightscrap.index.values if time_diff(ufcfightscrap['date'][i],day1)>0]\n",
    "    elif total_L5Y_L2Y_avg=='L2Y':\n",
    "        good_indices_1=[i for i in ufcfightscrap.index.values if 0<time_diff(ufcfightscrap['date'][i],day1)<730]\n",
    "    else:\n",
    "        good_indices_1=[i for i in ufcfightscrap.index.values if 0<time_diff(ufcfightscrap['date'][i],day1)<1825]\n",
    "    if inf_abs=='inf':\n",
    "        good_indices_2=[i for i in ufcfightscrap.index.values if ufcfightscrap['fighter'][i]==guy]\n",
    "    else:\n",
    "        good_indices_2=[i for i in ufcfightscrap.index.values if ufcfightscrap['opponent'][i]==guy]\n",
    "    good_indices=[i for i in good_indices_1 if i in good_indices_2]\n",
    "    if total_L5Y_L2Y_avg!='avg':\n",
    "        for i in good_indices:\n",
    "            summ+=ufcfightscrap[stat][i]\n",
    "    else:\n",
    "        for i in good_indices:\n",
    "            summ+=ufcfightscrap[stat][i]\n",
    "        day1=convert_date_to_abbrev(day1)\n",
    "        number_fights=wins_before(guy,day1)+losses_before(guy,day1)\n",
    "        summ=summ/float(number_fights)\n",
    "    return summ\n",
    "        \n",
    "#note a better average is per time not per fight. We will do each stat as an average per one minutes\n",
    "\n",
    "#enter time in the form 'August 24, 2018'\n",
    "def time_in_octagon(guy,day1=date.today().strftime('%B %d, %Y')):\n",
    "    summ=0\n",
    "    good_indices=[i for i in ufcfightscrap.index.values if time_diff(ufcfightscrap['date'][i],day1)>0 and ufcfightscrap['fighter'][i]==guy] \n",
    "    for i in good_indices:\n",
    "        if ufcfightscrap['time'][i][2]==':':\n",
    "            summ=int(ufcfightscrap['time'][i][0:2])+int(ufcfightscrap['time'][i][3:])/60.0\n",
    "        else:\n",
    "            summ+=5*(ufcfightscrap['round'][i]-1)+int(ufcfightscrap['time'][i][0])+int(ufcfightscrap['time'][i][2:])/60.0\n",
    "    return summ\n",
    "\n",
    "#enter date unabbreviated 'July 4, 2019'\n",
    "#gives takedowns per minute\n",
    "def avg_count(stat, guy,inf_abs, day1=date.today().strftime('%B %d, %Y')):\n",
    "    summ=0\n",
    "    if inf_abs=='inf':\n",
    "        good_indices=[i for i in ufcfightscrap.index.values if ufcfightscrap['fighter'][i]==guy and time_diff(ufcfightscrap['date'][i],day1)>0]\n",
    "    else:\n",
    "        good_indices=[i for i in ufcfightscrap.index.values if ufcfightscrap['opponent'][i]==guy and time_diff(ufcfightscrap['date'][i],day1)>0]\n",
    "    for i in good_indices:\n",
    "        summ+=ufcfightscrap[stat][i]\n",
    "    t= time_in_octagon(guy,day1)\n",
    "    if t==0:\n",
    "        summ=0\n",
    "    else:\n",
    "        summ=summ/t\n",
    "    return summ\n",
    "\n",
    "#vectorize these functions\n",
    "count_vect= npy.vectorize(count)\n",
    "avg_count_vect= npy.vectorize(avg_count)\n",
    "\n",
    "#need to define a model first before calling the following functions\n",
    "#REDEFINE THIS AFTER GETTING ALL STATS COMPILED. WE CURRENTLY CANNOT PREDICT\n",
    "#I've redefined this in such a way to predict what happens when fighter1 in their day1 version fights fighter2\n",
    "#in their day2 version. Meaning we could compare for example 2014 Tyron Woodley to 2019 Colby Covington\n",
    "def ufc_prediction_tuple(fighter1,fighter2,day1=date.today(),day2=date.today()):\n",
    "    tupp=[wins_before(fighter1,day1)-wins_before(fighter2,day2),\n",
    "            losses_before(fighter1,day1)-losses_before(fighter2,day2),\n",
    "            L5Y_wins(fighter1,day1)-L5Y_wins(fighter2,day2),\n",
    "            L5Y_losses(fighter1,day1)-L5Y_losses(fighter2,day2),\n",
    "            L2Y_wins(fighter1,day1)-L2Y_wins(fighter2,day2),\n",
    "            L2Y_losses(fighter1,day1)-L2Y_losses(fighter2,day2),\n",
    "            ko_wins(fighter1,day1)-ko_wins(fighter2,day2),\n",
    "            ko_losses(fighter1,day1)-ko_losses(fighter2,day2),\n",
    "            L5Y_ko_wins(fighter1,day1)-L5Y_ko_wins(fighter2,day2),\n",
    "            L5Y_ko_losses(fighter1,day1)-L5Y_ko_losses(fighter2,day2),\n",
    "            L2Y_ko_wins(fighter1,day1)-L2Y_ko_wins(fighter2,day2),\n",
    "            L2Y_ko_losses(fighter1,day1)-L2Y_ko_losses(fighter2,day2),\n",
    "            sub_wins(fighter1,day1)-sub_wins(fighter2,day2),\n",
    "            sub_losses(fighter1,day1)-sub_losses(fighter2,day2),\n",
    "            L5Y_sub_wins(fighter1,day1)-L5Y_sub_wins(fighter2,day2),\n",
    "            L5Y_sub_losses(fighter1,day1)-L5Y_sub_losses(fighter2,day2),\n",
    "            L2Y_sub_wins(fighter1,day1)-L2Y_sub_wins(fighter2,day2),\n",
    "            L2Y_sub_losses(fighter1,day1)-L2Y_sub_losses(fighter2,day2),\n",
    "            fighter_age(fighter1,day1),fighter_age(fighter2,day2),\n",
    "            fighter_height(fighter1)-fighter_height(fighter2),\n",
    "            fighter_reach(fighter1)-fighter_reach(fighter2),\n",
    "            avg_count('knockdowns',fighter1,'inf',day1), avg_count('pass',fighter1,'inf',day1),\n",
    "            avg_count('reversals',fighter1,'inf',day1),avg_count('sub_attempts',fighter1,'inf',day1),\n",
    "            avg_count('takedowns_landed',fighter1,'inf',day1),avg_count('takedowns_attempts',fighter1,'inf',day1),\n",
    "            avg_count('sig_strikes_landed',fighter1,'inf',day1),avg_count('sig_strikes_attempts',fighter1,'inf',day1),\n",
    "            avg_count('total_strikes_landed',fighter1,'inf',day1),avg_count('total_strikes_attempts',fighter1,'inf',day1),\n",
    "            avg_count('head_strikes_landed',fighter1,'inf',day1),avg_count('head_strikes_attempts',fighter1,'inf',day1),\n",
    "            avg_count('body_strikes_landed',fighter1,'inf',day1),avg_count('body_strikes_attempts',fighter1,'inf',day1),\n",
    "            avg_count('leg_strikes_landed',fighter1,'inf',day1),avg_count('leg_strikes_attempts',fighter1,'inf',day1),\n",
    "            avg_count('distance_strikes_landed',fighter1,'inf',day1),avg_count('distance_strikes_attempts',fighter1,'inf',day1),\n",
    "            avg_count('clinch_strikes_landed',fighter1,'inf',day1),avg_count('clinch_strikes_attempts',fighter1,'inf',day1),\n",
    "            avg_count('ground_strikes_landed',fighter1,'inf',day1),avg_count('ground_strikes_attempts',fighter1,'inf',day1),\n",
    "            avg_count('knockdowns',fighter1,'abs',day1), avg_count('pass',fighter1,'abs',day1),\n",
    "            avg_count('reversals',fighter1,'abs',day1),avg_count('sub_attempts',fighter1,'abs',day1),\n",
    "            avg_count('takedowns_landed',fighter1,'abs',day1),avg_count('takedowns_attempts',fighter1,'abs',day1),\n",
    "            avg_count('sig_strikes_landed',fighter1,'abs',day1),avg_count('sig_strikes_attempts',fighter1,'abs',day1),\n",
    "            avg_count('total_strikes_landed',fighter1,'abs',day1),avg_count('total_strikes_attempts',fighter1,'abs',day1),\n",
    "            avg_count('head_strikes_landed',fighter1,'abs',day1),avg_count('head_strikes_attempts',fighter1,'abs',day1),\n",
    "            avg_count('body_strikes_landed',fighter1,'abs',day1),avg_count('body_strikes_attempts',fighter1,'abs',day1),\n",
    "            avg_count('leg_strikes_landed',fighter1,'abs',day1),avg_count('leg_strikes_attempts',fighter1,'abs',day1),\n",
    "            avg_count('distance_strikes_landed',fighter1,'abs',day1),avg_count('distance_strikes_attempts',fighter1,'abs',day1),\n",
    "            avg_count('clinch_strikes_landed',fighter1,'abs',day1),avg_count('clinch_strikes_attempts',fighter1,'abs',day1),\n",
    "            avg_count('ground_strikes_landed',fighter1,'abs',day1),avg_count('ground_strikes_attempts',fighter1,'abs',day1),\n",
    "            avg_count('knockdowns',fighter2,'inf',day2), avg_count('pass',fighter2,'inf',day2),\n",
    "            avg_count('reversals',fighter2,'inf',day2),avg_count('sub_attempts',fighter2,'inf',day2),\n",
    "            avg_count('takedowns_landed',fighter2,'inf',day2),avg_count('takedowns_attempts',fighter2,'inf',day2),\n",
    "            avg_count('sig_strikes_landed',fighter2,'inf',day2),avg_count('sig_strikes_attempts',fighter2,'inf',day2),\n",
    "            avg_count('total_strikes_landed',fighter2,'inf',day2),avg_count('total_strikes_attempts',fighter2,'inf',day2),\n",
    "            avg_count('head_strikes_landed',fighter2,'inf',day2),avg_count('head_strikes_attempts',fighter2,'inf',day2),\n",
    "            avg_count('body_strikes_landed',fighter2,'inf',day2),avg_count('body_strikes_attempts',fighter2,'inf',day2),\n",
    "            avg_count('leg_strikes_landed',fighter2,'inf',day2),avg_count('leg_strikes_attempts',fighter2,'inf',day2),\n",
    "            avg_count('distance_strikes_landed',fighter2,'inf',day2),avg_count('distance_strikes_attempts',fighter2,'inf',day2),\n",
    "            avg_count('clinch_strikes_landed',fighter2,'inf',day2),avg_count('clinch_strikes_attempts',fighter2,'inf',day2),\n",
    "            avg_count('ground_strikes_landed',fighter2,'inf',day2),avg_count('ground_strikes_attempts',fighter2,'inf',day2),\n",
    "            avg_count('knockdowns',fighter2,'abs',day2), avg_count('pass',fighter2,'abs',day2),\n",
    "            avg_count('reversals',fighter2,'abs',day2),avg_count('sub_attempts',fighter2,'abs',day2),\n",
    "            avg_count('takedowns_landed',fighter2,'abs',day2),avg_count('takedowns_attempts',fighter2,'abs',day2),\n",
    "            avg_count('sig_strikes_landed',fighter2,'abs',day2),avg_count('sig_strikes_attempts',fighter2,'abs',day2),\n",
    "            avg_count('total_strikes_landed',fighter2,'abs',day2),avg_count('total_strikes_attempts',fighter2,'abs',day2),\n",
    "            avg_count('head_strikes_landed',fighter2,'abs',day2),avg_count('head_strikes_attempts',fighter2,'abs',day2),\n",
    "            avg_count('body_strikes_landed',fighter2,'abs',day2),avg_count('body_strikes_attempts',fighter2,'abs',day2),\n",
    "            avg_count('leg_strikes_landed',fighter2,'abs',day2),avg_count('leg_strikes_attempts',fighter2,'abs',day2),\n",
    "            avg_count('distance_strikes_landed',fighter2,'abs',day2),avg_count('distance_strikes_attempts',fighter2,'abs',day2),\n",
    "            avg_count('clinch_strikes_landed',fighter2,'abs',day2),avg_count('clinch_strikes_attempts',fighter2,'abs',day2),\n",
    "            avg_count('ground_strikes_landed',fighter2,'abs',day2),avg_count('ground_strikes_attempts',fighter2,'abs',day2),\n",
    "            stance(fighter1),stance(fighter2)]\n",
    "    for i in range(len(tupp)):\n",
    "        tupp[i]=float(tupp[i])\n",
    "    return tupp\n",
    "\n",
    "def mlp_prediction_tuple(fighter1,fighter2,day1=date.today(),day2=date.today()):\n",
    "    tupp=[ko_wins(fighter1,day1),\n",
    "            ko_losses(fighter1,day1),\n",
    "            ko_wins(fighter2,day2),\n",
    "            ko_losses(fighter2,day2),\n",
    "            L5Y_ko_wins(fighter1,day1),\n",
    "            L5Y_ko_losses(fighter1,day1),\n",
    "            L2Y_ko_wins(fighter1,day1),\n",
    "            L2Y_ko_losses(fighter1,day1),\n",
    "            L5Y_ko_wins(fighter2,day2),\n",
    "            L5Y_ko_losses(fighter2,day2),\n",
    "            L2Y_ko_wins(fighter2,day2),\n",
    "            L2Y_ko_losses(fighter2,day2),\n",
    "            sub_wins(fighter1,day1),\n",
    "            sub_losses(fighter1,day1),\n",
    "            sub_wins(fighter2,day2),\n",
    "            sub_losses(fighter2,day2),\n",
    "            avg_count('head_strikes_landed',fighter1,'inf',day1),avg_count('head_strikes_attempts',fighter1,'inf',day1),\n",
    "            avg_count('head_strikes_landed',fighter1,'abs',day1),avg_count('head_strikes_attempts',fighter1,'abs',day1),\n",
    "            avg_count('head_strikes_landed',fighter2,'inf',day2),avg_count('head_strikes_attempts',fighter2,'inf',day2),\n",
    "            avg_count('head_strikes_landed',fighter2,'abs',day2),avg_count('head_strikes_attempts',fighter2,'abs',day2),\n",
    "            avg_count('clinch_strikes_landed',fighter1,'inf',day1),avg_count('clinch_strikes_attempts',fighter1,'inf',day1),\n",
    "            avg_count('clinch_strikes_landed',fighter1,'abs',day1),avg_count('clinch_strikes_attempts',fighter1,'abs',day1),\n",
    "            avg_count('clinch_strikes_landed',fighter2,'inf',day2),avg_count('clinch_strikes_attempts',fighter2,'inf',day2),\n",
    "            avg_count('clinch_strikes_landed',fighter2,'abs',day2),avg_count('clinch_strikes_attempts',fighter2,'abs',day2),\n",
    "            L5Y_sub_wins(fighter1,day1),\n",
    "            L5Y_sub_losses(fighter1,day1),\n",
    "            L2Y_sub_wins(fighter1,day1),\n",
    "            L2Y_sub_losses(fighter1,day1),\n",
    "            L5Y_sub_wins(fighter2,day2),\n",
    "            L5Y_sub_losses(fighter2,day2),\n",
    "            L2Y_sub_wins(fighter2,day2),\n",
    "            L2Y_sub_losses(fighter2,day2),\n",
    "            avg_count('body_strikes_landed',fighter1,'inf',day1),\n",
    "            avg_count('body_strikes_landed',fighter2,'inf',day2)]\n",
    "    for i in range(len(tupp)):\n",
    "        tupp[i]=float(tupp[i])\n",
    "    return tupp\n",
    "            \n",
    "            \n",
    "def model_prediction_tuple(fighter1,fighter2,day1=date.today(),day2=date.today()):\n",
    "    tupp=[wins_before(fighter1,day1)-wins_before(fighter2,day2),\n",
    "            losses_before(fighter1,day1)-losses_before(fighter2,day2),\n",
    "            L5Y_wins(fighter1,day1)-L5Y_wins(fighter2,day2),\n",
    "            L5Y_losses(fighter1,day1)-L5Y_losses(fighter2,day2),\n",
    "            L2Y_wins(fighter1,day1)-L2Y_wins(fighter2,day2),\n",
    "            L2Y_losses(fighter1,day1)-L2Y_losses(fighter2,day2),\n",
    "            L5Y_ko_wins(fighter1,day1)-L5Y_ko_wins(fighter2,day2),\n",
    "            L5Y_ko_losses(fighter1,day1)-L5Y_ko_losses(fighter2,day2),\n",
    "            L2Y_ko_wins(fighter1,day1)-L2Y_ko_wins(fighter2,day2),\n",
    "            L2Y_ko_losses(fighter1,day1)-L2Y_ko_losses(fighter2,day2),\n",
    "            L2Y_sub_losses(fighter1,day1)-L2Y_sub_losses(fighter2,day2),\n",
    "            L5Y_sub_wins(fighter1,day1)-L5Y_sub_wins(fighter2,day2),\n",
    "            L5Y_sub_losses(fighter1,day1)-L5Y_sub_losses(fighter2,day2),\n",
    "            L2Y_sub_wins(fighter1,day1)-L2Y_sub_wins(fighter2,day2),\n",
    "            L2Y_sub_losses(fighter1,day1)-L2Y_sub_losses(fighter2,day2),\n",
    "            avg_count('reversals',fighter1,'inf',day1),\n",
    "            avg_count('reversals',fighter1,'abs',day1),\n",
    "            avg_count('reversals',fighter2,'inf',day2),\n",
    "            avg_count('reversals',fighter2,'abs',day2),\n",
    "            avg_count('takedowns_attempts',fighter1,'inf',day1),\n",
    "            avg_count('takedowns_attempts',fighter1,'abs',day1),\n",
    "            avg_count('takedowns_attempts',fighter2,'inf',day2),\n",
    "            avg_count('takedowns_attempts',fighter2,'abs',day2),\n",
    "            ko_wins(fighter1,day1)-ko_wins(fighter2,day2),\n",
    "            fighter_age(fighter1,day1),fighter_age(fighter2,day2),\n",
    "            sub_wins(fighter1,day1)-sub_wins(fighter2,day2),\n",
    "            ko_losses(fighter1,day1)-ko_losses(fighter2,day2),\n",
    "            avg_count('body_strikes_landed',fighter1,'inf',day1),\n",
    "            avg_count('body_strikes_attempts',fighter1,'inf',day1),\n",
    "            avg_count('body_strikes_landed',fighter1,'abs',day1),\n",
    "            avg_count('body_strikes_attempts',fighter1,'abs',day1),\n",
    "            avg_count('body_strikes_landed',fighter2,'inf',day2),\n",
    "            avg_count('body_strikes_attempts',fighter2,'inf',day2),\n",
    "            avg_count('body_strikes_landed',fighter2,'abs',day2),\n",
    "            avg_count('body_strikes_attempts',fighter2,'abs',day2),\n",
    "            avg_count('takedowns_landed',fighter1,'inf',day1),\n",
    "            avg_count('takedowns_landed',fighter1,'abs',day1),\n",
    "            avg_count('takedowns_landed',fighter2,'inf',day2),\n",
    "            avg_count('takedowns_landed',fighter2,'abs',day2),\n",
    "            avg_count('head_strikes_attempts',fighter1,'inf',day1),\n",
    "            avg_count('head_strikes_attempts',fighter1,'abs',day1),\n",
    "            avg_count('head_strikes_attempts',fighter2,'inf',day2),\n",
    "            avg_count('head_strikes_attempts',fighter2,'abs',day2),\n",
    "            avg_count('distance_strikes_landed',fighter1,'inf',day1),\n",
    "            avg_count('distance_strikes_landed',fighter1,'abs',day1),\n",
    "            avg_count('distance_strikes_landed',fighter2,'inf',day2),\n",
    "            avg_count('distance_strikes_landed',fighter2,'abs',day2),\n",
    "            avg_count('distance_strikes_attempts',fighter1,'inf',day1),\n",
    "            avg_count('distance_strikes_attempts',fighter1,'abs',day1),\n",
    "            avg_count('distance_strikes_attempts',fighter2,'inf',day2),\n",
    "            avg_count('distance_strikes_attempts',fighter2,'abs',day2)]\n",
    "    for i in range(len(tupp)):\n",
    "        tupp[i]=float(tupp[i])\n",
    "    return tupp\n",
    "\n",
    "#date entered in the form 'Aug 20, 2013'\n",
    "#predicts what happens if the day1 version of fighter1 fights fighter2 at their day2 version\n",
    "#by default day1 and day2 are set to today if left unspecified\n",
    "def ufc_predict(fighter1,fighter2,day1=date.today(), day2=date.today()):\n",
    "    fighters=[fighter1,fighter2]\n",
    "    random_guy=fighters[random.choice([0,1])]\n",
    "    fighter1_fights=(ufcfightscrap['fighter']==fighter1).sum()\n",
    "    fighter2_fights=(ufcfightscrap['fighter']==fighter2).sum()\n",
    "    if fighter1_fights==0 and not fighter2_fights==0:\n",
    "        print('Either you spelled something wrong, or this is '+fighter1+\"'s UFC debut... so obviously I do not have enough data to make an educated pick. But since you are DEMANDING an outcome, hmmm... I guess I'll go with \"+random_guy+'.')\n",
    "    elif fighter2_fights==0 and not fighter1_fights==0:\n",
    "        print('Either you spelled something wrong, or this is '+fighter2+\"'s UFC debut... so obviously I do not have enough data to make an educated pick. But since you are DEMANDING an outcome, hmmm... I guess I'll go with \"+random_guy+'.') \n",
    "    elif fighter1_fights==0 and fighter2_fights==0:\n",
    "        print('Either you spelled some things wrong, or this is both '+fighter1+\"'s \"+'and '+fighter2+\"'s \"+\"UFC debuts... so obviously I do not have enough data to make an educated pick. But since you are DEMANDING an outcome, hmmm... I guess I'll go with \"+random_guy+'.')\n",
    "    else:\n",
    "        model_tuple=model_prediction_tuple(fighter1,fighter2,day1,day2)\n",
    "        mlp_tuple=mlp_prediction_tuple(fighter1,fighter2,day1,day2)\n",
    "        value=model.predict([model_tuple])[0]\n",
    "        result=mlp.predict([mlp_tuple])[0]\n",
    "        if value=='W':\n",
    "            print(fighter1+' wins by '+result)\n",
    "        elif value=='L':\n",
    "            print(fighter2+' wins by '+result)\n",
    "        else:\n",
    "            print(\"Something has gone wrong\")\n",
    "\n",
    "def stance(fighter):\n",
    "    a=0\n",
    "    for i in range(len(ufcfighterscrap['name'])):\n",
    "        if ufcfighterscrap['name'][i]==fighter:\n",
    "            a=ufcfighterscrap['stance'][i]\n",
    "            break\n",
    "    if a=='Orthodox':\n",
    "        return 0\n",
    "    elif a=='Switch':\n",
    "        return 1\n",
    "    elif a=='Southpaw':\n",
    "        return 2\n",
    "    elif a=='Open Stance':\n",
    "        return 3\n",
    "    elif a=='Sideways':\n",
    "        return 4\n",
    "    else:\n",
    "        return 5\n",
    "    \n",
    "stance_vect= npy.vectorize(stance)\n",
    "\n",
    "def subsets(n):\n",
    "    lists=[]\n",
    "    for i in range(1,n+1):\n",
    "        lists.append(i)\n",
    "    subsets=[[]]\n",
    "    n=len(lists)\n",
    "    for i in range(1,n+1):\n",
    "        data = itertools.combinations(lists,i)\n",
    "        subsets.extend(list(data))\n",
    "    return subsets"
   ]
  },
  {
   "cell_type": "code",
   "execution_count": 106,
   "metadata": {},
   "outputs": [
    {
     "name": "stderr",
     "output_type": "stream",
     "text": [
      "/opt/anaconda2/lib/python2.7/site-packages/IPython/core/interactiveshell.py:2714: DtypeWarning: Columns (73,74) have mixed types. Specify dtype option on import or set low_memory=False.\n",
      "  interactivity=interactivity, compiler=compiler, result=result)\n"
     ]
    }
   ],
   "source": [
    "ufc_fights= pd.read_csv('ufc_fights.csv')\n",
    "ufc_fights_crap= pd.read_csv('ufc_fights_crap.csv')\n",
    "ufcfightscrap= pd.read_csv('ufc_fights_crap.csv')\n",
    "ufcfighterscrap=pd.read_csv('fighter_stats.csv',sep=',')"
   ]
  },
  {
   "cell_type": "code",
   "execution_count": 107,
   "metadata": {},
   "outputs": [
    {
     "name": "stderr",
     "output_type": "stream",
     "text": [
      "/opt/anaconda2/lib/python2.7/site-packages/ipykernel_launcher.py:31: SettingWithCopyWarning: \n",
      "A value is trying to be set on a copy of a slice from a DataFrame.\n",
      "Try using .loc[row_indexer,col_indexer] = value instead\n",
      "\n",
      "See the caveats in the documentation: http://pandas.pydata.org/pandas-docs/stable/indexing.html#indexing-view-versus-copy\n",
      "/opt/anaconda2/lib/python2.7/site-packages/ipykernel_launcher.py:32: SettingWithCopyWarning: \n",
      "A value is trying to be set on a copy of a slice from a DataFrame.\n",
      "Try using .loc[row_indexer,col_indexer] = value instead\n",
      "\n",
      "See the caveats in the documentation: http://pandas.pydata.org/pandas-docs/stable/indexing.html#indexing-view-versus-copy\n",
      "/opt/anaconda2/lib/python2.7/site-packages/ipykernel_launcher.py:33: SettingWithCopyWarning: \n",
      "A value is trying to be set on a copy of a slice from a DataFrame.\n",
      "Try using .loc[row_indexer,col_indexer] = value instead\n",
      "\n",
      "See the caveats in the documentation: http://pandas.pydata.org/pandas-docs/stable/indexing.html#indexing-view-versus-copy\n",
      "/opt/anaconda2/lib/python2.7/site-packages/ipykernel_launcher.py:38: SettingWithCopyWarning: \n",
      "A value is trying to be set on a copy of a slice from a DataFrame.\n",
      "Try using .loc[row_indexer,col_indexer] = value instead\n",
      "\n",
      "See the caveats in the documentation: http://pandas.pydata.org/pandas-docs/stable/indexing.html#indexing-view-versus-copy\n"
     ]
    }
   ],
   "source": [
    "#adding mask to get rid of unknown stance\n",
    "stance_mask_a=ufc_fights['fighter_stance']!=5\n",
    "stance_mask_b=ufc_fights['opponent_stance']!=5\n",
    "\n",
    "#gets rid of all unknown, NaN in ufc_fights_stance\n",
    "mask=ufc_fights['fighter_wins'] != 'unknown'\n",
    "for col in ufc_fights.columns:\n",
    "    mask1=ufc_fights[col] != 'unknown'\n",
    "    mask2=ufc_fights[col] != 'NaN'\n",
    "    mask3=ufc_fights[col] != '--'\n",
    "    mask=mask&mask1&mask2&mask3\n",
    "\n",
    "#gets rid of ufc debut in ufc_fights_stance\n",
    "maska=ufc_fights['fighter_inf_sig_strikes_attempts_avg'] != 0\n",
    "maskb=ufc_fights['opponent_inf_sig_strikes_attempts_avg'] != 0\n",
    "\n",
    "#Getting rid of all fights whose method is DQ, Overturned, or CNC or any draws\n",
    "method_mask1=ufc_fights['method']!='DQ'\n",
    "method_mask2=ufc_fights['method']!='Overturned'\n",
    "method_mask3=ufc_fights['method']!='CNC'\n",
    "method_mask4=ufc_fights['result']!='D'\n",
    "method_mask=method_mask1&method_mask2&method_mask3&method_mask4\n",
    "\n",
    "#forming total mask\n",
    "mask=mask&maska&maskb&stance_mask_a&stance_mask_b&method_mask\n",
    "\n",
    "#applies all masks resulting in ufc_fights_cleaned (annoying notation... clean the whole thing up)\n",
    "ufc_fights_cleaned=ufc_fights[mask]\n",
    "\n",
    "#Now lets get rid of the different types of decisions (all become DEC)\n",
    "ufc_fights_cleaned['method'] = ufc_fights_cleaned['method'].replace(['U-DEC'],'DEC')\n",
    "ufc_fights_cleaned['method'] = ufc_fights_cleaned['method'].replace(['S-DEC'],'DEC')\n",
    "ufc_fights_cleaned['method'] = ufc_fights_cleaned['method'].replace(['M-DEC'],'DEC')\n",
    "\n",
    "#change all columns to have float values\n",
    "for col in ufc_fights_cleaned.columns:\n",
    "    try:\n",
    "        ufc_fights_cleaned[col]=ufc_fights_cleaned[col].astype(float)\n",
    "    except:\n",
    "        None"
   ]
  },
  {
   "cell_type": "code",
   "execution_count": 108,
   "metadata": {},
   "outputs": [],
   "source": [
    "record_statistics=[u'fighter_wins', \n",
    "                   u'fighter_losses',\n",
    "                   u'fighter_L5Y_wins',\n",
    "                   u'fighter_L5Y_losses', \n",
    "                   u'fighter_L2Y_wins', \n",
    "                   u'fighter_L2Y_losses',\n",
    "                    u'fighter_ko_wins',\n",
    "                   u'fighter_ko_losses',\n",
    "                   u'fighter_L5Y_ko_wins',\n",
    "                   u'fighter_L5Y_ko_losses',\n",
    "                   u'fighter_L2Y_ko_wins',\n",
    "                    u'fighter_L2Y_ko_losses',\n",
    "                   u'fighter_sub_wins',\n",
    "                   u'fighter_sub_losses',\n",
    "                   u'fighter_L5Y_sub_wins',\n",
    "                    u'fighter_L5Y_sub_losses', \n",
    "                   u'fighter_L2Y_sub_wins', \n",
    "                   u'fighter_L2Y_sub_losses',\n",
    "                   u'opponent_wins', \n",
    "                   u'opponent_losses',\n",
    "                   u'opponent_L5Y_wins', \n",
    "                   u'opponent_L5Y_losses', \n",
    "                   u'opponent_L2Y_wins', \n",
    "                   u'opponent_L2Y_losses', \n",
    "                    u'opponent_ko_wins', \n",
    "                   u'opponent_ko_losses', \n",
    "                   u'opponent_L5Y_ko_wins', \n",
    "                   u'opponent_L5Y_ko_losses', \n",
    "                   u'opponent_L2Y_ko_wins',\n",
    "                    u'opponent_L2Y_ko_losses', \n",
    "                   u'opponent_sub_wins', \n",
    "                   u'opponent_sub_losses',\n",
    "                   u'opponent_L5Y_sub_wins', \n",
    "                    u'opponent_L5Y_sub_losses', \n",
    "                   u'opponent_L2Y_sub_wins', \n",
    "                   u'opponent_L2Y_sub_losses']\n",
    "\n",
    "physical_stats=[ u'fighter_age',\n",
    "                u'fighter_height',\n",
    "                    u'fighter_reach',  \n",
    "                u'opponent_age',  \n",
    "                u'opponent_height',\n",
    "                    u'opponent_reach']\n",
    "\n",
    "#here is the list of all stats available (besides stance), does not include names or result\n",
    "punch_statistics=[    u'fighter_inf_knockdowns_avg',\n",
    "                    u'fighter_inf_pass_avg',\n",
    "                    u'fighter_inf_reversals_avg',\n",
    "                    u'fighter_inf_sub_attempts_avg',\n",
    "                    u'fighter_inf_takedowns_landed_avg',\n",
    "                    u'fighter_inf_takedowns_attempts_avg',\n",
    "                    u'fighter_inf_sig_strikes_landed_avg',\n",
    "                    u'fighter_inf_sig_strikes_attempts_avg',\n",
    "                    u'fighter_inf_total_strikes_landed_avg',\n",
    "                    u'fighter_inf_total_strikes_attempts_avg',\n",
    "                    u'fighter_inf_head_strikes_landed_avg',\n",
    "                    u'fighter_inf_head_strikes_attempts_avg',\n",
    "                    u'fighter_inf_body_strikes_landed_avg',\n",
    "                    u'fighter_inf_body_strikes_attempts_avg',\n",
    "                    u'fighter_inf_leg_strikes_landed_avg',\n",
    "                    u'fighter_inf_leg_strikes_attempts_avg',\n",
    "                    u'fighter_inf_distance_strikes_landed_avg',\n",
    "                    u'fighter_inf_distance_strikes_attempts_avg',\n",
    "                    u'fighter_inf_clinch_strikes_landed_avg',\n",
    "                    u'fighter_inf_clinch_strikes_attempts_avg',\n",
    "                    u'fighter_inf_ground_strikes_landed_avg',\n",
    "                    u'fighter_inf_ground_strikes_attempts_avg',\n",
    "                \n",
    "                    u'fighter_abs_knockdowns_avg',\n",
    "                    u'fighter_abs_pass_avg',\n",
    "                    u'fighter_abs_reversals_avg',\n",
    "                    u'fighter_abs_sub_attempts_avg',\n",
    "                    u'fighter_abs_takedowns_landed_avg',\n",
    "                    u'fighter_abs_takedowns_attempts_avg',\n",
    "                    u'fighter_abs_sig_strikes_landed_avg',\n",
    "                    u'fighter_abs_sig_strikes_attempts_avg',\n",
    "                    u'fighter_abs_total_strikes_landed_avg',\n",
    "                    u'fighter_abs_total_strikes_attempts_avg',\n",
    "                    u'fighter_abs_head_strikes_landed_avg',\n",
    "                    u'fighter_abs_head_strikes_attempts_avg',\n",
    "                    u'fighter_abs_body_strikes_landed_avg',\n",
    "                    u'fighter_abs_body_strikes_attempts_avg',\n",
    "                    u'fighter_abs_leg_strikes_landed_avg',\n",
    "                    u'fighter_abs_leg_strikes_attempts_avg',\n",
    "                    u'fighter_abs_distance_strikes_landed_avg',\n",
    "                    u'fighter_abs_distance_strikes_attempts_avg',\n",
    "                    u'fighter_abs_clinch_strikes_landed_avg',\n",
    "                    u'fighter_abs_clinch_strikes_attempts_avg',\n",
    "                    u'fighter_abs_ground_strikes_landed_avg',\n",
    "                    u'fighter_abs_ground_strikes_attempts_avg',\n",
    "                    \n",
    "                    u'opponent_inf_knockdowns_avg',\n",
    "                    u'opponent_inf_pass_avg',\n",
    "                    u'opponent_inf_reversals_avg',\n",
    "                    u'opponent_inf_sub_attempts_avg',\n",
    "                    u'opponent_inf_takedowns_landed_avg',\n",
    "                    u'opponent_inf_takedowns_attempts_avg',\n",
    "                    u'opponent_inf_sig_strikes_landed_avg',\n",
    "                    u'opponent_inf_sig_strikes_attempts_avg',\n",
    "                    u'opponent_inf_total_strikes_landed_avg',\n",
    "                    u'opponent_inf_total_strikes_attempts_avg',\n",
    "                    u'opponent_inf_head_strikes_landed_avg',\n",
    "                    u'opponent_inf_head_strikes_attempts_avg',\n",
    "                    u'opponent_inf_body_strikes_landed_avg',\n",
    "                    u'opponent_inf_body_strikes_attempts_avg',\n",
    "                    u'opponent_inf_leg_strikes_landed_avg',\n",
    "                    u'opponent_inf_leg_strikes_attempts_avg',\n",
    "                    u'opponent_inf_distance_strikes_landed_avg',\n",
    "                    u'opponent_inf_distance_strikes_attempts_avg',\n",
    "                    u'opponent_inf_clinch_strikes_landed_avg',\n",
    "                    u'opponent_inf_clinch_strikes_attempts_avg',\n",
    "                    u'opponent_inf_ground_strikes_landed_avg',\n",
    "                    u'opponent_inf_ground_strikes_attempts_avg',\n",
    "                \n",
    "                    u'opponent_abs_knockdowns_avg',\n",
    "                    u'opponent_abs_pass_avg',\n",
    "                    u'opponent_abs_reversals_avg',\n",
    "                    u'opponent_abs_sub_attempts_avg',\n",
    "                    u'opponent_abs_takedowns_landed_avg',\n",
    "                    u'opponent_abs_takedowns_attempts_avg',\n",
    "                    u'opponent_abs_sig_strikes_landed_avg',\n",
    "                    u'opponent_abs_sig_strikes_attempts_avg',\n",
    "                    u'opponent_abs_total_strikes_landed_avg',\n",
    "                    u'opponent_abs_total_strikes_attempts_avg',\n",
    "                    u'opponent_abs_head_strikes_landed_avg',\n",
    "                    u'opponent_abs_head_strikes_attempts_avg',\n",
    "                    u'opponent_abs_body_strikes_landed_avg',\n",
    "                    u'opponent_abs_body_strikes_attempts_avg',\n",
    "                    u'opponent_abs_leg_strikes_landed_avg',\n",
    "                    u'opponent_abs_leg_strikes_attempts_avg',\n",
    "                    u'opponent_abs_distance_strikes_landed_avg',\n",
    "                    u'opponent_abs_distance_strikes_attempts_avg',\n",
    "                    u'opponent_abs_clinch_strikes_landed_avg',\n",
    "                    u'opponent_abs_clinch_strikes_attempts_avg',\n",
    "                    u'opponent_abs_ground_strikes_landed_avg',\n",
    "                    u'opponent_abs_ground_strikes_attempts_avg']\n",
    "\n",
    "#forming a dataframe where columns are differences between fighter and opponent fight statistics\n",
    "mrs=len(record_statistics)/2\n",
    "record_diff_2_df=pd.DataFrame()\n",
    "for i in range(mrs):\n",
    "    record_diff_2_df[record_statistics[i]+'_diff_2']=ufc_fights_cleaned[record_statistics[i]]-ufc_fights_cleaned[record_statistics[i+mrs]]\n",
    "    \n",
    "#Lets start building a dataframe of all the stats which we know perform best\n",
    "ufc_best_df=pd.DataFrame()\n",
    "ufc_best_df['fighter']=ufc_fights_cleaned['fighter']\n",
    "ufc_best_df['opponent']=ufc_fights_cleaned['opponent']\n",
    "ufc_best_df['result']=ufc_fights_cleaned['result']\n",
    "ufc_best_df['method']=ufc_fights_cleaned['method']\n",
    "ufc_best_df['date']=ufc_fights_cleaned['date']\n",
    "for col in record_diff_2_df.columns:\n",
    "    ufc_best_df[col]=record_diff_2_df[col]\n",
    "\n",
    "#moving on to physical_stats:\n",
    "physical_stats_diff_df=pd.DataFrame()\n",
    "physical=[ [u'fighter_age',u'opponent_age'],[u'fighter_height',u'opponent_height'],[u'fighter_reach',u'opponent_reach']]\n",
    "physical_stats_diff_df['age_diff']=ufc_fights_cleaned['fighter_age'].apply(float)-ufc_fights_cleaned['opponent_age'].apply(float)\n",
    "physical_stats_diff_df['height_diff']=ufc_fights_cleaned['fighter_height'].apply(float)-ufc_fights_cleaned['opponent_height'].apply(float)\n",
    "physical_stats_diff_df['reach_diff']=ufc_fights_cleaned['fighter_reach'].apply(float)-ufc_fights_cleaned['opponent_reach'].apply(float)\n",
    "#ok so we keep ages absolute, but make differences for height and reach\n",
    "ufc_best_df['fighter_age']=ufc_fights_cleaned['fighter_age']\n",
    "ufc_best_df['opponent_age']=ufc_fights_cleaned['opponent_age']\n",
    "#for some reason ages are stored as strings. Better if they are integers\n",
    "ufc_best_df['fighter_age'] = ufc_best_df['fighter_age'].astype(int)\n",
    "ufc_best_df['opponent_age'] = ufc_best_df['opponent_age'].astype(int)\n",
    "#height and reach are best as differences\n",
    "ufc_best_df['height_diff']=physical_stats_diff_df['height_diff']\n",
    "ufc_best_df['reach_diff']=physical_stats_diff_df['reach_diff']\n",
    "\n",
    "#This includes all the best choices in terms of taking differences\n",
    "for col in punch_statistics:\n",
    "    ufc_best_df[col]=ufc_fights_cleaned[col]\n",
    "\n",
    "#adding stance to ufc_best_df\n",
    "ufc_best_df['fighter_stance']=ufc_fights_cleaned['fighter_stance']\n",
    "ufc_best_df['opponent_stance']=ufc_fights_cleaned['opponent_stance']\n",
    "\n",
    "maybies=[\n",
    "['fighter_wins_diff_2',\n",
    "'fighter_losses_diff_2'],\n",
    "['fighter_L5Y_wins_diff_2',\n",
    "'fighter_L5Y_losses_diff_2',\n",
    "'fighter_L2Y_wins_diff_2',\n",
    "'fighter_L2Y_losses_diff_2'],\n",
    "['fighter_L5Y_ko_wins_diff_2',\n",
    "'fighter_L5Y_ko_losses_diff_2',\n",
    "'fighter_L2Y_ko_wins_diff_2',\n",
    "'fighter_L2Y_ko_losses_diff_2'],\n",
    "['fighter_sub_losses_diff_2',\n",
    "'fighter_L5Y_sub_wins_diff_2',\n",
    "'fighter_L5Y_sub_losses_diff_2',\n",
    "'fighter_L2Y_sub_wins_diff_2',\n",
    "'fighter_L2Y_sub_losses_diff_2'],\n",
    "['fighter_inf_reversals_avg',\n",
    "'fighter_abs_reversals_avg',\n",
    "'opponent_inf_reversals_avg',\n",
    "'opponent_abs_reversals_avg'],\n",
    "['fighter_inf_sub_attempts_avg',\n",
    "'fighter_abs_sub_attempts_avg',\n",
    "'opponent_inf_sub_attempts_avg',\n",
    "'opponent_abs_sub_attempts_avg'],\n",
    "['fighter_inf_takedowns_attempts_avg',\n",
    "'fighter_abs_takedowns_attempts_avg',\n",
    "'opponent_inf_takedowns_attempts_avg',\n",
    "'opponent_abs_takedowns_attempts_avg'],\n",
    "['fighter_inf_sig_strikes_landed_avg',\n",
    "'fighter_abs_sig_strikes_landed_avg',\n",
    "'opponent_inf_sig_strikes_landed_avg',\n",
    "'opponent_abs_sig_strikes_landed_avg'],\n",
    "['fighter_inf_sig_strikes_attempts_avg',\n",
    "'fighter_abs_sig_strikes_attempts_avg',\n",
    "'opponent_inf_sig_strikes_attempts_avg',\n",
    "'opponent_abs_sig_strikes_attempts_avg'],\n",
    "['fighter_inf_total_strikes_attempts_avg',\n",
    "'fighter_abs_total_strikes_attempts_avg',\n",
    "'opponent_inf_total_strikes_attempts_avg',\n",
    "'opponent_abs_total_strikes_attempts_avg'],\n",
    "['fighter_inf_head_strikes_attempts_avg',\n",
    "'fighter_abs_head_strikes_attempts_avg',\n",
    "'opponent_inf_head_strikes_attempts_avg',\n",
    "'opponent_abs_head_strikes_attempts_avg'],\n",
    "['fighter_inf_distance_strikes_landed_avg',\n",
    "'fighter_abs_distance_strikes_landed_avg',\n",
    "'opponent_inf_distance_strikes_landed_avg',\n",
    "'opponent_abs_distance_strikes_landed_avg'],\n",
    "['fighter_inf_distance_strikes_attempts_avg',\n",
    "'fighter_abs_distance_strikes_attempts_avg',\n",
    "'opponent_inf_distance_strikes_attempts_avg',\n",
    "'opponent_abs_distance_strikes_attempts_avg'],\n",
    "['fighter_inf_clinch_strikes_landed_avg',\n",
    "'fighter_abs_clinch_strikes_landed_avg',\n",
    "'opponent_inf_clinch_strikes_landed_avg',\n",
    "'opponent_abs_clinch_strikes_landed_avg'],\n",
    "]\n",
    "keeps=[['fighter_ko_wins_diff_2'],\n",
    "        ['fighter_inf_total_strikes_landed_avg',\n",
    "        'opponent_inf_total_strikes_landed_avg',\n",
    "        'fighter_abs_total_strikes_landed_avg',\n",
    "        'opponent_abs_total_strikes_landed_avg'],\n",
    "        ['fighter_age',\n",
    "        'opponent_age'],\n",
    "        ['fighter_sub_wins_diff_2'],\n",
    "        ['fighter_inf_head_strikes_landed_avg',\n",
    "        'fighter_abs_head_strikes_landed_avg',\n",
    "        'opponent_inf_head_strikes_landed_avg',\n",
    "        'opponent_abs_head_strikes_landed_avg'],\n",
    "        ['fighter_ko_losses_diff_2'],\n",
    "        ['fighter_inf_body_strikes_landed_avg',\n",
    "        'fighter_inf_body_strikes_attempts_avg',\n",
    "        'fighter_abs_body_strikes_landed_avg',\n",
    "        'fighter_abs_body_strikes_attempts_avg',\n",
    "        'opponent_inf_body_strikes_landed_avg',\n",
    "        'opponent_inf_body_strikes_attempts_avg',\n",
    "        'opponent_abs_body_strikes_landed_avg',\n",
    "        'opponent_abs_body_strikes_attempts_avg'],\n",
    "        ['fighter_inf_takedowns_landed_avg',\n",
    "        'fighter_abs_takedowns_landed_avg',\n",
    "        'opponent_inf_takedowns_landed_avg',\n",
    "        'opponent_abs_takedowns_landed_avg'],\n",
    "        ['fighter_inf_knockdowns_avg',\n",
    "        'fighter_abs_knockdowns_avg',\n",
    "        'opponent_inf_knockdowns_avg',\n",
    "        'opponent_abs_knockdowns_avg'],\n",
    "        ['fighter_inf_ground_strikes_attempts_avg',\n",
    "        'fighter_abs_ground_strikes_attempts_avg',\n",
    "        'opponent_inf_ground_strikes_attempts_avg',\n",
    "        'opponent_abs_ground_strikes_attempts_avg',\n",
    "        'fighter_inf_ground_strikes_landed_avg',\n",
    "        'fighter_abs_ground_strikes_landed_avg',\n",
    "        'opponent_inf_ground_strikes_landed_avg',\n",
    "        'opponent_abs_ground_strikes_landed_avg'],\n",
    "        ['fighter_inf_leg_strikes_landed_avg',\n",
    "        'fighter_inf_leg_strikes_attempts_avg',\n",
    "        'fighter_abs_leg_strikes_landed_avg',\n",
    "        'fighter_abs_leg_strikes_attempts_avg',\n",
    "        'opponent_inf_leg_strikes_landed_avg',\n",
    "        'opponent_inf_leg_strikes_attempts_avg',\n",
    "        'opponent_abs_leg_strikes_landed_avg',\n",
    "        'opponent_abs_leg_strikes_attempts_avg'],\n",
    "        ['fighter_inf_clinch_strikes_attempts_avg',\n",
    "        'fighter_abs_clinch_strikes_attempts_avg',\n",
    "        'opponent_inf_clinch_strikes_attempts_avg',\n",
    "        'opponent_abs_clinch_strikes_attempts_avg'],\n",
    "        ['fighter_inf_pass_avg',\n",
    "        'fighter_abs_pass_avg',\n",
    "        'opponent_inf_pass_avg',\n",
    "        'opponent_abs_pass_avg'],\n",
    "        ['fighter_stance',\n",
    "        'opponent_stance',\n",
    "        'height_diff',\n",
    "        'reach_diff']]\n",
    "\n",
    "ultimate_feature_list=['fighter_wins_diff_2',\n",
    " 'fighter_losses_diff_2',\n",
    " 'fighter_L5Y_wins_diff_2',\n",
    " 'fighter_L5Y_losses_diff_2',\n",
    " 'fighter_L2Y_wins_diff_2',\n",
    " 'fighter_L2Y_losses_diff_2',\n",
    " 'fighter_L5Y_ko_wins_diff_2',\n",
    " 'fighter_L5Y_ko_losses_diff_2',\n",
    " 'fighter_L2Y_ko_wins_diff_2',\n",
    " 'fighter_L2Y_ko_losses_diff_2',\n",
    " 'fighter_sub_losses_diff_2',\n",
    " 'fighter_L5Y_sub_wins_diff_2',\n",
    " 'fighter_L5Y_sub_losses_diff_2',\n",
    " 'fighter_L2Y_sub_wins_diff_2',\n",
    " 'fighter_L2Y_sub_losses_diff_2',\n",
    " 'fighter_inf_reversals_avg',\n",
    " 'fighter_abs_reversals_avg',\n",
    " 'opponent_inf_reversals_avg',\n",
    " 'opponent_abs_reversals_avg',\n",
    " 'fighter_inf_takedowns_attempts_avg',\n",
    " 'fighter_abs_takedowns_attempts_avg',\n",
    " 'opponent_inf_takedowns_attempts_avg',\n",
    " 'opponent_abs_takedowns_attempts_avg',\n",
    " 'fighter_ko_wins_diff_2',\n",
    " 'fighter_age',\n",
    " 'opponent_age',\n",
    " 'fighter_sub_wins_diff_2',\n",
    " 'fighter_ko_losses_diff_2',\n",
    " 'fighter_inf_body_strikes_landed_avg',\n",
    " 'fighter_inf_body_strikes_attempts_avg',\n",
    " 'fighter_abs_body_strikes_landed_avg',\n",
    " 'fighter_abs_body_strikes_attempts_avg',\n",
    " 'opponent_inf_body_strikes_landed_avg',\n",
    " 'opponent_inf_body_strikes_attempts_avg',\n",
    " 'opponent_abs_body_strikes_landed_avg',\n",
    " 'opponent_abs_body_strikes_attempts_avg',\n",
    " 'fighter_inf_takedowns_landed_avg',\n",
    " 'fighter_abs_takedowns_landed_avg',\n",
    " 'opponent_inf_takedowns_landed_avg',\n",
    " 'opponent_abs_takedowns_landed_avg']\n",
    "\n",
    "#in the file ufc_finding_the_ultimate_model, we found the following to be (among the) optimal possibilities\n",
    "modified_ultimate_feature_list=['fighter_wins_diff_2',\n",
    " 'fighter_losses_diff_2',\n",
    " 'fighter_L5Y_wins_diff_2',\n",
    " 'fighter_L5Y_losses_diff_2',\n",
    " 'fighter_L2Y_wins_diff_2',\n",
    " 'fighter_L2Y_losses_diff_2',\n",
    " 'fighter_L5Y_ko_wins_diff_2',\n",
    " 'fighter_L5Y_ko_losses_diff_2',\n",
    " 'fighter_L2Y_ko_wins_diff_2',\n",
    " 'fighter_L2Y_ko_losses_diff_2',\n",
    " 'fighter_sub_losses_diff_2',\n",
    " 'fighter_L5Y_sub_wins_diff_2',\n",
    " 'fighter_L5Y_sub_losses_diff_2',\n",
    " 'fighter_L2Y_sub_wins_diff_2',\n",
    " 'fighter_L2Y_sub_losses_diff_2',\n",
    " 'fighter_inf_reversals_avg',\n",
    " 'fighter_abs_reversals_avg',\n",
    " 'opponent_inf_reversals_avg',\n",
    " 'opponent_abs_reversals_avg',\n",
    " 'fighter_inf_takedowns_attempts_avg',\n",
    " 'fighter_abs_takedowns_attempts_avg',\n",
    " 'opponent_inf_takedowns_attempts_avg',\n",
    " 'opponent_abs_takedowns_attempts_avg',\n",
    " 'fighter_ko_wins_diff_2',\n",
    " 'fighter_age',\n",
    " 'opponent_age',\n",
    " 'fighter_sub_wins_diff_2',\n",
    " 'fighter_ko_losses_diff_2',\n",
    " 'fighter_inf_body_strikes_landed_avg',\n",
    " 'fighter_inf_body_strikes_attempts_avg',\n",
    " 'fighter_abs_body_strikes_landed_avg',\n",
    " 'opponent_inf_body_strikes_landed_avg',\n",
    " 'opponent_inf_body_strikes_attempts_avg',\n",
    " 'opponent_abs_body_strikes_landed_avg',\n",
    " 'fighter_inf_takedowns_landed_avg',\n",
    " 'fighter_abs_takedowns_landed_avg',\n",
    " 'opponent_inf_takedowns_landed_avg',\n",
    " 'opponent_abs_takedowns_landed_avg']\n",
    "\n",
    "maybe_comp=[]\n",
    "for r in [i for i in range(14) if not i in (0, 1, 2, 3, 4, 6)]:\n",
    "    maybe_comp.append(maybies[r])\n",
    "    \n",
    "keeps_comp=[]\n",
    "for i in (1,4,8,9,10,11,12,13):\n",
    "    keeps_comp.append(keeps[i])\n",
    "\n",
    "add_back=maybe_comp+keeps_comp"
   ]
  },
  {
   "cell_type": "code",
   "execution_count": 109,
   "metadata": {},
   "outputs": [],
   "source": [
    "model=LogisticRegression()"
   ]
  },
  {
   "cell_type": "code",
   "execution_count": 122,
   "metadata": {},
   "outputs": [
    {
     "data": {
      "text/plain": [
       "3620"
      ]
     },
     "execution_count": 122,
     "metadata": {},
     "output_type": "execute_result"
    }
   ],
   "source": [
    "len(ufc_best_df['result'])"
   ]
  },
  {
   "cell_type": "code",
   "execution_count": 121,
   "metadata": {},
   "outputs": [
    {
     "data": {
      "text/plain": [
       "0.6132648116769994"
      ]
     },
     "execution_count": 121,
     "metadata": {},
     "output_type": "execute_result"
    }
   ],
   "source": [
    "Xo=ufc_best_df[ufc_best_df.columns[5:]]\n",
    "yo=ufc_best_df['result']\n",
    "model_score=cross_val_score(model,Xo,yo,cv=8).mean()\n",
    "model_score"
   ]
  },
  {
   "cell_type": "code",
   "execution_count": 111,
   "metadata": {},
   "outputs": [
    {
     "data": {
      "text/plain": [
       "0.6406077348066298"
      ]
     },
     "execution_count": 111,
     "metadata": {},
     "output_type": "execute_result"
    }
   ],
   "source": [
    "#lets go ahead and fit the model so we can make some predictions (its over 75 and not overfit!)\n",
    "model.fit(Xo,yo)\n",
    "model.score(Xo,yo)"
   ]
  },
  {
   "cell_type": "code",
   "execution_count": 58,
   "metadata": {},
   "outputs": [
    {
     "data": {
      "text/plain": [
       "array(['L'], dtype=object)"
      ]
     },
     "execution_count": 58,
     "metadata": {},
     "output_type": "execute_result"
    }
   ],
   "source": [
    "model.predict([ufc_best_df[best_best].iloc[100]])"
   ]
  },
  {
   "cell_type": "code",
   "execution_count": 13,
   "metadata": {},
   "outputs": [],
   "source": [
    "test_best=['fighter','opponent','result','method','date']+best_best"
   ]
  },
  {
   "cell_type": "code",
   "execution_count": 14,
   "metadata": {},
   "outputs": [
    {
     "data": {
      "text/plain": [
       "fighter        Cory Sandhagen\n",
       "opponent    Aljamain Sterling\n",
       "result                      L\n",
       "method                    SUB\n",
       "Name: 142, dtype: object"
      ]
     },
     "execution_count": 14,
     "metadata": {},
     "output_type": "execute_result"
    }
   ],
   "source": [
    "ufc_best_df[test_best].iloc[100][:4]"
   ]
  },
  {
   "cell_type": "code",
   "execution_count": 15,
   "metadata": {},
   "outputs": [
    {
     "data": {
      "text/plain": [
       "array(['L'], dtype=object)"
      ]
     },
     "execution_count": 15,
     "metadata": {},
     "output_type": "execute_result"
    }
   ],
   "source": [
    "model.predict([ufc_best_df[best_best].iloc[100]])"
   ]
  },
  {
   "cell_type": "code",
   "execution_count": null,
   "metadata": {},
   "outputs": [],
   "source": [
    "ufc_best_df[test_best].iloc[101][:4]"
   ]
  },
  {
   "cell_type": "code",
   "execution_count": null,
   "metadata": {},
   "outputs": [],
   "source": [
    "model.predict([ufc_best_df[best_best].iloc[101]])"
   ]
  },
  {
   "cell_type": "code",
   "execution_count": null,
   "metadata": {},
   "outputs": [],
   "source": [
    "ufc_predict('Anthony Rocco Martin','Neil Magny','June 06, 2020','June 06, 2020')"
   ]
  },
  {
   "cell_type": "code",
   "execution_count": null,
   "metadata": {},
   "outputs": [],
   "source": [
    "ufc_best_df[test_best].iloc[102][:4]"
   ]
  },
  {
   "cell_type": "code",
   "execution_count": null,
   "metadata": {},
   "outputs": [],
   "source": [
    "model.predict([ufc_best_df[best_best].iloc[102]])"
   ]
  },
  {
   "cell_type": "code",
   "execution_count": null,
   "metadata": {},
   "outputs": [],
   "source": [
    "mlp.predict([ufc_fights_cleaned[candidate].iloc[102]])"
   ]
  },
  {
   "cell_type": "code",
   "execution_count": null,
   "metadata": {},
   "outputs": [],
   "source": [
    "ufc_predict('Eddie Wineland',\"Sean O'Malley\",'June 06, 2020','June 06, 2020')"
   ]
  },
  {
   "cell_type": "code",
   "execution_count": null,
   "metadata": {},
   "outputs": [],
   "source": [
    "ufc_best_df[test_best].iloc[0][0]"
   ]
  },
  {
   "cell_type": "code",
   "execution_count": null,
   "metadata": {},
   "outputs": [],
   "source": [
    "ufc_best_df[test_best]['result'].iloc[100]"
   ]
  },
  {
   "cell_type": "code",
   "execution_count": 17,
   "metadata": {},
   "outputs": [
    {
     "name": "stderr",
     "output_type": "stream",
     "text": [
      "/opt/anaconda2/lib/python2.7/site-packages/ipykernel_launcher.py:6: UserWarning: Boolean Series key will be reindexed to match DataFrame index.\n",
      "  \n"
     ]
    }
   ],
   "source": [
    "#testing accuracy by hand just to be sure... seems right\n",
    "results=[]\n",
    "for i in range(2000):\n",
    "    try:\n",
    "        prediction=model.predict([ufc_best_df[best_best].iloc[i]])[0]\n",
    "        result=ufc_best_df[method_mask]['result'].iloc[i]\n",
    "        results.append(prediction==result)\n",
    "    except:\n",
    "        None"
   ]
  },
  {
   "cell_type": "code",
   "execution_count": 18,
   "metadata": {},
   "outputs": [
    {
     "data": {
      "text/plain": [
       "0.75"
      ]
     },
     "execution_count": 18,
     "metadata": {},
     "output_type": "execute_result"
    }
   ],
   "source": [
    "sum(results)/float(len(results))"
   ]
  },
  {
   "cell_type": "code",
   "execution_count": null,
   "metadata": {},
   "outputs": [],
   "source": [
    "#again based on the building the ultimate mlp file, the following is optimal for mlp"
   ]
  },
  {
   "cell_type": "code",
   "execution_count": 19,
   "metadata": {},
   "outputs": [],
   "source": [
    "#here we list all of the possible statistics. Next lets identify based on intuition which could help predict method\n",
    "mlp_stats_grouped=[[u'fighter_L5Y_wins',\n",
    "                   u'fighter_L5Y_losses', \n",
    "                   u'fighter_L2Y_wins', \n",
    "                   u'fighter_L2Y_losses',\n",
    "                   u'opponent_L5Y_wins', \n",
    "                   u'opponent_L5Y_losses', \n",
    "                   u'opponent_L2Y_wins', \n",
    "                   u'opponent_L2Y_losses'], \n",
    "                   [u'fighter_ko_wins',\n",
    "                   u'fighter_ko_losses',\n",
    "                   u'opponent_ko_wins', \n",
    "                   u'opponent_ko_losses'],\n",
    "                   [u'fighter_L5Y_ko_wins',\n",
    "                   u'fighter_L5Y_ko_losses',\n",
    "                   u'fighter_L2Y_ko_wins',\n",
    "                    u'fighter_L2Y_ko_losses',\n",
    "                   u'opponent_L5Y_ko_wins', \n",
    "                   u'opponent_L5Y_ko_losses', \n",
    "                   u'opponent_L2Y_ko_wins',\n",
    "                    u'opponent_L2Y_ko_losses'],\n",
    "                   [u'fighter_sub_wins',\n",
    "                   u'fighter_sub_losses',\n",
    "                   u'opponent_sub_wins', \n",
    "                   u'opponent_sub_losses'],\n",
    "                   [u'fighter_L5Y_sub_wins',\n",
    "                    u'fighter_L5Y_sub_losses', \n",
    "                   u'fighter_L2Y_sub_wins', \n",
    "                   u'fighter_L2Y_sub_losses',\n",
    "                   u'opponent_L5Y_sub_wins', \n",
    "                    u'opponent_L5Y_sub_losses', \n",
    "                   u'opponent_L2Y_sub_wins', \n",
    "                   u'opponent_L2Y_sub_losses'],\n",
    "                    [u'fighter_age', \n",
    "                     u'opponent_age'],\n",
    "                    [u'fighter_height',\n",
    "                     u'fighter_reach', \n",
    "                    u'opponent_height',\n",
    "                     u'opponent_reach'],\n",
    "                    [u'fighter_inf_knockdowns_avg',\n",
    "                    u'fighter_abs_knockdowns_avg',\n",
    "                    u'opponent_inf_knockdowns_avg',\n",
    "                    u'opponent_abs_knockdowns_avg'],\n",
    "                    [u'fighter_inf_pass_avg',\n",
    "                    u'fighter_abs_pass_avg',\n",
    "                    u'opponent_inf_pass_avg',\n",
    "                    u'opponent_abs_pass_avg'],\n",
    "                    [u'fighter_inf_reversals_avg',\n",
    "                    u'fighter_abs_reversals_avg',\n",
    "                    u'opponent_inf_reversals_avg',\n",
    "                    u'opponent_abs_reversals_avg'],\n",
    "                    [u'fighter_inf_sub_attempts_avg',\n",
    "                    u'fighter_abs_sub_attempts_avg',\n",
    "                    u'opponent_inf_sub_attempts_avg',\n",
    "                    u'opponent_abs_sub_attempts_avg'],\n",
    "                    [u'fighter_inf_takedowns_landed_avg',\n",
    "                    u'fighter_inf_takedowns_attempts_avg',\n",
    "                    u'fighter_abs_takedowns_landed_avg',\n",
    "                    u'fighter_abs_takedowns_attempts_avg',\n",
    "                    u'opponent_inf_takedowns_landed_avg',\n",
    "                    u'opponent_inf_takedowns_attempts_avg',\n",
    "                    u'opponent_abs_takedowns_landed_avg',\n",
    "                    u'opponent_abs_takedowns_attempts_avg'],\n",
    "                    [u'fighter_inf_sig_strikes_landed_avg',\n",
    "                    u'fighter_inf_sig_strikes_attempts_avg',\n",
    "                    u'fighter_abs_sig_strikes_landed_avg',\n",
    "                    u'fighter_abs_sig_strikes_attempts_avg',\n",
    "                    u'opponent_inf_sig_strikes_landed_avg',\n",
    "                    u'opponent_inf_sig_strikes_attempts_avg',\n",
    "                    u'opponent_abs_sig_strikes_landed_avg',\n",
    "                    u'opponent_abs_sig_strikes_attempts_avg'],\n",
    "                    [u'fighter_inf_total_strikes_landed_avg',\n",
    "                    u'fighter_inf_total_strikes_attempts_avg',\n",
    "                    u'fighter_abs_total_strikes_landed_avg',\n",
    "                    u'fighter_abs_total_strikes_attempts_avg',\n",
    "                    u'opponent_inf_total_strikes_landed_avg',\n",
    "                    u'opponent_inf_total_strikes_attempts_avg',\n",
    "                    u'opponent_abs_total_strikes_landed_avg',\n",
    "                    u'opponent_abs_total_strikes_attempts_avg'],\n",
    "                    [u'fighter_inf_head_strikes_landed_avg',\n",
    "                    u'fighter_inf_head_strikes_attempts_avg',\n",
    "                    u'fighter_abs_head_strikes_landed_avg',\n",
    "                    u'fighter_abs_head_strikes_attempts_avg',\n",
    "                    u'opponent_inf_head_strikes_landed_avg',\n",
    "                    u'opponent_inf_head_strikes_attempts_avg',\n",
    "                    u'opponent_abs_head_strikes_landed_avg',\n",
    "                    u'opponent_abs_head_strikes_attempts_avg'],\n",
    "                    [u'fighter_inf_body_strikes_landed_avg',\n",
    "                    u'fighter_inf_body_strikes_attempts_avg',\n",
    "                    u'fighter_abs_body_strikes_landed_avg',\n",
    "                    u'fighter_abs_body_strikes_attempts_avg',\n",
    "                    u'opponent_inf_body_strikes_landed_avg',\n",
    "                    u'opponent_inf_body_strikes_attempts_avg',\n",
    "                    u'opponent_abs_body_strikes_landed_avg',\n",
    "                    u'opponent_abs_body_strikes_attempts_avg'],\n",
    "                    [u'fighter_inf_leg_strikes_landed_avg',\n",
    "                    u'fighter_inf_leg_strikes_attempts_avg',\n",
    "                    u'fighter_abs_leg_strikes_landed_avg',\n",
    "                    u'fighter_abs_leg_strikes_attempts_avg',\n",
    "                    u'opponent_inf_leg_strikes_landed_avg',\n",
    "                    u'opponent_inf_leg_strikes_attempts_avg',\n",
    "                    u'opponent_abs_leg_strikes_landed_avg',\n",
    "                    u'opponent_abs_leg_strikes_attempts_avg'],\n",
    "                    [u'fighter_inf_distance_strikes_landed_avg',\n",
    "                    u'fighter_inf_distance_strikes_attempts_avg',\n",
    "                    u'fighter_abs_distance_strikes_landed_avg',\n",
    "                    u'fighter_abs_distance_strikes_attempts_avg',\n",
    "                    u'opponent_inf_distance_strikes_landed_avg',\n",
    "                    u'opponent_inf_distance_strikes_attempts_avg',\n",
    "                    u'opponent_abs_distance_strikes_landed_avg',\n",
    "                    u'opponent_abs_distance_strikes_attempts_avg'],\n",
    "                    [u'fighter_inf_clinch_strikes_landed_avg',\n",
    "                    u'fighter_inf_clinch_strikes_attempts_avg',\n",
    "                    u'fighter_abs_clinch_strikes_landed_avg',\n",
    "                    u'fighter_abs_clinch_strikes_attempts_avg',\n",
    "                    u'opponent_inf_clinch_strikes_landed_avg',\n",
    "                    u'opponent_inf_clinch_strikes_attempts_avg',\n",
    "                    u'opponent_abs_clinch_strikes_landed_avg',\n",
    "                    u'opponent_abs_clinch_strikes_attempts_avg'],\n",
    "                    [u'fighter_inf_ground_strikes_landed_avg',\n",
    "                    u'fighter_inf_ground_strikes_attempts_avg',\n",
    "                    u'fighter_abs_ground_strikes_landed_avg',\n",
    "                    u'fighter_abs_ground_strikes_attempts_avg',\n",
    "                    u'opponent_inf_ground_strikes_landed_avg',\n",
    "                    u'opponent_inf_ground_strikes_attempts_avg',\n",
    "                    u'opponent_abs_ground_strikes_landed_avg',\n",
    "                    u'opponent_abs_ground_strikes_attempts_avg']\n",
    "                    ]\n",
    "len(mlp_stats_grouped)\n",
    "\n",
    "mlp_add_backs_refined=[\n",
    " [u'fighter_age', u'opponent_age'],\n",
    " [u'fighter_inf_knockdowns_avg',\n",
    "  u'opponent_inf_knockdowns_avg'],\n",
    "  [u'fighter_abs_knockdowns_avg',\n",
    "  u'opponent_abs_knockdowns_avg'],\n",
    " [u'fighter_inf_pass_avg',\n",
    "  u'fighter_abs_pass_avg'],\n",
    "  [u'opponent_inf_pass_avg',\n",
    "  u'opponent_abs_pass_avg'],\n",
    " [u'fighter_inf_reversals_avg',\n",
    "  u'opponent_inf_reversals_avg'],\n",
    "  [u'fighter_abs_reversals_avg',\n",
    "  u'opponent_abs_reversals_avg'],\n",
    " [u'fighter_inf_sub_attempts_avg',\n",
    "  u'opponent_inf_sub_attempts_avg'],\n",
    "  [u'fighter_abs_sub_attempts_avg',\n",
    "  u'opponent_abs_sub_attempts_avg'],\n",
    " [u'fighter_inf_takedowns_landed_avg',\n",
    "  u'opponent_inf_takedowns_landed_avg'],\n",
    "  [u'fighter_abs_takedowns_landed_avg',\n",
    "  u'opponent_abs_takedowns_landed_avg'],\n",
    "  [u'fighter_inf_takedowns_attempts_avg',\n",
    "   u'opponent_inf_takedowns_attempts_avg'],\n",
    "  [u'fighter_abs_takedowns_attempts_avg',\n",
    "  u'opponent_abs_takedowns_attempts_avg'],\n",
    " [u'fighter_inf_sig_strikes_landed_avg',\n",
    "  u'opponent_inf_sig_strikes_landed_avg'],\n",
    "  [u'fighter_abs_sig_strikes_landed_avg',\n",
    "  u'opponent_abs_sig_strikes_landed_avg'],\n",
    "  [u'fighter_inf_sig_strikes_attempts_avg',\n",
    "   u'opponent_inf_sig_strikes_attempts_avg'],\n",
    "  [u'fighter_abs_sig_strikes_attempts_avg',\n",
    "  u'opponent_abs_sig_strikes_attempts_avg'],\n",
    " [u'fighter_inf_total_strikes_landed_avg',\n",
    "  u'opponent_inf_total_strikes_landed_avg'],\n",
    "  [u'fighter_abs_total_strikes_landed_avg',\n",
    "  u'opponent_abs_total_strikes_landed_avg'],\n",
    "  [u'fighter_inf_total_strikes_attempts_avg',\n",
    "   u'opponent_inf_total_strikes_attempts_avg'],\n",
    "  [u'fighter_abs_total_strikes_attempts_avg',\n",
    "  u'opponent_abs_total_strikes_attempts_avg'],\n",
    " [u'fighter_inf_body_strikes_landed_avg',\n",
    "  u'opponent_inf_body_strikes_landed_avg'],\n",
    "  [u'fighter_abs_body_strikes_landed_avg',\n",
    "  u'opponent_abs_body_strikes_landed_avg'],\n",
    "  [u'fighter_inf_body_strikes_attempts_avg',\n",
    "   u'opponent_inf_body_strikes_attempts_avg'],\n",
    "  [u'fighter_abs_body_strikes_attempts_avg',\n",
    "  u'opponent_abs_body_strikes_attempts_avg'],\n",
    " [u'fighter_inf_leg_strikes_landed_avg',\n",
    "  u'opponent_inf_leg_strikes_landed_avg'],\n",
    "  [u'fighter_abs_leg_strikes_landed_avg',\n",
    "  u'opponent_abs_leg_strikes_landed_avg'],\n",
    "  [u'fighter_inf_leg_strikes_attempts_avg',\n",
    "   u'opponent_inf_leg_strikes_attempts_avg'],\n",
    "  [u'fighter_abs_leg_strikes_attempts_avg',\n",
    "  u'opponent_abs_leg_strikes_attempts_avg'],\n",
    " [u'fighter_inf_distance_strikes_landed_avg',\n",
    "  u'opponent_inf_distance_strikes_landed_avg'],\n",
    "  [u'fighter_abs_distance_strikes_landed_avg',\n",
    "  u'opponent_abs_distance_strikes_landed_avg'],\n",
    "  [u'fighter_inf_distance_strikes_attempts_avg',\n",
    "   u'opponent_inf_distance_strikes_attempts_avg'],\n",
    "  [u'fighter_abs_distance_strikes_attempts_avg',\n",
    "  u'opponent_abs_distance_strikes_attempts_avg'],\n",
    " [u'fighter_inf_ground_strikes_landed_avg',\n",
    "  u'opponent_inf_ground_strikes_landed_avg'],\n",
    "  [u'fighter_abs_ground_strikes_landed_avg',\n",
    "  u'opponent_abs_ground_strikes_landed_avg'],\n",
    "  [u'fighter_inf_ground_strikes_attempts_avg',\n",
    "   u'opponent_inf_ground_strikes_attempts_avg'],\n",
    "  [u'fighter_abs_ground_strikes_attempts_avg',\n",
    "  u'opponent_abs_ground_strikes_attempts_avg']]\n",
    "\n",
    "mlp_stats=[]\n",
    "for stat in mlp_stats_grouped:\n",
    "    mlp_stats.extend(stat)\n",
    "\n",
    "mlp_base_set=[]\n",
    "for i in (1,2,3,14,18):\n",
    "    mlp_base_set.extend(mlp_stats_grouped[i])\n",
    "    \n",
    "mlp_base_set_grouped=[]\n",
    "for i in (1,2,3,14,18):\n",
    "    mlp_base_set_grouped.append(mlp_stats_grouped[i])\n",
    "    \n",
    "mlp_add_backs=[]\n",
    "for i in (0,4,5,6,7,8,9,10,11,12,13,15,16,17,19):\n",
    "    mlp_add_backs.append(mlp_stats_grouped[i]) \n",
    "\n",
    "mlp=MLPClassifier(max_iter=2500,alpha=.001,solver='sgd',random_state=3)\n",
    "\n",
    "#removing from mlp_add_backs and adding to mlp_base_set\n",
    "mlp_base_set.extend(mlp_add_backs[1])\n",
    "mlp_add_backs.remove(mlp_add_backs[1])"
   ]
  },
  {
   "cell_type": "code",
   "execution_count": 20,
   "metadata": {},
   "outputs": [],
   "source": [
    "candidate=[]\n",
    "candidate.extend(mlp_base_set)\n",
    "candidate.extend(mlp_add_backs_refined[21])"
   ]
  },
  {
   "cell_type": "code",
   "execution_count": 21,
   "metadata": {},
   "outputs": [
    {
     "name": "stderr",
     "output_type": "stream",
     "text": [
      "/opt/anaconda2/lib/python2.7/site-packages/ipykernel_launcher.py:3: SettingWithCopyWarning: \n",
      "A value is trying to be set on a copy of a slice from a DataFrame.\n",
      "Try using .loc[row_indexer,col_indexer] = value instead\n",
      "\n",
      "See the caveats in the documentation: http://pandas.pydata.org/pandas-docs/stable/indexing.html#indexing-view-versus-copy\n",
      "  This is separate from the ipykernel package so we can avoid doing imports until\n"
     ]
    }
   ],
   "source": [
    "#change all columns to have float values\n",
    "for col in ufc_fights_cleaned[candidate].columns:\n",
    "    ufc_fights_cleaned[col]=ufc_fights_cleaned[col].astype(float)"
   ]
  },
  {
   "cell_type": "code",
   "execution_count": 22,
   "metadata": {},
   "outputs": [
    {
     "data": {
      "text/plain": [
       "0.6732274031587533"
      ]
     },
     "execution_count": 22,
     "metadata": {},
     "output_type": "execute_result"
    }
   ],
   "source": [
    "#DEE_EE_EECENT\n",
    "Xp=ufc_fights_cleaned[candidate].iloc[0:2091]\n",
    "yp=ufc_fights_cleaned.iloc[0:2091]['method']\n",
    "mlp_score=cross_val_score(mlp,Xp,yp,cv=10).mean()\n",
    "mlp_score"
   ]
  },
  {
   "cell_type": "code",
   "execution_count": 23,
   "metadata": {},
   "outputs": [
    {
     "data": {
      "text/plain": [
       "0.896700143472023"
      ]
     },
     "execution_count": 23,
     "metadata": {},
     "output_type": "execute_result"
    }
   ],
   "source": [
    "#fitting mlp (obviously mlp is always overfit, the above score is the accurate one)\n",
    "#BIG QUESTION. WHY ISN'T THE MODEL PERFORMING THIS WAY WHEN I CHECK IT ON THE TRAINING DATA\n",
    "#It is performing much closer to the cross_val_score...\n",
    "mlp.fit(Xp,yp)\n",
    "mlp.score(Xp,yp)"
   ]
  },
  {
   "cell_type": "code",
   "execution_count": 24,
   "metadata": {},
   "outputs": [],
   "source": [
    "#unfortunately some mistakes makes this no longer true\n",
    "#HERE IS THE OVERALL PROBABILITY OF PICKING BOTH THE WINNER AND THE METHOD CORRECTLY (this was exactly my goal, .5)"
   ]
  },
  {
   "cell_type": "code",
   "execution_count": 25,
   "metadata": {},
   "outputs": [
    {
     "data": {
      "text/plain": [
       "0.500012714860965"
      ]
     },
     "execution_count": 25,
     "metadata": {},
     "output_type": "execute_result"
    }
   ],
   "source": [
    "overall_score=model_score*mlp_score\n",
    "overall_score"
   ]
  },
  {
   "cell_type": "code",
   "execution_count": null,
   "metadata": {},
   "outputs": [],
   "source": [
    "fighter=ufc_best_df[test_best].iloc[200][0]"
   ]
  },
  {
   "cell_type": "code",
   "execution_count": null,
   "metadata": {},
   "outputs": [],
   "source": [
    "opponent=ufc_best_df[test_best].iloc[200][1]"
   ]
  },
  {
   "cell_type": "code",
   "execution_count": null,
   "metadata": {},
   "outputs": [],
   "source": [
    "ufc_best_df[test_best].iloc[200][2]"
   ]
  },
  {
   "cell_type": "code",
   "execution_count": null,
   "metadata": {},
   "outputs": [],
   "source": [
    "ufc_best_df[test_best].iloc[200][3]"
   ]
  },
  {
   "cell_type": "code",
   "execution_count": null,
   "metadata": {},
   "outputs": [],
   "source": [
    "datte=ufc_best_df[test_best].iloc[200][4]"
   ]
  },
  {
   "cell_type": "code",
   "execution_count": null,
   "metadata": {},
   "outputs": [],
   "source": [
    "datte"
   ]
  },
  {
   "cell_type": "code",
   "execution_count": null,
   "metadata": {},
   "outputs": [],
   "source": [
    "opponent"
   ]
  },
  {
   "cell_type": "code",
   "execution_count": 91,
   "metadata": {},
   "outputs": [
    {
     "name": "stdout",
     "output_type": "stream",
     "text": [
      "fight: Alistair Overeem, Augusto Sakai.  res/meth: ['W', 'KO/TKO'] overfit: ['L', 'KO/TKO'] pred: ['L', 'KO/TKO'] overfit_acc: [0.0, 1.0] acc: [0.0, 1.0]\n",
      "fight: Ovince Saint Preux, Alonzo Menifield.  res/meth: ['W', 'KO/TKO'] overfit: ['W', 'KO/TKO'] pred: ['W', 'KO/TKO'] overfit_acc: [0.5, 1.0] acc: [0.5, 1.0]\n",
      "fight: Michel Pereira, Zelim Imadaev.  res/meth: ['W', 'SUB'] overfit: ['W', 'DEC'] pred: ['W', 'DEC'] overfit_acc: [0.6666666666666666, 0.6666666666666666] acc: [0.6666666666666666, 0.6666666666666666]\n",
      "fight: Andre Muniz, Bartosz Fabinski.  res/meth: ['W', 'SUB'] overfit: ['L', 'DEC'] pred: ['L', 'DEC'] overfit_acc: [0.5, 0.5] acc: [0.5, 0.5]\n",
      "fight: Montana De La Rosa, Viviane Araujo.  res/meth: ['L', 'DEC'] overfit: ['W', 'DEC'] pred: ['W', 'DEC'] overfit_acc: [0.4, 0.6] acc: [0.4, 0.6]\n",
      "fight: Cole Smith, Hunter Azure.  res/meth: ['L', 'DEC'] overfit: ['L', 'DEC'] pred: ['L', 'DEC'] overfit_acc: [0.5, 0.6666666666666666] acc: [0.5, 0.6666666666666666]\n",
      "fight: Anthony Smith, Aleksandar Rakic.  res/meth: ['L', 'DEC'] overfit: ['L', 'DEC'] pred: ['L', 'DEC'] overfit_acc: [0.5714285714285714, 0.7142857142857143] acc: [0.5714285714285714, 0.7142857142857143]\n",
      "fight: Robbie Lawler, Neil Magny.  res/meth: ['L', 'DEC'] overfit: ['L', 'DEC'] pred: ['L', 'DEC'] overfit_acc: [0.625, 0.75] acc: [0.625, 0.75]\n",
      "fight: Alexa Grasso, Ji Yeon Kim.  res/meth: ['W', 'DEC'] overfit: ['W', 'DEC'] pred: ['W', 'DEC'] overfit_acc: [0.6666666666666666, 0.7777777777777778] acc: [0.6666666666666666, 0.7777777777777778]\n",
      "fight: Zak Cummings, Alessio Di Chirico.  res/meth: ['W', 'DEC'] overfit: ['L', 'DEC'] pred: ['L', 'DEC'] overfit_acc: [0.6, 0.8] acc: [0.6, 0.8]\n",
      "fight: Sean Brady, Christian Aguilera.  res/meth: ['W', 'SUB'] overfit: ['W', 'SUB'] pred: ['W', 'SUB'] overfit_acc: [0.6363636363636364, 0.8181818181818182] acc: [0.6363636363636364, 0.8181818181818182]\n",
      "fight: Emily Whitmire, Polyana Viana.  res/meth: ['L', 'SUB'] overfit: ['L', 'DEC'] pred: ['L', 'DEC'] overfit_acc: [0.6666666666666666, 0.75] acc: [0.6666666666666666, 0.75]\n",
      "fight: Hannah Cifers, Mallory Martin.  res/meth: ['L', 'SUB'] overfit: ['L', 'DEC'] pred: ['L', 'DEC'] overfit_acc: [0.6923076923076923, 0.6923076923076923] acc: [0.6923076923076923, 0.6923076923076923]\n",
      "fight: Frankie Edgar, Pedro Munhoz.  res/meth: ['W', 'DEC'] overfit: ['L', 'KO/TKO'] pred: ['L', 'KO/TKO'] overfit_acc: [0.6428571428571429, 0.6428571428571429] acc: [0.6428571428571429, 0.6428571428571429]\n",
      "fight: Marcin Prachnio, Mike Rodriguez.  res/meth: ['L', 'KO/TKO'] overfit: ['L', 'DEC'] pred: ['L', 'DEC'] overfit_acc: [0.6666666666666666, 0.6] acc: [0.6666666666666666, 0.6]\n",
      "fight: Joe Solecki, Austin Hubbard.  res/meth: ['W', 'SUB'] overfit: ['W', 'DEC'] pred: ['W', 'DEC'] overfit_acc: [0.6875, 0.5625] acc: [0.6875, 0.5625]\n",
      "fight: Mariya Agapova, Shana Dobson.  res/meth: ['L', 'KO/TKO'] overfit: ['W', 'KO/TKO'] pred: ['W', 'KO/TKO'] overfit_acc: [0.6470588235294118, 0.5882352941176471] acc: [0.6470588235294118, 0.5882352941176471]\n",
      "fight: Daniel Rodriguez, Dwight Grant.  res/meth: ['W', 'KO/TKO'] overfit: ['W', 'DEC'] pred: ['W', 'DEC'] overfit_acc: [0.6666666666666666, 0.5555555555555556] acc: [0.6666666666666666, 0.5555555555555556]\n",
      "fight: Mizuki Inoue, Amanda Lemos.  res/meth: ['L', 'DEC'] overfit: ['W', 'DEC'] pred: ['W', 'DEC'] overfit_acc: [0.631578947368421, 0.5789473684210527] acc: [0.631578947368421, 0.5789473684210527]\n",
      "fight: Stipe Miocic, Daniel Cormier.  res/meth: ['W', 'DEC'] overfit: ['W', 'DEC'] pred: ['W', 'DEC'] overfit_acc: [0.65, 0.6] acc: [0.65, 0.6]\n",
      "fight: Sean O'Malley, Marlon Vera.  res/meth: ['L', 'KO/TKO'] overfit: ['L', 'DEC'] pred: ['W', 'DEC'] overfit_acc: [0.6666666666666666, 0.5714285714285714] acc: [0.6190476190476191, 0.5714285714285714]\n",
      "fight: Jairzinho Rozenstruik, Junior Dos Santos.  res/meth: ['W', 'KO/TKO'] overfit: ['L', 'KO/TKO'] pred: ['L', 'KO/TKO'] overfit_acc: [0.6363636363636364, 0.5909090909090909] acc: [0.5909090909090909, 0.5909090909090909]\n",
      "fight: Daniel Pineda, Herbert Burns.  res/meth: ['W', 'KO/TKO'] overfit: ['W', 'KO/TKO'] pred: ['L', 'DEC'] overfit_acc: [0.6521739130434783, 0.6086956521739131] acc: [0.5652173913043478, 0.5652173913043478]\n",
      "fight: John Dodson, Merab Dvalishvili.  res/meth: ['L', 'DEC'] overfit: ['L', 'DEC'] pred: ['L', 'DEC'] overfit_acc: [0.6666666666666666, 0.625] acc: [0.5833333333333334, 0.5833333333333334]\n",
      "fight: Jim Miller, Vinc Pichel.  res/meth: ['L', 'DEC'] overfit: ['L', 'DEC'] pred: ['W', 'DEC'] overfit_acc: [0.68, 0.64] acc: [0.56, 0.6]\n",
      "fight: Felice Herrig, Virna Jandiroba.  res/meth: ['L', 'SUB'] overfit: ['L', 'SUB'] pred: ['W', 'DEC'] overfit_acc: [0.6923076923076923, 0.6538461538461539] acc: [0.5384615384615384, 0.5769230769230769]\n",
      "fight: Ashley Yoder, Livinha Souza.  res/meth: ['L', 'DEC'] overfit: ['L', 'DEC'] pred: ['L', 'DEC'] overfit_acc: [0.7037037037037037, 0.6666666666666666] acc: [0.5555555555555556, 0.5925925925925926]\n",
      "fight: Derrick Lewis, Aleksei Oleinik.  res/meth: ['W', 'KO/TKO'] overfit: ['W', 'KO/TKO'] pred: ['W', 'KO/TKO'] overfit_acc: [0.7142857142857143, 0.6785714285714286] acc: [0.5714285714285714, 0.6071428571428571]\n",
      "fight: Chris Weidman, Omari Akhmedov.  res/meth: ['W', 'DEC'] overfit: ['L', 'DEC'] pred: ['L', 'DEC'] overfit_acc: [0.6896551724137931, 0.6896551724137931] acc: [0.5517241379310345, 0.6206896551724138]\n",
      "fight: Maki Pitolo, Darren Stewart.  res/meth: ['L', 'SUB'] overfit: ['L', 'DEC'] pred: ['L', 'DEC'] overfit_acc: [0.7, 0.6666666666666666] acc: [0.5666666666666667, 0.6]\n",
      "fight: Beneil Dariush, Scott Holtzman.  res/meth: ['W', 'KO/TKO'] overfit: ['W', 'DEC'] pred: ['L', 'DEC'] overfit_acc: [0.7096774193548387, 0.6451612903225806] acc: [0.5483870967741935, 0.5806451612903226]\n",
      "fight: Laureano Staropoli, Tim Means.  res/meth: ['L', 'DEC'] overfit: ['W', 'DEC'] pred: ['L', 'DEC'] overfit_acc: [0.6875, 0.65625] acc: [0.5625, 0.59375]\n",
      "fight: Wellington Turman, Andrew Sanchez.  res/meth: ['L', 'KO/TKO'] overfit: ['L', 'KO/TKO'] pred: ['W', 'DEC'] overfit_acc: [0.696969696969697, 0.6666666666666666] acc: [0.5454545454545454, 0.5757575757575758]\n",
      "fight: Justin Jaynes, Gavin Tucker.  res/meth: ['L', 'SUB'] overfit: ['L', 'SUB'] pred: ['L', 'KO/TKO'] overfit_acc: [0.7058823529411765, 0.6764705882352942] acc: [0.5588235294117647, 0.5588235294117647]\n"
     ]
    },
    {
     "ename": "KeyboardInterrupt",
     "evalue": "",
     "output_type": "error",
     "traceback": [
      "\u001b[0;31m---------------------------------------------------------------------------\u001b[0m",
      "\u001b[0;31mKeyboardInterrupt\u001b[0m                         Traceback (most recent call last)",
      "\u001b[0;32m<ipython-input-91-b3cb1dc121d8>\u001b[0m in \u001b[0;36m<module>\u001b[0;34m()\u001b[0m\n\u001b[1;32m     12\u001b[0m     \u001b[0moverfit_model_prediction\u001b[0m\u001b[0;34m=\u001b[0m\u001b[0mmodel\u001b[0m\u001b[0;34m.\u001b[0m\u001b[0mpredict\u001b[0m\u001b[0;34m(\u001b[0m\u001b[0;34m[\u001b[0m\u001b[0mufc_best_df\u001b[0m\u001b[0;34m[\u001b[0m\u001b[0mbest_best\u001b[0m\u001b[0;34m]\u001b[0m\u001b[0;34m.\u001b[0m\u001b[0miloc\u001b[0m\u001b[0;34m[\u001b[0m\u001b[0mi\u001b[0m\u001b[0;34m]\u001b[0m\u001b[0;34m]\u001b[0m\u001b[0;34m)\u001b[0m\u001b[0;34m[\u001b[0m\u001b[0;36m0\u001b[0m\u001b[0;34m]\u001b[0m\u001b[0;34m\u001b[0m\u001b[0m\n\u001b[1;32m     13\u001b[0m     \u001b[0moverfit_mlp_prediction\u001b[0m\u001b[0;34m=\u001b[0m\u001b[0mmlp\u001b[0m\u001b[0;34m.\u001b[0m\u001b[0mpredict\u001b[0m\u001b[0;34m(\u001b[0m\u001b[0;34m[\u001b[0m\u001b[0mufc_fights_cleaned\u001b[0m\u001b[0;34m[\u001b[0m\u001b[0mcandidate\u001b[0m\u001b[0;34m]\u001b[0m\u001b[0;34m.\u001b[0m\u001b[0miloc\u001b[0m\u001b[0;34m[\u001b[0m\u001b[0mi\u001b[0m\u001b[0;34m]\u001b[0m\u001b[0;34m]\u001b[0m\u001b[0;34m)\u001b[0m\u001b[0;34m[\u001b[0m\u001b[0;36m0\u001b[0m\u001b[0;34m]\u001b[0m\u001b[0;34m\u001b[0m\u001b[0m\n\u001b[0;32m---> 14\u001b[0;31m     \u001b[0mmodel_prediction\u001b[0m\u001b[0;34m=\u001b[0m\u001b[0mmodel\u001b[0m\u001b[0;34m.\u001b[0m\u001b[0mpredict\u001b[0m\u001b[0;34m(\u001b[0m\u001b[0;34m[\u001b[0m\u001b[0mmodel_prediction_tuple\u001b[0m\u001b[0;34m(\u001b[0m\u001b[0mfighter\u001b[0m\u001b[0;34m,\u001b[0m\u001b[0mopponent\u001b[0m\u001b[0;34m,\u001b[0m\u001b[0mdatte\u001b[0m\u001b[0;34m,\u001b[0m\u001b[0mdatte\u001b[0m\u001b[0;34m)\u001b[0m\u001b[0;34m]\u001b[0m\u001b[0;34m)\u001b[0m\u001b[0;34m[\u001b[0m\u001b[0;36m0\u001b[0m\u001b[0;34m]\u001b[0m\u001b[0;34m\u001b[0m\u001b[0m\n\u001b[0m\u001b[1;32m     15\u001b[0m     \u001b[0mmlp_prediction\u001b[0m\u001b[0;34m=\u001b[0m\u001b[0mmlp\u001b[0m\u001b[0;34m.\u001b[0m\u001b[0mpredict\u001b[0m\u001b[0;34m(\u001b[0m\u001b[0;34m[\u001b[0m\u001b[0mmlp_prediction_tuple\u001b[0m\u001b[0;34m(\u001b[0m\u001b[0mfighter\u001b[0m\u001b[0;34m,\u001b[0m\u001b[0mopponent\u001b[0m\u001b[0;34m,\u001b[0m\u001b[0mdatte\u001b[0m\u001b[0;34m,\u001b[0m\u001b[0mdatte\u001b[0m\u001b[0;34m)\u001b[0m\u001b[0;34m]\u001b[0m\u001b[0;34m)\u001b[0m\u001b[0;34m[\u001b[0m\u001b[0;36m0\u001b[0m\u001b[0;34m]\u001b[0m\u001b[0;34m\u001b[0m\u001b[0m\n\u001b[1;32m     16\u001b[0m     \u001b[0maccuracy_test\u001b[0m\u001b[0;34m[\u001b[0m\u001b[0mi\u001b[0m\u001b[0;34m]\u001b[0m\u001b[0;34m=\u001b[0m\u001b[0;34m[\u001b[0m\u001b[0mresult\u001b[0m\u001b[0;34m,\u001b[0m\u001b[0mmethod\u001b[0m\u001b[0;34m,\u001b[0m\u001b[0moverfit_model_prediction\u001b[0m\u001b[0;34m,\u001b[0m\u001b[0moverfit_mlp_prediction\u001b[0m\u001b[0;34m,\u001b[0m\u001b[0mmodel_prediction\u001b[0m\u001b[0;34m,\u001b[0m\u001b[0mmlp_prediction\u001b[0m\u001b[0;34m]\u001b[0m\u001b[0;34m\u001b[0m\u001b[0m\n",
      "\u001b[0;32m<ipython-input-86-f22e4b3ddee0>\u001b[0m in \u001b[0;36mmodel_prediction_tuple\u001b[0;34m(fighter1, fighter2, day1, day2)\u001b[0m\n\u001b[1;32m    581\u001b[0m             \u001b[0mavg_count\u001b[0m\u001b[0;34m(\u001b[0m\u001b[0;34m'distance_strikes_landed'\u001b[0m\u001b[0;34m,\u001b[0m\u001b[0mfighter1\u001b[0m\u001b[0;34m,\u001b[0m\u001b[0;34m'abs'\u001b[0m\u001b[0;34m,\u001b[0m\u001b[0mday1\u001b[0m\u001b[0;34m)\u001b[0m\u001b[0;34m,\u001b[0m\u001b[0;34m\u001b[0m\u001b[0m\n\u001b[1;32m    582\u001b[0m             \u001b[0mavg_count\u001b[0m\u001b[0;34m(\u001b[0m\u001b[0;34m'distance_strikes_landed'\u001b[0m\u001b[0;34m,\u001b[0m\u001b[0mfighter2\u001b[0m\u001b[0;34m,\u001b[0m\u001b[0;34m'inf'\u001b[0m\u001b[0;34m,\u001b[0m\u001b[0mday2\u001b[0m\u001b[0;34m)\u001b[0m\u001b[0;34m,\u001b[0m\u001b[0;34m\u001b[0m\u001b[0m\n\u001b[0;32m--> 583\u001b[0;31m             \u001b[0mavg_count\u001b[0m\u001b[0;34m(\u001b[0m\u001b[0;34m'distance_strikes_landed'\u001b[0m\u001b[0;34m,\u001b[0m\u001b[0mfighter2\u001b[0m\u001b[0;34m,\u001b[0m\u001b[0;34m'abs'\u001b[0m\u001b[0;34m,\u001b[0m\u001b[0mday2\u001b[0m\u001b[0;34m)\u001b[0m\u001b[0;34m,\u001b[0m\u001b[0;34m\u001b[0m\u001b[0m\n\u001b[0m\u001b[1;32m    584\u001b[0m             \u001b[0mavg_count\u001b[0m\u001b[0;34m(\u001b[0m\u001b[0;34m'distance_strikes_attempts'\u001b[0m\u001b[0;34m,\u001b[0m\u001b[0mfighter1\u001b[0m\u001b[0;34m,\u001b[0m\u001b[0;34m'inf'\u001b[0m\u001b[0;34m,\u001b[0m\u001b[0mday1\u001b[0m\u001b[0;34m)\u001b[0m\u001b[0;34m,\u001b[0m\u001b[0;34m\u001b[0m\u001b[0m\n\u001b[1;32m    585\u001b[0m             \u001b[0mavg_count\u001b[0m\u001b[0;34m(\u001b[0m\u001b[0;34m'distance_strikes_attempts'\u001b[0m\u001b[0;34m,\u001b[0m\u001b[0mfighter1\u001b[0m\u001b[0;34m,\u001b[0m\u001b[0;34m'abs'\u001b[0m\u001b[0;34m,\u001b[0m\u001b[0mday1\u001b[0m\u001b[0;34m)\u001b[0m\u001b[0;34m,\u001b[0m\u001b[0;34m\u001b[0m\u001b[0m\n",
      "\u001b[0;32m<ipython-input-86-f22e4b3ddee0>\u001b[0m in \u001b[0;36mavg_count\u001b[0;34m(stat, guy, inf_abs, day1)\u001b[0m\n\u001b[1;32m    405\u001b[0m         \u001b[0mgood_indices\u001b[0m\u001b[0;34m=\u001b[0m\u001b[0;34m[\u001b[0m\u001b[0mi\u001b[0m \u001b[0;32mfor\u001b[0m \u001b[0mi\u001b[0m \u001b[0;32min\u001b[0m \u001b[0mufcfightscrap\u001b[0m\u001b[0;34m.\u001b[0m\u001b[0mindex\u001b[0m\u001b[0;34m.\u001b[0m\u001b[0mvalues\u001b[0m \u001b[0;32mif\u001b[0m \u001b[0mufcfightscrap\u001b[0m\u001b[0;34m[\u001b[0m\u001b[0;34m'fighter'\u001b[0m\u001b[0;34m]\u001b[0m\u001b[0;34m[\u001b[0m\u001b[0mi\u001b[0m\u001b[0;34m]\u001b[0m\u001b[0;34m==\u001b[0m\u001b[0mguy\u001b[0m \u001b[0;32mand\u001b[0m \u001b[0mtime_diff\u001b[0m\u001b[0;34m(\u001b[0m\u001b[0mufcfightscrap\u001b[0m\u001b[0;34m[\u001b[0m\u001b[0;34m'date'\u001b[0m\u001b[0;34m]\u001b[0m\u001b[0;34m[\u001b[0m\u001b[0mi\u001b[0m\u001b[0;34m]\u001b[0m\u001b[0;34m,\u001b[0m\u001b[0mday1\u001b[0m\u001b[0;34m)\u001b[0m\u001b[0;34m>\u001b[0m\u001b[0;36m0\u001b[0m\u001b[0;34m]\u001b[0m\u001b[0;34m\u001b[0m\u001b[0m\n\u001b[1;32m    406\u001b[0m     \u001b[0;32melse\u001b[0m\u001b[0;34m:\u001b[0m\u001b[0;34m\u001b[0m\u001b[0m\n\u001b[0;32m--> 407\u001b[0;31m         \u001b[0mgood_indices\u001b[0m\u001b[0;34m=\u001b[0m\u001b[0;34m[\u001b[0m\u001b[0mi\u001b[0m \u001b[0;32mfor\u001b[0m \u001b[0mi\u001b[0m \u001b[0;32min\u001b[0m \u001b[0mufcfightscrap\u001b[0m\u001b[0;34m.\u001b[0m\u001b[0mindex\u001b[0m\u001b[0;34m.\u001b[0m\u001b[0mvalues\u001b[0m \u001b[0;32mif\u001b[0m \u001b[0mufcfightscrap\u001b[0m\u001b[0;34m[\u001b[0m\u001b[0;34m'opponent'\u001b[0m\u001b[0;34m]\u001b[0m\u001b[0;34m[\u001b[0m\u001b[0mi\u001b[0m\u001b[0;34m]\u001b[0m\u001b[0;34m==\u001b[0m\u001b[0mguy\u001b[0m \u001b[0;32mand\u001b[0m \u001b[0mtime_diff\u001b[0m\u001b[0;34m(\u001b[0m\u001b[0mufcfightscrap\u001b[0m\u001b[0;34m[\u001b[0m\u001b[0;34m'date'\u001b[0m\u001b[0;34m]\u001b[0m\u001b[0;34m[\u001b[0m\u001b[0mi\u001b[0m\u001b[0;34m]\u001b[0m\u001b[0;34m,\u001b[0m\u001b[0mday1\u001b[0m\u001b[0;34m)\u001b[0m\u001b[0;34m>\u001b[0m\u001b[0;36m0\u001b[0m\u001b[0;34m]\u001b[0m\u001b[0;34m\u001b[0m\u001b[0m\n\u001b[0m\u001b[1;32m    408\u001b[0m     \u001b[0;32mfor\u001b[0m \u001b[0mi\u001b[0m \u001b[0;32min\u001b[0m \u001b[0mgood_indices\u001b[0m\u001b[0;34m:\u001b[0m\u001b[0;34m\u001b[0m\u001b[0m\n\u001b[1;32m    409\u001b[0m         \u001b[0msumm\u001b[0m\u001b[0;34m+=\u001b[0m\u001b[0mufcfightscrap\u001b[0m\u001b[0;34m[\u001b[0m\u001b[0mstat\u001b[0m\u001b[0;34m]\u001b[0m\u001b[0;34m[\u001b[0m\u001b[0mi\u001b[0m\u001b[0;34m]\u001b[0m\u001b[0;34m\u001b[0m\u001b[0m\n",
      "\u001b[0;32m/opt/anaconda2/lib/python2.7/site-packages/pandas/core/frame.pyc\u001b[0m in \u001b[0;36m__getitem__\u001b[0;34m(self, key)\u001b[0m\n\u001b[1;32m   2897\u001b[0m         \u001b[0;32mtry\u001b[0m\u001b[0;34m:\u001b[0m\u001b[0;34m\u001b[0m\u001b[0m\n\u001b[1;32m   2898\u001b[0m             \u001b[0;32mif\u001b[0m \u001b[0mself\u001b[0m\u001b[0;34m.\u001b[0m\u001b[0mcolumns\u001b[0m\u001b[0;34m.\u001b[0m\u001b[0mis_unique\u001b[0m \u001b[0;32mand\u001b[0m \u001b[0mkey\u001b[0m \u001b[0;32min\u001b[0m \u001b[0mself\u001b[0m\u001b[0;34m.\u001b[0m\u001b[0mcolumns\u001b[0m\u001b[0;34m:\u001b[0m\u001b[0;34m\u001b[0m\u001b[0m\n\u001b[0;32m-> 2899\u001b[0;31m                 \u001b[0;32mif\u001b[0m \u001b[0mself\u001b[0m\u001b[0;34m.\u001b[0m\u001b[0mcolumns\u001b[0m\u001b[0;34m.\u001b[0m\u001b[0mnlevels\u001b[0m \u001b[0;34m>\u001b[0m \u001b[0;36m1\u001b[0m\u001b[0;34m:\u001b[0m\u001b[0;34m\u001b[0m\u001b[0m\n\u001b[0m\u001b[1;32m   2900\u001b[0m                     \u001b[0;32mreturn\u001b[0m \u001b[0mself\u001b[0m\u001b[0;34m.\u001b[0m\u001b[0m_getitem_multilevel\u001b[0m\u001b[0;34m(\u001b[0m\u001b[0mkey\u001b[0m\u001b[0;34m)\u001b[0m\u001b[0;34m\u001b[0m\u001b[0m\n\u001b[1;32m   2901\u001b[0m                 \u001b[0;32mreturn\u001b[0m \u001b[0mself\u001b[0m\u001b[0;34m.\u001b[0m\u001b[0m_get_item_cache\u001b[0m\u001b[0;34m(\u001b[0m\u001b[0mkey\u001b[0m\u001b[0;34m)\u001b[0m\u001b[0;34m\u001b[0m\u001b[0m\n",
      "\u001b[0;31mKeyboardInterrupt\u001b[0m: "
     ]
    }
   ],
   "source": [
    "accuracy_test={}\n",
    "model_correct=0\n",
    "mlp_correct=0\n",
    "overfit_model_correct=0\n",
    "overfit_mlp_correct=0\n",
    "for i in range(100):\n",
    "    fighter=ufc_best_df[test_best].iloc[i][0]\n",
    "    opponent=ufc_best_df[test_best].iloc[i][1]\n",
    "    result=ufc_best_df[test_best].iloc[i][2]\n",
    "    method=ufc_best_df[test_best].iloc[i][3]\n",
    "    datte=ufc_best_df[test_best].iloc[i][4]\n",
    "    overfit_model_prediction=model.predict([ufc_best_df[best_best].iloc[i]])[0]\n",
    "    overfit_mlp_prediction=mlp.predict([ufc_fights_cleaned[candidate].iloc[i]])[0]\n",
    "    model_prediction=model.predict([model_prediction_tuple(fighter,opponent,datte,datte)])[0]\n",
    "    mlp_prediction=mlp.predict([mlp_prediction_tuple(fighter,opponent,datte,datte)])[0]\n",
    "    accuracy_test[i]=[result,method,overfit_model_prediction,overfit_mlp_prediction,model_prediction,mlp_prediction]\n",
    "    overfit_model_correct+=(result==overfit_model_prediction)\n",
    "    overfit_mlp_correct+=(method==overfit_mlp_prediction)\n",
    "    model_correct+=(result==model_prediction)\n",
    "    mlp_correct+=(method==mlp_prediction)\n",
    "    overfit_model_acc=overfit_model_correct/float(i+1)\n",
    "    overfit_mlp_acc=overfit_mlp_correct/float(i+1)\n",
    "    model_acc=model_correct/float(i+1)\n",
    "    mlp_acc=mlp_correct/float(i+1)\n",
    "    print('fight: '+fighter+', '+opponent+'. '\n",
    "        +' res/meth: '+str([result,method])\n",
    "          + ' overfit: '+str([overfit_model_prediction,overfit_mlp_prediction])\n",
    "    + ' pred: '+str([model_prediction,mlp_prediction])\n",
    "          + ' overfit_acc: '+str([overfit_model_acc,overfit_mlp_acc])\n",
    "         + ' acc: '+str([model_acc,mlp_acc]))"
   ]
  },
  {
   "cell_type": "code",
   "execution_count": null,
   "metadata": {},
   "outputs": [],
   "source": [
    "#THIS IS FUCKING TRASH, I've seen enough (i'm very confused why overfit isn't at [.75,.9])\n",
    "#maybe i need to reanalyze how i am training after fixing the data frame.\n",
    "#perhaps the model gives too much credit to the (cheating stats)"
   ]
  },
  {
   "cell_type": "code",
   "execution_count": null,
   "metadata": {},
   "outputs": [],
   "source": [
    "#Explanation for under performance. I realized that sub_wins/losses and ko_wins/losses were calculated\n",
    "#in ufc_fights_crap and ufc_fights as total number of wins/losses, not wins/losses before date (by a big mistake)\n",
    "#this means that the models were trained with 'future knowing' data. But now we are plugging in data that does\n",
    "#not see the future since I fixed the mistake. We'll see what happens once I fix the data set and retrain.\n",
    "#I should now go through the data sets and make sure there are no other big mistakes... or future seeing (cheating)\n",
    "#note the overfitness of the method (its a neural network)... on actual fight predictions, this accuracy will be\n",
    "#a bit less accurate than the winner/loser prediction\n",
    "#I COULD TRY retraining now and dropping the cheating stats, and see what we get"
   ]
  },
  {
   "cell_type": "code",
   "execution_count": null,
   "metadata": {},
   "outputs": [],
   "source": [
    "#idea: lets add L5Y average weight"
   ]
  },
  {
   "cell_type": "code",
   "execution_count": 35,
   "metadata": {},
   "outputs": [],
   "source": [
    "fighter=ufc_best_df[test_best].iloc[3][0]\n",
    "opponent=ufc_best_df[test_best].iloc[3][1]\n",
    "result=ufc_best_df[test_best].iloc[3][2]\n",
    "method=ufc_best_df[test_best].iloc[3][3]\n",
    "datte=ufc_best_df[test_best].iloc[3][4]"
   ]
  },
  {
   "cell_type": "code",
   "execution_count": 47,
   "metadata": {},
   "outputs": [
    {
     "data": {
      "text/plain": [
       "'September 05, 2020'"
      ]
     },
     "execution_count": 47,
     "metadata": {},
     "output_type": "execute_result"
    }
   ],
   "source": [
    "datte"
   ]
  },
  {
   "cell_type": "code",
   "execution_count": 36,
   "metadata": {},
   "outputs": [
    {
     "name": "stdout",
     "output_type": "stream",
     "text": [
      "('Andre Muniz', 'Bartosz Fabinski', 'W', 'SUB', 'September 05, 2020')\n"
     ]
    }
   ],
   "source": [
    "print (fighter,opponent,result,method,datte)"
   ]
  },
  {
   "cell_type": "code",
   "execution_count": null,
   "metadata": {},
   "outputs": [],
   "source": [
    "overfit_model_prediction=model.predict([ufc_best_df[best_best].iloc[3]])[0]\n",
    "overfit_mlp_prediction=mlp.predict([ufc_fights_cleaned[candidate].iloc[3]])[0]"
   ]
  },
  {
   "cell_type": "code",
   "execution_count": 43,
   "metadata": {},
   "outputs": [],
   "source": [
    "frame_tuple=ufc_best_df[best_best].iloc[3]"
   ]
  },
  {
   "cell_type": "code",
   "execution_count": 46,
   "metadata": {},
   "outputs": [
    {
     "data": {
      "text/plain": [
       "fighter_wins_diff_2                           -2.000000\n",
       "fighter_losses_diff_2                         -1.000000\n",
       "fighter_L5Y_wins_diff_2                       -1.000000\n",
       "fighter_L5Y_losses_diff_2                     -1.000000\n",
       "fighter_L2Y_wins_diff_2                        1.000000\n",
       "fighter_L2Y_losses_diff_2                     -1.000000\n",
       "fighter_L5Y_ko_wins_diff_2                     0.000000\n",
       "fighter_L5Y_ko_losses_diff_2                   0.000000\n",
       "fighter_L2Y_ko_wins_diff_2                     0.000000\n",
       "fighter_L2Y_ko_losses_diff_2                   0.000000\n",
       "fighter_sub_losses_diff_2                     -1.000000\n",
       "fighter_L5Y_sub_wins_diff_2                    0.000000\n",
       "fighter_L5Y_sub_losses_diff_2                 -1.000000\n",
       "fighter_L2Y_sub_wins_diff_2                    0.000000\n",
       "fighter_L2Y_sub_losses_diff_2                 -1.000000\n",
       "fighter_inf_reversals_avg                      0.000000\n",
       "fighter_abs_reversals_avg                      0.066667\n",
       "opponent_inf_reversals_avg                     0.000000\n",
       "opponent_abs_reversals_avg                     0.000000\n",
       "fighter_inf_takedowns_attempts_avg             0.466667\n",
       "fighter_abs_takedowns_attempts_avg             0.066667\n",
       "opponent_inf_takedowns_attempts_avg            0.673425\n",
       "opponent_abs_takedowns_attempts_avg            0.108617\n",
       "fighter_ko_wins_diff_2                         0.000000\n",
       "fighter_age                                   30.000000\n",
       "opponent_age                                  34.000000\n",
       "fighter_sub_wins_diff_2                        0.000000\n",
       "fighter_ko_losses_diff_2                       0.000000\n",
       "fighter_inf_body_strikes_landed_avg            0.533333\n",
       "fighter_inf_body_strikes_attempts_avg          0.666667\n",
       "fighter_abs_body_strikes_landed_avg            0.333333\n",
       "fighter_abs_body_strikes_attempts_avg          0.466667\n",
       "opponent_inf_body_strikes_landed_avg           0.608255\n",
       "opponent_inf_body_strikes_attempts_avg         0.651702\n",
       "opponent_abs_body_strikes_landed_avg           0.108617\n",
       "opponent_abs_body_strikes_attempts_avg         0.195510\n",
       "fighter_inf_takedowns_landed_avg               0.200000\n",
       "fighter_abs_takedowns_landed_avg               0.066667\n",
       "opponent_inf_takedowns_landed_avg              0.477915\n",
       "opponent_abs_takedowns_landed_avg              0.021723\n",
       "fighter_inf_head_strikes_attempts_avg          2.000000\n",
       "fighter_abs_head_strikes_attempts_avg          2.333333\n",
       "opponent_inf_head_strikes_attempts_avg         2.259232\n",
       "opponent_abs_head_strikes_attempts_avg         2.541636\n",
       "fighter_inf_distance_strikes_landed_avg        1.333333\n",
       "fighter_abs_distance_strikes_landed_avg        1.400000\n",
       "opponent_inf_distance_strikes_landed_avg       0.586531\n",
       "opponent_abs_distance_strikes_landed_avg       0.456191\n",
       "fighter_inf_distance_strikes_attempts_avg      2.666667\n",
       "fighter_abs_distance_strikes_attempts_avg      2.400000\n",
       "opponent_inf_distance_strikes_attempts_avg     1.086169\n",
       "opponent_abs_distance_strikes_attempts_avg     1.846488\n",
       "Name: 3, dtype: float64"
      ]
     },
     "execution_count": 46,
     "metadata": {},
     "output_type": "execute_result"
    }
   ],
   "source": [
    "frame_tuple"
   ]
  },
  {
   "cell_type": "code",
   "execution_count": 87,
   "metadata": {},
   "outputs": [],
   "source": [
    "generated_tuple=model_prediction_tuple(fighter,opponent,'September 04, 2020','September 04, 2020')"
   ]
  },
  {
   "cell_type": "code",
   "execution_count": null,
   "metadata": {},
   "outputs": [],
   "source": [
    "#it seems the generated tuple is counting the sub loss for the fight...\n",
    "#Figured out the issue. The sub_losses function was stupidly defined to count ALL sub losses\n",
    "#still not sure why it was counted differently in the data frame... actually must be because we generated \n",
    "#the data frame actually\n",
    "#before the fight happened!"
   ]
  },
  {
   "cell_type": "code",
   "execution_count": 88,
   "metadata": {},
   "outputs": [
    {
     "name": "stdout",
     "output_type": "stream",
     "text": [
      "(-2.0, -2.0)\n",
      "(-1.0, -1.0)\n",
      "(-1.0, -1.0)\n",
      "(-1.0, -1.0)\n",
      "(1.0, 1.0)\n",
      "(-1.0, -1.0)\n",
      "(0.0, 0.0)\n",
      "(0.0, 0.0)\n",
      "(0.0, 0.0)\n",
      "(0.0, 0.0)\n",
      "(-1.0, -1.0)\n",
      "(0.0, 0.0)\n",
      "(-1.0, -1.0)\n",
      "(0.0, 0.0)\n",
      "(-1.0, -1.0)\n",
      "(0.0, 0.0)\n",
      "(0.06666666666666668, 0.06666666666666667)\n",
      "(0.0, 0.0)\n",
      "(0.0, 0.0)\n",
      "(0.4666666666666667, 0.4666666666666667)\n",
      "(0.06666666666666668, 0.06666666666666667)\n",
      "(0.6734250543084721, 0.6734250543084721)\n",
      "(0.10861694424330197, 0.10861694424330195)\n",
      "(0.0, 0.0)\n",
      "(30.0, 30.0)\n",
      "(34.0, 34.0)\n",
      "(0.0, 0.0)\n",
      "(0.0, 0.0)\n",
      "(0.5333333333333333, 0.5333333333333333)\n",
      "(0.6666666666666666, 0.6666666666666666)\n",
      "(0.3333333333333333, 0.3333333333333333)\n",
      "(0.4666666666666667, 0.4666666666666667)\n",
      "(0.6082548877624909, 0.6082548877624909)\n",
      "(0.6517016654598118, 0.6517016654598118)\n",
      "(0.10861694424330197, 0.10861694424330195)\n",
      "(0.19551049963794356, 0.19551049963794354)\n",
      "(0.2, 0.2)\n",
      "(0.06666666666666668, 0.06666666666666667)\n",
      "(0.4779145546705286, 0.4779145546705286)\n",
      "(0.02172338884866039, 0.02172338884866039)\n",
      "(2.0, 2.0)\n",
      "(2.333333333333333, 2.3333333333333335)\n",
      "(2.2592324402606807, 2.2592324402606807)\n",
      "(2.541636495293266, 2.541636495293266)\n",
      "(1.3333333333333333, 1.3333333333333333)\n",
      "(1.4, 1.4)\n",
      "(0.5865314989138306, 0.5865314989138306)\n",
      "(0.4561911658218682, 0.45619116582186825)\n",
      "(2.6666666666666665, 2.6666666666666665)\n",
      "(2.4, 2.4)\n",
      "(1.0861694424330195, 1.0861694424330195)\n",
      "(1.846488052136133, 1.8464880521361333)\n"
     ]
    }
   ],
   "source": [
    "for i in range(len(generated_tuple)):\n",
    "    print(frame_tuple[i],generated_tuple[i])"
   ]
  },
  {
   "cell_type": "code",
   "execution_count": 89,
   "metadata": {},
   "outputs": [
    {
     "data": {
      "text/plain": [
       "array(['L'], dtype=object)"
      ]
     },
     "execution_count": 89,
     "metadata": {},
     "output_type": "execute_result"
    }
   ],
   "source": [
    "model.predict([frame_tuple])"
   ]
  },
  {
   "cell_type": "code",
   "execution_count": 90,
   "metadata": {},
   "outputs": [
    {
     "data": {
      "text/plain": [
       "array(['L'], dtype=object)"
      ]
     },
     "execution_count": 90,
     "metadata": {},
     "output_type": "execute_result"
    }
   ],
   "source": [
    "model.predict([generated_tuple])"
   ]
  },
  {
   "cell_type": "code",
   "execution_count": 67,
   "metadata": {},
   "outputs": [],
   "source": [
    "mlp_df_tuple=ufc_fights_cleaned.iloc[3]"
   ]
  },
  {
   "cell_type": "code",
   "execution_count": 68,
   "metadata": {},
   "outputs": [
    {
     "data": {
      "text/plain": [
       "date                                          September 05, 2020\n",
       "division                                            Middleweight\n",
       "fighter                                              Andre Muniz\n",
       "opponent                                        Bartosz Fabinski\n",
       "result                                                         W\n",
       "method                                                       SUB\n",
       "fighter_wins                                                   1\n",
       "fighter_losses                                                 0\n",
       "fighter_age                                                   30\n",
       "fighter_height                                            185.42\n",
       "fighter_reach                                             198.12\n",
       "fighter_L5Y_wins                                               1\n",
       "fighter_L5Y_losses                                             0\n",
       "fighter_L2Y_wins                                               1\n",
       "fighter_L2Y_losses                                             0\n",
       "fighter_ko_wins                                                0\n",
       "fighter_ko_losses                                              0\n",
       "fighter_L5Y_ko_wins                                            0\n",
       "fighter_L5Y_ko_losses                                          0\n",
       "fighter_L2Y_ko_wins                                            0\n",
       "fighter_L2Y_ko_losses                                          0\n",
       "fighter_sub_wins                                               0\n",
       "fighter_sub_losses                                             0\n",
       "fighter_L5Y_sub_wins                                           0\n",
       "fighter_L5Y_sub_losses                                         0\n",
       "fighter_L2Y_sub_wins                                           0\n",
       "fighter_L2Y_sub_losses                                         0\n",
       "fighter_inf_knockdowns_avg                                     0\n",
       "fighter_inf_pass_avg                                    0.133333\n",
       "fighter_inf_reversals_avg                                      0\n",
       "                                                     ...        \n",
       "opponent_inf_distance_strikes_landed_avg                0.586531\n",
       "opponent_inf_distance_strikes_attempts_avg               1.08617\n",
       "opponent_inf_clinch_strikes_landed_avg                  0.912382\n",
       "opponent_inf_clinch_strikes_attempts_avg                   1.021\n",
       "opponent_inf_ground_strikes_landed_avg                  0.716872\n",
       "opponent_inf_ground_strikes_attempts_avg                 1.04272\n",
       "opponent_abs_knockdowns_avg                            0.0217234\n",
       "opponent_abs_pass_avg                                  0.0651702\n",
       "opponent_abs_reversals_avg                                     0\n",
       "opponent_abs_sub_attempts_avg                           0.152064\n",
       "opponent_abs_takedowns_landed_avg                      0.0217234\n",
       "opponent_abs_takedowns_attempts_avg                     0.108617\n",
       "opponent_abs_sig_strikes_landed_avg                      1.34685\n",
       "opponent_abs_sig_strikes_attempts_avg                    2.91093\n",
       "opponent_abs_total_strikes_landed_avg                    3.51919\n",
       "opponent_abs_total_strikes_attempts_avg                  5.14844\n",
       "opponent_abs_head_strikes_landed_avg                     1.06445\n",
       "opponent_abs_head_strikes_attempts_avg                   2.54164\n",
       "opponent_abs_body_strikes_landed_avg                    0.108617\n",
       "opponent_abs_body_strikes_attempts_avg                   0.19551\n",
       "opponent_abs_leg_strikes_landed_avg                     0.173787\n",
       "opponent_abs_leg_strikes_attempts_avg                   0.173787\n",
       "opponent_abs_distance_strikes_landed_avg                0.456191\n",
       "opponent_abs_distance_strikes_attempts_avg               1.84649\n",
       "opponent_abs_clinch_strikes_landed_avg                  0.477915\n",
       "opponent_abs_clinch_strikes_attempts_avg                0.586531\n",
       "opponent_abs_ground_strikes_landed_avg                  0.412744\n",
       "opponent_abs_ground_strikes_attempts_avg                0.477915\n",
       "fighter_stance                                                 2\n",
       "opponent_stance                                                0\n",
       "Name: 3, Length: 138, dtype: object"
      ]
     },
     "execution_count": 68,
     "metadata": {},
     "output_type": "execute_result"
    }
   ],
   "source": [
    "mlp_df_tuple"
   ]
  },
  {
   "cell_type": "code",
   "execution_count": 80,
   "metadata": {},
   "outputs": [],
   "source": [
    "mlp_generated_tuple=mlp_prediction_tuple(fighter,opponent,datte,datte)"
   ]
  },
  {
   "cell_type": "code",
   "execution_count": 81,
   "metadata": {},
   "outputs": [
    {
     "data": {
      "text/plain": [
       "0.0"
      ]
     },
     "execution_count": 81,
     "metadata": {},
     "output_type": "execute_result"
    }
   ],
   "source": [
    "sub_wins('Andre Muniz','September 04, 2020')"
   ]
  },
  {
   "cell_type": "code",
   "execution_count": 83,
   "metadata": {},
   "outputs": [
    {
     "name": "stdout",
     "output_type": "stream",
     "text": [
      "(0.0, 0.0)\n",
      "(0.0, 0.0)\n",
      "(0.0, 0.0)\n",
      "(0.0, 0.0)\n",
      "(0.0, 0.0)\n",
      "(0.0, 0.0)\n",
      "(0.0, 0.0)\n",
      "(0.0, 0.0)\n",
      "(0.0, 0.0)\n",
      "(0.0, 0.0)\n",
      "(0.0, 0.0)\n",
      "(0.0, 0.0)\n",
      "(0.0, 0.0)\n",
      "(0.0, 0.0)\n",
      "(0.0, 0.0)\n",
      "(1.0, 1.0)\n",
      "(0.8, 0.8)\n",
      "(2.0, 2.0)\n",
      "(1.3333333333333333, 1.3333333333333333)\n",
      "(2.333333333333333, 2.3333333333333335)\n",
      "(1.3685734974656047, 1.3685734974656047)\n",
      "(2.2592324402606807, 2.2592324402606807)\n",
      "(1.0644460535843592, 1.0644460535843592)\n",
      "(2.541636495293266, 2.541636495293266)\n",
      "(0.06666666666666668, 0.06666666666666667)\n",
      "(0.06666666666666668, 0.06666666666666667)\n",
      "(0.0, 0.0)\n",
      "(0.0, 0.0)\n",
      "(0.9123823316437364, 0.9123823316437365)\n",
      "(1.0209992758870383, 1.0209992758870383)\n",
      "(0.4779145546705286, 0.4779145546705286)\n",
      "(0.5865314989138306, 0.5865314989138306)\n",
      "(0.0, 0.0)\n",
      "(0.0, 0.0)\n",
      "(0.0, 0.0)\n",
      "(0.0, 0.0)\n",
      "(0.0, 0.0)\n",
      "(1.0, 1.0)\n",
      "(0.0, 0.0)\n",
      "(1.0, 1.0)\n",
      "(0.5333333333333333, 0.5333333333333333)\n",
      "(0.6082548877624909, 0.6082548877624909)\n"
     ]
    }
   ],
   "source": [
    "for i in range(len(mlp_generated_tuple)):\n",
    "    print(ufc_fights_cleaned[candidate].iloc[3][i],mlp_generated_tuple[i])"
   ]
  },
  {
   "cell_type": "code",
   "execution_count": 40,
   "metadata": {},
   "outputs": [
    {
     "data": {
      "text/plain": [
       "[0.0,\n",
       " 0.0,\n",
       " 0.0,\n",
       " 0.0,\n",
       " 0.0,\n",
       " 0.0,\n",
       " 0.0,\n",
       " 0.0,\n",
       " 0.0,\n",
       " 0.0,\n",
       " 0.0,\n",
       " 0.0,\n",
       " 1.0,\n",
       " 0.0,\n",
       " 0.0,\n",
       " 2.0,\n",
       " 0.8,\n",
       " 2.0,\n",
       " 1.3333333333333333,\n",
       " 2.3333333333333335,\n",
       " 1.3685734974656047,\n",
       " 2.2592324402606807,\n",
       " 1.0644460535843592,\n",
       " 2.541636495293266,\n",
       " 0.06666666666666667,\n",
       " 0.06666666666666667,\n",
       " 0.0,\n",
       " 0.0,\n",
       " 0.9123823316437365,\n",
       " 1.0209992758870383,\n",
       " 0.4779145546705286,\n",
       " 0.5865314989138306,\n",
       " 0.0,\n",
       " 0.0,\n",
       " 0.0,\n",
       " 0.0,\n",
       " 0.0,\n",
       " 1.0,\n",
       " 0.0,\n",
       " 1.0,\n",
       " 0.5333333333333333,\n",
       " 0.6082548877624909]"
      ]
     },
     "execution_count": 40,
     "metadata": {},
     "output_type": "execute_result"
    }
   ],
   "source": [
    "mlp_prediction_tuple(fighter,opponent,datte,datte)"
   ]
  },
  {
   "cell_type": "code",
   "execution_count": null,
   "metadata": {},
   "outputs": [],
   "source": [
    "model_prediction=model.predict([model_prediction_tuple(fighter,opponent,datte,datte)])[0]\n",
    "mlp_prediction=mlp.predict([mlp_prediction_tuple(fighter,opponent,datte,datte)])[0]\n",
    "accuracy_test[i]=[result,method,overfit_model_prediction,overfit_mlp_prediction,model_prediction,mlp_prediction]\n",
    "overfit_model_correct+=(result==overfit_model_prediction)\n",
    "overfit_mlp_correct+=(method==overfit_mlp_prediction)\n",
    "model_correct+=(result==model_prediction)\n",
    "mlp_correct+=(method==mlp_prediction)\n",
    "overfit_model_acc=overfit_model_correct/float(i+1)\n",
    "overfit_mlp_acc=overfit_mlp_correct/float(i+1)\n",
    "model_acc=model_correct/float(i+1)\n",
    "mlp_acc=mlp_correct/float(i+1)"
   ]
  },
  {
   "cell_type": "code",
   "execution_count": null,
   "metadata": {},
   "outputs": [],
   "source": [
    "#after running for quite awhile this should end up at [.75,.9] for both acc and overfit_acc \n",
    "#figure out what is going wrong with the ufc_predict function\n",
    "#after this runs for a bit lets check back on the ufc_predict values and see if they agree with the predictions here\n",
    "#I mean, it would be stupid if they didn't, they are literally the same thing...\n",
    "#There is clearly a problem with the overfit accuracy..."
   ]
  },
  {
   "cell_type": "code",
   "execution_count": null,
   "metadata": {},
   "outputs": [],
   "source": [
    "#THE OVERALL SCORE IS .5000... THIS IS INSANE HONESLTLY. THIS MEANS HALF THE TIME I WILL GET BOTH THE \n",
    "#WINNER AND METHOD OF VICTORY CORRECTLY... WITH +200 AVERAGE ODDS THIS MEANS OUT OF EVERY TWO FIGHTS\n",
    "#I SPEND 100 AND GET 200 BACK. So basically if I bet x dollars per fight, I will make x/2 dollars per fight on average.\n",
    "#Ok lets get to betting (if the average is really +200). Lets check"
   ]
  },
  {
   "cell_type": "code",
   "execution_count": null,
   "metadata": {},
   "outputs": [],
   "source": [
    "#THE PROBLEM IS, THIS IS NOT THE SCORE I GET WHEN I EVEN TEST ON (NEARLY) THE TRAINING DATA ITSELF\n",
    "#SOMETHING IS GOING HORRIBLY WRONG...\n",
    "#WHEN I TEST ON EXACT TRAINING DATA, I GET THE RIGHT THING, BUT IT SEEMS FOR A VERY SLIGHT PERTURBATION,\n",
    "#IT THROWS EVERYTHING OFF, AND I AM BACK DOWN TO 50% ACCURACY NEARLY"
   ]
  },
  {
   "cell_type": "code",
   "execution_count": null,
   "metadata": {},
   "outputs": [],
   "source": [
    "time ufc_predict('Cole Smith','Hunter Azure', 'September 6, 2020', 'September 6, 2020')\n",
    "#completely correct"
   ]
  },
  {
   "cell_type": "code",
   "execution_count": null,
   "metadata": {},
   "outputs": [],
   "source": [
    "#making a dictionary to track accuracy\n",
    "acc_dic={}\n",
    "acc_dic[0]=[1,1]"
   ]
  },
  {
   "cell_type": "code",
   "execution_count": null,
   "metadata": {},
   "outputs": [],
   "source": [
    "time ufc_predict('Viviane Araujo','Montana De La Rosa', 'September 6, 2020', 'September 6, 2020')\n",
    "#wrong winner right method"
   ]
  },
  {
   "cell_type": "code",
   "execution_count": null,
   "metadata": {},
   "outputs": [],
   "source": [
    "acc_dic[1]=[0,1]"
   ]
  },
  {
   "cell_type": "code",
   "execution_count": null,
   "metadata": {},
   "outputs": [],
   "source": [
    "time ufc_predict('Brian Kelleher','Ray Rodriguez', 'September 6, 2020', 'September 6, 2020')\n",
    "#wrong winner wrong method"
   ]
  },
  {
   "cell_type": "code",
   "execution_count": null,
   "metadata": {},
   "outputs": [],
   "source": [
    "acc_dic[2]=[0,0]"
   ]
  },
  {
   "cell_type": "code",
   "execution_count": null,
   "metadata": {},
   "outputs": [],
   "source": [
    "time ufc_predict('Andre Muniz','Bartosz Fabinski', 'September 6, 2020', 'September 6, 2020')\n",
    "#wrong winner wrong method"
   ]
  },
  {
   "cell_type": "code",
   "execution_count": null,
   "metadata": {},
   "outputs": [],
   "source": [
    "acc_dic[3]=[0,0]"
   ]
  },
  {
   "cell_type": "code",
   "execution_count": null,
   "metadata": {},
   "outputs": [],
   "source": [
    "time ufc_predict('Michel Pereira','Zelim Imadaev', 'September 6, 2020', 'September 6, 2020')\n",
    "#right winner wrong method"
   ]
  },
  {
   "cell_type": "code",
   "execution_count": null,
   "metadata": {},
   "outputs": [],
   "source": [
    "acc_dic[4]=[1,0]"
   ]
  },
  {
   "cell_type": "code",
   "execution_count": null,
   "metadata": {},
   "outputs": [],
   "source": [
    "time ufc_predict('Ovince Saint Preux','Alonzo Menifield', 'September 6, 2020', 'September 6, 2020')\n",
    "#right in both"
   ]
  },
  {
   "cell_type": "code",
   "execution_count": null,
   "metadata": {},
   "outputs": [],
   "source": [
    "acc_dic[5]=[1,1]"
   ]
  },
  {
   "cell_type": "code",
   "execution_count": null,
   "metadata": {},
   "outputs": [],
   "source": [
    "time ufc_predict('Alistair Overeem','Augusto Sakai', 'September 6, 2020', 'September 6, 2020')\n",
    "#wrong winner right method\n",
    "#WHATS GOING ON. I DIDN'T CHANGE THE MODEL BUT NOW ITS SAYING ALISTAIR WINS"
   ]
  },
  {
   "cell_type": "code",
   "execution_count": null,
   "metadata": {},
   "outputs": [],
   "source": [
    "acc_dic[6]=[0,1]"
   ]
  },
  {
   "cell_type": "code",
   "execution_count": null,
   "metadata": {},
   "outputs": [],
   "source": [
    "time ufc_predict('Ricardo Lamas','Bill Algeo', 'August 30, 2020', 'August 30, 2020')\n",
    "#right on both"
   ]
  },
  {
   "cell_type": "code",
   "execution_count": null,
   "metadata": {},
   "outputs": [],
   "source": [
    "acc_dic[7]=[1,1]"
   ]
  },
  {
   "cell_type": "code",
   "execution_count": null,
   "metadata": {},
   "outputs": [],
   "source": [
    "time ufc_predict('Ji Yeon Kim','Alexa Grasso', 'August 30, 2020', 'August 30, 2020')\n",
    "#right on both"
   ]
  },
  {
   "cell_type": "code",
   "execution_count": null,
   "metadata": {},
   "outputs": [],
   "source": [
    "acc_dic[8]=[1,1]"
   ]
  },
  {
   "cell_type": "code",
   "execution_count": null,
   "metadata": {},
   "outputs": [],
   "source": [
    "time ufc_predict('Robbie Lawler','Neil Magny', 'August 30, 2020', 'August 30, 2020')\n",
    "#right on both"
   ]
  },
  {
   "cell_type": "code",
   "execution_count": null,
   "metadata": {},
   "outputs": [],
   "source": [
    "acc_dic[9]=[1,1]"
   ]
  },
  {
   "cell_type": "code",
   "execution_count": null,
   "metadata": {},
   "outputs": [],
   "source": [
    "time ufc_predict('Anthony Smith','Aleksandar Rakic', 'August 30, 2020', 'August 30, 2020')\n",
    "#right on both"
   ]
  },
  {
   "cell_type": "code",
   "execution_count": null,
   "metadata": {},
   "outputs": [],
   "source": [
    "acc_dic[10]=[1,1]"
   ]
  },
  {
   "cell_type": "code",
   "execution_count": null,
   "metadata": {},
   "outputs": [],
   "source": [
    "time ufc_predict('Daniel Rodriguez','Dwight Grant', 'August 23, 2020', 'August 23, 2020')\n",
    "#wrong on both"
   ]
  },
  {
   "cell_type": "code",
   "execution_count": null,
   "metadata": {},
   "outputs": [],
   "source": [
    "acc_dic[11]=[0,0]"
   ]
  },
  {
   "cell_type": "code",
   "execution_count": null,
   "metadata": {},
   "outputs": [],
   "source": [
    "time ufc_predict('Mariya Agapova','Shana Dobson', 'August 23, 2020', 'August 23, 2020')\n",
    "#wrong on both"
   ]
  },
  {
   "cell_type": "code",
   "execution_count": null,
   "metadata": {},
   "outputs": [],
   "source": [
    "acc_dic[12]=[0,0]"
   ]
  },
  {
   "cell_type": "code",
   "execution_count": null,
   "metadata": {},
   "outputs": [],
   "source": [
    "time ufc_predict('Austin Hubbard','Joe Solecki', 'August 23, 2020', 'August 23, 2020')\n",
    "#right winner wrong method"
   ]
  },
  {
   "cell_type": "code",
   "execution_count": null,
   "metadata": {},
   "outputs": [],
   "source": [
    "acc_dic[13]=[1,0]"
   ]
  },
  {
   "cell_type": "code",
   "execution_count": null,
   "metadata": {},
   "outputs": [],
   "source": [
    "time ufc_predict('Marcin Prachnio','Mike Rodriguez', 'August 23, 2020', 'August 23, 2020')\n",
    "#right winner wrong decision"
   ]
  },
  {
   "cell_type": "code",
   "execution_count": null,
   "metadata": {},
   "outputs": [],
   "source": [
    "acc_dic[14]=[1,0]"
   ]
  },
  {
   "cell_type": "code",
   "execution_count": null,
   "metadata": {},
   "outputs": [],
   "source": [
    "time ufc_predict('Pedro Munhoz','Frankie Edgar', 'August 23, 2020', 'August 23, 2020')\n",
    "#wrong winner right decision"
   ]
  },
  {
   "cell_type": "code",
   "execution_count": null,
   "metadata": {},
   "outputs": [],
   "source": [
    "acc_dic[15]=[0,1]"
   ]
  },
  {
   "cell_type": "code",
   "execution_count": null,
   "metadata": {},
   "outputs": [],
   "source": [
    "StipeMiocic\n",
    "DanielCormier"
   ]
  },
  {
   "cell_type": "code",
   "execution_count": null,
   "metadata": {},
   "outputs": [],
   "source": [
    "time ufc_predict('John Dodson','Merab Dvalishvili', 'August 16, 2020', 'August 16, 2020')\n",
    "#right on both"
   ]
  },
  {
   "cell_type": "code",
   "execution_count": null,
   "metadata": {},
   "outputs": [],
   "source": [
    "acc_dic[16]=[1,1]"
   ]
  },
  {
   "cell_type": "code",
   "execution_count": null,
   "metadata": {},
   "outputs": [],
   "source": [
    "time ufc_predict('Herbert Burns','Daniel Pineda', 'August 16, 2020', 'August 16, 2020')\n",
    "#right winner wrong method"
   ]
  },
  {
   "cell_type": "code",
   "execution_count": null,
   "metadata": {},
   "outputs": [],
   "source": [
    "acc_dic[17]=[1,0]"
   ]
  },
  {
   "cell_type": "code",
   "execution_count": null,
   "metadata": {},
   "outputs": [],
   "source": [
    "time ufc_predict('Junior Dos Santos','Jairzinho Rozenstruik', 'August 16, 2020', 'August 16, 2020')\n",
    "#wrong winner right method"
   ]
  },
  {
   "cell_type": "code",
   "execution_count": null,
   "metadata": {},
   "outputs": [],
   "source": [
    "acc_dic[18]=[0,1]"
   ]
  },
  {
   "cell_type": "code",
   "execution_count": null,
   "metadata": {},
   "outputs": [],
   "source": [
    "time ufc_predict(\"Sean O'Malley\",'Marlon Vera', 'August 16, 2020', 'August 16, 2020')\n",
    "#wrong and wrong"
   ]
  },
  {
   "cell_type": "code",
   "execution_count": null,
   "metadata": {},
   "outputs": [],
   "source": [
    "acc_dic[19]=[0,0]"
   ]
  },
  {
   "cell_type": "code",
   "execution_count": null,
   "metadata": {},
   "outputs": [],
   "source": [
    "time ufc_predict(\"Stipe Miocic\",'Daniel Cormier', 'August 16, 2020', 'August 16, 2020')\n",
    "#right and right"
   ]
  },
  {
   "cell_type": "code",
   "execution_count": null,
   "metadata": {},
   "outputs": [],
   "source": [
    "acc_dic[20]=[1,1]"
   ]
  },
  {
   "cell_type": "code",
   "execution_count": null,
   "metadata": {},
   "outputs": [],
   "source": [
    "OmariAkhmedov\n",
    "ChrisWeidman"
   ]
  },
  {
   "cell_type": "code",
   "execution_count": null,
   "metadata": {},
   "outputs": [],
   "source": [
    "ufc_predict(\"Beneil Dariush\",'Scott Holtzman', 'August 9, 2020', 'August 9, 2020')\n",
    "#wrong and wrong"
   ]
  },
  {
   "cell_type": "code",
   "execution_count": null,
   "metadata": {},
   "outputs": [],
   "source": [
    "acc_dic[21]=[0,0]"
   ]
  },
  {
   "cell_type": "code",
   "execution_count": null,
   "metadata": {},
   "outputs": [],
   "source": [
    "ufc_predict(\"Yana Kunitskaya\",'Julija Stoliarenko', 'August 9, 2020', 'August 9, 2020')"
   ]
  },
  {
   "cell_type": "code",
   "execution_count": null,
   "metadata": {},
   "outputs": [],
   "source": [
    "acc_dic[22]=[1,1]"
   ]
  },
  {
   "cell_type": "code",
   "execution_count": null,
   "metadata": {},
   "outputs": [],
   "source": [
    "ufc_predict(\"Maki Pitolo\",'Darren Stewart', 'August 9, 2020', 'August 9, 2020')"
   ]
  },
  {
   "cell_type": "code",
   "execution_count": null,
   "metadata": {},
   "outputs": [],
   "source": [
    "acc_dic[23]=[0,0]"
   ]
  },
  {
   "cell_type": "code",
   "execution_count": null,
   "metadata": {},
   "outputs": [],
   "source": [
    "ufc_predict(\"Omari Akhmedov\",'Chris Weidman', 'August 9, 2020', 'August 9, 2020')"
   ]
  },
  {
   "cell_type": "code",
   "execution_count": null,
   "metadata": {},
   "outputs": [],
   "source": [
    "acc_dic[24]=[1,1]"
   ]
  },
  {
   "cell_type": "code",
   "execution_count": null,
   "metadata": {},
   "outputs": [],
   "source": [
    "JoanneCalderwood\n",
    "JenniferMaia"
   ]
  },
  {
   "cell_type": "code",
   "execution_count": null,
   "metadata": {},
   "outputs": [],
   "source": [
    "ufc_predict(\"Derrick Lewis\",'Aleksei Oleinik', 'August 9, 2020', 'August 9, 2020')"
   ]
  },
  {
   "cell_type": "code",
   "execution_count": null,
   "metadata": {},
   "outputs": [],
   "source": [
    "acc_dic[25]=[1,1]"
   ]
  },
  {
   "cell_type": "code",
   "execution_count": null,
   "metadata": {},
   "outputs": [],
   "source": [
    "ufc_predict(\"Lando Vannata\",'Bobby Green', 'August 2, 2020', 'August 2, 2020')"
   ]
  },
  {
   "cell_type": "code",
   "execution_count": null,
   "metadata": {},
   "outputs": [],
   "source": [
    "acc_dic[26]=[0,1]"
   ]
  },
  {
   "cell_type": "code",
   "execution_count": null,
   "metadata": {},
   "outputs": [],
   "source": [
    "wins_before(\"Joanne Calderwood\",'August 2, 2020')"
   ]
  },
  {
   "cell_type": "code",
   "execution_count": null,
   "metadata": {},
   "outputs": [],
   "source": [
    "ufc_predict(\"Joanne Calderwood\",'Jennifer Maia', 'August 2, 2020', 'August 2, 2020')"
   ]
  },
  {
   "cell_type": "code",
   "execution_count": null,
   "metadata": {},
   "outputs": [],
   "source": [
    "acc_dic[27]=[1,0]"
   ]
  },
  {
   "cell_type": "code",
   "execution_count": null,
   "metadata": {},
   "outputs": [],
   "source": [
    "ufc_predict(\"Derek Brunson\",'Edmen Shahbazyan', 'August 2, 2020', 'August 2, 2020')"
   ]
  },
  {
   "cell_type": "code",
   "execution_count": null,
   "metadata": {},
   "outputs": [],
   "source": [
    "acc_dic[28]=[0,0]"
   ]
  },
  {
   "cell_type": "code",
   "execution_count": null,
   "metadata": {},
   "outputs": [],
   "source": [
    "ufc_predict(\"Khamzat Chimaev\",'Rhys McKee', 'July 26, 2020', 'July 26, 2020')"
   ]
  },
  {
   "cell_type": "code",
   "execution_count": null,
   "metadata": {},
   "outputs": [],
   "source": [
    "acc_dic[29]=[0,0]"
   ]
  },
  {
   "cell_type": "code",
   "execution_count": null,
   "metadata": {},
   "outputs": [],
   "source": [
    "ufc_predict(\"Alex Oliveira\",'Peter Sobotta', 'July 26, 2020', 'July 26, 2020')"
   ]
  },
  {
   "cell_type": "code",
   "execution_count": null,
   "metadata": {},
   "outputs": [],
   "source": [
    "acc_dic[30]=[0,1]"
   ]
  },
  {
   "cell_type": "code",
   "execution_count": null,
   "metadata": {},
   "outputs": [],
   "source": [
    "ufc_predict(\"Paul Craig\",'Gadzhimurad Antigulov', 'July 26, 2020', 'July 26, 2020')"
   ]
  },
  {
   "cell_type": "code",
   "execution_count": null,
   "metadata": {},
   "outputs": [],
   "source": [
    "acc_dic[31]=[0,1]"
   ]
  },
  {
   "cell_type": "code",
   "execution_count": null,
   "metadata": {},
   "outputs": [],
   "source": [
    "ufc_predict(\"Carla Esparza\",'Marina Rodriguez', 'July 26, 2020', 'July 26, 2020')"
   ]
  },
  {
   "cell_type": "code",
   "execution_count": null,
   "metadata": {},
   "outputs": [],
   "source": [
    "acc_dic[32]=[1,1]"
   ]
  },
  {
   "cell_type": "code",
   "execution_count": null,
   "metadata": {},
   "outputs": [],
   "source": [
    "ufc_predict(\"Fabricio Werdum\",'Alexander Gustafsson', 'July 26, 2020', 'July 26, 2020')"
   ]
  },
  {
   "cell_type": "code",
   "execution_count": null,
   "metadata": {},
   "outputs": [],
   "source": [
    "acc_dic[33]=[0,0]"
   ]
  },
  {
   "cell_type": "code",
   "execution_count": null,
   "metadata": {},
   "outputs": [],
   "source": [
    "ufc_predict(\"Mauricio Rua\",'Antonio Rogerio Nogueira', 'July 26, 2020', 'July 26, 2020')"
   ]
  },
  {
   "cell_type": "code",
   "execution_count": null,
   "metadata": {},
   "outputs": [],
   "source": []
  },
  {
   "cell_type": "code",
   "execution_count": null,
   "metadata": {},
   "outputs": [],
   "source": [
    "ufc_predict(\"Robert Whittaker\",'Darren Till', 'July 26, 2020', 'July 26, 2020')"
   ]
  },
  {
   "cell_type": "code",
   "execution_count": null,
   "metadata": {},
   "outputs": [],
   "source": [
    "acc_dic[34]=[1,1]"
   ]
  },
  {
   "cell_type": "code",
   "execution_count": null,
   "metadata": {},
   "outputs": [],
   "source": [
    "ufc_predict(\"Alexandre Pantoja\",'Askar Askarov', 'July 19, 2020', 'July 19, 2020')"
   ]
  },
  {
   "cell_type": "code",
   "execution_count": null,
   "metadata": {},
   "outputs": [],
   "source": [
    "acc_dic[35]=[1,1]"
   ]
  },
  {
   "cell_type": "code",
   "execution_count": null,
   "metadata": {},
   "outputs": [],
   "source": [
    "ufc_predict(\"Ariane Lipski\",'Luana Carolina', 'July 19, 2020', 'July 19, 2020')"
   ]
  },
  {
   "cell_type": "code",
   "execution_count": null,
   "metadata": {},
   "outputs": [],
   "source": [
    "acc_dic[36]=[0,0]"
   ]
  },
  {
   "cell_type": "code",
   "execution_count": null,
   "metadata": {},
   "outputs": [],
   "source": [
    "ufc_predict(\"Marc Diakiese\",'Rafael Fiziev', 'July 19, 2020', 'July 19, 2020')"
   ]
  },
  {
   "cell_type": "code",
   "execution_count": null,
   "metadata": {},
   "outputs": [],
   "source": [
    "acc_dic[37]=[0,1]"
   ]
  },
  {
   "cell_type": "code",
   "execution_count": null,
   "metadata": {},
   "outputs": [],
   "source": [
    "ufc_predict(\"Jack Hermansson\",'Kelvin Gastelum', 'July 19, 2020', 'July 19, 2020')"
   ]
  },
  {
   "cell_type": "code",
   "execution_count": null,
   "metadata": {},
   "outputs": [],
   "source": [
    "acc_dic[38]=[1,0]"
   ]
  },
  {
   "cell_type": "code",
   "execution_count": null,
   "metadata": {},
   "outputs": [],
   "source": [
    "ufc_predict(\"Deiveson Figueiredo\",'Joseph Benavidez', 'July 19, 2020', 'July 19, 2020')"
   ]
  },
  {
   "cell_type": "code",
   "execution_count": null,
   "metadata": {},
   "outputs": [],
   "source": [
    "acc_dic[39]=[1,0]"
   ]
  },
  {
   "cell_type": "code",
   "execution_count": null,
   "metadata": {},
   "outputs": [],
   "source": [
    "sum([val[0] for val in acc_dic.values()])/float(len(acc_dic.values()))"
   ]
  },
  {
   "cell_type": "code",
   "execution_count": null,
   "metadata": {},
   "outputs": [],
   "source": [
    "sum([val[1] for val in acc_dic.values()])/float(len(acc_dic.values()))"
   ]
  },
  {
   "cell_type": "code",
   "execution_count": null,
   "metadata": {},
   "outputs": [],
   "source": [
    "len([val for val in acc_dic.values() if val[0]==1 and val[1]==1])/float(len(acc_dic.values()))"
   ]
  },
  {
   "cell_type": "code",
   "execution_count": null,
   "metadata": {},
   "outputs": [],
   "source": [
    ".525*.55"
   ]
  },
  {
   "cell_type": "code",
   "execution_count": null,
   "metadata": {},
   "outputs": [],
   "source": [
    "#WHAT IN THE FUCK IS GOING ON???????"
   ]
  },
  {
   "cell_type": "code",
   "execution_count": null,
   "metadata": {},
   "outputs": [],
   "source": [
    "list(ufc_best_df[method_mask][best_best].iloc[1000].values[3:])"
   ]
  },
  {
   "cell_type": "code",
   "execution_count": null,
   "metadata": {},
   "outputs": [],
   "source": [
    "model.predict([list(ufc_best_df[method_mask][best_best].iloc[1000].values[3:])])"
   ]
  },
  {
   "cell_type": "code",
   "execution_count": null,
   "metadata": {},
   "outputs": [],
   "source": [
    "[val[1] for val in acc_dic.values()]"
   ]
  },
  {
   "cell_type": "code",
   "execution_count": null,
   "metadata": {},
   "outputs": [],
   "source": [
    "#got 12 out of 21 in both cases... not good... whats goin wrong? not enough samples?"
   ]
  },
  {
   "cell_type": "code",
   "execution_count": null,
   "metadata": {},
   "outputs": [],
   "source": [
    "#lets check whats going on. Maybe our tuples do not match the dataframe..."
   ]
  },
  {
   "cell_type": "code",
   "execution_count": null,
   "metadata": {},
   "outputs": [],
   "source": [
    "ufc_fights.iloc[0]"
   ]
  },
  {
   "cell_type": "code",
   "execution_count": null,
   "metadata": {},
   "outputs": [],
   "source": [
    "ufc_best_df['fighter']=ufc_fights_clean_stance['fighter']\n",
    "ufc_best_df['opponent']=ufc_fights_clean_stance['opponent']\n",
    "ufc_best_df['date']=ufc_fights_clean_stance['date']"
   ]
  },
  {
   "cell_type": "code",
   "execution_count": null,
   "metadata": {},
   "outputs": [],
   "source": [
    "test_test=['fighter','opponent','date']+best_best"
   ]
  },
  {
   "cell_type": "code",
   "execution_count": null,
   "metadata": {},
   "outputs": [],
   "source": [
    "ufc_best_df[test_test].iloc[1000].values"
   ]
  },
  {
   "cell_type": "code",
   "execution_count": null,
   "metadata": {},
   "outputs": [],
   "source": [
    "test_model_predict_tuple=model_prediction_tuple('Jason Knight', 'Gabriel Benitez', 'December 9, 2017','December 9, 2017')"
   ]
  },
  {
   "cell_type": "code",
   "execution_count": null,
   "metadata": {},
   "outputs": [],
   "source": [
    "for i in range(len(test_model_predict_tuple)):\n",
    "    print(test_model_predict_tuple[i],list(ufc_best_df[test_test].iloc[1000].values[3:])[i])"
   ]
  },
  {
   "cell_type": "code",
   "execution_count": null,
   "metadata": {},
   "outputs": [],
   "source": [
    "#OK these seem right. Lets try mlp..."
   ]
  },
  {
   "cell_type": "code",
   "execution_count": null,
   "metadata": {},
   "outputs": [],
   "source": [
    "ufc_fights_clean[mlp_test].iloc[1000].values"
   ]
  },
  {
   "cell_type": "code",
   "execution_count": null,
   "metadata": {},
   "outputs": [],
   "source": [
    "mlp_test=mlp_prediction_tuple('Michelle Waterson','Tecia Torres','December 2, 2017','December 2, 2017')"
   ]
  },
  {
   "cell_type": "code",
   "execution_count": null,
   "metadata": {},
   "outputs": [],
   "source": []
  },
  {
   "cell_type": "code",
   "execution_count": null,
   "metadata": {},
   "outputs": [],
   "source": [
    "mlp_test_from_df=ufc_fights_clean[candidate].iloc[1000].values"
   ]
  },
  {
   "cell_type": "code",
   "execution_count": null,
   "metadata": {},
   "outputs": [],
   "source": [
    "mlp_test==mlp_test_from_df"
   ]
  },
  {
   "cell_type": "code",
   "execution_count": null,
   "metadata": {},
   "outputs": [],
   "source": [
    "for i in range(len(mlp_test)):\n",
    "    print(mlp_test[i],mlp_test_from_df[i])"
   ]
  },
  {
   "cell_type": "code",
   "execution_count": null,
   "metadata": {},
   "outputs": [],
   "source": [
    "mlp_test=['fighter','opponent','date']+candidate"
   ]
  },
  {
   "cell_type": "code",
   "execution_count": null,
   "metadata": {},
   "outputs": [],
   "source": [
    "#Ok... is it a problem that some are ints and some are floats? Lets change everything to float\n",
    "#in the dataframe, everything is a float. In the prediction tuple, many are integers... lets change this by changing\n",
    "#the count function to output a float"
   ]
  }
 ],
 "metadata": {
  "kernelspec": {
   "display_name": "Python 2",
   "language": "python",
   "name": "python2"
  },
  "language_info": {
   "codemirror_mode": {
    "name": "ipython",
    "version": 2
   },
   "file_extension": ".py",
   "mimetype": "text/x-python",
   "name": "python",
   "nbconvert_exporter": "python",
   "pygments_lexer": "ipython2",
   "version": "2.7.16"
  }
 },
 "nbformat": 4,
 "nbformat_minor": 2
}
