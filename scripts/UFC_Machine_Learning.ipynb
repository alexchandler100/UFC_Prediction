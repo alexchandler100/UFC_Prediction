{
 "cells": [
  {
   "cell_type": "code",
   "execution_count": 21,
   "metadata": {},
   "outputs": [],
   "source": [
    "import pandas as pd\n",
    "import numpy as npy\n",
    "from datetime import datetime\n",
    "from datetime import date"
   ]
  },
  {
   "cell_type": "code",
   "execution_count": 3,
   "metadata": {},
   "outputs": [],
   "source": [
    "ufcfightscrap=pd.read_csv('fight_hist.csv',sep=',')"
   ]
  },
  {
   "cell_type": "code",
   "execution_count": 50,
   "metadata": {},
   "outputs": [],
   "source": [
    "#adding a datetime column for ufcfightscrap\n",
    "datetimecol=dict()\n",
    "for i in range(len(ufcfightscrap['fighter'])):\n",
    "    datetimecol[i]=datetime.strptime(ufcfightscrap.values[i,0], '%B %d, %Y').date()\n",
    "    \n",
    "datedict={'datetime':datetimecol.values()}\n",
    "datedataframe = pd.DataFrame (datedict, columns = ['datetime'])\n",
    "ufcfightscrap['datetime']=datedataframe"
   ]
  },
  {
   "cell_type": "code",
   "execution_count": 53,
   "metadata": {},
   "outputs": [],
   "source": [
    "ufcfights=ufcfightscrap[['datetime','result','fighter','opponent','division','method','round',\n",
    "                         'time','knockdowns','sub_attempts','pass','reversals','takedowns_landed'\n",
    "                         ,'takedowns_attempts','sig_strikes_landed','sig_strikes_attempts'\n",
    "                         ,'total_strikes_landed','total_strikes_attempts','head_strikes_landed'\n",
    "                         ,'head_strikes_attempts','body_strikes_landed','body_strikes_attempts'\n",
    "                         ,'leg_strikes_landed','leg_strikes_attempts','distance_strikes_landed'\n",
    "                         ,'distance_strikes_attempts','clinch_strikes_landed','clinch_strikes_attempts'\n",
    "                         ,'ground_strikes_landed','ground_strikes_attempts']]\n",
    "\n",
    "ufcfighterscrap=pd.read_csv('fighter_stats.csv',sep=',')"
   ]
  },
  {
   "cell_type": "code",
   "execution_count": 237,
   "metadata": {},
   "outputs": [],
   "source": [
    "def age(birthDate,day=date.today(),form1='%b %d, %Y',form2='%b %d, %Y'):\n",
    "    if birthDate=='--':\n",
    "        aa='unknown'\n",
    "    elif type(birthDate)==str and not type(day)==str:\n",
    "        bd=datetime.strptime(birthDate, form1)\n",
    "        today = day\n",
    "        aa = today.year - bd.year - ((today.month, today.day) < (bd.month, bd.day)) \n",
    "    elif type(birthDate)==str and type(day)==str:\n",
    "        bd=datetime.strptime(birthDate, form1)\n",
    "        today = datetime.strptime(day, form2)\n",
    "        aa = today.year - bd.year - ((today.month, today.day) < (bd.month, bd.day)) \n",
    "    elif not type(birthDate)==str and type(day)==str:\n",
    "        bd=birthDate\n",
    "        today = datetime.strptime(day, form2)\n",
    "        aa = today.year - bd.year - ((today.month, today.day) < (bd.month, bd.day)) \n",
    "    else:\n",
    "        bd=birthDate\n",
    "        today = day\n",
    "        aa = today.year - bd.year - ((today.month, today.day) < (bd.month, bd.day)) \n",
    "    return aa\n",
    "\n",
    "#adding an age column to ufcfighterscrap\n",
    "agecol=dict()\n",
    "for i in range(len(ufcfighterscrap['dob'])):\n",
    "    if ufcfighterscrap.values[i,0]=='--':\n",
    "        agecol[i]='unknown'\n",
    "    else:\n",
    "        agecol[i]=age(ufcfighterscrap.values[i,0])\n",
    "        \n",
    "agedict={'age':agecol.values()}\n",
    "agedataframe = pd.DataFrame (agedict, columns = ['age'])\n",
    "ufcfighterscrap['age']=agedataframe\n",
    "ufcfighters=ufcfighterscrap[['name','age','height','stance']]\n",
    "\n",
    "def fighter_age(fighter,day=date.today(),form1='%b %d, %Y',form2='%b %d, %Y'):\n",
    "    a=0\n",
    "    for i in range(len(ufcfighters['name'])):\n",
    "        if ufcfighterscrap['name'][i]==fighter:\n",
    "            dob=ufcfighterscrap['dob'][i]\n",
    "            a=age(dob,day,form1,form2)\n",
    "            break\n",
    "    return a\n",
    "\n",
    "#computes a fighters number of wins in the UFC\n",
    "def wins(fighter):\n",
    "    mask1=(ufcfights.values[:,2]==fighter)\n",
    "    mask2=(ufcfights.values[:,1]=='W')\n",
    "    mask=mask1 & mask2\n",
    "    return mask.sum()\n",
    "\n",
    "#computes a fighters number of wins in the UFC before day which is intered in the form 'Mar 20, 1990' by default \n",
    "#but can be changed to for example ,form='%B %d, %Y'\n",
    "def wins_before(fighter,day=date.today(),form='%b %d, %Y'):\n",
    "    ddd=0\n",
    "    if day==date.today():\n",
    "        ddd=day\n",
    "    else:\n",
    "        ddd=datetime.strptime(day, form).date()\n",
    "    mask1=(ufcfights.values[:,2]==fighter)\n",
    "    mask2=(ufcfights.values[:,1]=='W')\n",
    "    mask3=(ufcfights.values[:,0]<ddd)\n",
    "    mask=mask1 & mask2 & mask3\n",
    "    return mask.sum()\n",
    "\n",
    "#computes a fighters number of losses in the UFC\n",
    "def losses(fighter):\n",
    "    mask1=(ufcfights.values[:,2]==fighter)\n",
    "    mask2=(ufcfights.values[:,1]=='L')\n",
    "    mask=mask1 & mask2\n",
    "    return mask.sum()\n",
    "\n",
    "#computes a fighters number of losses in the UFC before date\n",
    "def losses_before(fighter,day=date.today(),form='%b %d, %Y'):\n",
    "    ddd=0\n",
    "    if day==date.today():\n",
    "        ddd=day\n",
    "    else:\n",
    "        ddd=datetime.strptime(day, form).date()\n",
    "    mask1=(ufcfights.values[:,2]==fighter)\n",
    "    mask2=(ufcfights.values[:,1]=='L')\n",
    "    mask3=(ufcfights.values[:,0]<ddd)\n",
    "    mask=mask1 & mask2 & mask3\n",
    "    return mask.sum()\n",
    "\n",
    "#computes a fighters number of ties/NC in the UFC\n",
    "def ties(fighter):\n",
    "    mask1=(ufcfights.values[:,2]==fighter)\n",
    "    mask2=(ufcfights.values[:,1]!='W')\n",
    "    mask3=(ufcfights.values[:,1]!='L')\n",
    "    mask=mask1 & mask2 & mask3\n",
    "    return mask.sum()\n",
    "\n",
    "#computes a fighters number of ties/NC in the UFC before date\n",
    "def ties_before(fighter,day=date.today(),form='%b %d, %Y'):\n",
    "    ddd=0\n",
    "    if day==date.today():\n",
    "        ddd=day\n",
    "    else:\n",
    "        ddd=datetime.strptime(day, form).date()\n",
    "    mask1=(ufcfights.values[:,2]==fighter)\n",
    "    mask2=(ufcfights.values[:,1]!='W')\n",
    "    mask3=(ufcfights.values[:,1]!='L')\n",
    "    mask4=(ufcfights.values[:,0]<ddd)\n",
    "    mask=mask1 & mask2 & mask3 & mask4\n",
    "    return mask.sum()\n",
    "\n",
    "#gives a fighters record\n",
    "def record(fighter,date):\n",
    "    return (wins(fighter), losses(fighter), ties(fighter))\n",
    "\n",
    "#gives a fighters record\n",
    "def record_before(fighter,day=date.today(),form='%b %d, %Y'):\n",
    "    return (wins_before(fighter,day,form), losses_before(fighter,day,form), ties_before(fighter,day,form))\n",
    "\n",
    "#functions for height and reach\n",
    "def fighter_height(fighter):\n",
    "    a=0\n",
    "    for i in range(len(ufcfighters['name'])):\n",
    "        if ufcfighterscrap['name'][i]==fighter:\n",
    "            a=ufcfighterscrap['height'][i]\n",
    "            break\n",
    "    if a=='--':\n",
    "        b='unknown'\n",
    "    elif a[4]=='\"':\n",
    "        b=int(a[0])*30.48+int(a[3])*2.54\n",
    "    else:\n",
    "        b=int(a[0])*30.48+int(a[3]+a[4])*2.54\n",
    "    return b\n",
    "\n",
    "def fighter_reach(fighter):\n",
    "    a=0\n",
    "    for i in range(len(ufcfighters['name'])):\n",
    "        if ufcfighterscrap['name'][i]==fighter:\n",
    "            a=ufcfighterscrap['reach'][i]\n",
    "            break\n",
    "    if a=='--':\n",
    "        b='unknown'\n",
    "    else:\n",
    "        b=int(a[0]+a[1])*2.54\n",
    "    return b"
   ]
  },
  {
   "cell_type": "code",
   "execution_count": null,
   "metadata": {},
   "outputs": [],
   "source": [
    "#the following column adding procedures can be done in one line as implemented later\n",
    "#adding a datetime column for ufcfights\n",
    "#need to make 2065 scale with time\n",
    "datetimecol=dict()\n",
    "for i in range(11424):\n",
    "    datetimecol[i]=datetime.strptime(ufcfightscrap.values[i,0], '%B %d, %Y').date()\n",
    "    \n",
    "datedict={'datetime':datetimecol.values()}\n",
    "datedataframe = pd.DataFrame (datedict, columns = ['datetime'])\n",
    "\n",
    "ufcfightscrap['datetime']=datedataframe\n",
    "\n",
    "#setting up columns for rec,wins,losses,ties (can be done in one line each as we do later with other stats)\n",
    "\n",
    "fighter1reccol=dict()\n",
    "for i in range(len(ufcfightscrap['fighter'])):\n",
    "    fighter1reccol[i]=record_before(ufcfightscrap.values[i,4],ufcfightscrap.values[i,0],'%B %d, %Y')\n",
    "fighter1recdict={'fighter1rec':fighter1reccol}\n",
    "fighter1recdataframe = pd.DataFrame (fighter1recdict, columns = ['fighter1rec'])\n",
    "\n",
    "fighter2reccol=dict()\n",
    "for i in range(len(ufcfightscrap['fighter'])):\n",
    "    if i%2==0:\n",
    "        fighter2reccol[i]=fighter1reccol[i+1]\n",
    "    else:\n",
    "        fighter2reccol[i]=fighter1reccol[i-1]\n",
    "fighter2recdict={'fighter2rec':fighter2reccol}\n",
    "fighter2recdataframe = pd.DataFrame (fighter2recdict, columns = ['fighter2rec'])\n",
    "\n",
    "fighter1winscol=dict()\n",
    "for i in range(11424):\n",
    "    fighter1winscol[i]=wins_before(ufcfightscrap.values[i,4],ufcfightscrap.values[i,0],'%B %d, %Y')\n",
    "fighter1winsdict={'fighter1wins':fighter1winscol}\n",
    "fighter1winsdataframe = pd.DataFrame (fighter1winsdict, columns = ['fighter1wins'])\n",
    "\n",
    "fighter1lossescol=dict()\n",
    "for i in range(11424):\n",
    "    fighter1lossescol[i]=losses_before(ufcfightscrap.values[i,4],ufcfightscrap.values[i,0],'%B %d, %Y')\n",
    "fighter1lossesdict={'fighter1losses':fighter1lossescol}\n",
    "fighter1lossesdataframe = pd.DataFrame (fighter1lossesdict, columns = ['fighter1losses'])\n",
    "\n",
    "fighter1tiescol=dict()\n",
    "for i in range(11424):\n",
    "    fighter1tiescol[i]=ties_before(ufcfightscrap.values[i,4],ufcfightscrap.values[i,0],'%B %d, %Y')\n",
    "fighter1tiesdict={'fighter1losses':fighter1tiescol}\n",
    "fighter1tiesdataframe = pd.DataFrame (fighter1tiesdict, columns = ['fighter1losses'])\n",
    "\n",
    "fighter2winscol=dict()\n",
    "for i in range(11424):\n",
    "    if i%2==0:\n",
    "        fighter2winscol[i]=fighter1winscol[i+1]\n",
    "    else:\n",
    "        fighter2winscol[i]=fighter1winscol[i-1]\n",
    "fighter2winsdict={'fighter2wins':fighter2winscol}\n",
    "fighter2winsdataframe = pd.DataFrame (fighter2winsdict, columns = ['fighter2wins'])\n",
    "\n",
    "fighter2lossescol=dict()\n",
    "for i in range(11424):\n",
    "    if i%2==0:\n",
    "        fighter2lossescol[i]=fighter1lossescol[i+1]\n",
    "    else:\n",
    "        fighter2lossescol[i]=fighter1lossescol[i-1]\n",
    "fighter2lossesdict={'fighter2losses':fighter2lossescol}\n",
    "fighter2lossesdataframe = pd.DataFrame (fighter2lossesdict, columns = ['fighter2losses'])\n",
    "\n",
    "fighter2_ties_col=dict()\n",
    "for i in range(len(ufcfightscrap['fighter'])):\n",
    "    if i%2==0:\n",
    "        fighter2_ties_col[i]=fighter1_ties_col[i+1]\n",
    "    else:\n",
    "        fighter2_ties_col[i]=fighter1_ties_col[i-1]\n",
    "fighter2tiesdict={'fighter2ties':fighter2lossescol}\n",
    "fighter2tiesdataframe = pd.DataFrame (fighter2tiesdict, columns = ['fighter2ties'])\n",
    "\n",
    "#building columns for age\n",
    "fighteragecol=dict()\n",
    "for i in range(11424):\n",
    "    fighteragecol[i]=fighter_age(ufcfightscrap['fighter'][i], ufcfightscrap['date'][i],'%b %d, %Y','%B %d, %Y')\n",
    "    \n",
    "fighteragedict={'fighterage':fighteragecol.values()}\n",
    "fighteragedataframe = pd.DataFrame (fighteragedict, columns = ['fighterage'])\n",
    "\n",
    "opponentagecol=dict()\n",
    "for i in range(11424):\n",
    "    if i%2==0:\n",
    "        opponentagecol[i]=fighteragecol[i+1]\n",
    "    else:\n",
    "        opponentagecol[i]=fighteragecol[i-1]\n",
    "opponentagedict={'opponentage':opponentagecol}\n",
    "opponentagedataframe = pd.DataFrame (opponentagedict, columns = ['opponentage'])\n"
   ]
  },
  {
   "cell_type": "code",
   "execution_count": null,
   "metadata": {},
   "outputs": [],
   "source": [
    "#making columns for rec,wins,losses,ties\n",
    "ufcfightscrap['fighter_rec']=fighter1recdataframe\n",
    "ufcfightscrap['opponent_rec']=fighter2recdataframe\n",
    "ufcfightscrap['fighter_wins']=fighter1winsdataframe\n",
    "ufcfightscrap['opponent_wins']=fighter2winsdataframe\n",
    "ufcfightscrap['fighter_losses']=fighter1lossesdataframe\n",
    "ufcfightscrap['opponent_losses']=fighter2lossesdataframe\n",
    "ufcfightscrap['fighter_ties']=fighter1tiesdataframe\n",
    "ufcfightscrap['opponent_ties']=fighter2tiesdataframe\n",
    "#making columns for age\n",
    "ufcfightscrap['fighter_age']=fighteragedataframe\n",
    "ufcfightscrap['opponent_age']=opponentagedataframe\n",
    "#making columns for height and reach\n",
    "ufcfightscrap['fighter_height']=ufcfightscrap['fighter'].apply(fighter_height)\n",
    "ufcfightscrap['opponent_height']=ufcfightscrap['opponent'].apply(fighter_height)\n",
    "ufcfightscrap['fighter_reach']=ufcfightscrap['fighter'].apply(fighter_reach)\n",
    "ufcfightscrap['opponent_reach']=ufcfightscrap['opponent'].apply(fighter_reach)\n",
    "\n",
    "#still haven't incorporated stance, \n",
    "#but honestly I'm not sure how much that would add to the model. We can add it and see if it increases accuracy"
   ]
  },
  {
   "cell_type": "code",
   "execution_count": 432,
   "metadata": {
    "scrolled": true
   },
   "outputs": [
    {
     "data": {
      "text/plain": [
       "0.5807006232538148"
      ]
     },
     "execution_count": 432,
     "metadata": {},
     "output_type": "execute_result"
    }
   ],
   "source": [
    "#First attempt at a model with only \n",
    "\n",
    "ufcfightsML=ufcfightscrap[['date','fighter','opponent','fighter_age','opponent_age','fighter_height',\n",
    "                           'opponent_height','fighter_reach','opponent_reach',\n",
    "                           'fighter_wins','opponent_wins','fighter_losses',\n",
    "                           'opponent_losses','fighter_ties','opponent_ties']]\n",
    "\n",
    "#we are forming a mask which gives True only when all features are known\n",
    "df=ufcfightscrap\n",
    "dff=ufcfightsML\n",
    "\n",
    "mask1=dff['fighter_age'] != 'unknown'\n",
    "mask2=dff['opponent_age'] != 'unknown'\n",
    "mask3=dff['fighter_height'] != 'unknown'\n",
    "mask4=dff['opponent_height'] != 'unknown'\n",
    "mask5=dff['fighter_reach'] != 'unknown'\n",
    "mask6=dff['opponent_reach'] != 'unknown'\n",
    "mask7=dff['fighter_wins'] != 'unknown'\n",
    "mask8=dff['opponent_wins'] != 'unknown'\n",
    "mask9=dff['fighter_losses'] != 'unknown'\n",
    "mask10=dff['opponent_losses'] != 'unknown'\n",
    "mask=mask1&mask2&mask3&mask4&mask5&mask6&mask7&mask8&mask9&mask10\n",
    "\n",
    "ufcfightsML_known=ufcfightsML.values[mask]\n",
    "ufcfightsML_known_df = pd.DataFrame (ufcfightsML_known, columns = ['date','fighter','opponent','fighter_age','opponent_age','fighter_height','opponent_height','fighter_reach',\n",
    "                  'opponent_reach','fighter_wins','opponent_wins','fighter_losses','opponent_losses','fighter_ties','opponent_ties'])\n",
    "\n",
    "#setting up the feature array X and target y\n",
    "XXX=ufcfightscrap[['fighter_age','opponent_age','fighter_height','opponent_height','fighter_reach',\n",
    "                  'opponent_reach','fighter_wins','opponent_wins','fighter_losses','opponent_losses']]\n",
    "XX=XXX.values\n",
    "X=XX[mask]\n",
    "\n",
    "yy=ufcfightscrap['result']=='W'\n",
    "y=yy.values[mask]\n",
    "\n",
    "#importing sklearn, the machine learning module in python. Then we set up a Logistic Regression model\n",
    "import sklearn\n",
    "import scipy\n",
    "from sklearn.linear_model import LogisticRegression\n",
    "model=LogisticRegression()\n",
    "model.fit(X,y)\n",
    "\n",
    "model.score(X,y)"
   ]
  },
  {
   "cell_type": "code",
   "execution_count": null,
   "metadata": {},
   "outputs": [],
   "source": [
    "#day1 should be input in the form '%B %d, %Y' i.e. 'August 20, 1962'\n",
    "#conversions can be made via day=datetime.strptime(ufcfightsML_known_df['date'][i], '%B %d, %Y').strftime('%b %d, %Y')\n",
    "def time_diff(day1,day2=date.today()):\n",
    "    if day2==date.today():\n",
    "        answer=(day2-datetime.strptime(day, '%B %d, %Y')).days\n",
    "    else:\n",
    "        answer=(datetime.strptime(day2, '%B %d, %Y')-datetime.strptime(day1, '%B %d, %Y')).days\n",
    "    return answer\n",
    "\n",
    "#we now vectorize this to use in pandas/numpy\n",
    "time_diff_vect= npy.vectorize(time_diff)\n",
    "\n",
    "#converts 'August 15,2019' to 'Aug 15,2019'\n",
    "def convert_date_to_abbrev(day):\n",
    "    return datetime.strptime(day, '%B %d, %Y').strftime('%b %d, %Y')\n",
    "\n",
    "#converts 'Aug 15,2019' to 'August 15,2019'\n",
    "def convert_date_to_unabbrev(day):\n",
    "    return datetime.strptime(day, '%b %d, %Y').strftime('%B %d, %Y')\n",
    "\n",
    "#this makes a column 'date_abbrev' in ufcfightscrap with entries of the form 'Aug 15,2019'\n",
    "ufcfightscrap['date_abbrev']=ufcfightscrap['date'].apply(convert_date_to_abbrev)\n",
    "\n",
    "#this makes a column 'date_unabbrev' in ufcfightscrap with entries of the form 'August 15,2019'\n",
    "ufcfightscrap['date_unabbrev']=ufcfightscrap['date_abbrev'].apply(convert_date_to_unabbrev)\n",
    "\n",
    "#can make a single function to do all of these... actually maybe the count function would even work as is\n",
    "\n",
    "def L5Y_wins(guy,day1=date.today()):\n",
    "    if day1==date.today():\n",
    "        day1=date.today().strftime('%B %d, %Y')\n",
    "    summ=0\n",
    "    good_indices=[i for i in ufcfightscrap.index.values if ufcfightscrap['fighter'].values[i]==guy]\n",
    "    for i in good_indices:\n",
    "        if time_diff(ufcfightscrap['date_unabbrev'][i],day1)<1825 and time_diff(ufcfightscrap['date_unabbrev'][i],day1)>0 and ufcfightscrap['result'].values[i]=='W':\n",
    "            summ+=1\n",
    "        else:\n",
    "            summ+=0\n",
    "        if time_diff(ufcfightscrap['date_unabbrev'][i],day1)>1825:\n",
    "            break\n",
    "    return summ\n",
    "\n",
    "def L5Y_losses(guy,day1=date.today()):\n",
    "    if day1==date.today():\n",
    "        day1=date.today().strftime('%B %d, %Y')\n",
    "    summ=0\n",
    "    good_indices=[i for i in ufcfightscrap.index.values if ufcfightscrap['fighter'].values[i]==guy]\n",
    "    for i in good_indices:\n",
    "        if time_diff(ufcfightscrap['date_unabbrev'][i],day1)<1825 and time_diff(ufcfightscrap['date_unabbrev'][i],day1)>0 and ufcfightscrap['result'].values[i]=='L':\n",
    "            summ+=1\n",
    "        else:\n",
    "            summ+=0\n",
    "        if time_diff(ufcfightscrap['date_unabbrev'][i],day1)>1825:\n",
    "            break\n",
    "    return summ\n",
    "\n",
    "def L2Y_wins(guy,day1=date.today()):\n",
    "    if day1==date.today():\n",
    "        day1=date.today().strftime('%B %d, %Y')\n",
    "    summ=0\n",
    "    good_indices=[i for i in ufcfightscrap.index.values if ufcfightscrap['fighter'].values[i]==guy]\n",
    "    for i in good_indices:\n",
    "        if time_diff(ufcfightscrap['date_unabbrev'][i],day1)<730 and time_diff(ufcfightscrap['date_unabbrev'][i],day1)>0 and ufcfightscrap['result'].values[i]=='W':\n",
    "            summ+=1\n",
    "        else:\n",
    "            summ+=0\n",
    "        if time_diff(ufcfightscrap['date_unabbrev'][i],day1)>730:\n",
    "            break\n",
    "    return summ\n",
    "\n",
    "def L2Y_losses(guy,day1=date.today()):\n",
    "    if day1==date.today():\n",
    "        day1=date.today().strftime('%B %d, %Y')\n",
    "    summ=0\n",
    "    good_indices=[i for i in ufcfightscrap.index.values if ufcfightscrap['fighter'].values[i]==guy]\n",
    "    for i in good_indices:\n",
    "        if time_diff(ufcfightscrap['date_unabbrev'][i],day1)<730 and time_diff(ufcfightscrap['date_unabbrev'][i],day1)>0 and ufcfightscrap['result'].values[i]=='L':\n",
    "            summ+=1\n",
    "        else:\n",
    "            summ+=0\n",
    "        if time_diff(ufcfightscrap['date_unabbrev'][i],day1)>730:\n",
    "            break\n",
    "    return summ\n",
    "\n",
    "def ko_wins(guy,day1=date.today()):\n",
    "    if day1==date.today():\n",
    "        day1=date.today().strftime('%B %d, %Y')\n",
    "    summ=0\n",
    "    good_indices=[i for i in ufcfightscrap.index.values if ufcfightscrap['fighter'].values[i]==guy]\n",
    "    for i in good_indices:\n",
    "        if ufcfightscrap['result'].values[i]=='W' and ufcfightscrap['method'].values[i]=='KO/TKO':\n",
    "            summ+=1\n",
    "        else:\n",
    "            summ+=0\n",
    "    return summ\n",
    "\n",
    "def ko_losses(guy,day1=date.today()):\n",
    "    if day1==date.today():\n",
    "        day1=date.today().strftime('%B %d, %Y')\n",
    "    summ=0\n",
    "    good_indices=[i for i in ufcfightscrap.index.values if ufcfightscrap['fighter'].values[i]==guy]\n",
    "    for i in good_indices:\n",
    "        if ufcfightscrap['result'].values[i]=='L' and ufcfightscrap['method'].values[i]=='KO/TKO':\n",
    "            summ+=1\n",
    "        else:\n",
    "            summ+=0\n",
    "    return summ\n",
    "\n",
    "def L5Y_ko_wins(guy,day1=date.today()):\n",
    "    if day1==date.today():\n",
    "        day1=date.today().strftime('%B %d, %Y')\n",
    "    summ=0\n",
    "    good_indices=[i for i in ufcfightscrap.index.values if ufcfightscrap['fighter'].values[i]==guy]\n",
    "    for i in good_indices:\n",
    "        if time_diff(ufcfightscrap['date_unabbrev'][i],day1)<1825 and time_diff(ufcfightscrap['date_unabbrev'][i],day1)>0 and ufcfightscrap['result'].values[i]=='W' and ufcfightscrap['method'].values[i]=='KO/TKO':\n",
    "            summ+=1\n",
    "        else:\n",
    "            summ+=0\n",
    "        if time_diff(ufcfightscrap['date_unabbrev'][i],day1)>1825:\n",
    "            break\n",
    "    return summ\n",
    "\n",
    "def L5Y_ko_losses(guy,day1=date.today()):\n",
    "    if day1==date.today():\n",
    "        day1=date.today().strftime('%B %d, %Y')\n",
    "    summ=0\n",
    "    good_indices=[i for i in ufcfightscrap.index.values if ufcfightscrap['fighter'].values[i]==guy]\n",
    "    for i in good_indices:\n",
    "        if time_diff(ufcfightscrap['date_unabbrev'][i],day1)<1825 and time_diff(ufcfightscrap['date_unabbrev'][i],day1)>0 and ufcfightscrap['result'].values[i]=='L' and ufcfightscrap['method'].values[i]=='KO/TKO':\n",
    "            summ+=1\n",
    "        else:\n",
    "            summ+=0\n",
    "        if time_diff(ufcfightscrap['date_unabbrev'][i],day1)>1825:\n",
    "            break\n",
    "    return summ\n",
    "\n",
    "def L2Y_ko_wins(guy,day1=date.today()):\n",
    "    if day1==date.today():\n",
    "        day1=date.today().strftime('%B %d, %Y')\n",
    "    summ=0\n",
    "    good_indices=[i for i in ufcfightscrap.index.values if ufcfightscrap['fighter'].values[i]==guy]\n",
    "    for i in good_indices:\n",
    "        if time_diff(ufcfightscrap['date_unabbrev'][i],day1)<730 and time_diff(ufcfightscrap['date_unabbrev'][i],day1)>0 and ufcfightscrap['result'].values[i]=='W' and ufcfightscrap['method'].values[i]=='KO/TKO':\n",
    "            summ+=1\n",
    "        else:\n",
    "            summ+=0\n",
    "        if time_diff(ufcfightscrap['date_unabbrev'][i],day1)>730:\n",
    "            break\n",
    "    return summ\n",
    "\n",
    "def L2Y_ko_losses(guy,day1=date.today()):\n",
    "    if day1==date.today():\n",
    "        day1=date.today().strftime('%B %d, %Y')\n",
    "    summ=0\n",
    "    good_indices=[i for i in ufcfightscrap.index.values if ufcfightscrap['fighter'].values[i]==guy]\n",
    "    for i in good_indices:\n",
    "        if time_diff(ufcfightscrap['date_unabbrev'][i],day1)<730 and time_diff(ufcfightscrap['date_unabbrev'][i],day1)>0 and ufcfightscrap['result'].values[i]=='L' and ufcfightscrap['method'].values[i]=='KO/TKO':\n",
    "            summ+=1\n",
    "        else:\n",
    "            summ+=0\n",
    "        if time_diff(ufcfightscrap['date_unabbrev'][i],day1)>730:\n",
    "            break\n",
    "    return summ\n",
    "\n",
    "def sub_wins(guy,day1=date.today()):\n",
    "    if day1==date.today():\n",
    "        day1=date.today().strftime('%B %d, %Y')\n",
    "    summ=0\n",
    "    good_indices=[i for i in ufcfightscrap.index.values if ufcfightscrap['fighter'].values[i]==guy]\n",
    "    for i in good_indices:\n",
    "        if ufcfightscrap['result'].values[i]=='W' and ufcfightscrap['method'].values[i]=='SUB':\n",
    "            summ+=1\n",
    "        else:\n",
    "            summ+=0\n",
    "    return summ\n",
    "\n",
    "def sub_losses(guy,day1=date.today()):\n",
    "    if day1==date.today():\n",
    "        day1=date.today().strftime('%B %d, %Y')\n",
    "    summ=0\n",
    "    good_indices=[i for i in ufcfightscrap.index.values if ufcfightscrap['fighter'].values[i]==guy]\n",
    "    for i in good_indices:\n",
    "        if ufcfightscrap['result'].values[i]=='L' and ufcfightscrap['method'].values[i]=='SUB':\n",
    "            summ+=1\n",
    "        else:\n",
    "            summ+=0\n",
    "    return summ\n",
    "\n",
    "def L5Y_sub_wins(guy,day1=date.today()):\n",
    "    if day1==date.today():\n",
    "        day1=date.today().strftime('%B %d, %Y')\n",
    "    summ=0\n",
    "    good_indices=[i for i in ufcfightscrap.index.values if ufcfightscrap['fighter'].values[i]==guy]\n",
    "    for i in good_indices:\n",
    "        if time_diff(ufcfightscrap['date_unabbrev'][i],day1)<1825 and time_diff(ufcfightscrap['date_unabbrev'][i],day1)>0 and ufcfightscrap['result'].values[i]=='W' and ufcfightscrap['method'].values[i]=='SUB':\n",
    "            summ+=1\n",
    "        else:\n",
    "            summ+=0\n",
    "        if time_diff(ufcfightscrap['date_unabbrev'][i],day1)>1825:\n",
    "            break\n",
    "    return summ\n",
    "\n",
    "def L5Y_sub_losses(guy,day1=date.today()):\n",
    "    if day1==date.today():\n",
    "        day1=date.today().strftime('%B %d, %Y')\n",
    "    summ=0\n",
    "    good_indices=[i for i in ufcfightscrap.index.values if ufcfightscrap['fighter'].values[i]==guy]\n",
    "    for i in good_indices:\n",
    "        if time_diff(ufcfightscrap['date_unabbrev'][i],day1)<1825 and time_diff(ufcfightscrap['date_unabbrev'][i],day1)>0 and ufcfightscrap['result'].values[i]=='L' and ufcfightscrap['method'].values[i]=='SUB':\n",
    "            summ+=1\n",
    "        else:\n",
    "            summ+=0\n",
    "        if time_diff(ufcfightscrap['date_unabbrev'][i],day1)>1825:\n",
    "            break\n",
    "    return summ\n",
    "\n",
    "def L2Y_sub_wins(guy,day1=date.today()):\n",
    "    if day1==date.today():\n",
    "        day1=date.today().strftime('%B %d, %Y')\n",
    "    summ=0\n",
    "    good_indices=[i for i in ufcfightscrap.index.values if ufcfightscrap['fighter'].values[i]==guy]\n",
    "    for i in good_indices:\n",
    "        if time_diff(ufcfightscrap['date_unabbrev'][i],day1)<730 and time_diff(ufcfightscrap['date_unabbrev'][i],day1)>0 and ufcfightscrap['result'].values[i]=='W' and ufcfightscrap['method'].values[i]=='SUB':\n",
    "            summ+=1\n",
    "        else:\n",
    "            summ+=0\n",
    "        if time_diff(ufcfightscrap['date_unabbrev'][i],day1)>730:\n",
    "            break\n",
    "    return summ\n",
    "\n",
    "def L2Y_sub_losses(guy,day1=date.today()):\n",
    "    if day1==date.today():\n",
    "        day1=date.today().strftime('%B %d, %Y')\n",
    "    summ=0\n",
    "    good_indices=[i for i in ufcfightscrap.index.values if ufcfightscrap['fighter'].values[i]==guy]\n",
    "    for i in good_indices:\n",
    "        if time_diff(ufcfightscrap['date_unabbrev'][i],day1)<730 and time_diff(ufcfightscrap['date_unabbrev'][i],day1)>0 and ufcfightscrap['result'].values[i]=='L' and ufcfightscrap['method'].values[i]=='SUB':\n",
    "            summ+=1\n",
    "        else:\n",
    "            summ+=0\n",
    "        if time_diff(ufcfightscrap['date_unabbrev'][i],day1)>730:\n",
    "            break\n",
    "    return summ\n",
    "\n",
    "#vectorize all of these functions\n",
    "L5Y_wins_vect= npy.vectorize(L5Y_wins)\n",
    "L5Y_losses_vect= npy.vectorize(L5Y_losses)\n",
    "L2Y_wins_vect= npy.vectorize(L2Y_wins)\n",
    "L2Y_losses_vect= npy.vectorize(L2Y_losses)\n",
    "ko_wins_vect= npy.vectorize(ko_wins)\n",
    "ko_losses_vect= npy.vectorize(ko_losses)\n",
    "L5Y_ko_wins_vect= npy.vectorize(L5Y_ko_wins)\n",
    "L5Y_ko_losses_vect= npy.vectorize(L5Y_ko_losses)\n",
    "L2Y_ko_wins_vect= npy.vectorize(L2Y_ko_wins)\n",
    "L2Y_ko_losses_vect= npy.vectorize(L2Y_ko_losses)\n",
    "sub_wins_vect= npy.vectorize(sub_wins)\n",
    "sub_losses_vect= npy.vectorize(sub_losses)\n",
    "L5Y_sub_wins_vect= npy.vectorize(L5Y_sub_wins)\n",
    "L5Y_sub_losses_vect= npy.vectorize(L5Y_sub_losses)\n",
    "L2Y_sub_wins_vect= npy.vectorize(L2Y_sub_wins)\n",
    "L2Y_sub_losses_vect= npy.vectorize(L2Y_sub_losses)"
   ]
  },
  {
   "cell_type": "code",
   "execution_count": 681,
   "metadata": {
    "scrolled": true
   },
   "outputs": [],
   "source": [
    "#ok lets make a fighter_L5Y_wins column in ufcfightscrap (from this we can quickly get opponent_L5Y_wins column)\n",
    "ufcfightscrap['fighter_L5Y_wins']=L5Y_wins_vect(ufcfightscrap['fighter'],ufcfightscrap['date'])\n",
    "ufcfightscrap['fighter_L5Y_losses']=L5Y_losses_vect(ufcfightscrap['fighter'],ufcfightscrap['date'])\n",
    "ufcfightscrap['fighter_L2Y_wins']=L2Y_wins_vect(ufcfightscrap['fighter'],ufcfightscrap['date'])\n",
    "ufcfightscrap['fighter_L2Y_losses']=L2Y_losses_vect(ufcfightscrap['fighter'],ufcfightscrap['date'])\n",
    "ufcfightscrap['fighter_ko_wins']=ko_wins_vect(ufcfightscrap['fighter'],ufcfightscrap['date'])\n",
    "ufcfightscrap['fighter_ko_losses']=ko_losses_vect(ufcfightscrap['fighter'],ufcfightscrap['date'])\n",
    "ufcfightscrap['fighter_L5Y_ko_wins']=L5Y_ko_wins_vect(ufcfightscrap['fighter'],ufcfightscrap['date'])\n",
    "ufcfightscrap['fighter_L5Y_ko_losses']=L5Y_ko_losses_vect(ufcfightscrap['fighter'],ufcfightscrap['date'])\n",
    "ufcfightscrap['fighter_L2Y_ko_wins']=L2Y_ko_wins_vect(ufcfightscrap['fighter'],ufcfightscrap['date'])\n",
    "ufcfightscrap['fighter_L2Y_ko_losses']=L2Y_ko_losses_vect(ufcfightscrap['fighter'],ufcfightscrap['date'])\n",
    "ufcfightscrap['fighter_sub_wins']=sub_wins_vect(ufcfightscrap['fighter'],ufcfightscrap['date'])\n",
    "ufcfightscrap['fighter_sub_losses']=sub_losses_vect(ufcfightscrap['fighter'],ufcfightscrap['date'])\n",
    "ufcfightscrap['fighter_L5Y_sub_wins']=L5Y_sub_wins_vect(ufcfightscrap['fighter'],ufcfightscrap['date'])\n",
    "ufcfightscrap['fighter_L5Y_sub_losses']=L5Y_sub_losses_vect(ufcfightscrap['fighter'],ufcfightscrap['date'])\n",
    "ufcfightscrap['fighter_L2Y_sub_wins']=L2Y_sub_wins_vect(ufcfightscrap['fighter'],ufcfightscrap['date'])\n",
    "ufcfightscrap['fighter_L2Y_sub_losses']=L2Y_sub_losses_vect(ufcfightscrap['fighter'],ufcfightscrap['date'])"
   ]
  },
  {
   "cell_type": "code",
   "execution_count": 719,
   "metadata": {},
   "outputs": [],
   "source": [
    "#sending to csv \n",
    "ufcfightscrap.to_csv('ufcfightscrap.csv', index = False)"
   ]
  },
  {
   "cell_type": "code",
   "execution_count": 717,
   "metadata": {},
   "outputs": [],
   "source": [
    "#Next need to add all of these stats for opponents\n",
    "#After this lets run our model again and see whats our accuracy\n",
    "#could probably write a function to do this, instead of having the same code repeated with slight changes\n",
    "\n",
    "opponent_L5Y_wins_col=dict()\n",
    "for i in range(len(ufcfightscrap['fighter'])):\n",
    "    if i%2==0:\n",
    "        opponent_L5Y_wins_col[i]=ufcfightscrap['fighter_L5Y_wins'].values[i+1]\n",
    "    else:\n",
    "        opponent_L5Y_wins_col[i]=ufcfightscrap['fighter_L5Y_wins'].values[i-1]\n",
    "opponent_L5Y_wins_dict={'opponent_L5Y_wins':opponent_L5Y_wins_col}\n",
    "opponent_L5Y_wins_dataframe = pd.DataFrame (opponent_L5Y_wins_dict, columns = ['opponent_L5Y_wins'])\n",
    "\n",
    "opponent_L5Y_losses_col=dict()\n",
    "for i in range(len(ufcfightscrap['fighter'])):\n",
    "    if i%2==0:\n",
    "        opponent_L5Y_losses_col[i]=ufcfightscrap['fighter_L5Y_losses'].values[i+1]\n",
    "    else:\n",
    "        opponent_L5Y_losses_col[i]=ufcfightscrap['fighter_L5Y_losses'].values[i-1]\n",
    "opponent_L5Y_losses_dict={'opponent_L5Y_losses':opponent_L5Y_losses_col}\n",
    "opponent_L5Y_losses_dataframe = pd.DataFrame (opponent_L5Y_losses_dict, columns = ['opponent_L5Y_losses'])\n",
    "\n",
    "opponent_L2Y_wins_col=dict()\n",
    "for i in range(len(ufcfightscrap['fighter'])):\n",
    "    if i%2==0:\n",
    "        opponent_L2Y_wins_col[i]=ufcfightscrap['fighter_L2Y_wins'].values[i+1]\n",
    "    else:\n",
    "        opponent_L2Y_wins_col[i]=ufcfightscrap['fighter_L2Y_wins'].values[i-1]\n",
    "opponent_L2Y_wins_dict={'opponent_L2Y_wins':opponent_L2Y_wins_col}\n",
    "opponent_L2Y_wins_dataframe = pd.DataFrame (opponent_L2Y_wins_dict, columns = ['opponent_L2Y_wins'])\n",
    "\n",
    "opponent_L2Y_losses_col=dict()\n",
    "for i in range(len(ufcfightscrap['fighter'])):\n",
    "    if i%2==0:\n",
    "        opponent_L2Y_losses_col[i]=ufcfightscrap['fighter_L2Y_losses'].values[i+1]\n",
    "    else:\n",
    "        opponent_L2Y_losses_col[i]=ufcfightscrap['fighter_L2Y_losses'].values[i-1]\n",
    "opponent_L2Y_losses_dict={'opponent_L2Y_losses':opponent_L2Y_losses_col}\n",
    "opponent_L2Y_losses_dataframe = pd.DataFrame (opponent_L2Y_losses_dict, columns = ['opponent_L2Y_losses'])\n",
    "\n",
    "opponent_ko_wins_col=dict()\n",
    "for i in range(len(ufcfightscrap['fighter'])):\n",
    "    if i%2==0:\n",
    "        opponent_ko_wins_col[i]=ufcfightscrap['fighter_ko_wins'].values[i+1]\n",
    "    else:\n",
    "        opponent_ko_wins_col[i]=ufcfightscrap['fighter_ko_wins'].values[i-1]\n",
    "opponent_ko_wins_dict={'opponent_ko_wins':opponent_ko_wins_col}\n",
    "opponent_ko_wins_dataframe = pd.DataFrame (opponent_ko_wins_dict, columns = ['opponent_ko_wins'])\n",
    "\n",
    "opponent_ko_losses_col=dict()\n",
    "for i in range(len(ufcfightscrap['fighter'])):\n",
    "    if i%2==0:\n",
    "        opponent_ko_losses_col[i]=ufcfightscrap['fighter_ko_losses'].values[i+1]\n",
    "    else:\n",
    "        opponent_ko_losses_col[i]=ufcfightscrap['fighter_ko_losses'].values[i-1]\n",
    "opponent_ko_losses_dict={'opponent_ko_losses':opponent_ko_losses_col}\n",
    "opponent_ko_losses_dataframe = pd.DataFrame (opponent_ko_losses_dict, columns = ['opponent_ko_losses'])\n",
    "\n",
    "opponent_L5Y_ko_wins_col=dict()\n",
    "for i in range(len(ufcfightscrap['fighter'])):\n",
    "    if i%2==0:\n",
    "        opponent_L5Y_ko_wins_col[i]=ufcfightscrap['fighter_L5Y_ko_wins'].values[i+1]\n",
    "    else:\n",
    "        opponent_L5Y_ko_wins_col[i]=ufcfightscrap['fighter_L5Y_ko_wins'].values[i-1]\n",
    "opponent_L5Y_ko_wins_dict={'opponent_L5Y_ko_wins':opponent_L5Y_ko_wins_col}\n",
    "opponent_L5Y_ko_wins_dataframe = pd.DataFrame (opponent_L5Y_ko_wins_dict, columns = ['opponent_L5Y_ko_wins'])\n",
    "\n",
    "opponent_L5Y_ko_losses_col=dict()\n",
    "for i in range(len(ufcfightscrap['fighter'])):\n",
    "    if i%2==0:\n",
    "        opponent_L5Y_ko_losses_col[i]=ufcfightscrap['fighter_L5Y_ko_losses'].values[i+1]\n",
    "    else:\n",
    "        opponent_L5Y_ko_losses_col[i]=ufcfightscrap['fighter_L5Y_ko_losses'].values[i-1]\n",
    "opponent_L5Y_ko_losses_dict={'opponent_L5Y_ko_losses':opponent_L5Y_ko_losses_col}\n",
    "opponent_L5Y_ko_losses_dataframe = pd.DataFrame (opponent_L5Y_ko_losses_dict, columns = ['opponent_L5Y_ko_losses'])\n",
    "\n",
    "opponent_L2Y_ko_wins_col=dict()\n",
    "for i in range(len(ufcfightscrap['fighter'])):\n",
    "    if i%2==0:\n",
    "        opponent_L2Y_ko_wins_col[i]=ufcfightscrap['fighter_L2Y_ko_wins'].values[i+1]\n",
    "    else:\n",
    "        opponent_L2Y_ko_wins_col[i]=ufcfightscrap['fighter_L2Y_ko_wins'].values[i-1]\n",
    "opponent_L2Y_ko_wins_dict={'opponent_L2Y_ko_wins':opponent_L2Y_ko_wins_col}\n",
    "opponent_L2Y_ko_wins_dataframe = pd.DataFrame (opponent_L2Y_ko_wins_dict, columns = ['opponent_L2Y_ko_wins'])\n",
    "\n",
    "opponent_L2Y_ko_losses_col=dict()\n",
    "for i in range(len(ufcfightscrap['fighter'])):\n",
    "    if i%2==0:\n",
    "        opponent_L2Y_ko_losses_col[i]=ufcfightscrap['fighter_L2Y_ko_losses'].values[i+1]\n",
    "    else:\n",
    "        opponent_L2Y_ko_losses_col[i]=ufcfightscrap['fighter_L2Y_ko_losses'].values[i-1]\n",
    "opponent_L2Y_ko_losses_dict={'opponent_L2Y_ko_losses':opponent_L2Y_ko_losses_col}\n",
    "opponent_L2Y_ko_losses_dataframe = pd.DataFrame (opponent_L2Y_ko_losses_dict, columns = ['opponent_L2Y_ko_losses'])\n",
    "\n",
    "opponent_sub_wins_col=dict()\n",
    "for i in range(len(ufcfightscrap['fighter'])):\n",
    "    if i%2==0:\n",
    "        opponent_sub_wins_col[i]=ufcfightscrap['fighter_sub_wins'].values[i+1]\n",
    "    else:\n",
    "        opponent_sub_wins_col[i]=ufcfightscrap['fighter_sub_wins'].values[i-1]\n",
    "opponent_sub_wins_dict={'opponent_sub_wins':opponent_sub_wins_col}\n",
    "opponent_sub_wins_dataframe = pd.DataFrame (opponent_sub_wins_dict, columns = ['opponent_sub_wins'])\n",
    "\n",
    "opponent_sub_losses_col=dict()\n",
    "for i in range(len(ufcfightscrap['fighter'])):\n",
    "    if i%2==0:\n",
    "        opponent_sub_losses_col[i]=ufcfightscrap['fighter_sub_losses'].values[i+1]\n",
    "    else:\n",
    "        opponent_sub_losses_col[i]=ufcfightscrap['fighter_sub_losses'].values[i-1]\n",
    "opponent_sub_losses_dict={'opponent_sub_losses':opponent_sub_losses_col}\n",
    "opponent_sub_losses_dataframe = pd.DataFrame (opponent_sub_losses_dict, columns = ['opponent_sub_losses'])\n",
    "\n",
    "opponent_L5Y_sub_wins_col=dict()\n",
    "for i in range(len(ufcfightscrap['fighter'])):\n",
    "    if i%2==0:\n",
    "        opponent_L5Y_sub_wins_col[i]=ufcfightscrap['fighter_L5Y_sub_wins'].values[i+1]\n",
    "    else:\n",
    "        opponent_L5Y_sub_wins_col[i]=ufcfightscrap['fighter_L5Y_sub_wins'].values[i-1]\n",
    "opponent_L5Y_sub_wins_dict={'opponent_L5Y_sub_wins':opponent_L5Y_sub_wins_col}\n",
    "opponent_L5Y_sub_wins_dataframe = pd.DataFrame (opponent_L5Y_sub_wins_dict, columns = ['opponent_L5Y_sub_wins'])\n",
    "\n",
    "opponent_L5Y_sub_losses_col=dict()\n",
    "for i in range(len(ufcfightscrap['fighter'])):\n",
    "    if i%2==0:\n",
    "        opponent_L5Y_sub_losses_col[i]=ufcfightscrap['fighter_L5Y_sub_losses'].values[i+1]\n",
    "    else:\n",
    "        opponent_L5Y_sub_losses_col[i]=ufcfightscrap['fighter_L5Y_sub_losses'].values[i-1]\n",
    "opponent_L5Y_sub_losses_dict={'opponent_L5Y_sub_losses':opponent_L5Y_sub_losses_col}\n",
    "opponent_L5Y_sub_losses_dataframe = pd.DataFrame (opponent_L5Y_sub_losses_dict, columns = ['opponent_L5Y_sub_losses'])\n",
    "\n",
    "opponent_L2Y_sub_wins_col=dict()\n",
    "for i in range(len(ufcfightscrap['fighter'])):\n",
    "    if i%2==0:\n",
    "        opponent_L2Y_sub_wins_col[i]=ufcfightscrap['fighter_L2Y_sub_wins'].values[i+1]\n",
    "    else:\n",
    "        opponent_L2Y_sub_wins_col[i]=ufcfightscrap['fighter_L2Y_sub_wins'].values[i-1]\n",
    "opponent_L2Y_sub_wins_dict={'opponent_L2Y_sub_wins':opponent_L2Y_sub_wins_col}\n",
    "opponent_L2Y_sub_wins_dataframe = pd.DataFrame (opponent_L2Y_sub_wins_dict, columns = ['opponent_L2Y_sub_wins'])\n",
    "\n",
    "opponent_L2Y_sub_losses_col=dict()\n",
    "for i in range(len(ufcfightscrap['fighter'])):\n",
    "    if i%2==0:\n",
    "        opponent_L2Y_sub_losses_col[i]=ufcfightscrap['fighter_L2Y_sub_losses'].values[i+1]\n",
    "    else:\n",
    "        opponent_L2Y_sub_losses_col[i]=ufcfightscrap['fighter_L2Y_sub_losses'].values[i-1]\n",
    "opponent_L2Y_sub_losses_dict={'opponent_L2Y_sub_losses':opponent_L2Y_sub_losses_col}\n",
    "opponent_L2Y_sub_losses_dataframe = pd.DataFrame (opponent_L2Y_sub_losses_dict, columns = ['opponent_L2Y_sub_losses'])\n"
   ]
  },
  {
   "cell_type": "code",
   "execution_count": null,
   "metadata": {},
   "outputs": [],
   "source": [
    "#adding columns now for opponents stats\n",
    "ufcfightscrap['opponent_L5Y_wins']=opponent_L5Y_wins_dataframe\n",
    "ufcfightscrap['opponent_L5Y_losses']=opponent_L5Y_losses_dataframe\n",
    "ufcfightscrap['opponent_L2Y_wins']=opponent_L2Y_wins_dataframe\n",
    "ufcfightscrap['opponent_L2Y_losses']=opponent_L2Y_losses_dataframe\n",
    "ufcfightscrap['opponent_ko_wins']=opponent_ko_wins_dataframe\n",
    "ufcfightscrap['opponent_ko_losses']=opponent_ko_losses_dataframe\n",
    "ufcfightscrap['opponent_L5Y_ko_wins']=opponent_L5Y_ko_wins_dataframe\n",
    "ufcfightscrap['opponent_L5Y_ko_losses']=opponent_L5Y_ko_losses_dataframe\n",
    "ufcfightscrap['opponent_L2Y_ko_wins']=opponent_L2Y_ko_wins_dataframe\n",
    "ufcfightscrap['opponent_L2Y_ko_losses']=opponent_L2Y_ko_losses_dataframe\n",
    "ufcfightscrap['opponent_sub_wins']=opponent_sub_wins_dataframe\n",
    "ufcfightscrap['opponent_sub_losses']=opponent_sub_losses_dataframe\n",
    "ufcfightscrap['opponent_L5Y_sub_wins']=opponent_L5Y_sub_wins_dataframe\n",
    "ufcfightscrap['opponent_L5Y_sub_losses']=opponent_L5Y_sub_losses_dataframe\n",
    "ufcfightscrap['opponent_L2Y_sub_wins']=opponent_L2Y_sub_wins_dataframe\n",
    "ufcfightscrap['opponent_L2Y_sub_losses']=opponent_L2Y_sub_losses_dataframe"
   ]
  },
  {
   "cell_type": "code",
   "execution_count": 726,
   "metadata": {},
   "outputs": [
    {
     "data": {
      "text/plain": [
       "0.7085389401416005"
      ]
     },
     "execution_count": 726,
     "metadata": {},
     "output_type": "execute_result"
    }
   ],
   "source": [
    "#Now lets run our model again and see whats our accuracy... hopefully better than .58\n",
    "#we currently have a two rows for each fight, always with first one the fighter wins and second one the opponent wins\n",
    "#Lets use the random package to randomly delete one of each pair\n",
    "import random\n",
    "random_indices=[]\n",
    "for i in range(0,len(ufcfightscrap['fighter_wins']),2):\n",
    "    random_indices.append(random.choice([i,i+1]))\n",
    "\n",
    "ufc_fights_dirty = pd.read_csv('updated_ufcfightscrap')\n",
    "ufc_fights_ML_dirty=ufc_fights_dirty[[u'result',u'fighter_wins', u'opponent_wins', u'fighter_losses',\n",
    "       u'opponent_losses', u'fighter_ties', u'opponent_ties', u'fighter_age',\n",
    "       u'opponent_age', u'fighter_height', u'opponent_height',\n",
    "       u'fighter_reach', u'opponent_reach',\n",
    "       u'fighter_L5Y_wins', u'fighter_L5Y_losses', u'fighter_L2Y_wins',\n",
    "       u'fighter_L2Y_losses', u'fighter_ko_wins', u'fighter_ko_losses',\n",
    "       u'fighter_L5Y_ko_wins', u'fighter_L5Y_ko_losses',\n",
    "       u'fighter_L2Y_ko_wins', u'fighter_L2Y_ko_losses', u'fighter_sub_wins',\n",
    "       u'fighter_sub_losses', u'fighter_L5Y_sub_wins',\n",
    "       u'fighter_L5Y_sub_losses', u'fighter_L2Y_sub_wins',\n",
    "       u'fighter_L2Y_sub_losses', u'opponent_L5Y_wins', u'opponent_L5Y_losses',\n",
    "       u'opponent_L2Y_wins', u'opponent_L2Y_losses', u'opponent_ko_wins',\n",
    "       u'opponent_ko_losses', u'opponent_L5Y_ko_wins',\n",
    "       u'opponent_L5Y_ko_losses', u'opponent_L2Y_ko_wins',\n",
    "       u'opponent_L2Y_ko_losses', u'opponent_sub_wins', u'opponent_sub_losses',\n",
    "       u'opponent_L5Y_sub_wins', u'opponent_L5Y_sub_losses',\n",
    "       u'opponent_L2Y_sub_wins', u'opponent_L2Y_sub_losses']].drop(random_indices)\n",
    "\n",
    "mask=ufc_fights_ML_dirty['result'] != 'unknown'\n",
    "for col in ufc_fights_ML_dirty.columns:\n",
    "    mask1=ufc_fights_ML_dirty[col] != 'unknown'\n",
    "    mask=mask&mask1\n",
    "    \n",
    "ufc_fights_ML=ufc_fights_ML_dirty[mask].drop(['result'], axis=1)\n",
    "\n",
    "#setting up features and target for the next round of predictions. hopefully we beat .58 accuracy\n",
    "X=ufc_fights_ML.values\n",
    "y=(ufc_fights_ML_dirty[mask])['result']=='W'\n",
    "import sklearn\n",
    "import scipy\n",
    "from sklearn.linear_model import LogisticRegression\n",
    "model=LogisticRegression()\n",
    "model.fit(X,y)\n",
    "model.score(X,y)"
   ]
  },
  {
   "cell_type": "code",
   "execution_count": 766,
   "metadata": {},
   "outputs": [],
   "source": [
    "def ufc_prediction_tuple(fighter1,fighter2,day=date.today()):\n",
    "    return [wins_before(fighter1,day),wins_before(fighter2,day),\n",
    "            losses_before(fighter1,day),losses_before(fighter2,day),\n",
    "            ties_before(fighter1,day),ties_before(fighter2,day),\n",
    "            fighter_age(fighter1,day),fighter_age(fighter2,day),\n",
    "            fighter_height(fighter1),fighter_height(fighter2),\n",
    "            fighter_reach(fighter1),fighter_reach(fighter2),\n",
    "            L5Y_wins(fighter1,day),L5Y_losses(fighter1,day),\n",
    "            L2Y_wins(fighter1,day),L2Y_losses(fighter1,day),\n",
    "            ko_wins(fighter1,day),ko_losses(fighter1,day),\n",
    "            L5Y_ko_wins(fighter1,day),L5Y_ko_losses(fighter1,day),\n",
    "            L2Y_ko_wins(fighter1,day),L2Y_ko_losses(fighter1,day),\n",
    "            sub_wins(fighter1,day),sub_losses(fighter1,day),\n",
    "            L5Y_sub_wins(fighter1,day),L5Y_sub_losses(fighter1,day),\n",
    "            L2Y_sub_wins(fighter1,day),L2Y_sub_losses(fighter1,day),\n",
    "            L5Y_wins(fighter2,day),L5Y_losses(fighter2,day),\n",
    "            L2Y_wins(fighter2,day),L2Y_losses(fighter2,day),\n",
    "            ko_wins(fighter2,day),ko_losses(fighter2,day),\n",
    "            L5Y_ko_wins(fighter2,day),L5Y_ko_losses(fighter2,day),\n",
    "            L2Y_ko_wins(fighter2,day),L2Y_ko_losses(fighter2,day),\n",
    "            sub_wins(fighter2,day),sub_losses(fighter2,day),\n",
    "            L5Y_sub_wins(fighter2,day),L5Y_sub_losses(fighter2,day),\n",
    "            L2Y_sub_wins(fighter2,day),L2Y_sub_losses(fighter2,day)]"
   ]
  },
  {
   "cell_type": "code",
   "execution_count": 767,
   "metadata": {},
   "outputs": [],
   "source": [
    "#date entered in the form 'Aug 20, 2013'\n",
    "def ufc_predict(fighter1,fighter2,day=date.today()):\n",
    "    value=model.predict([ufc_prediction_tuple(fighter1,fighter2,day)])[0]\n",
    "    if value==True:\n",
    "        return fighter1\n",
    "    else:\n",
    "        return fighter2"
   ]
  },
  {
   "cell_type": "code",
   "execution_count": null,
   "metadata": {},
   "outputs": [],
   "source": [
    "#ANNOYING ISSUE: SOME FUNCTIONS TAKE DATES OF THE FORM 'Aug 20, 2015' and others take only 'August 20, 2015'\n",
    "#Need to fix this to  make past predictions...\n",
    "ufc_predict('Frankie Edgar','Pedro Munhoz','Aug 20, 2015')\n",
    "#running this gives the error time data 'Aug 20, 2015' does not match format '%B %d, %Y'\n",
    "# and changing date conventions gives another error"
   ]
  },
  {
   "cell_type": "code",
   "execution_count": 783,
   "metadata": {},
   "outputs": [
    {
     "data": {
      "text/plain": [
       "'Merab Dvalishvili'"
      ]
     },
     "execution_count": 783,
     "metadata": {},
     "output_type": "execute_result"
    }
   ],
   "source": [
    "ufc_predict('John Dodson','Merab Dvalishvili')"
   ]
  },
  {
   "cell_type": "code",
   "execution_count": 784,
   "metadata": {},
   "outputs": [
    {
     "data": {
      "text/plain": [
       "'John Dodson'"
      ]
     },
     "execution_count": 784,
     "metadata": {},
     "output_type": "execute_result"
    }
   ],
   "source": [
    "ufc_predict('Merab Dvalishvili','John Dodson')"
   ]
  },
  {
   "cell_type": "code",
   "execution_count": null,
   "metadata": {},
   "outputs": [],
   "source": [
    "#Above is illustrated a real big problem. The prediction should absolutely be independent of the choice of ordering...\n",
    "#whats going on... Maybe this is only the case for fights with very low confindence levels (close to hyperplane...)?\n",
    "#we should test how often this happens"
   ]
  },
  {
   "cell_type": "code",
   "execution_count": null,
   "metadata": {},
   "outputs": [],
   "source": [
    "#returns accuracy of the predict function over the last num fights (actually this is something like an upper limit)\n",
    "#in this prediction we also know the future values of fighter stats (could incorporate date into this but having issue)\n",
    "df=ufc_fights_dirty.drop(random_indices)[mask]\n",
    "def ufc_accuracy(num2,num1=0):\n",
    "    cor=0\n",
    "    inc=0\n",
    "    for i in range(2*num1,2*num2,2):\n",
    "        day=datetime.strptime(df['date'][i], '%B %d, %Y').strftime('%b %d, %Y')\n",
    "        if df['fighter'][i]==predict(df['fighter'][i],df['opponent'][i],day):\n",
    "            cor+=1\n",
    "        else:\n",
    "            inc+=1\n",
    "    return float(cor)/(cor+inc)\n",
    "#AGAIN THIS ANNOYING DATE ISSUE IS COMING UP... FUCK"
   ]
  },
  {
   "cell_type": "code",
   "execution_count": 903,
   "metadata": {},
   "outputs": [],
   "source": [
    "#enter date unabbreviated 'July 4, 2019'\n",
    "#here the average gives avg per fight. Later in avg_count we change to average per time spent in octagon\n",
    "def count(stat, guy,inf_abs, total_L5Y_L2Y_avg, day1=date.today()):\n",
    "    if day1==date.today():\n",
    "        day1=date.today().strftime('%B %d, %Y')\n",
    "    summ=0\n",
    "    if total_L5Y_L2Y_avg=='total' or total_L5Y_L2Y_avg=='avg':\n",
    "        good_indices_1=[i for i in ufcfightscrap.index.values if time_diff(ufcfightscrap['date_unabbrev'][i],day1)>0]\n",
    "    elif total_L5Y_L2Y_avg=='L2Y':\n",
    "        good_indices_1=[i for i in ufcfightscrap.index.values if time_diff(ufcfightscrap['date_unabbrev'][i],day1)<730 and time_diff(ufcfightscrap['date_unabbrev'][i],day1)>0]\n",
    "    else:\n",
    "        good_indices_1=[i for i in ufcfightscrap.index.values if time_diff(ufcfightscrap['date_unabbrev'][i],day1)<1825 and time_diff(ufcfightscrap['date_unabbrev'][i],day1)>0]\n",
    "    if inf_abs=='inf':\n",
    "        good_indices_2=[i for i in ufcfightscrap.index.values if ufcfightscrap['fighter'].values[i]==guy]\n",
    "    else:\n",
    "        good_indices_2=[i for i in ufcfightscrap.index.values if ufcfightscrap['opponent'].values[i]==guy]\n",
    "    good_indices=[i for i in good_indices_1 if i in good_indices_2]\n",
    "    if total_L5Y_L2Y_avg!='avg':\n",
    "        for i in good_indices:\n",
    "            summ+=ufcfightscrap[stat][i]\n",
    "    else:\n",
    "        for i in good_indices:\n",
    "            summ+=ufcfightscrap[stat][i]\n",
    "        day1=convert_date_to_abbrev(day1)\n",
    "        number_fights=wins_before(guy,day1)+losses_before(guy,day1)\n",
    "        summ=summ/float(number_fights)\n",
    "    return summ\n",
    "        \n",
    "#note a better average is per time not per fight. We will do each stat as an average per one minutes\n",
    "\n",
    "#enter time in the form 'August 24, 2018'\n",
    "def time_in_octagon(guy,day1=date.today()):\n",
    "    if day1==date.today():\n",
    "        day1=date.today().strftime('%B %d, %Y')\n",
    "    summ=0\n",
    "    good_indices=[i for i in ufcfightscrap.index.values if time_diff(ufcfightscrap['date_unabbrev'][i],day1)>0 and ufcfightscrap['fighter'].values[i]==guy] \n",
    "    for i in good_indices:\n",
    "        if ufcfightscrap['time'][i][2]==':':\n",
    "            summ=int(ufcfightscrap['time'][i][0:2])+int(ufcfightscrap['time'][i][3:])/60.0\n",
    "        else:\n",
    "            summ+=5*(ufcfightscrap['round'][i]-1)+int(ufcfightscrap['time'][i][0])+int(ufcfightscrap['time'][i][2:])/60.0\n",
    "    return summ\n",
    "\n",
    "#enter date unabbreviated 'July 4, 2019'\n",
    "#gives takedowns per minute\n",
    "def avg_count(stat, guy,inf_abs, day1=date.today()):\n",
    "    if day1==date.today():\n",
    "        day1=date.today().strftime('%B %d, %Y')\n",
    "    summ=0\n",
    "    if inf_abs=='inf':\n",
    "        good_indices=[i for i in ufcfightscrap.index.values if ufcfightscrap['fighter'].values[i]==guy and time_diff(ufcfightscrap['date_unabbrev'][i],day1)>0]\n",
    "    else:\n",
    "        good_indices=[i for i in ufcfightscrap.index.values if ufcfightscrap['opponent'].values[i]==guy and time_diff(ufcfightscrap['date_unabbrev'][i],day1)>0]\n",
    "    for i in good_indices:\n",
    "        summ+=ufcfightscrap[stat][i]\n",
    "    t= time_in_octagon(guy,day1)\n",
    "    if t==0:\n",
    "        summ=0\n",
    "    else:\n",
    "        summ=summ/t\n",
    "    return summ\n",
    "\n",
    "#vectorize these functions\n",
    "count_vect= npy.vectorize(count)\n",
    "avg_count_vect= npy.vectorize(avg_count)"
   ]
  },
  {
   "cell_type": "code",
   "execution_count": 1051,
   "metadata": {},
   "outputs": [
    {
     "name": "stdout",
     "output_type": "stream",
     "text": [
      "CPU times: user 2h 18min 37s, sys: 24.2 s, total: 2h 19min 1s\n",
      "Wall time: 2h 19min 26s\n"
     ]
    }
   ],
   "source": [
    "time ufcfightscrap['fighter_inf_knockdowns_avg']=avg_count_vect('knockdowns',ufcfightscrap['fighter'],'inf',ufcfightscrap['date_unabbrev'])"
   ]
  },
  {
   "cell_type": "code",
   "execution_count": 1052,
   "metadata": {},
   "outputs": [],
   "source": [
    "ufcfightscrap.to_csv('ufcfightscrap.csv', index = False)"
   ]
  },
  {
   "cell_type": "code",
   "execution_count": 1053,
   "metadata": {},
   "outputs": [
    {
     "name": "stdout",
     "output_type": "stream",
     "text": [
      "CPU times: user 2h 18min 30s, sys: 26 s, total: 2h 18min 56s\n",
      "Wall time: 2h 19min 23s\n"
     ]
    }
   ],
   "source": [
    "time ufcfightscrap['fighter_inf_pass_avg']=avg_count_vect('pass',ufcfightscrap['fighter'],'inf',ufcfightscrap['date_unabbrev'])"
   ]
  },
  {
   "cell_type": "code",
   "execution_count": 1054,
   "metadata": {},
   "outputs": [],
   "source": [
    "ufcfightscrap.to_csv('ufcfightscrap.csv', index = False)"
   ]
  },
  {
   "cell_type": "code",
   "execution_count": 1056,
   "metadata": {},
   "outputs": [
    {
     "name": "stdout",
     "output_type": "stream",
     "text": [
      "CPU times: user 2h 17min 49s, sys: 25.7 s, total: 2h 18min 14s\n",
      "Wall time: 2h 18min 31s\n"
     ]
    }
   ],
   "source": [
    "time ufcfightscrap['fighter_inf_reversals_avg']=avg_count_vect('reversals',ufcfightscrap['fighter'],'inf',ufcfightscrap['date_unabbrev'])"
   ]
  },
  {
   "cell_type": "code",
   "execution_count": 1057,
   "metadata": {},
   "outputs": [],
   "source": [
    "ufcfightscrap.to_csv('ufcfightscrap.csv', index = False)"
   ]
  },
  {
   "cell_type": "code",
   "execution_count": 1058,
   "metadata": {},
   "outputs": [
    {
     "name": "stdout",
     "output_type": "stream",
     "text": [
      "CPU times: user 2h 17min 20s, sys: 25.8 s, total: 2h 17min 46s\n",
      "Wall time: 2h 18min 2s\n"
     ]
    }
   ],
   "source": [
    "time ufcfightscrap['fighter_inf_sub_attempts_avg']=avg_count_vect('sub_attempts',ufcfightscrap['fighter'],'inf',ufcfightscrap['date_unabbrev'])"
   ]
  },
  {
   "cell_type": "code",
   "execution_count": 1059,
   "metadata": {},
   "outputs": [],
   "source": [
    "ufcfightscrap.to_csv('ufcfightscrap.csv', index = False)"
   ]
  },
  {
   "cell_type": "code",
   "execution_count": 1060,
   "metadata": {},
   "outputs": [
    {
     "name": "stdout",
     "output_type": "stream",
     "text": [
      "CPU times: user 2h 18min 11s, sys: 26.7 s, total: 2h 18min 38s\n",
      "Wall time: 2h 19min 1s\n"
     ]
    }
   ],
   "source": [
    "time ufcfightscrap['fighter_inf_takedowns_landed_avg']=avg_count_vect('takedowns_landed',ufcfightscrap['fighter'],'inf',ufcfightscrap['date_unabbrev'])"
   ]
  },
  {
   "cell_type": "code",
   "execution_count": 1061,
   "metadata": {},
   "outputs": [],
   "source": [
    "ufcfightscrap.to_csv('ufcfightscrap.csv', index = False)"
   ]
  },
  {
   "cell_type": "code",
   "execution_count": 1062,
   "metadata": {},
   "outputs": [
    {
     "name": "stdout",
     "output_type": "stream",
     "text": [
      "CPU times: user 2h 38min 43s, sys: 40.4 s, total: 2h 39min 23s\n",
      "Wall time: 2h 44min 51s\n"
     ]
    }
   ],
   "source": [
    "time ufcfightscrap['fighter_inf_takedowns_attempts_avg']=avg_count_vect('takedowns_attempts',ufcfightscrap['fighter'],'inf',ufcfightscrap['date_unabbrev'])"
   ]
  },
  {
   "cell_type": "code",
   "execution_count": 1063,
   "metadata": {},
   "outputs": [],
   "source": [
    "ufcfightscrap.to_csv('ufcfightscrap.csv', index = False)"
   ]
  },
  {
   "cell_type": "code",
   "execution_count": 1064,
   "metadata": {},
   "outputs": [
    {
     "name": "stdout",
     "output_type": "stream",
     "text": [
      "CPU times: user 2h 32min 40s, sys: 42.3 s, total: 2h 33min 22s\n",
      "Wall time: 2h 36min 42s\n"
     ]
    }
   ],
   "source": [
    "time ufcfightscrap['fighter_inf_sig_strikes_landed_avg']=avg_count_vect('sig_strikes_landed',ufcfightscrap['fighter'],'inf',ufcfightscrap['date_unabbrev'])"
   ]
  },
  {
   "cell_type": "code",
   "execution_count": 1065,
   "metadata": {},
   "outputs": [],
   "source": [
    "ufcfightscrap.to_csv('ufcfightscrap.csv', index = False)"
   ]
  },
  {
   "cell_type": "code",
   "execution_count": 1066,
   "metadata": {},
   "outputs": [
    {
     "name": "stdout",
     "output_type": "stream",
     "text": [
      "CPU times: user 2h 28min 48s, sys: 33.5 s, total: 2h 29min 22s\n",
      "Wall time: 2h 31min 30s\n"
     ]
    }
   ],
   "source": [
    "time ufcfightscrap['fighter_inf_sig_strikes_attempts_avg']=avg_count_vect('sig_strikes_attempts',ufcfightscrap['fighter'],'inf',ufcfightscrap['date_unabbrev'])"
   ]
  },
  {
   "cell_type": "code",
   "execution_count": 1067,
   "metadata": {},
   "outputs": [],
   "source": [
    "ufcfightscrap.to_csv('ufcfightscrap.csv', index = False)"
   ]
  },
  {
   "cell_type": "code",
   "execution_count": 1068,
   "metadata": {},
   "outputs": [
    {
     "name": "stdout",
     "output_type": "stream",
     "text": [
      "CPU times: user 2h 32min 8s, sys: 40.2 s, total: 2h 32min 48s\n",
      "Wall time: 2h 36min 13s\n"
     ]
    }
   ],
   "source": [
    "time ufcfightscrap['fighter_inf_total_strikes_landed_avg']=avg_count_vect('total_strikes_landed',ufcfightscrap['fighter'],'inf',ufcfightscrap['date_unabbrev'])"
   ]
  },
  {
   "cell_type": "code",
   "execution_count": 1069,
   "metadata": {},
   "outputs": [],
   "source": [
    "ufcfightscrap.to_csv('ufcfightscrap.csv', index = False)"
   ]
  },
  {
   "cell_type": "code",
   "execution_count": 1070,
   "metadata": {},
   "outputs": [
    {
     "name": "stdout",
     "output_type": "stream",
     "text": [
      "CPU times: user 2h 22min 52s, sys: 28.2 s, total: 2h 23min 20s\n",
      "Wall time: 2h 24min 36s\n"
     ]
    }
   ],
   "source": [
    "time ufcfightscrap['fighter_inf_total_strikes_attempts_avg']=avg_count_vect('total_strikes_attempts',ufcfightscrap['fighter'],'inf',ufcfightscrap['date_unabbrev'])"
   ]
  },
  {
   "cell_type": "code",
   "execution_count": 1071,
   "metadata": {},
   "outputs": [],
   "source": [
    "ufcfightscrap.to_csv('ufcfightscrap.csv', index = False)"
   ]
  },
  {
   "cell_type": "code",
   "execution_count": 1072,
   "metadata": {},
   "outputs": [
    {
     "name": "stdout",
     "output_type": "stream",
     "text": [
      "CPU times: user 2h 45min 10s, sys: 57.3 s, total: 2h 46min 8s\n",
      "Wall time: 2h 52min 31s\n"
     ]
    }
   ],
   "source": [
    "time ufcfightscrap['fighter_inf_head_strikes_landed_avg']=avg_count_vect('head_strikes_landed',ufcfightscrap['fighter'],'inf',ufcfightscrap['date_unabbrev'])"
   ]
  },
  {
   "cell_type": "code",
   "execution_count": null,
   "metadata": {},
   "outputs": [],
   "source": [
    "ufcfightscrap.to_csv('ufcfightscrap.csv', index = False)"
   ]
  },
  {
   "cell_type": "code",
   "execution_count": 1073,
   "metadata": {},
   "outputs": [
    {
     "name": "stdout",
     "output_type": "stream",
     "text": [
      "CPU times: user 2h 49min 13s, sys: 47.9 s, total: 2h 50min 1s\n",
      "Wall time: 2h 52min 19s\n"
     ]
    }
   ],
   "source": [
    "time ufcfightscrap['fighter_inf_head_strikes_attempts_avg']=avg_count_vect('head_strikes_attempts',ufcfightscrap['fighter'],'inf',ufcfightscrap['date_unabbrev'])"
   ]
  },
  {
   "cell_type": "code",
   "execution_count": 1074,
   "metadata": {},
   "outputs": [],
   "source": [
    "ufcfightscrap.to_csv('ufcfightscrap.csv', index = False)"
   ]
  },
  {
   "cell_type": "code",
   "execution_count": null,
   "metadata": {},
   "outputs": [],
   "source": [
    "time ufcfightscrap['fighter_inf_body_strikes_landed_avg']=avg_count_vect('body_strikes_landed',ufcfightscrap['fighter'],'inf',ufcfightscrap['date_unabbrev'])"
   ]
  },
  {
   "cell_type": "code",
   "execution_count": null,
   "metadata": {},
   "outputs": [],
   "source": [
    "ufcfightscrap.to_csv('ufcfightscrap.csv', index = False)"
   ]
  },
  {
   "cell_type": "code",
   "execution_count": null,
   "metadata": {},
   "outputs": [],
   "source": [
    "time ufcfightscrap['fighter_inf_body_strikes_attempts_avg']=avg_count_vect('body_strikes_attempts',ufcfightscrap['fighter'],'inf',ufcfightscrap['date_unabbrev'])"
   ]
  },
  {
   "cell_type": "code",
   "execution_count": null,
   "metadata": {},
   "outputs": [],
   "source": [
    "ufcfightscrap.to_csv('ufcfightscrap.csv', index = False)"
   ]
  },
  {
   "cell_type": "code",
   "execution_count": null,
   "metadata": {},
   "outputs": [],
   "source": [
    "#expect this to take about 2.5 hours per cell... That means to get the whole sheet, we need 220 hours... \n",
    "#cutting off at 2011 as planned in the Machine Learning Practice file changes this to 1.8 hours and 154 hours...\n",
    "#so this would save 3 days of computing.\n",
    "# at current pace we can do about 8 computations per day, so this should take 11 more days\n",
    "# with the 2011 cut off pace, this should become 8 days\n",
    "#update: we will not cut this off at 2011, we will go all the way "
   ]
  },
  {
   "cell_type": "code",
   "execution_count": null,
   "metadata": {},
   "outputs": [],
   "source": [
    "#Ok lets incorporate the following features _inf_ stands for inflicted\n",
    "#and _abs_ stands for absorbed\n",
    "\n",
    "#fighter_inf_knockdown_avg DONE\n",
    "#fighter_inf_pass_avg DONE\n",
    "#fighter_inf_reversals_avg DONE\n",
    "#fighter_inf_sub_attempts_avg DONE\n",
    "#fighter_inf_takedowns_landed_avg DONE\n",
    "#fighter_inf_takedowns_attempts_avg DONE\n",
    "#fighter_inf_sig_strikes_landed_avg RUNNING\n",
    "#fighter_inf_sig_strikes_attempts_avg RUNNING\n",
    "#fighter_inf_total_strikes_landed_avg DONE\n",
    "#fighter_inf_total_strikes_attempts_avg RUNNING\n",
    "#fighter_inf_head_strikes_landed_avg RUNNING\n",
    "#fighter_inf_head_strikes_attempts_avg RUNNING\n",
    "#fighter_inf_body_strikes_landed_avg RUNNING\n",
    "#fighter_inf_body_strikes_attempts_avg\n",
    "#fighter_inf_leg_strikes_landed_avg\n",
    "#fighter_inf_leg_strikes_attempts_avg\n",
    "#fighter_inf_distance_strikes_landed_avg\n",
    "#fighter_inf_distance_strikes_attempts_avg\n",
    "#fighter_inf_clinch_strikes_landed_avg\n",
    "#fighter_inf_clinch_strikes_attempts_avg\n",
    "#fighter_inf_ground_strikes_landed_avg\n",
    "#fighter_inf_ground_strikes_attempts_avg\n",
    "\n",
    "#fighter_abs_knockdown_avg\n",
    "#fighter_abs_pass_avg\n",
    "#fighter_abs_reversals_avg\n",
    "#fighter_abs_sub_attempts_avg\n",
    "#fighter_abs_takedowns_landed_avg\n",
    "#fighter_abs_takedowns_attempts_avg\n",
    "#fighter_abs_sig_strikes_landed_avg\n",
    "#fighter_abs_sig_strikes_attempts_avg\n",
    "#fighter_abs_total_strikes_landed_avg\n",
    "#fighter_abs_total_strikes_attempts_avg\n",
    "#fighter_abs_head_strikes_landed_avg\n",
    "#fighter_abs_head_strikes_attempts_avg\n",
    "#fighter_abs_body_strikes_landed_avg\n",
    "#fighter_abs_body_strikes_attempts_avg\n",
    "#fighter_abs_leg_strikes_landed_avg\n",
    "#fighter_abs_leg_strikes_attempts_avg\n",
    "#fighter_abs_distance_strikes_landed_avg\n",
    "#fighter_abs_distance_strikes_attempts_avg\n",
    "#fighter_abs_clinch_strikes_landed_avg\n",
    "#fighter_abs_clinch_strikes_attempts_avg\n",
    "#fighter_abs_ground_strikes_landed_avg\n",
    "#fighter_abs_ground_strikes_attempts_avg"
   ]
  },
  {
   "cell_type": "code",
   "execution_count": null,
   "metadata": {},
   "outputs": [],
   "source": [
    "#Ok lets incorporate the following features _inf_ stands for inflicted\n",
    "#and _abs_ stands for absorbed\n",
    "\n",
    "#opponent_inf_knockdown_avg\n",
    "#opponent_inf_pass_avg\n",
    "#opponent_inf_reversals_avg\n",
    "#opponent_inf_sub_attempts_avg\n",
    "#opponent_inf_takedowns_landed_avg\n",
    "#opponent_inf_takedowns_attempts_avg\n",
    "#opponent_inf_sig_strikes_landed_avg\n",
    "#opponent_inf_sig_strikes_attempts_avg\n",
    "#opponent_inf_total_strikes_landed_avg\n",
    "#opponent_inf_total_strikes_attempts_avg\n",
    "#opponent_inf_head_strikes_landed_avg\n",
    "#opponent_inf_head_strikes_attempts_avg\n",
    "#opponent_inf_body_strikes_landed_avg\n",
    "#opponent_inf_body_strikes_attempts_avg\n",
    "#opponent_inf_leg_strikes_landed_avg\n",
    "#opponent_inf_leg_strikes_attempts_avg\n",
    "#opponent_inf_distance_strikes_landed_avg\n",
    "#opponent_inf_distance_strikes_attempts_avg\n",
    "#opponent_inf_clinch_strikes_landed_avg\n",
    "#opponent_inf_clinch_strikes_attempts_avg\n",
    "#opponent_inf_ground_strikes_landed_avg\n",
    "#opponent_inf_ground_strikes_attempts_avg\n",
    "\n",
    "#opponent_abs_knockdown_avg\n",
    "#opponent_abs_pass_avg\n",
    "#opponent_abs_reversals_avg\n",
    "#opponent_abs_sub_attempts_avg\n",
    "#opponent_abs_takedowns_landed_avg\n",
    "#opponent_abs_takedowns_attempts_avg\n",
    "#opponent_abs_sig_strikes_landed_avg\n",
    "#opponent_abs_sig_strikes_attempts_avg\n",
    "#opponent_abs_total_strikes_landed_avg\n",
    "#opponent_abs_total_strikes_attempts_avg\n",
    "#opponent_abs_head_strikes_landed_avg\n",
    "#opponent_abs_head_strikes_attempts_avg\n",
    "#opponent_abs_body_strikes_landed_avg\n",
    "#opponent_abs_body_strikes_attempts_avg\n",
    "#opponent_abs_leg_strikes_landed_avg\n",
    "#opponent_abs_leg_strikes_attempts_avg\n",
    "#opponent_abs_distance_strikes_landed_avg\n",
    "#opponent_abs_distance_strikes_attempts_avg\n",
    "#opponent_abs_clinch_strikes_landed_avg\n",
    "#opponent_abs_clinch_strikes_attempts_avg\n",
    "#opponent_abs_ground_strikes_landed_avg\n",
    "#opponent_abs_ground_strikes_attempts_avg"
   ]
  },
  {
   "cell_type": "code",
   "execution_count": null,
   "metadata": {},
   "outputs": [],
   "source": [
    "#Lets see if we can get the opponent columns running in my office"
   ]
  }
 ],
 "metadata": {
  "kernelspec": {
   "display_name": "Python 2",
   "language": "python",
   "name": "python2"
  },
  "language_info": {
   "codemirror_mode": {
    "name": "ipython",
    "version": 2
   },
   "file_extension": ".py",
   "mimetype": "text/x-python",
   "name": "python",
   "nbconvert_exporter": "python",
   "pygments_lexer": "ipython2",
   "version": "2.7.16"
  }
 },
 "nbformat": 4,
 "nbformat_minor": 2
}
